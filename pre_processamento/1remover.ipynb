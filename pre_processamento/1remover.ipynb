{
 "cells": [
  {
   "cell_type": "code",
   "execution_count": 1,
   "id": "initial_id",
   "metadata": {
    "ExecuteTime": {
     "end_time": "2024-10-29T00:43:37.171927Z",
     "start_time": "2024-10-29T00:43:36.522821Z"
    },
    "collapsed": true,
    "execution": {
     "iopub.execute_input": "2024-11-12T17:17:40.194758Z",
     "iopub.status.busy": "2024-11-12T17:17:40.194758Z",
     "iopub.status.idle": "2024-11-12T17:17:42.756259Z",
     "shell.execute_reply": "2024-11-12T17:17:42.756259Z"
    },
    "papermill": {
     "duration": 2.571514,
     "end_time": "2024-11-12T17:17:42.757266",
     "exception": false,
     "start_time": "2024-11-12T17:17:40.185752",
     "status": "completed"
    },
    "tags": []
   },
   "outputs": [
    {
     "name": "stdout",
     "output_type": "stream",
     "text": [
      "\n",
      "Comparação de valores nulos entre treino e teste:\n",
      "                          Nulos_Treino  Nulos_Teste\n",
      "ID                                   0          0.0\n",
      "Customer_ID                          0          0.0\n",
      "Month                                0          0.0\n",
      "Name                              9985       5015.0\n",
      "Age                                  0          0.0\n",
      "SSN                                  0          0.0\n",
      "Occupation                           0          0.0\n",
      "Annual_Income                        0          0.0\n",
      "Monthly_Inhand_Salary            15002       7498.0\n",
      "Num_Bank_Accounts                    0          0.0\n",
      "Num_Credit_Card                      0          0.0\n",
      "Interest_Rate                        0          0.0\n",
      "Num_of_Loan                          0          0.0\n",
      "Type_of_Loan                     11408       5704.0\n",
      "Delay_from_due_date                  0          0.0\n",
      "Num_of_Delayed_Payment            7002       3498.0\n",
      "Changed_Credit_Limit                 0          0.0\n",
      "Num_Credit_Inquiries              1965       1035.0\n",
      "Credit_Mix                           0          0.0\n",
      "Outstanding_Debt                     0          0.0\n",
      "Credit_Utilization_Ratio             0          0.0\n",
      "Credit_History_Age                9030       4470.0\n",
      "Payment_of_Min_Amount                0          0.0\n",
      "Total_EMI_per_month                  0          0.0\n",
      "Amount_invested_monthly           4479       2271.0\n",
      "Payment_Behaviour                    0          0.0\n",
      "Monthly_Balance                   1200        562.0\n",
      "Credit_Score                         0          NaN\n"
     ]
    }
   ],
   "source": [
    "\n",
    "import pandas as pd\n",
    "import numpy as np\n",
    "import matplotlib.pyplot as plt\n",
    "from sklearn.cluster import KMeans\n",
    "# Carregar os arquivos CSV\n",
    "df_treinamento = pd.read_csv('../arquivos_csv/train.csv', low_memory=False)\n",
    "df_teste = pd.read_csv('../arquivos_csv/test.csv', low_memory=False)\n",
    "\n",
    "# Verificar valores nulos no arquivo de treino e de teste\n",
    "valores_nulos_treino = df_treinamento.isnull().sum()\n",
    "valores_nulos_teste = df_teste.isnull().sum()\n",
    "\n",
    "# Concatenar valores nulos para visualização lado a lado\n",
    "valores_nulos_comparacao = pd.concat([valores_nulos_treino, valores_nulos_teste], axis=1)\n",
    "valores_nulos_comparacao.columns = ['Nulos_Treino', 'Nulos_Teste']\n",
    "\n",
    "# Exibir os valores nulos lado a lado\n",
    "print(\"\\nComparação de valores nulos entre treino e teste:\")\n",
    "print(valores_nulos_comparacao)\n",
    "\n"
   ]
  },
  {
   "cell_type": "markdown",
   "id": "9d17e5569d59e534",
   "metadata": {
    "papermill": {
     "duration": 0.013999,
     "end_time": "2024-11-12T17:17:42.780264",
     "exception": false,
     "start_time": "2024-11-12T17:17:42.766265",
     "status": "completed"
    },
    "tags": []
   },
   "source": [
    "#### Remoção de Atributos Desnecessários"
   ]
  },
  {
   "cell_type": "code",
   "execution_count": 2,
   "id": "f35ea0cb8644f61c",
   "metadata": {
    "ExecuteTime": {
     "end_time": "2024-10-29T00:43:37.314739Z",
     "start_time": "2024-10-29T00:43:37.241935Z"
    },
    "execution": {
     "iopub.execute_input": "2024-11-12T17:17:42.816780Z",
     "iopub.status.busy": "2024-11-12T17:17:42.815782Z",
     "iopub.status.idle": "2024-11-12T17:17:42.877823Z",
     "shell.execute_reply": "2024-11-12T17:17:42.877823Z"
    },
    "papermill": {
     "duration": 0.078558,
     "end_time": "2024-11-12T17:17:42.878828",
     "exception": false,
     "start_time": "2024-11-12T17:17:42.800270",
     "status": "completed"
    },
    "tags": []
   },
   "outputs": [
    {
     "name": "stdout",
     "output_type": "stream",
     "text": [
      "\n",
      "Valores nulos no arquivo de treino:\n",
      "Age                             0\n",
      "Annual_Income                   0\n",
      "Monthly_Inhand_Salary       15002\n",
      "Num_Bank_Accounts               0\n",
      "Num_Credit_Card                 0\n",
      "Interest_Rate                   0\n",
      "Num_of_Loan                     0\n",
      "Type_of_Loan                11408\n",
      "Delay_from_due_date             0\n",
      "Num_of_Delayed_Payment       7002\n",
      "Changed_Credit_Limit            0\n",
      "Num_Credit_Inquiries         1965\n",
      "Credit_Mix                      0\n",
      "Outstanding_Debt                0\n",
      "Credit_Utilization_Ratio        0\n",
      "Credit_History_Age           9030\n",
      "Payment_of_Min_Amount           0\n",
      "Total_EMI_per_month             0\n",
      "Amount_invested_monthly      4479\n",
      "Payment_Behaviour               0\n",
      "Monthly_Balance              1200\n",
      "Credit_Score                    0\n",
      "dtype: int64\n"
     ]
    }
   ],
   "source": [
    "df_treinamento = df_treinamento.drop(columns=['Name', 'ID', 'Customer_ID', 'SSN', 'Occupation', 'Month'])\n",
    "\n",
    "print(\"\\nValores nulos no arquivo de treino:\")\n",
    "print(df_treinamento.isnull().sum())"
   ]
  },
  {
   "cell_type": "code",
   "execution_count": 3,
   "id": "e74b6a01",
   "metadata": {
    "execution": {
     "iopub.execute_input": "2024-11-12T17:17:42.903339Z",
     "iopub.status.busy": "2024-11-12T17:17:42.903339Z",
     "iopub.status.idle": "2024-11-12T17:17:42.935990Z",
     "shell.execute_reply": "2024-11-12T17:17:42.935990Z"
    },
    "papermill": {
     "duration": 0.050166,
     "end_time": "2024-11-12T17:17:42.936994",
     "exception": false,
     "start_time": "2024-11-12T17:17:42.886828",
     "status": "completed"
    },
    "tags": []
   },
   "outputs": [
    {
     "name": "stdout",
     "output_type": "stream",
     "text": [
      "\n",
      "Valores nulos no arquivo de treino:\n"
     ]
    },
    {
     "name": "stdout",
     "output_type": "stream",
     "text": [
      "Age                            0\n",
      "Annual_Income                  0\n",
      "Monthly_Inhand_Salary       7498\n",
      "Num_Bank_Accounts              0\n",
      "Num_Credit_Card                0\n",
      "Interest_Rate                  0\n",
      "Num_of_Loan                    0\n",
      "Type_of_Loan                5704\n",
      "Delay_from_due_date            0\n",
      "Num_of_Delayed_Payment      3498\n",
      "Changed_Credit_Limit           0\n",
      "Num_Credit_Inquiries        1035\n",
      "Credit_Mix                     0\n",
      "Outstanding_Debt               0\n",
      "Credit_Utilization_Ratio       0\n",
      "Credit_History_Age          4470\n",
      "Payment_of_Min_Amount          0\n",
      "Total_EMI_per_month            0\n",
      "Amount_invested_monthly     2271\n",
      "Payment_Behaviour              0\n",
      "Monthly_Balance              562\n",
      "dtype: int64\n"
     ]
    }
   ],
   "source": [
    "df_teste = df_teste.drop(columns=['Name', 'ID', 'Customer_ID', 'SSN', 'Occupation', 'Month'])\n",
    "\n",
    "print(\"\\nValores nulos no arquivo de treino:\")\n",
    "print(df_teste.isnull().sum())"
   ]
  },
  {
   "cell_type": "markdown",
   "id": "99428a3e43c16ba8",
   "metadata": {
    "papermill": {
     "duration": 0.015001,
     "end_time": "2024-11-12T17:17:42.958995",
     "exception": false,
     "start_time": "2024-11-12T17:17:42.943994",
     "status": "completed"
    },
    "tags": []
   },
   "source": [
    "#### Removendo idades negativas e acima de 110 anos & valores do tipo string"
   ]
  },
  {
   "cell_type": "code",
   "execution_count": 4,
   "id": "9467de033cd08dfc",
   "metadata": {
    "ExecuteTime": {
     "end_time": "2024-10-29T00:43:37.452614Z",
     "start_time": "2024-10-29T00:43:37.398561Z"
    },
    "execution": {
     "iopub.execute_input": "2024-11-12T17:17:42.991001Z",
     "iopub.status.busy": "2024-11-12T17:17:42.990001Z",
     "iopub.status.idle": "2024-11-12T17:17:43.040756Z",
     "shell.execute_reply": "2024-11-12T17:17:43.040756Z"
    },
    "papermill": {
     "duration": 0.067766,
     "end_time": "2024-11-12T17:17:43.041762",
     "exception": false,
     "start_time": "2024-11-12T17:17:42.973996",
     "status": "completed"
    },
    "tags": []
   },
   "outputs": [
    {
     "name": "stdout",
     "output_type": "stream",
     "text": [
      "[np.float64(23.0), np.float64(nan), np.float64(14.0), np.float64(15.0), np.float64(16.0), np.float64(17.0), np.float64(18.0), np.float64(19.0), np.float64(20.0), np.float64(21.0), np.float64(22.0), np.float64(24.0), np.float64(25.0), np.float64(26.0), np.float64(27.0), np.float64(28.0), np.float64(29.0), np.float64(30.0), np.float64(31.0), np.float64(32.0), np.float64(33.0), np.float64(34.0), np.float64(35.0), np.float64(36.0), np.float64(37.0), np.float64(38.0), np.float64(39.0), np.float64(40.0), np.float64(41.0), np.float64(42.0), np.float64(43.0), np.float64(44.0), np.float64(45.0), np.float64(46.0), np.float64(47.0), np.float64(48.0), np.float64(49.0), np.float64(50.0), np.float64(51.0), np.float64(52.0), np.float64(53.0), np.float64(54.0), np.float64(55.0), np.float64(56.0), np.float64(95.0), np.float64(99.0), np.float64(100.0), np.float64(102.0), np.float64(109.0)]\n"
     ]
    }
   ],
   "source": [
    "df_treinamento['Age'] = pd.to_numeric(df_treinamento['Age'], errors='coerce')\n",
    "\n",
    "df_treinamento['Age'].fillna(0)\n",
    "\n",
    "df_treinamento.loc[(df_treinamento['Age'] < 0) | (df_treinamento['Age'] > 110), 'Age'] = pd.NA\n",
    "\n",
    "valores_unicos_age = sorted(df_treinamento['Age'].unique())\n",
    "\n",
    "print(valores_unicos_age)"
   ]
  },
  {
   "cell_type": "code",
   "execution_count": 5,
   "id": "9b0bb85a",
   "metadata": {
    "execution": {
     "iopub.execute_input": "2024-11-12T17:17:43.066763Z",
     "iopub.status.busy": "2024-11-12T17:17:43.065763Z",
     "iopub.status.idle": "2024-11-12T17:17:43.096231Z",
     "shell.execute_reply": "2024-11-12T17:17:43.096231Z"
    },
    "papermill": {
     "duration": 0.046477,
     "end_time": "2024-11-12T17:17:43.097240",
     "exception": false,
     "start_time": "2024-11-12T17:17:43.050763",
     "status": "completed"
    },
    "tags": []
   },
   "outputs": [
    {
     "name": "stdout",
     "output_type": "stream",
     "text": [
      "[np.float64(14.0), np.float64(16.0), np.float64(17.0), np.float64(20.0), np.float64(21.0), np.float64(22.0), np.float64(23.0), np.float64(24.0), np.float64(nan), np.float64(15.0), np.float64(18.0), np.float64(19.0), np.float64(25.0), np.float64(26.0), np.float64(27.0), np.float64(28.0), np.float64(29.0), np.float64(30.0), np.float64(31.0), np.float64(32.0), np.float64(33.0), np.float64(34.0), np.float64(35.0), np.float64(36.0), np.float64(37.0), np.float64(38.0), np.float64(39.0), np.float64(40.0), np.float64(41.0), np.float64(42.0), np.float64(43.0), np.float64(44.0), np.float64(45.0), np.float64(46.0), np.float64(47.0), np.float64(48.0), np.float64(49.0), np.float64(50.0), np.float64(51.0), np.float64(52.0), np.float64(53.0), np.float64(54.0), np.float64(55.0), np.float64(56.0), np.float64(95.0)]\n"
     ]
    }
   ],
   "source": [
    "df_teste['Age'] = pd.to_numeric(df_teste['Age'], errors='coerce')\n",
    "\n",
    "df_teste['Age'].fillna(0)\n",
    "\n",
    "df_teste.loc[(df_teste['Age'] < 0) | (df_teste['Age'] > 110), 'Age'] = pd.NA\n",
    "\n",
    "valores_unicos_age = sorted(df_teste['Age'].unique())\n",
    "\n",
    "print(valores_unicos_age)"
   ]
  },
  {
   "cell_type": "code",
   "execution_count": 6,
   "id": "d31fefcff9253360",
   "metadata": {
    "ExecuteTime": {
     "end_time": "2024-10-29T00:43:37.515412Z",
     "start_time": "2024-10-29T00:43:37.511529Z"
    },
    "execution": {
     "iopub.execute_input": "2024-11-12T17:17:43.125495Z",
     "iopub.status.busy": "2024-11-12T17:17:43.124488Z",
     "iopub.status.idle": "2024-11-12T17:17:43.128464Z",
     "shell.execute_reply": "2024-11-12T17:17:43.128464Z"
    },
    "papermill": {
     "duration": 0.023174,
     "end_time": "2024-11-12T17:17:43.129469",
     "exception": false,
     "start_time": "2024-11-12T17:17:43.106295",
     "status": "completed"
    },
    "tags": []
   },
   "outputs": [
    {
     "name": "stdout",
     "output_type": "stream",
     "text": [
      "Total de instâncias vazias no atributo 'Age': 7628\n"
     ]
    }
   ],
   "source": [
    "total_vazios_age = df_treinamento['Age'].isnull().sum()\n",
    "\n",
    "print(f\"Total de instâncias vazias no atributo 'Age': {total_vazios_age}\")"
   ]
  },
  {
   "cell_type": "code",
   "execution_count": 7,
   "id": "fe67957e",
   "metadata": {
    "execution": {
     "iopub.execute_input": "2024-11-12T17:17:43.158470Z",
     "iopub.status.busy": "2024-11-12T17:17:43.158470Z",
     "iopub.status.idle": "2024-11-12T17:17:43.161597Z",
     "shell.execute_reply": "2024-11-12T17:17:43.161597Z"
    },
    "papermill": {
     "duration": 0.024134,
     "end_time": "2024-11-12T17:17:43.162603",
     "exception": false,
     "start_time": "2024-11-12T17:17:43.138469",
     "status": "completed"
    },
    "tags": []
   },
   "outputs": [
    {
     "name": "stdout",
     "output_type": "stream",
     "text": [
      "Total de instâncias vazias no atributo 'Age': 3836\n"
     ]
    }
   ],
   "source": [
    "total_vazios_age = df_teste['Age'].isnull().sum()\n",
    "print(f\"Total de instâncias vazias no atributo 'Age': {total_vazios_age}\")"
   ]
  },
  {
   "cell_type": "markdown",
   "id": "a80e0f240e9b79d6",
   "metadata": {
    "papermill": {
     "duration": 0.014545,
     "end_time": "2024-11-12T17:17:43.187148",
     "exception": false,
     "start_time": "2024-11-12T17:17:43.172603",
     "status": "completed"
    },
    "tags": []
   },
   "source": [
    "### Salvando os dados em treinamento2.csv"
   ]
  },
  {
   "cell_type": "code",
   "execution_count": 8,
   "id": "6d28e055522ef05c",
   "metadata": {
    "ExecuteTime": {
     "end_time": "2024-10-29T00:44:14.768576Z",
     "start_time": "2024-10-29T00:44:13.791674Z"
    },
    "execution": {
     "iopub.execute_input": "2024-11-12T17:17:43.217665Z",
     "iopub.status.busy": "2024-11-12T17:17:43.217665Z",
     "iopub.status.idle": "2024-11-12T17:17:44.605200Z",
     "shell.execute_reply": "2024-11-12T17:17:44.605200Z"
    },
    "papermill": {
     "duration": 1.406055,
     "end_time": "2024-11-12T17:17:44.607210",
     "exception": false,
     "start_time": "2024-11-12T17:17:43.201155",
     "status": "completed"
    },
    "tags": []
   },
   "outputs": [],
   "source": [
    "df_treinamento.to_csv('../arquivos_csv/treinamento2.csv', index=False)\n",
    "df_teste.to_csv('../arquivos_csv/teste2.csv', index=False)\n"
   ]
  }
 ],
 "metadata": {
  "kernelspec": {
   "display_name": "meu_ambiente",
   "language": "python",
   "name": "python3"
  },
  "language_info": {
   "codemirror_mode": {
    "name": "ipython",
    "version": 3
   },
   "file_extension": ".py",
   "mimetype": "text/x-python",
   "name": "python",
   "nbconvert_exporter": "python",
   "pygments_lexer": "ipython3",
   "version": "3.12.7"
  },
  "papermill": {
   "default_parameters": {},
   "duration": 6.222161,
   "end_time": "2024-11-12T17:17:45.129765",
   "environment_variables": {},
   "exception": null,
   "input_path": "..\\pre_processamento\\1remover.ipynb",
   "output_path": "..\\pre_processamento\\1remover.ipynb",
   "parameters": {},
   "start_time": "2024-11-12T17:17:38.907604",
   "version": "2.6.0"
  }
 },
 "nbformat": 4,
 "nbformat_minor": 5
}