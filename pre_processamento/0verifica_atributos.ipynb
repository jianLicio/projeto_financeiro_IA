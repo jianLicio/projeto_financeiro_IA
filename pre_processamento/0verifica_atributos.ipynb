{
 "cells": [
  {
   "cell_type": "code",
   "execution_count": 17,
   "metadata": {},
   "outputs": [],
   "source": [
    "import pandas as pd\n",
    "import numpy as np\n",
    "\n",
    "df_treinamento = pd.read_csv('../arquivos_csv/train.csv', low_memory=False)\n",
    "df_teste = pd.read_csv('../arquivos_csv/test.csv', low_memory=False)\n"
   ]
  },
  {
   "cell_type": "code",
   "execution_count": 18,
   "metadata": {},
   "outputs": [
    {
     "data": {
      "text/plain": [
       "Index(['ID', 'Customer_ID', 'Month', 'Name', 'Age', 'SSN', 'Occupation',\n",
       "       'Annual_Income', 'Monthly_Inhand_Salary', 'Num_Bank_Accounts',\n",
       "       'Num_Credit_Card', 'Interest_Rate', 'Num_of_Loan', 'Type_of_Loan',\n",
       "       'Delay_from_due_date', 'Num_of_Delayed_Payment', 'Changed_Credit_Limit',\n",
       "       'Num_Credit_Inquiries', 'Credit_Mix', 'Outstanding_Debt',\n",
       "       'Credit_Utilization_Ratio', 'Credit_History_Age',\n",
       "       'Payment_of_Min_Amount', 'Total_EMI_per_month',\n",
       "       'Amount_invested_monthly', 'Payment_Behaviour', 'Monthly_Balance',\n",
       "       'Credit_Score'],\n",
       "      dtype='object')"
      ]
     },
     "execution_count": 18,
     "metadata": {},
     "output_type": "execute_result"
    }
   ],
   "source": [
    "df_treinamento.columns\n"
   ]
  },
  {
   "cell_type": "code",
   "execution_count": 19,
   "metadata": {},
   "outputs": [
    {
     "data": {
      "text/plain": [
       "Index(['ID', 'Customer_ID', 'Month', 'Name', 'Age', 'SSN', 'Occupation',\n",
       "       'Annual_Income', 'Monthly_Inhand_Salary', 'Num_Bank_Accounts',\n",
       "       'Num_Credit_Card', 'Interest_Rate', 'Num_of_Loan', 'Type_of_Loan',\n",
       "       'Delay_from_due_date', 'Num_of_Delayed_Payment', 'Changed_Credit_Limit',\n",
       "       'Num_Credit_Inquiries', 'Credit_Mix', 'Outstanding_Debt',\n",
       "       'Credit_Utilization_Ratio', 'Credit_History_Age',\n",
       "       'Payment_of_Min_Amount', 'Total_EMI_per_month',\n",
       "       'Amount_invested_monthly', 'Payment_Behaviour', 'Monthly_Balance'],\n",
       "      dtype='object')"
      ]
     },
     "execution_count": 19,
     "metadata": {},
     "output_type": "execute_result"
    }
   ],
   "source": [
    "df_teste.columns"
   ]
  },
  {
   "cell_type": "code",
   "execution_count": 23,
   "metadata": {},
   "outputs": [
    {
     "name": "stdout",
     "output_type": "stream",
     "text": [
      "Valores únicos no atributo 'Credit_History_Age':\n",
      "['22 Years and 9 Months' '22 Years and 10 Months' nan\n",
      " '23 Years and 0 Months' '27 Years and 3 Months' '27 Years and 4 Months'\n",
      " '27 Years and 5 Months' '27 Years and 6 Months' '18 Years and 5 Months'\n",
      " '18 Years and 6 Months' '18 Years and 7 Months' '17 Years and 11 Months'\n",
      " '18 Years and 0 Months' '18 Years and 1 Months' '18 Years and 2 Months'\n",
      " '31 Years and 4 Months' '31 Years and 5 Months' '31 Years and 7 Months'\n",
      " '32 Years and 7 Months' '32 Years and 8 Months' '32 Years and 9 Months'\n",
      " '32 Years and 10 Months' '31 Years and 6 Months' '15 Years and 3 Months'\n",
      " '15 Years and 4 Months' '15 Years and 5 Months' '15 Years and 6 Months'\n",
      " '22 Years and 0 Months' '22 Years and 1 Months' '22 Years and 2 Months'\n",
      " '22 Years and 3 Months' '27 Years and 1 Months' '27 Years and 2 Months'\n",
      " '19 Years and 10 Months' '19 Years and 11 Months' '20 Years and 0 Months'\n",
      " '26 Years and 2 Months' '26 Years and 3 Months' '26 Years and 4 Months'\n",
      " '27 Years and 7 Months' '27 Years and 8 Months' '27 Years and 9 Months'\n",
      " '9 Years and 7 Months' '9 Years and 8 Months' '9 Years and 9 Months'\n",
      " '9 Years and 10 Months' '18 Years and 10 Months' '18 Years and 11 Months'\n",
      " '19 Years and 0 Months' '19 Years and 1 Months' '17 Years and 6 Months'\n",
      " '17 Years and 7 Months' '17 Years and 8 Months' '17 Years and 9 Months'\n",
      " '29 Years and 10 Months' '29 Years and 11 Months' '30 Years and 0 Months'\n",
      " '30 Years and 1 Months' '7 Years and 1 Months' '7 Years and 2 Months'\n",
      " '7 Years and 3 Months' '27 Years and 10 Months' '27 Years and 11 Months'\n",
      " '28 Years and 0 Months' '28 Years and 1 Months' '20 Years and 1 Months'\n",
      " '20 Years and 2 Months' '10 Years and 9 Months' '10 Years and 10 Months'\n",
      " '10 Years and 11 Months' '11 Years and 0 Months' '33 Years and 5 Months'\n",
      " '33 Years and 6 Months' '33 Years and 7 Months' '33 Years and 8 Months'\n",
      " '12 Years and 11 Months' '13 Years and 0 Months' '13 Years and 1 Months'\n",
      " '13 Years and 2 Months' '12 Years and 10 Months' '18 Years and 8 Months'\n",
      " '18 Years and 9 Months' '14 Years and 4 Months' '14 Years and 5 Months'\n",
      " '14 Years and 6 Months' '14 Years and 7 Months' '30 Years and 11 Months'\n",
      " '31 Years and 0 Months' '31 Years and 1 Months' '31 Years and 2 Months'\n",
      " '9 Years and 4 Months' '9 Years and 6 Months' '19 Years and 2 Months'\n",
      " '19 Years and 5 Months' '19 Years and 6 Months' '19 Years and 7 Months'\n",
      " '19 Years and 8 Months' '9 Years and 5 Months' '13 Years and 9 Months'\n",
      " '13 Years and 10 Months' '13 Years and 11 Months' '22 Years and 4 Months'\n",
      " '26 Years and 6 Months' '14 Years and 0 Months' '14 Years and 1 Months'\n",
      " '28 Years and 7 Months' '28 Years and 8 Months' '28 Years and 9 Months'\n",
      " '28 Years and 10 Months' '8 Years and 7 Months' '8 Years and 8 Months'\n",
      " '8 Years and 9 Months' '24 Years and 11 Months' '25 Years and 0 Months'\n",
      " '25 Years and 1 Months' '25 Years and 2 Months' '17 Years and 10 Months'\n",
      " '1 Years and 10 Months' '1 Years and 11 Months' '2 Years and 0 Months'\n",
      " '2 Years and 1 Months' '11 Years and 7 Months' '11 Years and 8 Months'\n",
      " '11 Years and 9 Months' '11 Years and 10 Months' '31 Years and 3 Months'\n",
      " '20 Years and 3 Months' '20 Years and 4 Months' '20 Years and 5 Months'\n",
      " '20 Years and 6 Months' '11 Years and 1 Months' '11 Years and 2 Months'\n",
      " '11 Years and 3 Months' '11 Years and 4 Months' '14 Years and 8 Months'\n",
      " '14 Years and 9 Months' '14 Years and 10 Months' '21 Years and 4 Months'\n",
      " '21 Years and 5 Months' '21 Years and 6 Months' '21 Years and 7 Months'\n",
      " '1 Years and 0 Months' '1 Years and 1 Months' '1 Years and 2 Months'\n",
      " '1 Years and 3 Months' '32 Years and 4 Months' '32 Years and 5 Months'\n",
      " '32 Years and 6 Months' '13 Years and 3 Months' '13 Years and 4 Months'\n",
      " '13 Years and 5 Months' '13 Years and 6 Months' '28 Years and 2 Months'\n",
      " '12 Years and 0 Months' '12 Years and 1 Months' '12 Years and 2 Months'\n",
      " '12 Years and 3 Months' '25 Years and 4 Months' '25 Years and 5 Months'\n",
      " '25 Years and 6 Months' '25 Years and 7 Months' '18 Years and 3 Months'\n",
      " '18 Years and 4 Months' '13 Years and 7 Months' '19 Years and 9 Months'\n",
      " '31 Years and 9 Months' '31 Years and 10 Months' '31 Years and 11 Months'\n",
      " '32 Years and 0 Months' '5 Years and 10 Months' '5 Years and 11 Months'\n",
      " '6 Years and 0 Months' '6 Years and 1 Months' '3 Years and 7 Months'\n",
      " '3 Years and 8 Months' '3 Years and 9 Months' '3 Years and 10 Months'\n",
      " '17 Years and 1 Months' '17 Years and 2 Months' '17 Years and 3 Months'\n",
      " '23 Years and 7 Months' '23 Years and 8 Months' '23 Years and 9 Months'\n",
      " '23 Years and 10 Months' '9 Years and 0 Months' '9 Years and 2 Months'\n",
      " '9 Years and 3 Months' '31 Years and 8 Months' '5 Years and 1 Months'\n",
      " '5 Years and 2 Months' '5 Years and 3 Months' '5 Years and 4 Months'\n",
      " '33 Years and 4 Months' '13 Years and 8 Months' '30 Years and 5 Months'\n",
      " '30 Years and 6 Months' '30 Years and 7 Months' '30 Years and 8 Months'\n",
      " '26 Years and 5 Months' '33 Years and 9 Months' '26 Years and 10 Months'\n",
      " '26 Years and 11 Months' '27 Years and 0 Months' '8 Years and 1 Months'\n",
      " '8 Years and 2 Months' '8 Years and 3 Months' '8 Years and 4 Months'\n",
      " '28 Years and 11 Months' '29 Years and 0 Months' '29 Years and 1 Months'\n",
      " '29 Years and 2 Months' '20 Years and 7 Months' '20 Years and 8 Months'\n",
      " '20 Years and 9 Months' '20 Years and 10 Months' '20 Years and 11 Months'\n",
      " '21 Years and 0 Months' '29 Years and 3 Months' '29 Years and 4 Months'\n",
      " '29 Years and 5 Months' '29 Years and 6 Months' '14 Years and 2 Months'\n",
      " '14 Years and 3 Months' '2 Years and 2 Months' '2 Years and 3 Months'\n",
      " '33 Years and 10 Months' '33 Years and 11 Months' '34 Years and 0 Months'\n",
      " '26 Years and 7 Months' '26 Years and 8 Months' '29 Years and 7 Months'\n",
      " '29 Years and 8 Months' '5 Years and 5 Months' '5 Years and 6 Months'\n",
      " '5 Years and 7 Months' '5 Years and 8 Months' '32 Years and 3 Months'\n",
      " '6 Years and 5 Months' '6 Years and 6 Months' '6 Years and 7 Months'\n",
      " '6 Years and 8 Months' '23 Years and 1 Months' '23 Years and 2 Months'\n",
      " '23 Years and 3 Months' '17 Years and 0 Months' '23 Years and 5 Months'\n",
      " '23 Years and 6 Months' '22 Years and 5 Months' '22 Years and 6 Months'\n",
      " '21 Years and 1 Months' '16 Years and 0 Months' '16 Years and 1 Months'\n",
      " '16 Years and 2 Months' '16 Years and 3 Months' '21 Years and 2 Months'\n",
      " '2 Years and 11 Months' '3 Years and 0 Months' '3 Years and 1 Months'\n",
      " '3 Years and 2 Months' '5 Years and 9 Months' '2 Years and 4 Months'\n",
      " '16 Years and 10 Months' '16 Years and 11 Months'\n",
      " '22 Years and 11 Months' '9 Years and 11 Months' '10 Years and 0 Months'\n",
      " '10 Years and 1 Months' '28 Years and 4 Months' '28 Years and 5 Months'\n",
      " '28 Years and 6 Months' '19 Years and 3 Months' '25 Years and 3 Months'\n",
      " '8 Years and 10 Months' '6 Years and 3 Months' '6 Years and 4 Months'\n",
      " '17 Years and 4 Months' '17 Years and 5 Months' '12 Years and 5 Months'\n",
      " '12 Years and 6 Months' '12 Years and 7 Months' '12 Years and 8 Months'\n",
      " '26 Years and 9 Months' '29 Years and 9 Months' '32 Years and 1 Months'\n",
      " '32 Years and 2 Months' '21 Years and 10 Months' '21 Years and 11 Months'\n",
      " '24 Years and 10 Months' '16 Years and 6 Months' '16 Years and 7 Months'\n",
      " '16 Years and 8 Months' '16 Years and 9 Months' '15 Years and 1 Months'\n",
      " '15 Years and 2 Months' '23 Years and 11 Months' '24 Years and 0 Months'\n",
      " '25 Years and 10 Months' '25 Years and 11 Months' '26 Years and 0 Months'\n",
      " '26 Years and 1 Months' '8 Years and 11 Months' '19 Years and 4 Months'\n",
      " '6 Years and 2 Months' '25 Years and 8 Months' '25 Years and 9 Months'\n",
      " '15 Years and 11 Months' '8 Years and 5 Months' '8 Years and 6 Months'\n",
      " '7 Years and 6 Months' '7 Years and 7 Months' '7 Years and 8 Months'\n",
      " '7 Years and 9 Months' '16 Years and 4 Months' '16 Years and 5 Months'\n",
      " '24 Years and 1 Months' '22 Years and 7 Months' '15 Years and 7 Months'\n",
      " '15 Years and 8 Months' '15 Years and 9 Months' '21 Years and 8 Months'\n",
      " '21 Years and 9 Months' '30 Years and 9 Months' '7 Years and 11 Months'\n",
      " '8 Years and 0 Months' '10 Years and 5 Months' '10 Years and 6 Months'\n",
      " '10 Years and 7 Months' '10 Years and 8 Months' '9 Years and 1 Months'\n",
      " '24 Years and 4 Months' '24 Years and 5 Months' '24 Years and 6 Months'\n",
      " '24 Years and 7 Months' '3 Years and 4 Months' '3 Years and 5 Months'\n",
      " '15 Years and 0 Months' '10 Years and 2 Months' '12 Years and 4 Months'\n",
      " '24 Years and 3 Months' '28 Years and 3 Months' '6 Years and 9 Months'\n",
      " '6 Years and 10 Months' '0 Years and 10 Months' '10 Years and 3 Months'\n",
      " '12 Years and 9 Months' '30 Years and 2 Months' '30 Years and 4 Months'\n",
      " '30 Years and 3 Months' '0 Years and 11 Months' '11 Years and 6 Months'\n",
      " '7 Years and 10 Months' '10 Years and 4 Months' '4 Years and 0 Months'\n",
      " '32 Years and 11 Months' '33 Years and 0 Months' '21 Years and 3 Months'\n",
      " '30 Years and 10 Months' '23 Years and 4 Months' '3 Years and 11 Months'\n",
      " '4 Years and 1 Months' '4 Years and 2 Months' '6 Years and 11 Months'\n",
      " '7 Years and 0 Months' '11 Years and 5 Months' '15 Years and 10 Months'\n",
      " '11 Years and 11 Months' '14 Years and 11 Months' '22 Years and 8 Months'\n",
      " '1 Years and 6 Months' '1 Years and 7 Months' '1 Years and 8 Months'\n",
      " '1 Years and 9 Months' '24 Years and 9 Months' '5 Years and 0 Months'\n",
      " '7 Years and 4 Months' '4 Years and 7 Months' '4 Years and 8 Months'\n",
      " '4 Years and 9 Months' '4 Years and 10 Months' '7 Years and 5 Months'\n",
      " '2 Years and 5 Months' '2 Years and 7 Months' '2 Years and 8 Months'\n",
      " '2 Years and 6 Months' '24 Years and 2 Months' '33 Years and 1 Months'\n",
      " '33 Years and 2 Months' '1 Years and 4 Months' '1 Years and 5 Months'\n",
      " '24 Years and 8 Months' '4 Years and 3 Months' '4 Years and 4 Months'\n",
      " '2 Years and 9 Months' '2 Years and 10 Months' '3 Years and 3 Months'\n",
      " '4 Years and 5 Months' '4 Years and 11 Months' '33 Years and 3 Months'\n",
      " '3 Years and 6 Months' '4 Years and 6 Months']\n",
      "\n",
      "\n"
     ]
    }
   ],
   "source": [
    "atributos = [\n",
    "       'Credit_History_Age'\n",
    "]\n",
    "\n",
    "for atributo in atributos:\n",
    "    unique_values = df_teste[atributo].unique()\n",
    "    print(f\"Valores únicos no atributo '{atributo}':\")\n",
    "    print(unique_values)\n",
    "    print(\"\\n\")"
   ]
  },
  {
   "cell_type": "code",
   "execution_count": 21,
   "metadata": {},
   "outputs": [
    {
     "data": {
      "text/plain": [
       "np.int64(11408)"
      ]
     },
     "execution_count": 21,
     "metadata": {},
     "output_type": "execute_result"
    }
   ],
   "source": [
    "df_treinamento['Type_of_Loan'].isnull().sum()\n"
   ]
  }
 ],
 "metadata": {
  "kernelspec": {
   "display_name": "meu_ambiente",
   "language": "python",
   "name": "python3"
  },
  "language_info": {
   "codemirror_mode": {
    "name": "ipython",
    "version": 3
   },
   "file_extension": ".py",
   "mimetype": "text/x-python",
   "name": "python",
   "nbconvert_exporter": "python",
   "pygments_lexer": "ipython3",
   "version": "3.12.7"
  }
 },
 "nbformat": 4,
 "nbformat_minor": 2
}
