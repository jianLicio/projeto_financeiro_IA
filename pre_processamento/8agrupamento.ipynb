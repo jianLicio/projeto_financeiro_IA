{
 "cells": [
  {
   "cell_type": "code",
   "execution_count": null,
   "metadata": {},
   "outputs": [],
   "source": [
    "import pandas as pd\n",
    "import numpy as np\n",
    "import matplotlib.pyplot as plt\n",
    "from sklearn.cluster import KMeans\n",
    "\n",
    "df_treinamento = pd.read_csv('../arquivos_csv/treinamento2.csv', low_memory=False)\n",
    "df_teste = pd.read_csv('../arquivos_csv/teste2.csv', low_memory=False)\n"
   ]
  },
  {
   "cell_type": "markdown",
   "metadata": {},
   "source": [
    "#### Total_EMI_per_month"
   ]
  },
  {
   "cell_type": "code",
   "execution_count": null,
   "metadata": {},
   "outputs": [],
   "source": [
    "inertia = []\n",
    "K_range = range(2, 10)\n",
    "\n",
    "for k in K_range:\n",
    "    kmeans = KMeans(n_clusters=k, random_state=0)\n",
    "    kmeans.fit(df_treinamento[['Total_EMI_per_month']].dropna())\n",
    "    inertia.append(kmeans.inertia_)\n",
    "\n",
    "plt.plot(K_range, inertia, marker='o')\n",
    "plt.xlabel('Número de Clusters (K)')\n",
    "plt.ylabel('Inércia')\n",
    "plt.title('Método do Cotovelo para Determinar K')\n",
    "plt.show()"
   ]
  },
  {
   "cell_type": "code",
   "execution_count": null,
   "metadata": {},
   "outputs": [],
   "source": [
    "df = df_treinamento[['Total_EMI_per_month']].dropna()\n",
    "\n",
    "k = 4\n",
    "kmeans = KMeans(n_clusters=k, random_state=0)\n",
    "\n",
    "df['EMI'] = kmeans.fit_predict(df)\n",
    "\n",
    "df_treinamento['EMI'] = np.nan\n",
    "df_treinamento.loc[df.index, 'EMI'] = df['EMI']\n",
    "\n",
    "print(\"Centros dos clusters:\", kmeans.cluster_centers_)\n",
    "df_treinamento.drop(columns=['Total_EMI_per_month'], inplace=True)\n"
   ]
  },
  {
   "cell_type": "code",
   "execution_count": null,
   "metadata": {},
   "outputs": [],
   "source": [
    "df = df_teste[['Total_EMI_per_month']].dropna()\n",
    "\n",
    "k = 4\n",
    "kmeans = KMeans(n_clusters=k, random_state=0)\n",
    "\n",
    "df['EMI'] = kmeans.fit_predict(df)\n",
    "\n",
    "df_teste['EMI'] = np.nan\n",
    "df_teste.loc[df.index, 'EMI'] = df['EMI']\n",
    "\n",
    "print(\"Centros dos clusters:\", kmeans.cluster_centers_)\n",
    "df_teste.drop(columns=['Total_EMI_per_month'], inplace=True)\n"
   ]
  },
  {
   "cell_type": "markdown",
   "metadata": {},
   "source": [
    "#### Num_Bank_Accounts"
   ]
  },
  {
   "cell_type": "code",
   "execution_count": null,
   "metadata": {},
   "outputs": [],
   "source": [
    "inertia = []\n",
    "K_range = range(2, 10)\n",
    "\n",
    "for k in K_range:\n",
    "    kmeans = KMeans(n_clusters=k, random_state=0)\n",
    "    kmeans.fit(df_treinamento[['Num_Bank_Accounts']].dropna())\n",
    "    inertia.append(kmeans.inertia_)\n",
    "\n",
    "plt.plot(K_range, inertia, marker='o')\n",
    "plt.xlabel('Número de Clusters (K)')\n",
    "plt.ylabel('Inércia')\n",
    "plt.title('Método do Cotovelo para Determinar K')\n",
    "plt.show()"
   ]
  },
  {
   "cell_type": "code",
   "execution_count": null,
   "metadata": {},
   "outputs": [],
   "source": [
    "df = df_treinamento[['Num_Bank_Accounts']].dropna()\n",
    "\n",
    "k = 4\n",
    "kmeans = KMeans(n_clusters=k, random_state=0)\n",
    "\n",
    "df['Qtd_contas_bancarias'] = kmeans.fit_predict(df)\n",
    "\n",
    "df_treinamento['Qtd_contas_bancarias'] = np.nan\n",
    "df_treinamento.loc[df.index, 'Qtd_contas_bancarias'] = df['Qtd_contas_bancarias']\n",
    "\n",
    "print(\"Centros dos clusters:\", kmeans.cluster_centers_)\n",
    "df_treinamento.drop(columns=['Num_Bank_Accounts'], inplace=True)\n"
   ]
  },
  {
   "cell_type": "code",
   "execution_count": null,
   "metadata": {},
   "outputs": [],
   "source": [
    "df = df_teste[['Num_Bank_Accounts']].dropna()\n",
    "\n",
    "k = 4\n",
    "kmeans = KMeans(n_clusters=k, random_state=0)\n",
    "\n",
    "df['Qtd_contas_bancarias'] = kmeans.fit_predict(df)\n",
    "\n",
    "df_teste['Qtd_contas_bancarias'] = np.nan\n",
    "df_teste.loc[df.index, 'Qtd_contas_bancarias'] = df['Qtd_contas_bancarias']\n",
    "\n",
    "print(\"Centros dos clusters:\", kmeans.cluster_centers_)\n",
    "df_teste.drop(columns=['Num_Bank_Accounts'], inplace=True)\n"
   ]
  },
  {
   "cell_type": "markdown",
   "metadata": {},
   "source": [
    "#### Num_Credit_Card"
   ]
  },
  {
   "cell_type": "code",
   "execution_count": null,
   "metadata": {},
   "outputs": [],
   "source": [
    "inertia = []\n",
    "K_range = range(2, 10)\n",
    "\n",
    "for k in K_range:\n",
    "    kmeans = KMeans(n_clusters=k, random_state=0)\n",
    "    kmeans.fit(df_treinamento[['Num_Credit_Card']].dropna())\n",
    "    inertia.append(kmeans.inertia_)\n",
    "\n",
    "plt.plot(K_range, inertia, marker='o')\n",
    "plt.xlabel('Número de Clusters (K)')\n",
    "plt.ylabel('Inércia')\n",
    "plt.title('Método do Cotovelo para Determinar K')\n",
    "plt.show()"
   ]
  },
  {
   "cell_type": "code",
   "execution_count": null,
   "metadata": {},
   "outputs": [],
   "source": [
    "df = df_treinamento[['Num_Credit_Card']].dropna()\n",
    "\n",
    "k = 4\n",
    "kmeans = KMeans(n_clusters=k, random_state=0)\n",
    "\n",
    "df['taxa_juros'] = kmeans.fit_predict(df)\n",
    "\n",
    "df_treinamento['taxa_juros'] = np.nan\n",
    "df_treinamento.loc[df.index, 'taxa_juros'] = df['taxa_juros']\n",
    "\n",
    "print(\"Centros dos clusters:\", kmeans.cluster_centers_)\n",
    "df_treinamento.drop(columns=['Num_Credit_Card'], inplace=True)\n"
   ]
  },
  {
   "cell_type": "code",
   "execution_count": null,
   "metadata": {},
   "outputs": [],
   "source": [
    "df = df_teste[['Num_Credit_Card']].dropna()\n",
    "\n",
    "k = 4\n",
    "kmeans = KMeans(n_clusters=k, random_state=0)\n",
    "\n",
    "df['Qtd_cartoes_credito'] = kmeans.fit_predict(df)\n",
    "\n",
    "df_teste['Qtd_cartoes_credito'] = np.nan\n",
    "df_teste.loc[df.index, 'Qtd_cartoes_credito'] = df['Qtd_cartoes_credito']\n",
    "\n",
    "print(\"Centros dos clusters:\", kmeans.cluster_centers_)\n",
    "df_teste.drop(columns=['Qtd_cartoes_credito'], inplace=True)\n"
   ]
  },
  {
   "cell_type": "markdown",
   "metadata": {},
   "source": [
    "#### Interest_Rate"
   ]
  },
  {
   "cell_type": "code",
   "execution_count": null,
   "metadata": {},
   "outputs": [],
   "source": [
    "inertia = []\n",
    "K_range = range(2, 10)\n",
    "\n",
    "for k in K_range:\n",
    "    kmeans = KMeans(n_clusters=k, random_state=0)\n",
    "    kmeans.fit(df_treinamento[['Interest_Rate']].dropna())\n",
    "    inertia.append(kmeans.inertia_)\n",
    "\n",
    "plt.plot(K_range, inertia, marker='o')\n",
    "plt.xlabel('Número de Clusters (K)')\n",
    "plt.ylabel('Inércia')\n",
    "plt.title('Método do Cotovelo para Determinar K')\n",
    "plt.show()"
   ]
  },
  {
   "cell_type": "code",
   "execution_count": null,
   "metadata": {},
   "outputs": [],
   "source": [
    "df = df_treinamento[['Interest_Rate']].dropna()\n",
    "\n",
    "k = 4\n",
    "kmeans = KMeans(n_clusters=k, random_state=0)\n",
    "\n",
    "df['taxa_juros'] = kmeans.fit_predict(df)\n",
    "\n",
    "df_treinamento['taxa_juros'] = np.nan\n",
    "df_treinamento.loc[df.index, 'taxa_juros'] = df['taxa_juros']\n",
    "\n",
    "print(\"Centros dos clusters:\", kmeans.cluster_centers_)\n",
    "df_treinamento.drop(columns=['Interest_Rate'], inplace=True)\n"
   ]
  },
  {
   "cell_type": "code",
   "execution_count": null,
   "metadata": {},
   "outputs": [],
   "source": [
    "df = df_teste[['Interest_Rate']].dropna()\n",
    "\n",
    "k = 4\n",
    "kmeans = KMeans(n_clusters=k, random_state=0)\n",
    "\n",
    "df['taxa_juros'] = kmeans.fit_predict(df)\n",
    "\n",
    "df_teste['taxa_juros'] = np.nan\n",
    "df_teste.loc[df.index, 'taxa_juros'] = df['taxa_juros']\n",
    "\n",
    "print(\"Centros dos clusters:\", kmeans.cluster_centers_)\n",
    "df_teste.drop(columns=['taxa_juros'], inplace=True)\n"
   ]
  },
  {
   "cell_type": "markdown",
   "metadata": {},
   "source": [
    "#### Delay_from_due_date"
   ]
  },
  {
   "cell_type": "code",
   "execution_count": null,
   "metadata": {},
   "outputs": [],
   "source": [
    "inertia = []\n",
    "K_range = range(2, 10)\n",
    "\n",
    "for k in K_range:\n",
    "    kmeans = KMeans(n_clusters=k, random_state=0)\n",
    "    kmeans.fit(df_treinamento[['Delay_from_due_date']].dropna())\n",
    "    inertia.append(kmeans.inertia_)\n",
    "\n",
    "plt.plot(K_range, inertia, marker='o')\n",
    "plt.xlabel('Número de Clusters (K)')\n",
    "plt.ylabel('Inércia')\n",
    "plt.title('Método do Cotovelo para Determinar K')\n",
    "plt.show()"
   ]
  },
  {
   "cell_type": "code",
   "execution_count": null,
   "metadata": {},
   "outputs": [],
   "source": [
    "df = df_treinamento[['Delay_from_due_date']].dropna()\n",
    "\n",
    "k = 4\n",
    "kmeans = KMeans(n_clusters=k, random_state=0)\n",
    "\n",
    "df['dias_atraso'] = kmeans.fit_predict(df)\n",
    "\n",
    "df_treinamento['dias_atraso'] = np.nan\n",
    "df_treinamento.loc[df.index, 'dias_atraso'] = df['dias_atraso']\n",
    "\n",
    "print(\"Centros dos clusters:\", kmeans.cluster_centers_)\n",
    "df_treinamento.drop(columns=['Delay_from_due_date'], inplace=True)\n"
   ]
  },
  {
   "cell_type": "code",
   "execution_count": null,
   "metadata": {},
   "outputs": [],
   "source": [
    "df = df_teste[['Delay_from_due_date']].dropna()\n",
    "\n",
    "k = 4\n",
    "kmeans = KMeans(n_clusters=k, random_state=0)\n",
    "\n",
    "df['dias_atraso'] = kmeans.fit_predict(df)\n",
    "\n",
    "df_teste['dias_atraso'] = np.nan\n",
    "df_teste.loc[df.index, 'dias_atraso'] = df['dias_atraso']\n",
    "\n",
    "print(\"Centros dos clusters:\", kmeans.cluster_centers_)\n",
    "df_teste.drop(columns=['dias_atraso'], inplace=True)\n"
   ]
  },
  {
   "cell_type": "markdown",
   "metadata": {},
   "source": [
    "#### Outstanding_Debt"
   ]
  },
  {
   "cell_type": "code",
   "execution_count": null,
   "metadata": {},
   "outputs": [],
   "source": [
    "inertia = []\n",
    "K_range = range(2, 30)\n",
    "\n",
    "for k in K_range:\n",
    "    kmeans = KMeans(n_clusters=k, random_state=0)\n",
    "    kmeans.fit(df_treinamento[['Outstanding_Debt']].dropna())\n",
    "    inertia.append(kmeans.inertia_)\n",
    "\n",
    "plt.plot(K_range, inertia, marker='o')\n",
    "plt.xlabel('Número de Clusters (K)')\n",
    "plt.ylabel('Inércia')\n",
    "plt.title('Método do Cotovelo para Determinar K')\n",
    "plt.show()"
   ]
  },
  {
   "cell_type": "code",
   "execution_count": null,
   "metadata": {},
   "outputs": [],
   "source": [
    "df = df_treinamento[['Outstanding_Debt']].dropna()\n",
    "\n",
    "k = 4\n",
    "kmeans = KMeans(n_clusters=k, random_state=0)\n",
    "\n",
    "df['divida_restante'] = kmeans.fit_predict(df)\n",
    "\n",
    "df_treinamento['divida_restante'] = np.nan\n",
    "df_treinamento.loc[df.index, 'divida_restante'] = df['divida_restante']\n",
    "\n",
    "print(\"Centros dos clusters:\", kmeans.cluster_centers_)\n",
    "df_treinamento.drop(columns=['Outstanding_Debt'], inplace=True)\n"
   ]
  },
  {
   "cell_type": "code",
   "execution_count": null,
   "metadata": {},
   "outputs": [],
   "source": [
    "df = df_teste[['Outstanding_Debt']].dropna()\n",
    "\n",
    "k = 4\n",
    "kmeans = KMeans(n_clusters=k, random_state=0)\n",
    "\n",
    "df['divida_restante'] = kmeans.fit_predict(df)\n",
    "\n",
    "df_teste['divida_restante'] = np.nan\n",
    "df_teste.loc[df.index, 'divida_restante'] = df['divida_restante']\n",
    "\n",
    "print(\"Centros dos clusters:\", kmeans.cluster_centers_)\n",
    "df_teste.drop(columns=['divida_restante'], inplace=True)\n"
   ]
  },
  {
   "cell_type": "markdown",
   "metadata": {},
   "source": [
    "#### Credit_Utilization_Ratio"
   ]
  },
  {
   "cell_type": "code",
   "execution_count": null,
   "metadata": {},
   "outputs": [],
   "source": [
    "inertia = []\n",
    "K_range = range(2, 10)\n",
    "\n",
    "for k in K_range:\n",
    "    kmeans = KMeans(n_clusters=k, random_state=0)\n",
    "    kmeans.fit(df_treinamento[['Credit_Utilization_Ratio']].dropna())\n",
    "    inertia.append(kmeans.inertia_)\n",
    "\n",
    "plt.plot(K_range, inertia, marker='o')\n",
    "plt.xlabel('Número de Clusters (K)')\n",
    "plt.ylabel('Inércia')\n",
    "plt.title('Método do Cotovelo para Determinar K')\n",
    "plt.show()"
   ]
  },
  {
   "cell_type": "code",
   "execution_count": null,
   "metadata": {},
   "outputs": [],
   "source": [
    "df = df_treinamento[['Credit_Utilization_Ratio']].dropna()\n",
    "\n",
    "k = 3\n",
    "kmeans = KMeans(n_clusters=k, random_state=0)\n",
    "\n",
    "df['utiliza_cartao_credito'] = kmeans.fit_predict(df)\n",
    "\n",
    "df_treinamento['utiliza_cartao_credito'] = np.nan\n",
    "df_treinamento.loc[df.index, 'utiliza_cartao_credito'] = df['utiliza_cartao_credito']\n",
    "\n",
    "print(\"Centros dos clusters:\", kmeans.cluster_centers_)\n",
    "df_treinamento.drop(columns=['Credit_Utilization_Ratio'], inplace=True)\n"
   ]
  },
  {
   "cell_type": "code",
   "execution_count": null,
   "metadata": {},
   "outputs": [],
   "source": [
    "df = df_teste[['Credit_Utilization_Ratio']].dropna()\n",
    "\n",
    "k = 3\n",
    "kmeans = KMeans(n_clusters=k, random_state=0)\n",
    "\n",
    "df['utiliza_cartao_credito'] = kmeans.fit_predict(df)\n",
    "\n",
    "df_teste['utiliza_cartao_credito'] = np.nan\n",
    "df_teste.loc[df.index, 'utiliza_cartao_credito'] = df['utiliza_cartao_credito']\n",
    "\n",
    "print(\"Centros dos clusters:\", kmeans.cluster_centers_)\n",
    "df_teste.drop(columns=['utiliza_cartao_credito'], inplace=True)\n"
   ]
  },
  {
   "cell_type": "markdown",
   "metadata": {},
   "source": [
    "### Salvando"
   ]
  },
  {
   "cell_type": "code",
   "execution_count": null,
   "metadata": {},
   "outputs": [],
   "source": [
    "df_treinamento.to_csv('../arquivos_csv/treinamento2.csv', index=False)\n",
    "df_teste.to_csv('../arquivos_csv/teste2.csv', index=False)"
   ]
  }
 ],
 "metadata": {
  "kernelspec": {
   "display_name": "meu_ambiente",
   "language": "python",
   "name": "python3"
  },
  "language_info": {
   "codemirror_mode": {
    "name": "ipython",
    "version": 3
   },
   "file_extension": ".py",
   "mimetype": "text/x-python",
   "name": "python",
   "nbconvert_exporter": "python",
   "pygments_lexer": "ipython3",
   "version": "3.12.7"
  }
 },
 "nbformat": 4,
 "nbformat_minor": 2
}
