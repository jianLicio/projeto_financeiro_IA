{
 "cells": [
  {
   "cell_type": "code",
   "execution_count": 25,
   "id": "initial_id",
   "metadata": {
    "ExecuteTime": {
     "end_time": "2024-10-29T00:47:41.204099Z",
     "start_time": "2024-10-29T00:47:40.765720Z"
    },
    "collapsed": true
   },
   "outputs": [],
   "source": [
    "import pandas as pd\n",
    "import numpy as np\n",
    "\n",
    "df_treinamento = pd.read_csv('../arquivos_csv/treinamento2.csv', low_memory=False)\n",
    "df_teste = pd.read_csv('../arquivos_csv/treinamento2.csv', low_memory=False)\n"
   ]
  },
  {
   "cell_type": "code",
   "execution_count": 26,
   "id": "65c389aec48c287f",
   "metadata": {
    "ExecuteTime": {
     "end_time": "2024-10-29T00:47:41.353313Z",
     "start_time": "2024-10-29T00:47:41.272625Z"
    }
   },
   "outputs": [
    {
     "name": "stdout",
     "output_type": "stream",
     "text": [
      "Valores únicos no atributo 'Delay_from_due_date':\n",
      "[ 3  0  5  6  8  7 13 10  4  9  1 12 11 30 31 34 27 14  2 16 17 15 23 22\n",
      " 21 18 19 52 51 48 53 26 43 28 25 20 47 46 49 24 61 29 50 58 45 59 55 56\n",
      " 57 54 62 65 64 67 36 41 33 32 39 44 42 60 35 38 63 40 37 66]\n",
      "\n",
      "\n",
      "Valores únicos no atributo 'Num_of_Delayed_Payment':\n",
      "[7.000e+00       nan 4.000e+00 8.000e+00 6.000e+00 1.000e+00 0.000e+00\n",
      " 3.000e+00 5.000e+00 9.000e+00 1.200e+01 1.500e+01 1.700e+01 1.000e+01\n",
      " 2.000e+00 1.100e+01 1.400e+01 2.000e+01 2.200e+01 1.300e+01 1.600e+01\n",
      " 1.800e+01 1.900e+01 2.300e+01 2.400e+01 2.100e+01 3.318e+03 3.083e+03\n",
      " 1.338e+03 2.600e+01 3.104e+03 2.500e+01 1.830e+02 1.106e+03 8.340e+02\n",
      " 2.672e+03 2.008e+03 5.380e+02 2.700e+01 3.478e+03 2.420e+03 7.070e+02\n",
      " 7.080e+02 3.815e+03 2.800e+01 1.867e+03 2.250e+03 1.463e+03 4.126e+03\n",
      " 2.882e+03 1.941e+03 2.655e+03 2.628e+03 1.320e+02 3.069e+03 3.060e+02\n",
      " 3.539e+03 3.684e+03 1.823e+03 4.128e+03 1.946e+03 8.270e+02 2.297e+03\n",
      " 2.566e+03 9.040e+02 1.820e+02 9.290e+02 3.568e+03 2.503e+03 1.552e+03\n",
      " 2.812e+03 1.697e+03 3.764e+03 8.510e+02 3.905e+03 9.230e+02 8.800e+01\n",
      " 1.668e+03 3.253e+03 8.080e+02 2.689e+03 3.858e+03 6.420e+02 3.457e+03\n",
      " 1.402e+03 1.732e+03 3.154e+03 8.470e+02 3.037e+03 2.204e+03 3.103e+03\n",
      " 1.063e+03 2.056e+03 1.282e+03 1.841e+03 2.569e+03 2.110e+02 7.930e+02\n",
      " 3.484e+03 4.110e+02 3.491e+03 2.072e+03 3.050e+03 1.049e+03 2.162e+03\n",
      " 3.402e+03 2.753e+03 1.718e+03 1.014e+03 3.260e+03 3.855e+03 8.400e+01\n",
      " 2.311e+03 3.251e+03 1.832e+03 4.069e+03 3.010e+03 7.330e+02 4.241e+03\n",
      " 1.660e+02 2.461e+03 1.749e+03 3.200e+03 6.630e+02 2.185e+03 4.161e+03\n",
      " 3.009e+03 3.590e+02 2.015e+03 1.523e+03 5.940e+02 1.079e+03 1.199e+03\n",
      " 1.860e+02 1.015e+03 1.989e+03 2.810e+02 5.590e+02 2.165e+03 1.509e+03\n",
      " 3.545e+03 7.790e+02 1.920e+02 4.311e+03 2.323e+03 1.471e+03 1.538e+03\n",
      " 3.529e+03 4.390e+02 3.456e+03 3.040e+03 2.697e+03 3.179e+03 1.332e+03\n",
      " 3.175e+03 3.112e+03 8.290e+02 4.022e+03 3.870e+03 4.023e+03 5.310e+02\n",
      " 1.511e+03 3.092e+03 3.191e+03 2.400e+03 3.621e+03 3.536e+03 5.440e+02\n",
      " 1.864e+03 1.420e+02 2.300e+03 2.640e+02 7.200e+01 4.970e+02 3.980e+02\n",
      " 2.222e+03 3.960e+03 1.473e+03 3.043e+03 4.216e+03 2.903e+03 2.658e+03\n",
      " 4.042e+03 1.323e+03 2.184e+03 9.210e+02 1.328e+03 3.404e+03 2.438e+03\n",
      " 8.090e+02 4.700e+01 1.996e+03 4.164e+03 1.370e+03 1.204e+03 2.167e+03\n",
      " 4.011e+03 2.590e+03 2.594e+03 2.533e+03 1.663e+03 1.018e+03 2.919e+03\n",
      " 3.458e+03 3.316e+03 2.589e+03 2.801e+03 3.355e+03 2.529e+03 2.488e+03\n",
      " 4.266e+03 1.243e+03 7.390e+02 8.450e+02 4.107e+03 1.884e+03 3.370e+02\n",
      " 2.660e+03 2.900e+02 6.740e+02 2.450e+03 3.738e+03 1.792e+03 2.823e+03\n",
      " 2.570e+03 7.750e+02 9.600e+02 4.820e+02 1.706e+03 2.493e+03 3.623e+03\n",
      " 3.031e+03 2.794e+03 2.219e+03 7.580e+02 1.849e+03 3.559e+03 4.096e+03\n",
      " 3.726e+03 1.953e+03 2.657e+03 4.043e+03 2.938e+03 4.384e+03 1.647e+03\n",
      " 2.694e+03 3.533e+03 5.190e+02 2.677e+03 2.413e+03 4.139e+03 2.609e+03\n",
      " 4.326e+03 4.211e+03 8.230e+02 3.011e+03 1.608e+03 2.860e+03 4.219e+03\n",
      " 4.047e+03 1.531e+03 7.420e+02 5.200e+01 4.024e+03 1.673e+03 4.900e+01\n",
      " 2.243e+03 1.685e+03 1.869e+03 2.587e+03 3.489e+03 7.490e+02 1.164e+03\n",
      " 2.616e+03 8.480e+02 4.134e+03 1.530e+03 1.502e+03 4.075e+03 3.845e+03\n",
      " 1.060e+03 2.573e+03 2.128e+03 3.280e+02 6.400e+02 2.585e+03 2.230e+03\n",
      " 1.795e+03 1.180e+03 1.534e+03 3.739e+03 3.313e+03 4.191e+03 9.960e+02\n",
      " 3.720e+02 3.340e+03 3.177e+03 6.020e+02 7.870e+02 4.135e+03 3.878e+03\n",
      " 4.059e+03 1.218e+03 4.051e+03 1.766e+03 1.359e+03 3.107e+03 5.850e+02\n",
      " 1.263e+03 2.511e+03 7.090e+02 3.632e+03 4.077e+03 2.943e+03 2.793e+03\n",
      " 3.245e+03 2.317e+03 1.640e+03 2.237e+03 3.819e+03 2.520e+02 3.978e+03\n",
      " 1.498e+03 1.833e+03 2.737e+03 1.192e+03 1.481e+03 7.000e+02 2.710e+02\n",
      " 2.286e+03 2.730e+02 1.215e+03 3.944e+03 2.070e+03 1.478e+03 3.749e+03\n",
      " 8.710e+02 2.508e+03 2.959e+03 1.300e+02 2.940e+02 3.097e+03 3.511e+03\n",
      " 4.150e+02 2.196e+03 2.138e+03 2.149e+03 1.874e+03 1.553e+03 3.847e+03\n",
      " 3.222e+03 1.222e+03 2.907e+03 3.051e+03 9.800e+01 1.598e+03 4.160e+02\n",
      " 2.314e+03 2.955e+03 1.691e+03 1.450e+03 2.021e+03 1.636e+03 8.000e+01\n",
      " 3.708e+03 1.950e+02 3.200e+02 2.945e+03 1.911e+03 3.416e+03 3.796e+03\n",
      " 4.159e+03 2.255e+03 9.380e+02 4.397e+03 3.776e+03 2.148e+03 1.994e+03\n",
      " 8.530e+02 1.178e+03 1.633e+03 1.960e+02 3.864e+03 7.140e+02 1.687e+03\n",
      " 1.034e+03 4.680e+02 1.337e+03 2.044e+03 1.541e+03 3.661e+03 1.211e+03\n",
      " 2.645e+03 2.007e+03 1.020e+02 1.891e+03 3.162e+03 3.142e+03 2.766e+03\n",
      " 3.881e+03 2.728e+03 2.671e+03 1.952e+03 3.580e+03 2.705e+03 4.251e+03\n",
      " 3.840e+03 9.720e+02 3.119e+03 3.502e+03 4.185e+03 2.954e+03 6.830e+02\n",
      " 1.614e+03 1.572e+03 4.302e+03 3.447e+03 1.852e+03 2.131e+03 1.900e+03\n",
      " 1.699e+03 1.330e+02 2.018e+03 2.127e+03 5.080e+02 2.100e+02 5.770e+02\n",
      " 1.664e+03 2.604e+03 1.411e+03 2.351e+03 8.670e+02 1.371e+03 2.352e+03\n",
      " 1.191e+03 9.050e+02 4.053e+03 3.869e+03 9.330e+02 3.660e+03 3.300e+03\n",
      " 3.629e+03 3.208e+03 2.142e+03 2.521e+03 4.500e+02 5.830e+02 8.760e+02\n",
      " 1.210e+02 3.919e+03 2.560e+03 2.578e+03 2.060e+03 8.130e+02 1.236e+03\n",
      " 1.489e+03 4.360e+03 1.154e+03 2.544e+03 4.172e+03 2.924e+03 4.260e+02\n",
      " 4.270e+03 2.768e+03 3.909e+03 3.951e+03 2.712e+03 2.498e+03 3.171e+03\n",
      " 1.750e+03 1.970e+02 2.650e+02 4.293e+03 8.870e+02 2.707e+03 2.397e+03\n",
      " 4.337e+03 4.249e+03 2.751e+03 2.950e+03 1.859e+03 1.070e+02 2.348e+03\n",
      " 2.506e+03 2.810e+03 2.873e+03 1.301e+03 2.262e+03 1.890e+03 3.078e+03\n",
      " 3.865e+03 3.268e+03 2.777e+03 3.105e+03 1.278e+03 3.793e+03 2.276e+03\n",
      " 2.879e+03 4.298e+03 2.141e+03 2.230e+02 2.239e+03 8.460e+02 1.862e+03\n",
      " 2.756e+03 1.181e+03 1.184e+03 2.617e+03 3.972e+03 2.334e+03 3.900e+03\n",
      " 2.759e+03 4.169e+03 2.280e+03 2.492e+03 2.729e+03 3.750e+03 1.825e+03\n",
      " 3.090e+02 2.431e+03 3.099e+03 2.080e+03 2.279e+03 2.666e+03 3.722e+03\n",
      " 1.976e+03 5.290e+02 1.985e+03 3.060e+03 4.278e+03 3.212e+03 4.600e+01\n",
      " 3.148e+03 3.467e+03 4.231e+03 3.790e+03 4.730e+02 1.536e+03 3.955e+03\n",
      " 2.324e+03 2.381e+03 1.177e+03 3.710e+02 2.896e+03 3.880e+03 2.991e+03\n",
      " 4.319e+03 1.061e+03 6.620e+02 4.144e+03 6.930e+02 2.006e+03 3.115e+03\n",
      " 2.278e+03 3.751e+03 1.861e+03 4.262e+03 2.913e+03 2.615e+03 3.492e+03\n",
      " 8.000e+02 3.766e+03 3.840e+02 3.407e+03 1.087e+03 3.329e+03 1.086e+03\n",
      " 2.216e+03 2.457e+03 3.522e+03 3.274e+03 3.488e+03 2.854e+03 2.380e+02\n",
      " 3.510e+02 3.706e+03 4.280e+03 4.095e+03 2.926e+03 1.329e+03 3.370e+03\n",
      " 2.830e+02 1.392e+03 1.743e+03 2.429e+03 9.740e+02 3.156e+03 1.133e+03\n",
      " 4.388e+03 3.243e+03 4.282e+03 2.523e+03 4.281e+03 3.415e+03 2.001e+03\n",
      " 4.410e+02 9.400e+01 3.499e+03 9.690e+02 3.368e+03 1.060e+02 1.004e+03\n",
      " 2.638e+03 3.946e+03 2.956e+03 4.324e+03 8.500e+01 4.113e+03 8.190e+02\n",
      " 6.150e+02 1.172e+03 2.553e+03 1.765e+03 3.495e+03 2.820e+03 4.239e+03\n",
      " 4.340e+03 1.295e+03 2.636e+03 4.295e+03 1.653e+03 1.325e+03 1.879e+03\n",
      " 1.096e+03 1.735e+03 3.584e+03 1.073e+03 1.975e+03 3.827e+03 2.552e+03\n",
      " 3.754e+03 2.378e+03 5.320e+02 9.260e+02 2.376e+03 3.636e+03 3.763e+03\n",
      " 7.780e+02 2.621e+03 8.040e+02 7.540e+02 2.418e+03 4.019e+03 3.926e+03\n",
      " 3.861e+03 3.574e+03 1.750e+02 1.620e+02 2.834e+03 3.765e+03 2.354e+03\n",
      " 5.230e+02 2.274e+03 1.606e+03 1.443e+03 1.354e+03 1.422e+03 1.045e+03\n",
      " 4.106e+03 3.155e+03 6.660e+02 6.590e+02 3.229e+03 1.216e+03 2.076e+03\n",
      " 2.384e+03 1.954e+03 7.190e+02 2.534e+03 4.002e+03 5.410e+02 2.875e+03\n",
      " 4.344e+03 2.081e+03 3.894e+03 1.256e+03 6.760e+02 4.178e+03 3.990e+02\n",
      " 8.600e+01 1.571e+03 4.037e+03 1.967e+03 4.005e+03 3.216e+03 1.150e+03\n",
      " 2.591e+03 1.801e+03 3.721e+03 1.775e+03 2.260e+03 3.707e+03 4.292e+03\n",
      " 1.820e+03 1.450e+02 1.480e+03 1.850e+03 4.300e+02 2.170e+02 3.920e+03\n",
      " 1.389e+03 1.579e+03 3.391e+03 2.385e+03 3.336e+03 3.392e+03 3.688e+03\n",
      " 2.210e+02 2.047e+03]\n",
      "\n",
      "\n",
      "Valores únicos no atributo 'Changed_Credit_Limit':\n",
      "[11.27   nan  6.27 ... 17.51 25.16 21.17]\n",
      "\n",
      "\n",
      "Valores únicos no atributo 'Num_Credit_Inquiries':\n",
      "[   4.    2.    3. ... 1361.  310.   74.]\n",
      "\n",
      "\n",
      "Valores únicos no atributo 'Credit_Mix':\n",
      "[nan 'Good' 'Standard' 'Bad']\n",
      "\n",
      "\n",
      "Valores únicos no atributo 'Outstanding_Debt':\n",
      "[ 809.98  605.03 1303.01 ...  620.64 3571.7   502.38]\n",
      "\n",
      "\n",
      "Valores únicos no atributo 'Credit_Utilization_Ratio':\n",
      "[26.82261962 31.94496006 28.60935202 ... 41.25552226 33.63820798\n",
      " 34.19246265]\n",
      "\n",
      "\n",
      "Valores únicos no atributo 'Credit_History_Age':\n",
      "[22. nan 26. 27. 17. 18. 30. 31. 32. 14. 15. 21. 19. 25.  8.  9. 16. 29.\n",
      "  6.  7. 10. 33. 12. 13. 28. 24.  1. 11. 20.  0.  5.  2.  3. 23.  4.]\n",
      "\n",
      "\n",
      "Valores únicos no atributo 'Payment_of_Min_Amount':\n",
      "['No' nan 'Yes']\n",
      "\n",
      "\n",
      "Valores únicos no atributo 'Total_EMI_per_month':\n",
      "[4.95749492e+01 1.88162146e+01 2.46992319e+02 ... 1.21120000e+04\n",
      " 3.51040226e+01 5.86380000e+04]\n",
      "\n",
      "\n",
      "Valores únicos no atributo 'Amount_invested_monthly':\n",
      "[ 80.41529544 118.28022162  81.69952126 ...  24.02847745 251.6725822\n",
      " 167.16386516]\n",
      "\n",
      "\n",
      "Valores únicos no atributo 'Payment_Behaviour':\n",
      "['High_spent_Small_value_payments' 'Low_spent_Large_value_payments'\n",
      " 'Low_spent_Medium_value_payments' 'Low_spent_Small_value_payments'\n",
      " 'High_spent_Medium_value_payments' nan 'High_spent_Large_value_payments']\n",
      "\n",
      "\n",
      "Valores únicos no atributo 'Monthly_Balance':\n",
      "[312.49408868 284.6291625  331.20986285 ... 516.80908327 319.16497853\n",
      " 393.67369556]\n",
      "\n",
      "\n",
      "Valores únicos no atributo 'Credit_Score':\n",
      "['Good' 'Standard' 'Poor']\n",
      "\n",
      "\n"
     ]
    }
   ],
   "source": [
    "atributos = [\n",
    "    'Delay_from_due_date', 'Num_of_Delayed_Payment',\n",
    "    'Changed_Credit_Limit', 'Num_Credit_Inquiries', 'Credit_Mix',\n",
    "    'Outstanding_Debt', 'Credit_Utilization_Ratio', 'Credit_History_Age',\n",
    "    'Payment_of_Min_Amount', 'Total_EMI_per_month', 'Amount_invested_monthly',\n",
    "    'Payment_Behaviour', 'Monthly_Balance', 'Credit_Score'\n",
    "]\n",
    "\n",
    "for atributo in atributos:\n",
    "    unique_values = df_treinamento[atributo].unique()\n",
    "    print(f\"Valores únicos no atributo '{atributo}':\")\n",
    "    print(unique_values)\n",
    "    print(\"\\n\")\n",
    "    "
   ]
  },
  {
   "cell_type": "code",
   "execution_count": 27,
   "id": "4337545b3b7e76e7",
   "metadata": {
    "ExecuteTime": {
     "end_time": "2024-10-29T00:47:41.458992Z",
     "start_time": "2024-10-29T00:47:41.426682Z"
    }
   },
   "outputs": [
    {
     "name": "stdout",
     "output_type": "stream",
     "text": [
      "TREINAMENTO\n",
      "[ 3  0  5  6  8  7 13 10  4  9  1 12 11 30 31 34 27 14  2 16 17 15 23 22\n",
      " 21 18 19 52 51 48 53 26 43 28 25 20 47 46 49 24 61 29 50 58 45 59 55 56\n",
      " 57 54 62 65 64 67 36 41 33 32 39 44 42 60 35 38 63 40 37 66]\n",
      "TESTE:\n",
      "[ 3  0  5  6  8  7 13 10  4  9  1 12 11 30 31 34 27 14  2 16 17 15 23 22\n",
      " 21 18 19 52 51 48 53 26 43 28 25 20 47 46 49 24 61 29 50 58 45 59 55 56\n",
      " 57 54 62 65 64 67 36 41 33 32 39 44 42 60 35 38 63 40 37 66]\n"
     ]
    }
   ],
   "source": [
    "print('TREINAMENTO')\n",
    "df_treinamento['Delay_from_due_date'] = df_treinamento['Delay_from_due_date'].apply(lambda x: 0 if x < 0 else x)\n",
    "print(df_treinamento['Delay_from_due_date'].unique())\n",
    "\n",
    "print('TESTE:')\n",
    "df_teste['Delay_from_due_date'] = df_teste['Delay_from_due_date'].apply(lambda x: 0 if x < 0 else x)\n",
    "print(df_teste['Delay_from_due_date'].unique())"
   ]
  },
  {
   "cell_type": "code",
   "execution_count": null,
   "id": "5f3b674e",
   "metadata": {},
   "outputs": [],
   "source": []
  },
  {
   "cell_type": "markdown",
   "id": "f8ed0b6955aac60b",
   "metadata": {},
   "source": [
    "### Num_of_Delayed_Payment"
   ]
  },
  {
   "cell_type": "code",
   "execution_count": 28,
   "id": "a3d110e6e46eac18",
   "metadata": {
    "ExecuteTime": {
     "end_time": "2024-10-29T00:47:41.561816Z",
     "start_time": "2024-10-29T00:47:41.504748Z"
    }
   },
   "outputs": [
    {
     "ename": "AttributeError",
     "evalue": "Can only use .str accessor with string values!",
     "output_type": "error",
     "traceback": [
      "\u001b[1;31m---------------------------------------------------------------------------\u001b[0m",
      "\u001b[1;31mAttributeError\u001b[0m                            Traceback (most recent call last)",
      "Cell \u001b[1;32mIn[28], line 1\u001b[0m\n\u001b[1;32m----> 1\u001b[0m df_treinamento[\u001b[38;5;124m'\u001b[39m\u001b[38;5;124mNum_of_Delayed_Payment\u001b[39m\u001b[38;5;124m'\u001b[39m] \u001b[38;5;241m=\u001b[39m pd\u001b[38;5;241m.\u001b[39mto_numeric(\u001b[43mdf_treinamento\u001b[49m\u001b[43m[\u001b[49m\u001b[38;5;124;43m'\u001b[39;49m\u001b[38;5;124;43mNum_of_Delayed_Payment\u001b[39;49m\u001b[38;5;124;43m'\u001b[39;49m\u001b[43m]\u001b[49m\u001b[38;5;241;43m.\u001b[39;49m\u001b[43mstr\u001b[49m\u001b[38;5;241m.\u001b[39mreplace(\u001b[38;5;124m'\u001b[39m\u001b[38;5;124m_\u001b[39m\u001b[38;5;124m'\u001b[39m, \u001b[38;5;124m'\u001b[39m\u001b[38;5;124m'\u001b[39m), errors\u001b[38;5;241m=\u001b[39m\u001b[38;5;124m'\u001b[39m\u001b[38;5;124mcoerce\u001b[39m\u001b[38;5;124m'\u001b[39m)\n",
      "File \u001b[1;32m~\\AppData\\Roaming\\Python\\Python312\\site-packages\\pandas\\core\\generic.py:6299\u001b[0m, in \u001b[0;36mNDFrame.__getattr__\u001b[1;34m(self, name)\u001b[0m\n\u001b[0;32m   6292\u001b[0m \u001b[38;5;28;01mif\u001b[39;00m (\n\u001b[0;32m   6293\u001b[0m     name \u001b[38;5;129;01mnot\u001b[39;00m \u001b[38;5;129;01min\u001b[39;00m \u001b[38;5;28mself\u001b[39m\u001b[38;5;241m.\u001b[39m_internal_names_set\n\u001b[0;32m   6294\u001b[0m     \u001b[38;5;129;01mand\u001b[39;00m name \u001b[38;5;129;01mnot\u001b[39;00m \u001b[38;5;129;01min\u001b[39;00m \u001b[38;5;28mself\u001b[39m\u001b[38;5;241m.\u001b[39m_metadata\n\u001b[0;32m   6295\u001b[0m     \u001b[38;5;129;01mand\u001b[39;00m name \u001b[38;5;129;01mnot\u001b[39;00m \u001b[38;5;129;01min\u001b[39;00m \u001b[38;5;28mself\u001b[39m\u001b[38;5;241m.\u001b[39m_accessors\n\u001b[0;32m   6296\u001b[0m     \u001b[38;5;129;01mand\u001b[39;00m \u001b[38;5;28mself\u001b[39m\u001b[38;5;241m.\u001b[39m_info_axis\u001b[38;5;241m.\u001b[39m_can_hold_identifiers_and_holds_name(name)\n\u001b[0;32m   6297\u001b[0m ):\n\u001b[0;32m   6298\u001b[0m     \u001b[38;5;28;01mreturn\u001b[39;00m \u001b[38;5;28mself\u001b[39m[name]\n\u001b[1;32m-> 6299\u001b[0m \u001b[38;5;28;01mreturn\u001b[39;00m \u001b[38;5;28;43mobject\u001b[39;49m\u001b[38;5;241;43m.\u001b[39;49m\u001b[38;5;21;43m__getattribute__\u001b[39;49m\u001b[43m(\u001b[49m\u001b[38;5;28;43mself\u001b[39;49m\u001b[43m,\u001b[49m\u001b[43m \u001b[49m\u001b[43mname\u001b[49m\u001b[43m)\u001b[49m\n",
      "File \u001b[1;32m~\\AppData\\Roaming\\Python\\Python312\\site-packages\\pandas\\core\\accessor.py:224\u001b[0m, in \u001b[0;36mCachedAccessor.__get__\u001b[1;34m(self, obj, cls)\u001b[0m\n\u001b[0;32m    221\u001b[0m \u001b[38;5;28;01mif\u001b[39;00m obj \u001b[38;5;129;01mis\u001b[39;00m \u001b[38;5;28;01mNone\u001b[39;00m:\n\u001b[0;32m    222\u001b[0m     \u001b[38;5;66;03m# we're accessing the attribute of the class, i.e., Dataset.geo\u001b[39;00m\n\u001b[0;32m    223\u001b[0m     \u001b[38;5;28;01mreturn\u001b[39;00m \u001b[38;5;28mself\u001b[39m\u001b[38;5;241m.\u001b[39m_accessor\n\u001b[1;32m--> 224\u001b[0m accessor_obj \u001b[38;5;241m=\u001b[39m \u001b[38;5;28;43mself\u001b[39;49m\u001b[38;5;241;43m.\u001b[39;49m\u001b[43m_accessor\u001b[49m\u001b[43m(\u001b[49m\u001b[43mobj\u001b[49m\u001b[43m)\u001b[49m\n\u001b[0;32m    225\u001b[0m \u001b[38;5;66;03m# Replace the property with the accessor object. Inspired by:\u001b[39;00m\n\u001b[0;32m    226\u001b[0m \u001b[38;5;66;03m# https://www.pydanny.com/cached-property.html\u001b[39;00m\n\u001b[0;32m    227\u001b[0m \u001b[38;5;66;03m# We need to use object.__setattr__ because we overwrite __setattr__ on\u001b[39;00m\n\u001b[0;32m    228\u001b[0m \u001b[38;5;66;03m# NDFrame\u001b[39;00m\n\u001b[0;32m    229\u001b[0m \u001b[38;5;28mobject\u001b[39m\u001b[38;5;241m.\u001b[39m\u001b[38;5;21m__setattr__\u001b[39m(obj, \u001b[38;5;28mself\u001b[39m\u001b[38;5;241m.\u001b[39m_name, accessor_obj)\n",
      "File \u001b[1;32m~\\AppData\\Roaming\\Python\\Python312\\site-packages\\pandas\\core\\strings\\accessor.py:191\u001b[0m, in \u001b[0;36mStringMethods.__init__\u001b[1;34m(self, data)\u001b[0m\n\u001b[0;32m    188\u001b[0m \u001b[38;5;28;01mdef\u001b[39;00m \u001b[38;5;21m__init__\u001b[39m(\u001b[38;5;28mself\u001b[39m, data) \u001b[38;5;241m-\u001b[39m\u001b[38;5;241m>\u001b[39m \u001b[38;5;28;01mNone\u001b[39;00m:\n\u001b[0;32m    189\u001b[0m     \u001b[38;5;28;01mfrom\u001b[39;00m \u001b[38;5;21;01mpandas\u001b[39;00m\u001b[38;5;21;01m.\u001b[39;00m\u001b[38;5;21;01mcore\u001b[39;00m\u001b[38;5;21;01m.\u001b[39;00m\u001b[38;5;21;01marrays\u001b[39;00m\u001b[38;5;21;01m.\u001b[39;00m\u001b[38;5;21;01mstring_\u001b[39;00m \u001b[38;5;28;01mimport\u001b[39;00m StringDtype\n\u001b[1;32m--> 191\u001b[0m     \u001b[38;5;28mself\u001b[39m\u001b[38;5;241m.\u001b[39m_inferred_dtype \u001b[38;5;241m=\u001b[39m \u001b[38;5;28;43mself\u001b[39;49m\u001b[38;5;241;43m.\u001b[39;49m\u001b[43m_validate\u001b[49m\u001b[43m(\u001b[49m\u001b[43mdata\u001b[49m\u001b[43m)\u001b[49m\n\u001b[0;32m    192\u001b[0m     \u001b[38;5;28mself\u001b[39m\u001b[38;5;241m.\u001b[39m_is_categorical \u001b[38;5;241m=\u001b[39m \u001b[38;5;28misinstance\u001b[39m(data\u001b[38;5;241m.\u001b[39mdtype, CategoricalDtype)\n\u001b[0;32m    193\u001b[0m     \u001b[38;5;28mself\u001b[39m\u001b[38;5;241m.\u001b[39m_is_string \u001b[38;5;241m=\u001b[39m \u001b[38;5;28misinstance\u001b[39m(data\u001b[38;5;241m.\u001b[39mdtype, StringDtype)\n",
      "File \u001b[1;32m~\\AppData\\Roaming\\Python\\Python312\\site-packages\\pandas\\core\\strings\\accessor.py:245\u001b[0m, in \u001b[0;36mStringMethods._validate\u001b[1;34m(data)\u001b[0m\n\u001b[0;32m    242\u001b[0m inferred_dtype \u001b[38;5;241m=\u001b[39m lib\u001b[38;5;241m.\u001b[39minfer_dtype(values, skipna\u001b[38;5;241m=\u001b[39m\u001b[38;5;28;01mTrue\u001b[39;00m)\n\u001b[0;32m    244\u001b[0m \u001b[38;5;28;01mif\u001b[39;00m inferred_dtype \u001b[38;5;129;01mnot\u001b[39;00m \u001b[38;5;129;01min\u001b[39;00m allowed_types:\n\u001b[1;32m--> 245\u001b[0m     \u001b[38;5;28;01mraise\u001b[39;00m \u001b[38;5;167;01mAttributeError\u001b[39;00m(\u001b[38;5;124m\"\u001b[39m\u001b[38;5;124mCan only use .str accessor with string values!\u001b[39m\u001b[38;5;124m\"\u001b[39m)\n\u001b[0;32m    246\u001b[0m \u001b[38;5;28;01mreturn\u001b[39;00m inferred_dtype\n",
      "\u001b[1;31mAttributeError\u001b[0m: Can only use .str accessor with string values!"
     ]
    }
   ],
   "source": [
    "df_treinamento['Num_of_Delayed_Payment'] = pd.to_numeric(df_treinamento['Num_of_Delayed_Payment'].str.replace('_', ''), errors='coerce')\n"
   ]
  },
  {
   "cell_type": "code",
   "execution_count": null,
   "id": "a319d431",
   "metadata": {},
   "outputs": [],
   "source": [
    "df_teste['Num_of_Delayed_Payment'] = pd.to_numeric(df_teste['Num_of_Delayed_Payment'].str.replace('_', ''), errors='coerce')\n"
   ]
  },
  {
   "cell_type": "code",
   "execution_count": null,
   "id": "ef95ae120bb7c32e",
   "metadata": {
    "ExecuteTime": {
     "end_time": "2024-10-29T00:47:41.607929Z",
     "start_time": "2024-10-29T00:47:41.602425Z"
    }
   },
   "outputs": [
    {
     "name": "stdout",
     "output_type": "stream",
     "text": [
      "Número de valores negativos no atributo 'Num_of_Delayed_Payment': 644\n"
     ]
    }
   ],
   "source": [
    "num_valores_negativos = (df_treinamento['Num_of_Delayed_Payment'] < 0).sum()\n",
    "\n",
    "print(f\"Número de valores negativos no atributo 'Num_of_Delayed_Payment': {num_valores_negativos}\")\n"
   ]
  },
  {
   "cell_type": "code",
   "execution_count": null,
   "id": "35d94610",
   "metadata": {},
   "outputs": [
    {
     "name": "stdout",
     "output_type": "stream",
     "text": [
      "Número de valores negativos no atributo 'Num_of_Delayed_Payment': 644\n"
     ]
    }
   ],
   "source": [
    "num_valores_negativos = (df_teste['Num_of_Delayed_Payment'] < 0).sum()\n",
    "\n",
    "print(f\"Número de valores negativos no atributo 'Num_of_Delayed_Payment': {num_valores_negativos}\")\n"
   ]
  },
  {
   "cell_type": "code",
   "execution_count": null,
   "id": "dd71752474ec9c3a",
   "metadata": {
    "ExecuteTime": {
     "end_time": "2024-10-29T00:47:41.702128Z",
     "start_time": "2024-10-29T00:47:41.694660Z"
    }
   },
   "outputs": [
    {
     "name": "stdout",
     "output_type": "stream",
     "text": [
      "       Num_of_Delayed_Payment  Delay_from_due_date\n",
      "0                         7.0                    3\n",
      "1                         NaN                    0\n",
      "2                         7.0                    3\n",
      "3                         4.0                    5\n",
      "4                         NaN                    6\n",
      "...                       ...                  ...\n",
      "99995                     7.0                   23\n",
      "99996                     7.0                   18\n",
      "99997                     6.0                   27\n",
      "99998                     NaN                   20\n",
      "99999                     6.0                   18\n",
      "\n",
      "[100000 rows x 2 columns]\n"
     ]
    }
   ],
   "source": [
    "df_treinamento.loc[(df_treinamento['Num_of_Delayed_Payment'] < 0) & (df_treinamento['Delay_from_due_date'] > 0), 'Num_of_Delayed_Payment'] = 0\n",
    "\n",
    "# Verificar as mudanças\n",
    "print(df_treinamento[['Num_of_Delayed_Payment', 'Delay_from_due_date']])"
   ]
  },
  {
   "cell_type": "code",
   "execution_count": null,
   "id": "5f908e7c",
   "metadata": {},
   "outputs": [
    {
     "name": "stdout",
     "output_type": "stream",
     "text": [
      "       Num_of_Delayed_Payment  Delay_from_due_date\n",
      "0                         7.0                    3\n",
      "1                         NaN                    0\n",
      "2                         7.0                    3\n",
      "3                         4.0                    5\n",
      "4                         NaN                    6\n",
      "...                       ...                  ...\n",
      "99995                     7.0                   23\n",
      "99996                     7.0                   18\n",
      "99997                     6.0                   27\n",
      "99998                     NaN                   20\n",
      "99999                     6.0                   18\n",
      "\n",
      "[100000 rows x 2 columns]\n"
     ]
    }
   ],
   "source": [
    "df_teste.loc[(df_teste['Num_of_Delayed_Payment'] < 0) & (df_teste['Delay_from_due_date'] > 0), 'Num_of_Delayed_Payment'] = 0\n",
    "\n",
    "# Verificar as mudanças\n",
    "print(df_teste[['Num_of_Delayed_Payment', 'Delay_from_due_date']])"
   ]
  },
  {
   "cell_type": "code",
   "execution_count": null,
   "id": "569054f29cbbfb99",
   "metadata": {
    "ExecuteTime": {
     "end_time": "2024-10-29T00:47:41.726313Z",
     "start_time": "2024-10-29T00:47:41.707133Z"
    }
   },
   "outputs": [],
   "source": [
    "# Mudando para inteiro\n",
    "df_treinamento['Num_of_Delayed_Payment'] = df_treinamento['Num_of_Delayed_Payment'].apply(np.floor).astype('Int64')\n",
    "\n",
    "# Substituir valores negativos por NaN\n",
    "df_treinamento.loc[df_treinamento['Num_of_Delayed_Payment'] < 0, 'Num_of_Delayed_Payment'] = np.nan\n"
   ]
  },
  {
   "cell_type": "code",
   "execution_count": null,
   "id": "7c45a1be",
   "metadata": {},
   "outputs": [],
   "source": [
    "# Mudando para inteiro\n",
    "df_teste['Num_of_Delayed_Payment'] = df_teste['Num_of_Delayed_Payment'].apply(np.floor).astype('Int64')\n",
    "\n",
    "# Substituir valores negativos por NaN\n",
    "df_teste.loc[df_teste['Num_of_Delayed_Payment'] < 0, 'Num_of_Delayed_Payment'] = np.nan\n"
   ]
  },
  {
   "cell_type": "markdown",
   "id": "141432249af481f0",
   "metadata": {},
   "source": [
    "### Salvando Dados"
   ]
  },
  {
   "cell_type": "code",
   "execution_count": null,
   "id": "7dfbaea430379116",
   "metadata": {
    "ExecuteTime": {
     "end_time": "2024-10-29T00:47:42.832884Z",
     "start_time": "2024-10-29T00:47:41.763994Z"
    }
   },
   "outputs": [],
   "source": [
    "df_treinamento.to_csv('../arquivos_csv/treinamento2.csv', index=False)\n",
    "df_teste.to_csv('../arquivos_csv/teste2.csv', index=False)\n"
   ]
  }
 ],
 "metadata": {
  "kernelspec": {
   "display_name": "meu_ambiente",
   "language": "python",
   "name": "python3"
  },
  "language_info": {
   "codemirror_mode": {
    "name": "ipython",
    "version": 3
   },
   "file_extension": ".py",
   "mimetype": "text/x-python",
   "name": "python",
   "nbconvert_exporter": "python",
   "pygments_lexer": "ipython3",
   "version": "3.12.7"
  }
 },
 "nbformat": 4,
 "nbformat_minor": 5
}
