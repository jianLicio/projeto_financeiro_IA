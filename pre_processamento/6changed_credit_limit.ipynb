{
 "cells": [
  {
   "cell_type": "code",
   "execution_count": 1,
   "id": "initial_id",
   "metadata": {
    "ExecuteTime": {
     "end_time": "2024-10-29T00:48:36.673917Z",
     "start_time": "2024-10-29T00:48:36.119071Z"
    },
    "collapsed": true,
    "execution": {
     "iopub.execute_input": "2024-11-12T17:18:06.111608Z",
     "iopub.status.busy": "2024-11-12T17:18:06.111608Z",
     "iopub.status.idle": "2024-11-12T17:18:07.308022Z",
     "shell.execute_reply": "2024-11-12T17:18:07.308022Z"
    },
    "papermill": {
     "duration": 1.210938,
     "end_time": "2024-11-12T17:18:07.309026",
     "exception": false,
     "start_time": "2024-11-12T17:18:06.098088",
     "status": "completed"
    },
    "tags": []
   },
   "outputs": [],
   "source": [
    "import pandas as pd\n",
    "import numpy as np\n",
    "\n",
    "df_treinamento = pd.read_csv('../arquivos_csv/treinamento2.csv', low_memory=False)\n",
    "df_teste = pd.read_csv('../arquivos_csv/teste2.csv', low_memory=False)"
   ]
  },
  {
   "cell_type": "markdown",
   "id": "ee74b3476d6f5b42",
   "metadata": {
    "papermill": {
     "duration": 0.013994,
     "end_time": "2024-11-12T17:18:07.332536",
     "exception": false,
     "start_time": "2024-11-12T17:18:07.318542",
     "status": "completed"
    },
    "tags": []
   },
   "source": [
    "### Remover underscore"
   ]
  },
  {
   "cell_type": "code",
   "execution_count": 2,
   "id": "558fb77662720a20",
   "metadata": {
    "ExecuteTime": {
     "end_time": "2024-10-29T00:48:37.202093Z",
     "start_time": "2024-10-29T00:48:36.738914Z"
    },
    "execution": {
     "iopub.execute_input": "2024-11-12T17:18:07.362538Z",
     "iopub.status.busy": "2024-11-12T17:18:07.361539Z",
     "iopub.status.idle": "2024-11-12T17:18:07.825578Z",
     "shell.execute_reply": "2024-11-12T17:18:07.825578Z"
    },
    "papermill": {
     "duration": 0.481047,
     "end_time": "2024-11-12T17:18:07.826584",
     "exception": false,
     "start_time": "2024-11-12T17:18:07.345537",
     "status": "completed"
    },
    "tags": []
   },
   "outputs": [],
   "source": [
    "atributos = [\n",
    "    'Changed_Credit_Limit', 'Num_Credit_Inquiries', \n",
    "    'Outstanding_Debt', 'Credit_Utilization_Ratio', \n",
    "    'Total_EMI_per_month', 'Amount_invested_monthly', \n",
    "    'Monthly_Balance'\n",
    "]\n",
    "\n",
    "for atributo in atributos:\n",
    "    df_treinamento[atributo] = df_treinamento[atributo].astype(str).str.replace('_', '', regex=False)\n",
    "    df_treinamento[atributo] = pd.to_numeric(df_treinamento[atributo], errors='coerce')"
   ]
  },
  {
   "cell_type": "code",
   "execution_count": 3,
   "id": "976c2cfd",
   "metadata": {
    "execution": {
     "iopub.execute_input": "2024-11-12T17:18:07.856584Z",
     "iopub.status.busy": "2024-11-12T17:18:07.856584Z",
     "iopub.status.idle": "2024-11-12T17:18:08.309455Z",
     "shell.execute_reply": "2024-11-12T17:18:08.309455Z"
    },
    "papermill": {
     "duration": 0.468879,
     "end_time": "2024-11-12T17:18:08.311461",
     "exception": false,
     "start_time": "2024-11-12T17:18:07.842582",
     "status": "completed"
    },
    "tags": []
   },
   "outputs": [],
   "source": [
    "atributos = [\n",
    "    'Changed_Credit_Limit', 'Num_Credit_Inquiries', \n",
    "    'Outstanding_Debt', 'Credit_Utilization_Ratio', \n",
    "    'Total_EMI_per_month', 'Amount_invested_monthly', \n",
    "    'Monthly_Balance'\n",
    "]\n",
    "\n",
    "for atributo in atributos:\n",
    "    df_teste[atributo] = df_teste[atributo].astype(str).str.replace('_', '', regex=False)\n",
    "    df_teste[atributo] = pd.to_numeric(df_teste[atributo], errors='coerce')"
   ]
  },
  {
   "cell_type": "markdown",
   "id": "ee1a11541541e637",
   "metadata": {
    "papermill": {
     "duration": 0.015002,
     "end_time": "2024-11-12T17:18:08.335975",
     "exception": false,
     "start_time": "2024-11-12T17:18:08.320973",
     "status": "completed"
    },
    "tags": []
   },
   "source": [
    "#### Valores unicos para atributos"
   ]
  },
  {
   "cell_type": "code",
   "execution_count": 4,
   "id": "ded7d920709a288f",
   "metadata": {
    "ExecuteTime": {
     "end_time": "2024-10-29T00:48:37.252556Z",
     "start_time": "2024-10-29T00:48:37.207101Z"
    },
    "execution": {
     "iopub.execute_input": "2024-11-12T17:18:08.364971Z",
     "iopub.status.busy": "2024-11-12T17:18:08.364971Z",
     "iopub.status.idle": "2024-11-12T17:18:08.403924Z",
     "shell.execute_reply": "2024-11-12T17:18:08.403924Z"
    },
    "papermill": {
     "duration": 0.05596,
     "end_time": "2024-11-12T17:18:08.404930",
     "exception": false,
     "start_time": "2024-11-12T17:18:08.348970",
     "status": "completed"
    },
    "tags": []
   },
   "outputs": [
    {
     "name": "stdout",
     "output_type": "stream",
     "text": [
      "Valores únicos no atributo 'Changed_Credit_Limit':\n",
      "[11.27   nan  6.27 ... 17.51 25.16 21.17]\n",
      "\n",
      "\n",
      "Valores únicos no atributo 'Num_Credit_Inquiries':\n",
      "[   4.    2.    3. ... 1361.  310.   74.]\n",
      "\n",
      "\n",
      "Valores únicos no atributo 'Credit_Mix':\n",
      "['_' 'Good' 'Standard' 'Bad']\n",
      "\n",
      "\n",
      "Valores únicos no atributo 'Outstanding_Debt':\n",
      "[ 809.98  605.03 1303.01 ...  620.64 3571.7   502.38]\n",
      "\n",
      "\n",
      "Valores únicos no atributo 'Credit_Utilization_Ratio':\n",
      "[26.82261962 31.94496006 28.60935202 ... 41.25552226 33.63820798\n",
      " 34.19246265]\n",
      "\n",
      "\n",
      "Valores únicos no atributo 'Credit_History_Age':\n",
      "['22 Years and 1 Months' nan '22 Years and 3 Months'\n",
      " '22 Years and 4 Months' '22 Years and 5 Months' '22 Years and 6 Months'\n",
      " '22 Years and 7 Months' '26 Years and 7 Months' '26 Years and 8 Months'\n",
      " '26 Years and 9 Months' '26 Years and 10 Months' '26 Years and 11 Months'\n",
      " '27 Years and 0 Months' '27 Years and 1 Months' '27 Years and 2 Months'\n",
      " '17 Years and 9 Months' '17 Years and 10 Months' '17 Years and 11 Months'\n",
      " '18 Years and 1 Months' '18 Years and 2 Months' '18 Years and 3 Months'\n",
      " '18 Years and 4 Months' '17 Years and 3 Months' '17 Years and 4 Months'\n",
      " '17 Years and 5 Months' '17 Years and 6 Months' '17 Years and 7 Months'\n",
      " '17 Years and 8 Months' '30 Years and 8 Months' '30 Years and 9 Months'\n",
      " '30 Years and 10 Months' '30 Years and 11 Months' '31 Years and 0 Months'\n",
      " '31 Years and 1 Months' '31 Years and 2 Months' '31 Years and 3 Months'\n",
      " '32 Years and 0 Months' '32 Years and 2 Months' '32 Years and 3 Months'\n",
      " '32 Years and 5 Months' '32 Years and 6 Months' '30 Years and 7 Months'\n",
      " '14 Years and 8 Months' '14 Years and 9 Months' '14 Years and 10 Months'\n",
      " '14 Years and 11 Months' '15 Years and 0 Months' '15 Years and 1 Months'\n",
      " '15 Years and 2 Months' '21 Years and 4 Months' '21 Years and 5 Months'\n",
      " '21 Years and 6 Months' '21 Years and 7 Months' '21 Years and 8 Months'\n",
      " '21 Years and 9 Months' '21 Years and 10 Months' '21 Years and 11 Months'\n",
      " '26 Years and 6 Months' '19 Years and 2 Months' '19 Years and 3 Months'\n",
      " '19 Years and 4 Months' '19 Years and 5 Months' '19 Years and 6 Months'\n",
      " '19 Years and 7 Months' '19 Years and 8 Months' '25 Years and 5 Months'\n",
      " '25 Years and 6 Months' '25 Years and 7 Months' '25 Years and 8 Months'\n",
      " '25 Years and 9 Months' '25 Years and 10 Months' '25 Years and 11 Months'\n",
      " '26 Years and 0 Months' '27 Years and 3 Months' '27 Years and 4 Months'\n",
      " '27 Years and 5 Months' '8 Years and 11 Months' '9 Years and 0 Months'\n",
      " '9 Years and 1 Months' '9 Years and 2 Months' '9 Years and 3 Months'\n",
      " '9 Years and 4 Months' '9 Years and 6 Months' '18 Years and 5 Months'\n",
      " '18 Years and 6 Months' '18 Years and 8 Months' '18 Years and 9 Months'\n",
      " '16 Years and 10 Months' '16 Years and 11 Months' '17 Years and 0 Months'\n",
      " '17 Years and 1 Months' '17 Years and 2 Months' '29 Years and 2 Months'\n",
      " '29 Years and 3 Months' '29 Years and 4 Months' '29 Years and 6 Months'\n",
      " '29 Years and 8 Months' '29 Years and 9 Months' '6 Years and 5 Months'\n",
      " '6 Years and 6 Months' '6 Years and 7 Months' '6 Years and 8 Months'\n",
      " '6 Years and 9 Months' '6 Years and 10 Months' '6 Years and 11 Months'\n",
      " '7 Years and 0 Months' '27 Years and 6 Months' '27 Years and 7 Months'\n",
      " '27 Years and 8 Months' '27 Years and 9 Months' '18 Years and 7 Months'\n",
      " '19 Years and 9 Months' '19 Years and 10 Months' '10 Years and 1 Months'\n",
      " '10 Years and 2 Months' '10 Years and 3 Months' '10 Years and 4 Months'\n",
      " '10 Years and 5 Months' '10 Years and 6 Months' '10 Years and 7 Months'\n",
      " '10 Years and 8 Months' '32 Years and 9 Months' '32 Years and 10 Months'\n",
      " '32 Years and 11 Months' '33 Years and 0 Months' '33 Years and 1 Months'\n",
      " '33 Years and 4 Months' '12 Years and 3 Months' '12 Years and 4 Months'\n",
      " '12 Years and 5 Months' '12 Years and 6 Months' '12 Years and 7 Months'\n",
      " '12 Years and 8 Months' '12 Years and 10 Months' '12 Years and 9 Months'\n",
      " '13 Years and 8 Months' '13 Years and 11 Months' '14 Years and 0 Months'\n",
      " '14 Years and 1 Months' '14 Years and 2 Months' '14 Years and 3 Months'\n",
      " '30 Years and 3 Months' '30 Years and 4 Months' '30 Years and 5 Months'\n",
      " '30 Years and 6 Months' '8 Years and 9 Months' '8 Years and 10 Months'\n",
      " '18 Years and 10 Months' '18 Years and 11 Months' '19 Years and 0 Months'\n",
      " '19 Years and 1 Months' '8 Years and 8 Months' '13 Years and 1 Months'\n",
      " '13 Years and 2 Months' '13 Years and 3 Months' '13 Years and 5 Months'\n",
      " '13 Years and 6 Months' '13 Years and 7 Months' '22 Years and 0 Months'\n",
      " '26 Years and 1 Months' '26 Years and 2 Months' '13 Years and 4 Months'\n",
      " '13 Years and 9 Months' '27 Years and 11 Months' '28 Years and 0 Months'\n",
      " '28 Years and 1 Months' '28 Years and 2 Months' '28 Years and 3 Months'\n",
      " '28 Years and 4 Months' '28 Years and 5 Months' '28 Years and 6 Months'\n",
      " '7 Years and 10 Months' '7 Years and 11 Months' '8 Years and 0 Months'\n",
      " '8 Years and 1 Months' '8 Years and 2 Months' '8 Years and 3 Months'\n",
      " '8 Years and 4 Months' '8 Years and 5 Months' '24 Years and 3 Months'\n",
      " '24 Years and 4 Months' '24 Years and 5 Months' '24 Years and 6 Months'\n",
      " '24 Years and 7 Months' '24 Years and 8 Months' '24 Years and 9 Months'\n",
      " '1 Years and 2 Months' '1 Years and 3 Months' '1 Years and 4 Months'\n",
      " '1 Years and 5 Months' '1 Years and 6 Months' '1 Years and 7 Months'\n",
      " '1 Years and 8 Months' '10 Years and 11 Months' '11 Years and 0 Months'\n",
      " '11 Years and 1 Months' '11 Years and 2 Months' '11 Years and 3 Months'\n",
      " '11 Years and 4 Months' '11 Years and 5 Months' '11 Years and 6 Months'\n",
      " '19 Years and 11 Months' '20 Years and 0 Months' '20 Years and 1 Months'\n",
      " '10 Years and 9 Months' '10 Years and 10 Months' '14 Years and 4 Months'\n",
      " '14 Years and 5 Months' '14 Years and 6 Months' '20 Years and 8 Months'\n",
      " '20 Years and 9 Months' '20 Years and 10 Months' '20 Years and 11 Months'\n",
      " '21 Years and 0 Months' '21 Years and 1 Months' '21 Years and 2 Months'\n",
      " '21 Years and 3 Months' '0 Years and 4 Months' '0 Years and 5 Months'\n",
      " '0 Years and 6 Months' '0 Years and 8 Months' '0 Years and 9 Months'\n",
      " '0 Years and 10 Months' '31 Years and 7 Months' '31 Years and 8 Months'\n",
      " '31 Years and 9 Months' '31 Years and 10 Months' '31 Years and 11 Months'\n",
      " '32 Years and 1 Months' '12 Years and 11 Months' '13 Years and 0 Months'\n",
      " '27 Years and 10 Months' '11 Years and 7 Months' '11 Years and 8 Months'\n",
      " '11 Years and 9 Months' '11 Years and 10 Months' '24 Years and 10 Months'\n",
      " '24 Years and 11 Months' '25 Years and 0 Months' '25 Years and 1 Months'\n",
      " '25 Years and 2 Months' '25 Years and 3 Months' '18 Years and 0 Months'\n",
      " '31 Years and 4 Months' '31 Years and 5 Months' '31 Years and 6 Months'\n",
      " '5 Years and 2 Months' '5 Years and 3 Months' '5 Years and 4 Months'\n",
      " '5 Years and 5 Months' '5 Years and 6 Months' '5 Years and 7 Months'\n",
      " '5 Years and 8 Months' '5 Years and 9 Months' '2 Years and 11 Months'\n",
      " '3 Years and 0 Months' '3 Years and 1 Months' '3 Years and 2 Months'\n",
      " '3 Years and 3 Months' '3 Years and 4 Months' '3 Years and 5 Months'\n",
      " '3 Years and 6 Months' '16 Years and 4 Months' '16 Years and 5 Months'\n",
      " '16 Years and 6 Months' '16 Years and 7 Months' '16 Years and 8 Months'\n",
      " '16 Years and 9 Months' '22 Years and 11 Months' '23 Years and 0 Months'\n",
      " '23 Years and 2 Months' '23 Years and 3 Months' '23 Years and 4 Months'\n",
      " '23 Years and 5 Months' '23 Years and 6 Months' '8 Years and 6 Months'\n",
      " '8 Years and 7 Months' '4 Years and 5 Months' '4 Years and 6 Months'\n",
      " '4 Years and 7 Months' '4 Years and 8 Months' '4 Years and 9 Months'\n",
      " '4 Years and 10 Months' '4 Years and 11 Months' '5 Years and 0 Months'\n",
      " '32 Years and 8 Months' '33 Years and 2 Months' '33 Years and 3 Months'\n",
      " '12 Years and 2 Months' '32 Years and 4 Months' '29 Years and 11 Months'\n",
      " '30 Years and 0 Months' '30 Years and 2 Months' '26 Years and 3 Months'\n",
      " '26 Years and 4 Months' '26 Years and 5 Months' '7 Years and 6 Months'\n",
      " '7 Years and 7 Months' '7 Years and 8 Months' '7 Years and 9 Months'\n",
      " '28 Years and 7 Months' '28 Years and 8 Months' '28 Years and 9 Months'\n",
      " '28 Years and 10 Months' '29 Years and 5 Months' '29 Years and 7 Months'\n",
      " '20 Years and 2 Months' '20 Years and 3 Months' '20 Years and 4 Months'\n",
      " '20 Years and 5 Months' '20 Years and 6 Months' '20 Years and 7 Months'\n",
      " '28 Years and 11 Months' '29 Years and 0 Months' '13 Years and 10 Months'\n",
      " '1 Years and 9 Months' '1 Years and 10 Months' '1 Years and 11 Months'\n",
      " '33 Years and 5 Months' '33 Years and 6 Months' '33 Years and 7 Months'\n",
      " '33 Years and 8 Months' '29 Years and 1 Months' '5 Years and 1 Months'\n",
      " '5 Years and 10 Months' '5 Years and 11 Months' '6 Years and 0 Months'\n",
      " '6 Years and 1 Months' '6 Years and 2 Months' '6 Years and 3 Months'\n",
      " '22 Years and 9 Months' '22 Years and 10 Months' '23 Years and 1 Months'\n",
      " '22 Years and 2 Months' '15 Years and 4 Months' '15 Years and 5 Months'\n",
      " '15 Years and 6 Months' '15 Years and 7 Months' '15 Years and 8 Months'\n",
      " '15 Years and 9 Months' '15 Years and 10 Months' '15 Years and 11 Months'\n",
      " '2 Years and 3 Months' '2 Years and 4 Months' '2 Years and 5 Months'\n",
      " '2 Years and 6 Months' '2 Years and 7 Months' '2 Years and 8 Months'\n",
      " '2 Years and 9 Months' '2 Years and 10 Months' '2 Years and 0 Months'\n",
      " '16 Years and 2 Months' '16 Years and 3 Months' '22 Years and 8 Months'\n",
      " '9 Years and 5 Months' '9 Years and 7 Months' '9 Years and 8 Months'\n",
      " '9 Years and 9 Months' '11 Years and 11 Months' '12 Years and 0 Months'\n",
      " '12 Years and 1 Months' '24 Years and 2 Months' '16 Years and 0 Months'\n",
      " '16 Years and 1 Months' '14 Years and 7 Months' '25 Years and 4 Months'\n",
      " '15 Years and 3 Months' '7 Years and 1 Months' '7 Years and 2 Months'\n",
      " '7 Years and 3 Months' '7 Years and 4 Months' '7 Years and 5 Months'\n",
      " '23 Years and 7 Months' '23 Years and 8 Months' '23 Years and 9 Months'\n",
      " '30 Years and 1 Months' '29 Years and 10 Months' '9 Years and 10 Months'\n",
      " '9 Years and 11 Months' '10 Years and 0 Months' '2 Years and 2 Months'\n",
      " '23 Years and 10 Months' '23 Years and 11 Months' '24 Years and 0 Months'\n",
      " '24 Years and 1 Months' '6 Years and 4 Months' '0 Years and 1 Months'\n",
      " '0 Years and 2 Months' '0 Years and 3 Months' '0 Years and 7 Months'\n",
      " '3 Years and 8 Months' '32 Years and 7 Months' '3 Years and 7 Months'\n",
      " '3 Years and 9 Months' '3 Years and 10 Months' '0 Years and 11 Months'\n",
      " '1 Years and 0 Months' '1 Years and 1 Months' '4 Years and 4 Months'\n",
      " '3 Years and 11 Months' '4 Years and 0 Months' '4 Years and 1 Months'\n",
      " '4 Years and 2 Months' '4 Years and 3 Months' '2 Years and 1 Months']\n",
      "\n",
      "\n",
      "Valores únicos no atributo 'Payment_of_Min_Amount':\n",
      "['No' 'NM' 'Yes']\n",
      "\n",
      "\n",
      "Valores únicos no atributo 'Total_EMI_per_month':\n",
      "[4.95749492e+01 1.88162146e+01 2.46992319e+02 ... 1.21120000e+04\n",
      " 3.51040226e+01 5.86380000e+04]\n",
      "\n",
      "\n",
      "Valores únicos no atributo 'Amount_invested_monthly':\n",
      "[ 80.41529544 118.28022162  81.69952126 ...  24.02847745 251.6725822\n",
      " 167.16386516]\n",
      "\n",
      "\n",
      "Valores únicos no atributo 'Payment_Behaviour':\n",
      "['High_spent_Small_value_payments' 'Low_spent_Large_value_payments'\n",
      " 'Low_spent_Medium_value_payments' 'Low_spent_Small_value_payments'\n",
      " 'High_spent_Medium_value_payments' '!@9#%8'\n",
      " 'High_spent_Large_value_payments']\n",
      "\n",
      "\n",
      "Valores únicos no atributo 'Monthly_Balance':\n",
      "[312.49408868 284.6291625  331.20986285 ... 516.80908327 319.16497853\n",
      " 393.67369556]\n",
      "\n",
      "\n"
     ]
    }
   ],
   "source": [
    "atributos = [\n",
    "    'Changed_Credit_Limit', 'Num_Credit_Inquiries', 'Credit_Mix',\n",
    "    'Outstanding_Debt', 'Credit_Utilization_Ratio', 'Credit_History_Age',\n",
    "    'Payment_of_Min_Amount', 'Total_EMI_per_month', 'Amount_invested_monthly',\n",
    "    'Payment_Behaviour', 'Monthly_Balance'\n",
    "]\n",
    "\n",
    "for atributo in atributos:\n",
    "    unique_values = df_treinamento[atributo].unique()\n",
    "    print(f\"Valores únicos no atributo '{atributo}':\")\n",
    "    print(unique_values)\n",
    "    print(\"\\n\")\n",
    "    "
   ]
  },
  {
   "cell_type": "markdown",
   "id": "a92f92d0b01128a",
   "metadata": {
    "papermill": {
     "duration": 0.015001,
     "end_time": "2024-11-12T17:18:08.428445",
     "exception": false,
     "start_time": "2024-11-12T17:18:08.413444",
     "status": "completed"
    },
    "tags": []
   },
   "source": [
    "#### Credit_Mix: valores com _ receberam valor nulo"
   ]
  },
  {
   "cell_type": "code",
   "execution_count": 5,
   "id": "cb6569ac9953d8b9",
   "metadata": {
    "ExecuteTime": {
     "end_time": "2024-10-29T00:48:37.304871Z",
     "start_time": "2024-10-29T00:48:37.295110Z"
    },
    "execution": {
     "iopub.execute_input": "2024-11-12T17:18:08.457445Z",
     "iopub.status.busy": "2024-11-12T17:18:08.457445Z",
     "iopub.status.idle": "2024-11-12T17:18:08.466078Z",
     "shell.execute_reply": "2024-11-12T17:18:08.466078Z"
    },
    "papermill": {
     "duration": 0.024643,
     "end_time": "2024-11-12T17:18:08.467087",
     "exception": false,
     "start_time": "2024-11-12T17:18:08.442444",
     "status": "completed"
    },
    "tags": []
   },
   "outputs": [],
   "source": [
    "df_treinamento['Credit_Mix'] = df_treinamento['Credit_Mix'].replace('_', np.nan)\n"
   ]
  },
  {
   "cell_type": "code",
   "execution_count": 6,
   "id": "9b3bbe5f",
   "metadata": {
    "execution": {
     "iopub.execute_input": "2024-11-12T17:18:08.492084Z",
     "iopub.status.busy": "2024-11-12T17:18:08.491084Z",
     "iopub.status.idle": "2024-11-12T17:18:08.500552Z",
     "shell.execute_reply": "2024-11-12T17:18:08.500552Z"
    },
    "papermill": {
     "duration": 0.026475,
     "end_time": "2024-11-12T17:18:08.502558",
     "exception": false,
     "start_time": "2024-11-12T17:18:08.476083",
     "status": "completed"
    },
    "tags": []
   },
   "outputs": [],
   "source": [
    "df_teste['Credit_Mix'] = df_teste['Credit_Mix'].replace('_', np.nan)\n"
   ]
  },
  {
   "cell_type": "code",
   "execution_count": 7,
   "id": "7c01f16c02d1a481",
   "metadata": {
    "ExecuteTime": {
     "end_time": "2024-10-29T00:48:37.528828Z",
     "start_time": "2024-10-29T00:48:37.345203Z"
    },
    "execution": {
     "iopub.execute_input": "2024-11-12T17:18:08.532070Z",
     "iopub.status.busy": "2024-11-12T17:18:08.531071Z",
     "iopub.status.idle": "2024-11-12T17:18:08.534249Z",
     "shell.execute_reply": "2024-11-12T17:18:08.534249Z"
    },
    "papermill": {
     "duration": 0.019189,
     "end_time": "2024-11-12T17:18:08.535258",
     "exception": false,
     "start_time": "2024-11-12T17:18:08.516069",
     "status": "completed"
    },
    "tags": []
   },
   "outputs": [],
   "source": [
    "# import matplotlib.pyplot as plt\n",
    "\n",
    "# # Convertendo 'Outstanding_Debt' para numérico e removendo valores nulos\n",
    "# df_treinamento['Outstanding_Debt'] = pd.to_numeric(df_treinamento['Outstanding_Debt'], errors='coerce')\n",
    "# outstanding_debt_clean = df_treinamento['Outstanding_Debt'].dropna()\n",
    "\n",
    "# # Criando o histograma para visualizar a distribuição\n",
    "# plt.figure(figsize=(10, 6))\n",
    "# plt.hist(outstanding_debt_clean, bins=30, edgecolor='black', alpha=0.7)\n",
    "# plt.title('Distribuição de Outstanding Debt')\n",
    "# plt.xlabel('Total da Dívida (Outstanding Debt)')\n",
    "# plt.ylabel('Frequência')\n",
    "# plt.grid(True)\n",
    "\n",
    "# # Exibindo o gráfico\n",
    "# plt.show()"
   ]
  },
  {
   "cell_type": "code",
   "execution_count": 8,
   "id": "b82d3ac75ef5e956",
   "metadata": {
    "ExecuteTime": {
     "end_time": "2024-10-29T00:48:37.624792Z",
     "start_time": "2024-10-29T00:48:37.614639Z"
    },
    "execution": {
     "iopub.execute_input": "2024-11-12T17:18:08.560254Z",
     "iopub.status.busy": "2024-11-12T17:18:08.560254Z",
     "iopub.status.idle": "2024-11-12T17:18:08.563155Z",
     "shell.execute_reply": "2024-11-12T17:18:08.563155Z"
    },
    "papermill": {
     "duration": 0.01891,
     "end_time": "2024-11-12T17:18:08.564164",
     "exception": false,
     "start_time": "2024-11-12T17:18:08.545254",
     "status": "completed"
    },
    "tags": []
   },
   "outputs": [],
   "source": [
    "# bins = [0, 1000, 2000, 3000, df_treinamento['Outstanding_Debt'].max()]\n",
    "# labels = ['Grupo 1: 0-1000', 'Grupo 2: 1000-2000', 'Grupo 3: 2000-3000', 'Grupo 4: >3000']\n",
    "\n",
    "# df_treinamento['grupo_debito'] = pd.cut(df_treinamento['Outstanding_Debt'], bins=bins, labels=labels, include_lowest=True)\n",
    "\n",
    "\n",
    "# valores_unicos_grupo_debito = df_treinamento['grupo_debito'].unique()\n",
    "# print(valores_unicos_grupo_debito)\n"
   ]
  },
  {
   "cell_type": "code",
   "execution_count": 9,
   "id": "28459eb9",
   "metadata": {
    "execution": {
     "iopub.execute_input": "2024-11-12T17:18:08.589161Z",
     "iopub.status.busy": "2024-11-12T17:18:08.588162Z",
     "iopub.status.idle": "2024-11-12T17:18:08.591127Z",
     "shell.execute_reply": "2024-11-12T17:18:08.591127Z"
    },
    "papermill": {
     "duration": 0.018975,
     "end_time": "2024-11-12T17:18:08.592136",
     "exception": false,
     "start_time": "2024-11-12T17:18:08.573161",
     "status": "completed"
    },
    "tags": []
   },
   "outputs": [],
   "source": [
    "# bins = [0, 1000, 2000, 3000, df_teste['Outstanding_Debt'].max()]\n",
    "# labels = ['Grupo 1: 0-1000', 'Grupo 2: 1000-2000', 'Grupo 3: 2000-3000', 'Grupo 4: >3000']\n",
    "\n",
    "# df_teste['grupo_debito'] = pd.cut(df_teste['Outstanding_Debt'], bins=bins, labels=labels, include_lowest=True)\n",
    "\n",
    "\n",
    "# valores_unicos_grupo_debito = df_teste['grupo_debito'].unique()\n",
    "# print(valores_unicos_grupo_debito)\n"
   ]
  },
  {
   "cell_type": "code",
   "execution_count": 10,
   "id": "8784e3e397052749",
   "metadata": {
    "ExecuteTime": {
     "end_time": "2024-10-29T00:48:37.660714Z",
     "start_time": "2024-10-29T00:48:37.637802Z"
    },
    "execution": {
     "iopub.execute_input": "2024-11-12T17:18:08.618661Z",
     "iopub.status.busy": "2024-11-12T17:18:08.617659Z",
     "iopub.status.idle": "2024-11-12T17:18:08.620845Z",
     "shell.execute_reply": "2024-11-12T17:18:08.620845Z"
    },
    "papermill": {
     "duration": 0.019711,
     "end_time": "2024-11-12T17:18:08.621851",
     "exception": false,
     "start_time": "2024-11-12T17:18:08.602140",
     "status": "completed"
    },
    "tags": []
   },
   "outputs": [],
   "source": [
    "# df_treinamento = df_treinamento.drop(columns=['Outstanding_Debt'])\n",
    "# df_teste = df_teste.drop(columns=['Outstanding_Debt'])\n"
   ]
  },
  {
   "cell_type": "code",
   "execution_count": null,
   "id": "241e099a",
   "metadata": {
    "papermill": {
     "duration": 0.015,
     "end_time": "2024-11-12T17:18:08.680850",
     "exception": false,
     "start_time": "2024-11-12T17:18:08.665850",
     "status": "completed"
    },
    "tags": []
   },
   "outputs": [],
   "source": []
  },
  {
   "cell_type": "code",
   "execution_count": 11,
   "id": "9d5816e01ee09af0",
   "metadata": {
    "ExecuteTime": {
     "end_time": "2024-10-29T00:48:37.732508Z",
     "start_time": "2024-10-29T00:48:37.696596Z"
    },
    "execution": {
     "iopub.execute_input": "2024-11-12T17:18:08.708856Z",
     "iopub.status.busy": "2024-11-12T17:18:08.707858Z",
     "iopub.status.idle": "2024-11-12T17:18:08.738234Z",
     "shell.execute_reply": "2024-11-12T17:18:08.738234Z"
    },
    "papermill": {
     "duration": 0.045386,
     "end_time": "2024-11-12T17:18:08.739242",
     "exception": false,
     "start_time": "2024-11-12T17:18:08.693856",
     "status": "completed"
    },
    "tags": []
   },
   "outputs": [
    {
     "name": "stdout",
     "output_type": "stream",
     "text": [
      "Valores únicos no atributo 'Changed_Credit_Limit':\n",
      "[11.27   nan  6.27 ... 17.51 25.16 21.17]\n",
      "\n",
      "\n",
      "Valores únicos no atributo 'Num_Credit_Inquiries':\n",
      "[   4.    2.    3. ... 1361.  310.   74.]\n",
      "\n",
      "\n",
      "Valores únicos no atributo 'Credit_Mix':\n",
      "[nan 'Good' 'Standard' 'Bad']\n",
      "\n",
      "\n",
      "Valores únicos no atributo 'Credit_History_Age':\n",
      "['22 Years and 1 Months' nan '22 Years and 3 Months'\n",
      " '22 Years and 4 Months' '22 Years and 5 Months' '22 Years and 6 Months'\n",
      " '22 Years and 7 Months' '26 Years and 7 Months' '26 Years and 8 Months'\n",
      " '26 Years and 9 Months' '26 Years and 10 Months' '26 Years and 11 Months'\n",
      " '27 Years and 0 Months' '27 Years and 1 Months' '27 Years and 2 Months'\n",
      " '17 Years and 9 Months' '17 Years and 10 Months' '17 Years and 11 Months'\n",
      " '18 Years and 1 Months' '18 Years and 2 Months' '18 Years and 3 Months'\n",
      " '18 Years and 4 Months' '17 Years and 3 Months' '17 Years and 4 Months'\n",
      " '17 Years and 5 Months' '17 Years and 6 Months' '17 Years and 7 Months'\n",
      " '17 Years and 8 Months' '30 Years and 8 Months' '30 Years and 9 Months'\n",
      " '30 Years and 10 Months' '30 Years and 11 Months' '31 Years and 0 Months'\n",
      " '31 Years and 1 Months' '31 Years and 2 Months' '31 Years and 3 Months'\n",
      " '32 Years and 0 Months' '32 Years and 2 Months' '32 Years and 3 Months'\n",
      " '32 Years and 5 Months' '32 Years and 6 Months' '30 Years and 7 Months'\n",
      " '14 Years and 8 Months' '14 Years and 9 Months' '14 Years and 10 Months'\n",
      " '14 Years and 11 Months' '15 Years and 0 Months' '15 Years and 1 Months'\n",
      " '15 Years and 2 Months' '21 Years and 4 Months' '21 Years and 5 Months'\n",
      " '21 Years and 6 Months' '21 Years and 7 Months' '21 Years and 8 Months'\n",
      " '21 Years and 9 Months' '21 Years and 10 Months' '21 Years and 11 Months'\n",
      " '26 Years and 6 Months' '19 Years and 2 Months' '19 Years and 3 Months'\n",
      " '19 Years and 4 Months' '19 Years and 5 Months' '19 Years and 6 Months'\n",
      " '19 Years and 7 Months' '19 Years and 8 Months' '25 Years and 5 Months'\n",
      " '25 Years and 6 Months' '25 Years and 7 Months' '25 Years and 8 Months'\n",
      " '25 Years and 9 Months' '25 Years and 10 Months' '25 Years and 11 Months'\n",
      " '26 Years and 0 Months' '27 Years and 3 Months' '27 Years and 4 Months'\n",
      " '27 Years and 5 Months' '8 Years and 11 Months' '9 Years and 0 Months'\n",
      " '9 Years and 1 Months' '9 Years and 2 Months' '9 Years and 3 Months'\n",
      " '9 Years and 4 Months' '9 Years and 6 Months' '18 Years and 5 Months'\n",
      " '18 Years and 6 Months' '18 Years and 8 Months' '18 Years and 9 Months'\n",
      " '16 Years and 10 Months' '16 Years and 11 Months' '17 Years and 0 Months'\n",
      " '17 Years and 1 Months' '17 Years and 2 Months' '29 Years and 2 Months'\n",
      " '29 Years and 3 Months' '29 Years and 4 Months' '29 Years and 6 Months'\n",
      " '29 Years and 8 Months' '29 Years and 9 Months' '6 Years and 5 Months'\n",
      " '6 Years and 6 Months' '6 Years and 7 Months' '6 Years and 8 Months'\n",
      " '6 Years and 9 Months' '6 Years and 10 Months' '6 Years and 11 Months'\n",
      " '7 Years and 0 Months' '27 Years and 6 Months' '27 Years and 7 Months'\n",
      " '27 Years and 8 Months' '27 Years and 9 Months' '18 Years and 7 Months'\n",
      " '19 Years and 9 Months' '19 Years and 10 Months' '10 Years and 1 Months'\n",
      " '10 Years and 2 Months' '10 Years and 3 Months' '10 Years and 4 Months'\n",
      " '10 Years and 5 Months' '10 Years and 6 Months' '10 Years and 7 Months'\n",
      " '10 Years and 8 Months' '32 Years and 9 Months' '32 Years and 10 Months'\n",
      " '32 Years and 11 Months' '33 Years and 0 Months' '33 Years and 1 Months'\n",
      " '33 Years and 4 Months' '12 Years and 3 Months' '12 Years and 4 Months'\n",
      " '12 Years and 5 Months' '12 Years and 6 Months' '12 Years and 7 Months'\n",
      " '12 Years and 8 Months' '12 Years and 10 Months' '12 Years and 9 Months'\n",
      " '13 Years and 8 Months' '13 Years and 11 Months' '14 Years and 0 Months'\n",
      " '14 Years and 1 Months' '14 Years and 2 Months' '14 Years and 3 Months'\n",
      " '30 Years and 3 Months' '30 Years and 4 Months' '30 Years and 5 Months'\n",
      " '30 Years and 6 Months' '8 Years and 9 Months' '8 Years and 10 Months'\n",
      " '18 Years and 10 Months' '18 Years and 11 Months' '19 Years and 0 Months'\n",
      " '19 Years and 1 Months' '8 Years and 8 Months' '13 Years and 1 Months'\n",
      " '13 Years and 2 Months' '13 Years and 3 Months' '13 Years and 5 Months'\n",
      " '13 Years and 6 Months' '13 Years and 7 Months' '22 Years and 0 Months'\n",
      " '26 Years and 1 Months' '26 Years and 2 Months' '13 Years and 4 Months'\n",
      " '13 Years and 9 Months' '27 Years and 11 Months' '28 Years and 0 Months'\n",
      " '28 Years and 1 Months' '28 Years and 2 Months' '28 Years and 3 Months'\n",
      " '28 Years and 4 Months' '28 Years and 5 Months' '28 Years and 6 Months'\n",
      " '7 Years and 10 Months' '7 Years and 11 Months' '8 Years and 0 Months'\n",
      " '8 Years and 1 Months' '8 Years and 2 Months' '8 Years and 3 Months'\n",
      " '8 Years and 4 Months' '8 Years and 5 Months' '24 Years and 3 Months'\n",
      " '24 Years and 4 Months' '24 Years and 5 Months' '24 Years and 6 Months'\n",
      " '24 Years and 7 Months' '24 Years and 8 Months' '24 Years and 9 Months'\n",
      " '1 Years and 2 Months' '1 Years and 3 Months' '1 Years and 4 Months'\n",
      " '1 Years and 5 Months' '1 Years and 6 Months' '1 Years and 7 Months'\n",
      " '1 Years and 8 Months' '10 Years and 11 Months' '11 Years and 0 Months'\n",
      " '11 Years and 1 Months' '11 Years and 2 Months' '11 Years and 3 Months'\n",
      " '11 Years and 4 Months' '11 Years and 5 Months' '11 Years and 6 Months'\n",
      " '19 Years and 11 Months' '20 Years and 0 Months' '20 Years and 1 Months'\n",
      " '10 Years and 9 Months' '10 Years and 10 Months' '14 Years and 4 Months'\n",
      " '14 Years and 5 Months' '14 Years and 6 Months' '20 Years and 8 Months'\n",
      " '20 Years and 9 Months' '20 Years and 10 Months' '20 Years and 11 Months'\n",
      " '21 Years and 0 Months' '21 Years and 1 Months' '21 Years and 2 Months'\n",
      " '21 Years and 3 Months' '0 Years and 4 Months' '0 Years and 5 Months'\n",
      " '0 Years and 6 Months' '0 Years and 8 Months' '0 Years and 9 Months'\n",
      " '0 Years and 10 Months' '31 Years and 7 Months' '31 Years and 8 Months'\n",
      " '31 Years and 9 Months' '31 Years and 10 Months' '31 Years and 11 Months'\n",
      " '32 Years and 1 Months' '12 Years and 11 Months' '13 Years and 0 Months'\n",
      " '27 Years and 10 Months' '11 Years and 7 Months' '11 Years and 8 Months'\n",
      " '11 Years and 9 Months' '11 Years and 10 Months' '24 Years and 10 Months'\n",
      " '24 Years and 11 Months' '25 Years and 0 Months' '25 Years and 1 Months'\n",
      " '25 Years and 2 Months' '25 Years and 3 Months' '18 Years and 0 Months'\n",
      " '31 Years and 4 Months' '31 Years and 5 Months' '31 Years and 6 Months'\n",
      " '5 Years and 2 Months' '5 Years and 3 Months' '5 Years and 4 Months'\n",
      " '5 Years and 5 Months' '5 Years and 6 Months' '5 Years and 7 Months'\n",
      " '5 Years and 8 Months' '5 Years and 9 Months' '2 Years and 11 Months'\n",
      " '3 Years and 0 Months' '3 Years and 1 Months' '3 Years and 2 Months'\n",
      " '3 Years and 3 Months' '3 Years and 4 Months' '3 Years and 5 Months'\n",
      " '3 Years and 6 Months' '16 Years and 4 Months' '16 Years and 5 Months'\n",
      " '16 Years and 6 Months' '16 Years and 7 Months' '16 Years and 8 Months'\n",
      " '16 Years and 9 Months' '22 Years and 11 Months' '23 Years and 0 Months'\n",
      " '23 Years and 2 Months' '23 Years and 3 Months' '23 Years and 4 Months'\n",
      " '23 Years and 5 Months' '23 Years and 6 Months' '8 Years and 6 Months'\n",
      " '8 Years and 7 Months' '4 Years and 5 Months' '4 Years and 6 Months'\n",
      " '4 Years and 7 Months' '4 Years and 8 Months' '4 Years and 9 Months'\n",
      " '4 Years and 10 Months' '4 Years and 11 Months' '5 Years and 0 Months'\n",
      " '32 Years and 8 Months' '33 Years and 2 Months' '33 Years and 3 Months'\n",
      " '12 Years and 2 Months' '32 Years and 4 Months' '29 Years and 11 Months'\n",
      " '30 Years and 0 Months' '30 Years and 2 Months' '26 Years and 3 Months'\n",
      " '26 Years and 4 Months' '26 Years and 5 Months' '7 Years and 6 Months'\n",
      " '7 Years and 7 Months' '7 Years and 8 Months' '7 Years and 9 Months'\n",
      " '28 Years and 7 Months' '28 Years and 8 Months' '28 Years and 9 Months'\n",
      " '28 Years and 10 Months' '29 Years and 5 Months' '29 Years and 7 Months'\n",
      " '20 Years and 2 Months' '20 Years and 3 Months' '20 Years and 4 Months'\n",
      " '20 Years and 5 Months' '20 Years and 6 Months' '20 Years and 7 Months'\n",
      " '28 Years and 11 Months' '29 Years and 0 Months' '13 Years and 10 Months'\n",
      " '1 Years and 9 Months' '1 Years and 10 Months' '1 Years and 11 Months'\n",
      " '33 Years and 5 Months' '33 Years and 6 Months' '33 Years and 7 Months'\n",
      " '33 Years and 8 Months' '29 Years and 1 Months' '5 Years and 1 Months'\n",
      " '5 Years and 10 Months' '5 Years and 11 Months' '6 Years and 0 Months'\n",
      " '6 Years and 1 Months' '6 Years and 2 Months' '6 Years and 3 Months'\n",
      " '22 Years and 9 Months' '22 Years and 10 Months' '23 Years and 1 Months'\n",
      " '22 Years and 2 Months' '15 Years and 4 Months' '15 Years and 5 Months'\n",
      " '15 Years and 6 Months' '15 Years and 7 Months' '15 Years and 8 Months'\n",
      " '15 Years and 9 Months' '15 Years and 10 Months' '15 Years and 11 Months'\n",
      " '2 Years and 3 Months' '2 Years and 4 Months' '2 Years and 5 Months'\n",
      " '2 Years and 6 Months' '2 Years and 7 Months' '2 Years and 8 Months'\n",
      " '2 Years and 9 Months' '2 Years and 10 Months' '2 Years and 0 Months'\n",
      " '16 Years and 2 Months' '16 Years and 3 Months' '22 Years and 8 Months'\n",
      " '9 Years and 5 Months' '9 Years and 7 Months' '9 Years and 8 Months'\n",
      " '9 Years and 9 Months' '11 Years and 11 Months' '12 Years and 0 Months'\n",
      " '12 Years and 1 Months' '24 Years and 2 Months' '16 Years and 0 Months'\n",
      " '16 Years and 1 Months' '14 Years and 7 Months' '25 Years and 4 Months'\n",
      " '15 Years and 3 Months' '7 Years and 1 Months' '7 Years and 2 Months'\n",
      " '7 Years and 3 Months' '7 Years and 4 Months' '7 Years and 5 Months'\n",
      " '23 Years and 7 Months' '23 Years and 8 Months' '23 Years and 9 Months'\n",
      " '30 Years and 1 Months' '29 Years and 10 Months' '9 Years and 10 Months'\n",
      " '9 Years and 11 Months' '10 Years and 0 Months' '2 Years and 2 Months'\n",
      " '23 Years and 10 Months' '23 Years and 11 Months' '24 Years and 0 Months'\n",
      " '24 Years and 1 Months' '6 Years and 4 Months' '0 Years and 1 Months'\n",
      " '0 Years and 2 Months' '0 Years and 3 Months' '0 Years and 7 Months'\n",
      " '3 Years and 8 Months' '32 Years and 7 Months' '3 Years and 7 Months'\n",
      " '3 Years and 9 Months' '3 Years and 10 Months' '0 Years and 11 Months'\n",
      " '1 Years and 0 Months' '1 Years and 1 Months' '4 Years and 4 Months'\n",
      " '3 Years and 11 Months' '4 Years and 0 Months' '4 Years and 1 Months'\n",
      " '4 Years and 2 Months' '4 Years and 3 Months' '2 Years and 1 Months']\n",
      "\n",
      "\n",
      "Valores únicos no atributo 'Payment_of_Min_Amount':\n",
      "['No' 'NM' 'Yes']\n",
      "\n",
      "\n",
      "Valores únicos no atributo 'Total_EMI_per_month':\n",
      "[4.95749492e+01 1.88162146e+01 2.46992319e+02 ... 1.21120000e+04\n",
      " 3.51040226e+01 5.86380000e+04]\n",
      "\n",
      "\n",
      "Valores únicos no atributo 'Amount_invested_monthly':\n",
      "[ 80.41529544 118.28022162  81.69952126 ...  24.02847745 251.6725822\n",
      " 167.16386516]\n",
      "\n",
      "\n",
      "Valores únicos no atributo 'Payment_Behaviour':\n",
      "['High_spent_Small_value_payments' 'Low_spent_Large_value_payments'\n",
      " 'Low_spent_Medium_value_payments' 'Low_spent_Small_value_payments'\n",
      " 'High_spent_Medium_value_payments' '!@9#%8'\n",
      " 'High_spent_Large_value_payments']\n",
      "\n",
      "\n",
      "Valores únicos no atributo 'Monthly_Balance':\n",
      "[312.49408868 284.6291625  331.20986285 ... 516.80908327 319.16497853\n",
      " 393.67369556]\n",
      "\n",
      "\n"
     ]
    }
   ],
   "source": [
    "atributos = [\n",
    "    'Changed_Credit_Limit', 'Num_Credit_Inquiries', 'Credit_Mix',\n",
    "    'Credit_History_Age',\n",
    "    'Payment_of_Min_Amount', 'Total_EMI_per_month', 'Amount_invested_monthly',\n",
    "    'Payment_Behaviour', 'Monthly_Balance'\n",
    "]\n",
    "\n",
    "for atributo in atributos:\n",
    "    unique_values = df_treinamento[atributo].unique()\n",
    "    print(f\"Valores únicos no atributo '{atributo}':\")\n",
    "    print(unique_values)\n",
    "    print(\"\\n\")\n",
    "    "
   ]
  },
  {
   "cell_type": "code",
   "execution_count": 12,
   "id": "5f50da94",
   "metadata": {
    "execution": {
     "iopub.execute_input": "2024-11-12T17:18:08.768241Z",
     "iopub.status.busy": "2024-11-12T17:18:08.768241Z",
     "iopub.status.idle": "2024-11-12T17:18:08.798425Z",
     "shell.execute_reply": "2024-11-12T17:18:08.798425Z"
    },
    "papermill": {
     "duration": 0.051191,
     "end_time": "2024-11-12T17:18:08.799429",
     "exception": false,
     "start_time": "2024-11-12T17:18:08.748238",
     "status": "completed"
    },
    "tags": []
   },
   "outputs": [
    {
     "name": "stdout",
     "output_type": "stream",
     "text": [
      "Valores únicos no atributo 'Changed_Credit_Limit':\n",
      "[11.27   nan  6.27 ... 17.51 25.16 21.17]\n",
      "\n",
      "\n",
      "Valores únicos no atributo 'Num_Credit_Inquiries':\n",
      "[   4.    2.    3. ... 1361.  310.   74.]\n",
      "\n",
      "\n",
      "Valores únicos no atributo 'Credit_Mix':\n",
      "[nan 'Good' 'Standard' 'Bad']\n",
      "\n",
      "\n",
      "Valores únicos no atributo 'Credit_History_Age':\n",
      "['22 Years and 1 Months' nan '22 Years and 3 Months'\n",
      " '22 Years and 4 Months' '22 Years and 5 Months' '22 Years and 6 Months'\n",
      " '22 Years and 7 Months' '26 Years and 7 Months' '26 Years and 8 Months'\n",
      " '26 Years and 9 Months' '26 Years and 10 Months' '26 Years and 11 Months'\n",
      " '27 Years and 0 Months' '27 Years and 1 Months' '27 Years and 2 Months'\n",
      " '17 Years and 9 Months' '17 Years and 10 Months' '17 Years and 11 Months'\n",
      " '18 Years and 1 Months' '18 Years and 2 Months' '18 Years and 3 Months'\n",
      " '18 Years and 4 Months' '17 Years and 3 Months' '17 Years and 4 Months'\n",
      " '17 Years and 5 Months' '17 Years and 6 Months' '17 Years and 7 Months'\n",
      " '17 Years and 8 Months' '30 Years and 8 Months' '30 Years and 9 Months'\n",
      " '30 Years and 10 Months' '30 Years and 11 Months' '31 Years and 0 Months'\n",
      " '31 Years and 1 Months' '31 Years and 2 Months' '31 Years and 3 Months'\n",
      " '32 Years and 0 Months' '32 Years and 2 Months' '32 Years and 3 Months'\n",
      " '32 Years and 5 Months' '32 Years and 6 Months' '30 Years and 7 Months'\n",
      " '14 Years and 8 Months' '14 Years and 9 Months' '14 Years and 10 Months'\n",
      " '14 Years and 11 Months' '15 Years and 0 Months' '15 Years and 1 Months'\n",
      " '15 Years and 2 Months' '21 Years and 4 Months' '21 Years and 5 Months'\n",
      " '21 Years and 6 Months' '21 Years and 7 Months' '21 Years and 8 Months'\n",
      " '21 Years and 9 Months' '21 Years and 10 Months' '21 Years and 11 Months'\n",
      " '26 Years and 6 Months' '19 Years and 2 Months' '19 Years and 3 Months'\n",
      " '19 Years and 4 Months' '19 Years and 5 Months' '19 Years and 6 Months'\n",
      " '19 Years and 7 Months' '19 Years and 8 Months' '25 Years and 5 Months'\n",
      " '25 Years and 6 Months' '25 Years and 7 Months' '25 Years and 8 Months'\n",
      " '25 Years and 9 Months' '25 Years and 10 Months' '25 Years and 11 Months'\n",
      " '26 Years and 0 Months' '27 Years and 3 Months' '27 Years and 4 Months'\n",
      " '27 Years and 5 Months' '8 Years and 11 Months' '9 Years and 0 Months'\n",
      " '9 Years and 1 Months' '9 Years and 2 Months' '9 Years and 3 Months'\n",
      " '9 Years and 4 Months' '9 Years and 6 Months' '18 Years and 5 Months'\n",
      " '18 Years and 6 Months' '18 Years and 8 Months' '18 Years and 9 Months'\n",
      " '16 Years and 10 Months' '16 Years and 11 Months' '17 Years and 0 Months'\n",
      " '17 Years and 1 Months' '17 Years and 2 Months' '29 Years and 2 Months'\n",
      " '29 Years and 3 Months' '29 Years and 4 Months' '29 Years and 6 Months'\n",
      " '29 Years and 8 Months' '29 Years and 9 Months' '6 Years and 5 Months'\n",
      " '6 Years and 6 Months' '6 Years and 7 Months' '6 Years and 8 Months'\n",
      " '6 Years and 9 Months' '6 Years and 10 Months' '6 Years and 11 Months'\n",
      " '7 Years and 0 Months' '27 Years and 6 Months' '27 Years and 7 Months'\n",
      " '27 Years and 8 Months' '27 Years and 9 Months' '18 Years and 7 Months'\n",
      " '19 Years and 9 Months' '19 Years and 10 Months' '10 Years and 1 Months'\n",
      " '10 Years and 2 Months' '10 Years and 3 Months' '10 Years and 4 Months'\n",
      " '10 Years and 5 Months' '10 Years and 6 Months' '10 Years and 7 Months'\n",
      " '10 Years and 8 Months' '32 Years and 9 Months' '32 Years and 10 Months'\n",
      " '32 Years and 11 Months' '33 Years and 0 Months' '33 Years and 1 Months'\n",
      " '33 Years and 4 Months' '12 Years and 3 Months' '12 Years and 4 Months'\n",
      " '12 Years and 5 Months' '12 Years and 6 Months' '12 Years and 7 Months'\n",
      " '12 Years and 8 Months' '12 Years and 10 Months' '12 Years and 9 Months'\n",
      " '13 Years and 8 Months' '13 Years and 11 Months' '14 Years and 0 Months'\n",
      " '14 Years and 1 Months' '14 Years and 2 Months' '14 Years and 3 Months'\n",
      " '30 Years and 3 Months' '30 Years and 4 Months' '30 Years and 5 Months'\n",
      " '30 Years and 6 Months' '8 Years and 9 Months' '8 Years and 10 Months'\n",
      " '18 Years and 10 Months' '18 Years and 11 Months' '19 Years and 0 Months'\n",
      " '19 Years and 1 Months' '8 Years and 8 Months' '13 Years and 1 Months'\n",
      " '13 Years and 2 Months' '13 Years and 3 Months' '13 Years and 5 Months'\n",
      " '13 Years and 6 Months' '13 Years and 7 Months' '22 Years and 0 Months'\n",
      " '26 Years and 1 Months' '26 Years and 2 Months' '13 Years and 4 Months'\n",
      " '13 Years and 9 Months' '27 Years and 11 Months' '28 Years and 0 Months'\n",
      " '28 Years and 1 Months' '28 Years and 2 Months' '28 Years and 3 Months'\n",
      " '28 Years and 4 Months' '28 Years and 5 Months' '28 Years and 6 Months'\n",
      " '7 Years and 10 Months' '7 Years and 11 Months' '8 Years and 0 Months'\n",
      " '8 Years and 1 Months' '8 Years and 2 Months' '8 Years and 3 Months'\n",
      " '8 Years and 4 Months' '8 Years and 5 Months' '24 Years and 3 Months'\n",
      " '24 Years and 4 Months' '24 Years and 5 Months' '24 Years and 6 Months'\n",
      " '24 Years and 7 Months' '24 Years and 8 Months' '24 Years and 9 Months'\n",
      " '1 Years and 2 Months' '1 Years and 3 Months' '1 Years and 4 Months'\n",
      " '1 Years and 5 Months' '1 Years and 6 Months' '1 Years and 7 Months'\n",
      " '1 Years and 8 Months' '10 Years and 11 Months' '11 Years and 0 Months'\n",
      " '11 Years and 1 Months' '11 Years and 2 Months' '11 Years and 3 Months'\n",
      " '11 Years and 4 Months' '11 Years and 5 Months' '11 Years and 6 Months'\n",
      " '19 Years and 11 Months' '20 Years and 0 Months' '20 Years and 1 Months'\n",
      " '10 Years and 9 Months' '10 Years and 10 Months' '14 Years and 4 Months'\n",
      " '14 Years and 5 Months' '14 Years and 6 Months' '20 Years and 8 Months'\n",
      " '20 Years and 9 Months' '20 Years and 10 Months' '20 Years and 11 Months'\n",
      " '21 Years and 0 Months' '21 Years and 1 Months' '21 Years and 2 Months'\n",
      " '21 Years and 3 Months' '0 Years and 4 Months' '0 Years and 5 Months'\n",
      " '0 Years and 6 Months' '0 Years and 8 Months' '0 Years and 9 Months'\n",
      " '0 Years and 10 Months' '31 Years and 7 Months' '31 Years and 8 Months'\n",
      " '31 Years and 9 Months' '31 Years and 10 Months' '31 Years and 11 Months'\n",
      " '32 Years and 1 Months' '12 Years and 11 Months' '13 Years and 0 Months'\n",
      " '27 Years and 10 Months' '11 Years and 7 Months' '11 Years and 8 Months'\n",
      " '11 Years and 9 Months' '11 Years and 10 Months' '24 Years and 10 Months'\n",
      " '24 Years and 11 Months' '25 Years and 0 Months' '25 Years and 1 Months'\n",
      " '25 Years and 2 Months' '25 Years and 3 Months' '18 Years and 0 Months'\n",
      " '31 Years and 4 Months' '31 Years and 5 Months' '31 Years and 6 Months'\n",
      " '5 Years and 2 Months' '5 Years and 3 Months' '5 Years and 4 Months'\n",
      " '5 Years and 5 Months' '5 Years and 6 Months' '5 Years and 7 Months'\n",
      " '5 Years and 8 Months' '5 Years and 9 Months' '2 Years and 11 Months'\n",
      " '3 Years and 0 Months' '3 Years and 1 Months' '3 Years and 2 Months'\n",
      " '3 Years and 3 Months' '3 Years and 4 Months' '3 Years and 5 Months'\n",
      " '3 Years and 6 Months' '16 Years and 4 Months' '16 Years and 5 Months'\n",
      " '16 Years and 6 Months' '16 Years and 7 Months' '16 Years and 8 Months'\n",
      " '16 Years and 9 Months' '22 Years and 11 Months' '23 Years and 0 Months'\n",
      " '23 Years and 2 Months' '23 Years and 3 Months' '23 Years and 4 Months'\n",
      " '23 Years and 5 Months' '23 Years and 6 Months' '8 Years and 6 Months'\n",
      " '8 Years and 7 Months' '4 Years and 5 Months' '4 Years and 6 Months'\n",
      " '4 Years and 7 Months' '4 Years and 8 Months' '4 Years and 9 Months'\n",
      " '4 Years and 10 Months' '4 Years and 11 Months' '5 Years and 0 Months'\n",
      " '32 Years and 8 Months' '33 Years and 2 Months' '33 Years and 3 Months'\n",
      " '12 Years and 2 Months' '32 Years and 4 Months' '29 Years and 11 Months'\n",
      " '30 Years and 0 Months' '30 Years and 2 Months' '26 Years and 3 Months'\n",
      " '26 Years and 4 Months' '26 Years and 5 Months' '7 Years and 6 Months'\n",
      " '7 Years and 7 Months' '7 Years and 8 Months' '7 Years and 9 Months'\n",
      " '28 Years and 7 Months' '28 Years and 8 Months' '28 Years and 9 Months'\n",
      " '28 Years and 10 Months' '29 Years and 5 Months' '29 Years and 7 Months'\n",
      " '20 Years and 2 Months' '20 Years and 3 Months' '20 Years and 4 Months'\n",
      " '20 Years and 5 Months' '20 Years and 6 Months' '20 Years and 7 Months'\n",
      " '28 Years and 11 Months' '29 Years and 0 Months' '13 Years and 10 Months'\n",
      " '1 Years and 9 Months' '1 Years and 10 Months' '1 Years and 11 Months'\n",
      " '33 Years and 5 Months' '33 Years and 6 Months' '33 Years and 7 Months'\n",
      " '33 Years and 8 Months' '29 Years and 1 Months' '5 Years and 1 Months'\n",
      " '5 Years and 10 Months' '5 Years and 11 Months' '6 Years and 0 Months'\n",
      " '6 Years and 1 Months' '6 Years and 2 Months' '6 Years and 3 Months'\n",
      " '22 Years and 9 Months' '22 Years and 10 Months' '23 Years and 1 Months'\n",
      " '22 Years and 2 Months' '15 Years and 4 Months' '15 Years and 5 Months'\n",
      " '15 Years and 6 Months' '15 Years and 7 Months' '15 Years and 8 Months'\n",
      " '15 Years and 9 Months' '15 Years and 10 Months' '15 Years and 11 Months'\n",
      " '2 Years and 3 Months' '2 Years and 4 Months' '2 Years and 5 Months'\n",
      " '2 Years and 6 Months' '2 Years and 7 Months' '2 Years and 8 Months'\n",
      " '2 Years and 9 Months' '2 Years and 10 Months' '2 Years and 0 Months'\n",
      " '16 Years and 2 Months' '16 Years and 3 Months' '22 Years and 8 Months'\n",
      " '9 Years and 5 Months' '9 Years and 7 Months' '9 Years and 8 Months'\n",
      " '9 Years and 9 Months' '11 Years and 11 Months' '12 Years and 0 Months'\n",
      " '12 Years and 1 Months' '24 Years and 2 Months' '16 Years and 0 Months'\n",
      " '16 Years and 1 Months' '14 Years and 7 Months' '25 Years and 4 Months'\n",
      " '15 Years and 3 Months' '7 Years and 1 Months' '7 Years and 2 Months'\n",
      " '7 Years and 3 Months' '7 Years and 4 Months' '7 Years and 5 Months'\n",
      " '23 Years and 7 Months' '23 Years and 8 Months' '23 Years and 9 Months'\n",
      " '30 Years and 1 Months' '29 Years and 10 Months' '9 Years and 10 Months'\n",
      " '9 Years and 11 Months' '10 Years and 0 Months' '2 Years and 2 Months'\n",
      " '23 Years and 10 Months' '23 Years and 11 Months' '24 Years and 0 Months'\n",
      " '24 Years and 1 Months' '6 Years and 4 Months' '0 Years and 1 Months'\n",
      " '0 Years and 2 Months' '0 Years and 3 Months' '0 Years and 7 Months'\n",
      " '3 Years and 8 Months' '32 Years and 7 Months' '3 Years and 7 Months'\n",
      " '3 Years and 9 Months' '3 Years and 10 Months' '0 Years and 11 Months'\n",
      " '1 Years and 0 Months' '1 Years and 1 Months' '4 Years and 4 Months'\n",
      " '3 Years and 11 Months' '4 Years and 0 Months' '4 Years and 1 Months'\n",
      " '4 Years and 2 Months' '4 Years and 3 Months' '2 Years and 1 Months']\n",
      "\n",
      "\n",
      "Valores únicos no atributo 'Payment_of_Min_Amount':\n",
      "['No' 'NM' 'Yes']\n",
      "\n",
      "\n",
      "Valores únicos no atributo 'Total_EMI_per_month':\n",
      "[4.95749492e+01 1.88162146e+01 2.46992319e+02 ... 1.21120000e+04\n",
      " 3.51040226e+01 5.86380000e+04]\n",
      "\n",
      "\n",
      "Valores únicos no atributo 'Amount_invested_monthly':\n",
      "[ 80.41529544 118.28022162  81.69952126 ...  24.02847745 251.6725822\n",
      " 167.16386516]\n",
      "\n",
      "\n",
      "Valores únicos no atributo 'Payment_Behaviour':\n",
      "['High_spent_Small_value_payments' 'Low_spent_Large_value_payments'\n",
      " 'Low_spent_Medium_value_payments' 'Low_spent_Small_value_payments'\n",
      " 'High_spent_Medium_value_payments' '!@9#%8'\n",
      " 'High_spent_Large_value_payments']\n",
      "\n",
      "\n",
      "Valores únicos no atributo 'Monthly_Balance':\n",
      "[312.49408868 284.6291625  331.20986285 ... 516.80908327 319.16497853\n",
      " 393.67369556]\n",
      "\n",
      "\n"
     ]
    }
   ],
   "source": [
    "atributos = [\n",
    "    'Changed_Credit_Limit', 'Num_Credit_Inquiries', 'Credit_Mix',\n",
    "    'Credit_History_Age',\n",
    "    'Payment_of_Min_Amount', 'Total_EMI_per_month', 'Amount_invested_monthly',\n",
    "    'Payment_Behaviour', 'Monthly_Balance'\n",
    "]\n",
    "\n",
    "for atributo in atributos:\n",
    "    unique_values = df_teste[atributo].unique()\n",
    "    print(f\"Valores únicos no atributo '{atributo}':\")\n",
    "    print(unique_values)\n",
    "    print(\"\\n\")\n",
    "    "
   ]
  },
  {
   "cell_type": "code",
   "execution_count": 13,
   "id": "ee3d31130769b0c8",
   "metadata": {
    "ExecuteTime": {
     "end_time": "2024-10-29T00:48:37.897308Z",
     "start_time": "2024-10-29T00:48:37.804249Z"
    },
    "execution": {
     "iopub.execute_input": "2024-11-12T17:18:08.824943Z",
     "iopub.status.busy": "2024-11-12T17:18:08.824943Z",
     "iopub.status.idle": "2024-11-12T17:18:08.910711Z",
     "shell.execute_reply": "2024-11-12T17:18:08.910711Z"
    },
    "papermill": {
     "duration": 0.102796,
     "end_time": "2024-11-12T17:18:08.912226",
     "exception": false,
     "start_time": "2024-11-12T17:18:08.809430",
     "status": "completed"
    },
    "tags": []
   },
   "outputs": [],
   "source": [
    "df_treinamento['Credit_History_Age'] = df_treinamento['Credit_History_Age'].str[:2]\n",
    "df_treinamento['Credit_History_Age'] = df_treinamento['Credit_History_Age'].str.replace(' ', '')\n",
    "\n",
    "df_treinamento['Credit_History_Age'] = pd.to_numeric(df_treinamento['Credit_History_Age'], errors='coerce')\n",
    "df_treinamento['Credit_History_Age'] = df_treinamento['Credit_History_Age'].astype('Int64')"
   ]
  },
  {
   "cell_type": "code",
   "execution_count": 14,
   "id": "b0fc7952",
   "metadata": {
    "execution": {
     "iopub.execute_input": "2024-11-12T17:18:08.938232Z",
     "iopub.status.busy": "2024-11-12T17:18:08.938232Z",
     "iopub.status.idle": "2024-11-12T17:18:09.023425Z",
     "shell.execute_reply": "2024-11-12T17:18:09.023425Z"
    },
    "papermill": {
     "duration": 0.103198,
     "end_time": "2024-11-12T17:18:09.024430",
     "exception": false,
     "start_time": "2024-11-12T17:18:08.921232",
     "status": "completed"
    },
    "tags": []
   },
   "outputs": [],
   "source": [
    "df_teste['Credit_History_Age'] = df_teste['Credit_History_Age'].str[:2]\n",
    "df_teste['Credit_History_Age'] = df_teste['Credit_History_Age'].str.replace(' ', '')\n",
    "\n",
    "df_teste['Credit_History_Age'] = pd.to_numeric(df_teste['Credit_History_Age'], errors='coerce')\n",
    "df_teste['Credit_History_Age'] = df_teste['Credit_History_Age'].astype('Int64')"
   ]
  },
  {
   "cell_type": "markdown",
   "id": "6430c5cff15afcfa",
   "metadata": {
    "papermill": {
     "duration": 0.015998,
     "end_time": "2024-11-12T17:18:09.051431",
     "exception": false,
     "start_time": "2024-11-12T17:18:09.035433",
     "status": "completed"
    },
    "tags": []
   },
   "source": [
    "#### Payment_of_Min_Amount"
   ]
  },
  {
   "cell_type": "code",
   "execution_count": 15,
   "id": "af4bf8a364cde21c",
   "metadata": {
    "ExecuteTime": {
     "end_time": "2024-10-29T00:48:37.942512Z",
     "start_time": "2024-10-29T00:48:37.933916Z"
    },
    "execution": {
     "iopub.execute_input": "2024-11-12T17:18:09.084431Z",
     "iopub.status.busy": "2024-11-12T17:18:09.083431Z",
     "iopub.status.idle": "2024-11-12T17:18:09.092367Z",
     "shell.execute_reply": "2024-11-12T17:18:09.092367Z"
    },
    "papermill": {
     "duration": 0.026943,
     "end_time": "2024-11-12T17:18:09.094374",
     "exception": false,
     "start_time": "2024-11-12T17:18:09.067431",
     "status": "completed"
    },
    "tags": []
   },
   "outputs": [],
   "source": [
    "df_treinamento['Payment_of_Min_Amount'] = df_treinamento['Payment_of_Min_Amount'].replace('NM', np.nan)"
   ]
  },
  {
   "cell_type": "code",
   "execution_count": 16,
   "id": "6a864c6e",
   "metadata": {
    "execution": {
     "iopub.execute_input": "2024-11-12T17:18:09.120889Z",
     "iopub.status.busy": "2024-11-12T17:18:09.120889Z",
     "iopub.status.idle": "2024-11-12T17:18:09.130150Z",
     "shell.execute_reply": "2024-11-12T17:18:09.130150Z"
    },
    "papermill": {
     "duration": 0.027779,
     "end_time": "2024-11-12T17:18:09.131156",
     "exception": false,
     "start_time": "2024-11-12T17:18:09.103377",
     "status": "completed"
    },
    "tags": []
   },
   "outputs": [],
   "source": [
    "df_teste['Payment_of_Min_Amount'] = df_teste['Payment_of_Min_Amount'].replace('NM', np.nan)"
   ]
  },
  {
   "cell_type": "markdown",
   "id": "39d2662f502a3bfb",
   "metadata": {
    "papermill": {
     "duration": 0.018004,
     "end_time": "2024-11-12T17:18:09.160159",
     "exception": false,
     "start_time": "2024-11-12T17:18:09.142155",
     "status": "completed"
    },
    "tags": []
   },
   "source": [
    "### Salvando Dados"
   ]
  },
  {
   "cell_type": "code",
   "execution_count": 17,
   "id": "5c6b792deccb4e6e",
   "metadata": {
    "ExecuteTime": {
     "end_time": "2024-10-29T00:48:39.190413Z",
     "start_time": "2024-10-29T00:48:37.979692Z"
    },
    "execution": {
     "iopub.execute_input": "2024-11-12T17:18:09.204095Z",
     "iopub.status.busy": "2024-11-12T17:18:09.204095Z",
     "iopub.status.idle": "2024-11-12T17:18:11.351648Z",
     "shell.execute_reply": "2024-11-12T17:18:11.351648Z"
    },
    "papermill": {
     "duration": 2.168393,
     "end_time": "2024-11-12T17:18:11.353657",
     "exception": false,
     "start_time": "2024-11-12T17:18:09.185264",
     "status": "completed"
    },
    "tags": []
   },
   "outputs": [],
   "source": [
    "df_treinamento.to_csv('../arquivos_csv/treinamento2.csv', index=False)\n",
    "df_teste.to_csv('../arquivos_csv/teste2.csv', index=False)\n"
   ]
  }
 ],
 "metadata": {
  "kernelspec": {
   "display_name": "meu_ambiente",
   "language": "python",
   "name": "python3"
  },
  "language_info": {
   "codemirror_mode": {
    "name": "ipython",
    "version": 3
   },
   "file_extension": ".py",
   "mimetype": "text/x-python",
   "name": "python",
   "nbconvert_exporter": "python",
   "pygments_lexer": "ipython3",
   "version": "3.12.7"
  },
  "papermill": {
   "default_parameters": {},
   "duration": 6.844392,
   "end_time": "2024-11-12T17:18:11.688664",
   "environment_variables": {},
   "exception": null,
   "input_path": "..\\pre_processamento\\6changed_credit_limit.ipynb",
   "output_path": "..\\pre_processamento\\6changed_credit_limit.ipynb",
   "parameters": {},
   "start_time": "2024-11-12T17:18:04.844272",
   "version": "2.6.0"
  }
 },
 "nbformat": 4,
 "nbformat_minor": 5
}