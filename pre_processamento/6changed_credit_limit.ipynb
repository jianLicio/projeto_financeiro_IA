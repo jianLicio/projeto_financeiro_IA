{
 "cells": [
  {
   "cell_type": "code",
   "execution_count": 1,
   "id": "initial_id",
   "metadata": {
    "ExecuteTime": {
     "end_time": "2024-10-29T00:48:36.673917Z",
     "start_time": "2024-10-29T00:48:36.119071Z"
    },
    "collapsed": true,
    "execution": {
     "iopub.execute_input": "2024-11-15T12:51:16.131234Z",
     "iopub.status.busy": "2024-11-15T12:51:16.131234Z",
     "iopub.status.idle": "2024-11-15T12:51:17.399879Z",
     "shell.execute_reply": "2024-11-15T12:51:17.399879Z"
    },
    "papermill": {
     "duration": 1.279655,
     "end_time": "2024-11-15T12:51:17.400887",
     "exception": false,
     "start_time": "2024-11-15T12:51:16.121232",
     "status": "completed"
    },
    "tags": []
   },
   "outputs": [],
   "source": [
    "import pandas as pd\n",
    "import numpy as np\n",
    "\n",
    "df_treinamento = pd.read_csv('../arquivos_csv/treinamento2.csv', low_memory=False)\n",
    "df_teste = pd.read_csv('../arquivos_csv/teste2.csv', low_memory=False)"
   ]
  },
  {
   "cell_type": "markdown",
   "id": "ee74b3476d6f5b42",
   "metadata": {
    "papermill": {
     "duration": 0.014,
     "end_time": "2024-11-15T12:51:17.424884",
     "exception": false,
     "start_time": "2024-11-15T12:51:17.410884",
     "status": "completed"
    },
    "tags": []
   },
   "source": [
    "### Remover underscore"
   ]
  },
  {
   "cell_type": "code",
   "execution_count": 2,
   "id": "558fb77662720a20",
   "metadata": {
    "ExecuteTime": {
     "end_time": "2024-10-29T00:48:37.202093Z",
     "start_time": "2024-10-29T00:48:36.738914Z"
    },
    "execution": {
     "iopub.execute_input": "2024-11-15T12:51:17.454894Z",
     "iopub.status.busy": "2024-11-15T12:51:17.453893Z",
     "iopub.status.idle": "2024-11-15T12:51:17.916840Z",
     "shell.execute_reply": "2024-11-15T12:51:17.916840Z"
    },
    "papermill": {
     "duration": 0.47996,
     "end_time": "2024-11-15T12:51:17.918846",
     "exception": false,
     "start_time": "2024-11-15T12:51:17.438886",
     "status": "completed"
    },
    "tags": []
   },
   "outputs": [],
   "source": [
    "atributos = [\n",
    "    'Changed_Credit_Limit', 'Num_Credit_Inquiries', \n",
    "    'Outstanding_Debt', 'Credit_Utilization_Ratio', \n",
    "    'Total_EMI_per_month', 'Amount_invested_monthly', \n",
    "    'Monthly_Balance'\n",
    "]\n",
    "\n",
    "for atributo in atributos:\n",
    "    df_treinamento[atributo] = df_treinamento[atributo].astype(str).str.replace('_', '', regex=False)\n",
    "    df_treinamento[atributo] = pd.to_numeric(df_treinamento[atributo], errors='coerce')"
   ]
  },
  {
   "cell_type": "code",
   "execution_count": 3,
   "id": "976c2cfd",
   "metadata": {
    "execution": {
     "iopub.execute_input": "2024-11-15T12:51:17.941845Z",
     "iopub.status.busy": "2024-11-15T12:51:17.941845Z",
     "iopub.status.idle": "2024-11-15T12:51:18.393344Z",
     "shell.execute_reply": "2024-11-15T12:51:18.393344Z"
    },
    "papermill": {
     "duration": 0.466507,
     "end_time": "2024-11-15T12:51:18.394354",
     "exception": false,
     "start_time": "2024-11-15T12:51:17.927847",
     "status": "completed"
    },
    "tags": []
   },
   "outputs": [],
   "source": [
    "atributos = [\n",
    "    'Changed_Credit_Limit', 'Num_Credit_Inquiries', \n",
    "    'Outstanding_Debt', 'Credit_Utilization_Ratio', \n",
    "    'Total_EMI_per_month', 'Amount_invested_monthly', \n",
    "    'Monthly_Balance'\n",
    "]\n",
    "\n",
    "for atributo in atributos:\n",
    "    df_teste[atributo] = df_teste[atributo].astype(str).str.replace('_', '', regex=False)\n",
    "    df_teste[atributo] = pd.to_numeric(df_teste[atributo], errors='coerce')"
   ]
  },
  {
   "cell_type": "markdown",
   "id": "ee1a11541541e637",
   "metadata": {
    "papermill": {
     "duration": 0.014999,
     "end_time": "2024-11-15T12:51:18.418352",
     "exception": false,
     "start_time": "2024-11-15T12:51:18.403353",
     "status": "completed"
    },
    "tags": []
   },
   "source": [
    "#### Valores unicos para atributos"
   ]
  },
  {
   "cell_type": "code",
   "execution_count": 4,
   "id": "ded7d920709a288f",
   "metadata": {
    "ExecuteTime": {
     "end_time": "2024-10-29T00:48:37.252556Z",
     "start_time": "2024-10-29T00:48:37.207101Z"
    },
    "execution": {
     "iopub.execute_input": "2024-11-15T12:51:18.452359Z",
     "iopub.status.busy": "2024-11-15T12:51:18.451356Z",
     "iopub.status.idle": "2024-11-15T12:51:18.489452Z",
     "shell.execute_reply": "2024-11-15T12:51:18.489452Z"
    },
    "papermill": {
     "duration": 0.058105,
     "end_time": "2024-11-15T12:51:18.490456",
     "exception": false,
     "start_time": "2024-11-15T12:51:18.432351",
     "status": "completed"
    },
    "tags": []
   },
   "outputs": [
    {
     "name": "stdout",
     "output_type": "stream",
     "text": [
      "Valores únicos no atributo 'Changed_Credit_Limit':\n",
      "[11.27   nan  6.27 ... 17.51 25.16 21.17]\n",
      "\n",
      "\n",
      "Valores únicos no atributo 'Num_Credit_Inquiries':\n",
      "[   4.    2.    3. ... 1361.  310.   74.]\n",
      "\n",
      "\n",
      "Valores únicos no atributo 'Credit_Mix':\n",
      "['_' 'Good' 'Standard' 'Bad']\n",
      "\n",
      "\n",
      "Valores únicos no atributo 'Outstanding_Debt':\n",
      "[ 809.98  605.03 1303.01 ...  620.64 3571.7   502.38]\n",
      "\n",
      "\n",
      "Valores únicos no atributo 'Credit_Utilization_Ratio':\n",
      "[26.82261962 31.94496006 28.60935202 ... 41.25552226 33.63820798\n",
      " 34.19246265]\n",
      "\n",
      "\n",
      "Valores únicos no atributo 'Credit_History_Age':\n",
      "['22 Years and 1 Months' nan '22 Years and 3 Months'\n",
      " '22 Years and 4 Months' '22 Years and 5 Months' '22 Years and 6 Months'\n",
      " '22 Years and 7 Months' '26 Years and 7 Months' '26 Years and 8 Months'\n",
      " '26 Years and 9 Months' '26 Years and 10 Months' '26 Years and 11 Months'\n",
      " '27 Years and 0 Months' '27 Years and 1 Months' '27 Years and 2 Months'\n",
      " '17 Years and 9 Months' '17 Years and 10 Months' '17 Years and 11 Months'\n",
      " '18 Years and 1 Months' '18 Years and 2 Months' '18 Years and 3 Months'\n",
      " '18 Years and 4 Months' '17 Years and 3 Months' '17 Years and 4 Months'\n",
      " '17 Years and 5 Months' '17 Years and 6 Months' '17 Years and 7 Months'\n",
      " '17 Years and 8 Months' '30 Years and 8 Months' '30 Years and 9 Months'\n",
      " '30 Years and 10 Months' '30 Years and 11 Months' '31 Years and 0 Months'\n",
      " '31 Years and 1 Months' '31 Years and 2 Months' '31 Years and 3 Months'\n",
      " '32 Years and 0 Months' '32 Years and 2 Months' '32 Years and 3 Months'\n",
      " '32 Years and 5 Months' '32 Years and 6 Months' '30 Years and 7 Months'\n",
      " '14 Years and 8 Months' '14 Years and 9 Months' '14 Years and 10 Months'\n",
      " '14 Years and 11 Months' '15 Years and 0 Months' '15 Years and 1 Months'\n",
      " '15 Years and 2 Months' '21 Years and 4 Months' '21 Years and 5 Months'\n",
      " '21 Years and 6 Months' '21 Years and 7 Months' '21 Years and 8 Months'\n",
      " '21 Years and 9 Months' '21 Years and 10 Months' '21 Years and 11 Months'\n",
      " '26 Years and 6 Months' '19 Years and 2 Months' '19 Years and 3 Months'\n",
      " '19 Years and 4 Months' '19 Years and 5 Months' '19 Years and 6 Months'\n",
      " '19 Years and 7 Months' '19 Years and 8 Months' '25 Years and 5 Months'\n",
      " '25 Years and 6 Months' '25 Years and 7 Months' '25 Years and 8 Months'\n",
      " '25 Years and 9 Months' '25 Years and 10 Months' '25 Years and 11 Months'\n",
      " '26 Years and 0 Months' '27 Years and 3 Months' '27 Years and 4 Months'\n",
      " '27 Years and 5 Months' '8 Years and 11 Months' '9 Years and 0 Months'\n",
      " '9 Years and 1 Months' '9 Years and 2 Months' '9 Years and 3 Months'\n",
      " '9 Years and 4 Months' '9 Years and 6 Months' '18 Years and 5 Months'\n",
      " '18 Years and 6 Months' '18 Years and 8 Months' '18 Years and 9 Months'\n",
      " '16 Years and 10 Months' '16 Years and 11 Months' '17 Years and 0 Months'\n",
      " '17 Years and 1 Months' '17 Years and 2 Months' '29 Years and 2 Months'\n",
      " '29 Years and 3 Months' '29 Years and 4 Months' '29 Years and 6 Months'\n",
      " '29 Years and 8 Months' '29 Years and 9 Months' '6 Years and 5 Months'\n",
      " '6 Years and 6 Months' '6 Years and 7 Months' '6 Years and 8 Months'\n",
      " '6 Years and 9 Months' '6 Years and 10 Months' '6 Years and 11 Months'\n",
      " '7 Years and 0 Months' '27 Years and 6 Months' '27 Years and 7 Months'\n",
      " '27 Years and 8 Months' '27 Years and 9 Months' '18 Years and 7 Months'\n",
      " '19 Years and 9 Months' '19 Years and 10 Months' '10 Years and 1 Months'\n",
      " '10 Years and 2 Months' '10 Years and 3 Months' '10 Years and 4 Months'\n",
      " '10 Years and 5 Months' '10 Years and 6 Months' '10 Years and 7 Months'\n",
      " '10 Years and 8 Months' '32 Years and 9 Months' '32 Years and 10 Months'\n",
      " '32 Years and 11 Months' '33 Years and 0 Months' '33 Years and 1 Months'\n",
      " '33 Years and 4 Months' '12 Years and 3 Months' '12 Years and 4 Months'\n",
      " '12 Years and 5 Months' '12 Years and 6 Months' '12 Years and 7 Months'\n",
      " '12 Years and 8 Months' '12 Years and 10 Months' '12 Years and 9 Months'\n",
      " '13 Years and 8 Months' '13 Years and 11 Months' '14 Years and 0 Months'\n",
      " '14 Years and 1 Months' '14 Years and 2 Months' '14 Years and 3 Months'\n",
      " '30 Years and 3 Months' '30 Years and 4 Months' '30 Years and 5 Months'\n",
      " '30 Years and 6 Months' '8 Years and 9 Months' '8 Years and 10 Months'\n",
      " '18 Years and 10 Months' '18 Years and 11 Months' '19 Years and 0 Months'\n",
      " '19 Years and 1 Months' '8 Years and 8 Months' '13 Years and 1 Months'\n",
      " '13 Years and 2 Months' '13 Years and 3 Months' '13 Years and 5 Months'\n",
      " '13 Years and 6 Months' '13 Years and 7 Months' '22 Years and 0 Months'\n",
      " '26 Years and 1 Months' '26 Years and 2 Months' '13 Years and 4 Months'\n",
      " '13 Years and 9 Months' '27 Years and 11 Months' '28 Years and 0 Months'\n",
      " '28 Years and 1 Months' '28 Years and 2 Months' '28 Years and 3 Months'\n",
      " '28 Years and 4 Months' '28 Years and 5 Months' '28 Years and 6 Months'\n",
      " '7 Years and 10 Months' '7 Years and 11 Months' '8 Years and 0 Months'\n",
      " '8 Years and 1 Months' '8 Years and 2 Months' '8 Years and 3 Months'\n",
      " '8 Years and 4 Months' '8 Years and 5 Months' '24 Years and 3 Months'\n",
      " '24 Years and 4 Months' '24 Years and 5 Months' '24 Years and 6 Months'\n",
      " '24 Years and 7 Months' '24 Years and 8 Months' '24 Years and 9 Months'\n",
      " '1 Years and 2 Months' '1 Years and 3 Months' '1 Years and 4 Months'\n",
      " '1 Years and 5 Months' '1 Years and 6 Months' '1 Years and 7 Months'\n",
      " '1 Years and 8 Months' '10 Years and 11 Months' '11 Years and 0 Months'\n",
      " '11 Years and 1 Months' '11 Years and 2 Months' '11 Years and 3 Months'\n",
      " '11 Years and 4 Months' '11 Years and 5 Months' '11 Years and 6 Months'\n",
      " '19 Years and 11 Months' '20 Years and 0 Months' '20 Years and 1 Months'\n",
      " '10 Years and 9 Months' '10 Years and 10 Months' '14 Years and 4 Months'\n",
      " '14 Years and 5 Months' '14 Years and 6 Months' '20 Years and 8 Months'\n",
      " '20 Years and 9 Months' '20 Years and 10 Months' '20 Years and 11 Months'\n",
      " '21 Years and 0 Months' '21 Years and 1 Months' '21 Years and 2 Months'\n",
      " '21 Years and 3 Months' '0 Years and 4 Months' '0 Years and 5 Months'\n",
      " '0 Years and 6 Months' '0 Years and 8 Months' '0 Years and 9 Months'\n",
      " '0 Years and 10 Months' '31 Years and 7 Months' '31 Years and 8 Months'\n",
      " '31 Years and 9 Months' '31 Years and 10 Months' '31 Years and 11 Months'\n",
      " '32 Years and 1 Months' '12 Years and 11 Months' '13 Years and 0 Months'\n",
      " '27 Years and 10 Months' '11 Years and 7 Months' '11 Years and 8 Months'\n",
      " '11 Years and 9 Months' '11 Years and 10 Months' '24 Years and 10 Months'\n",
      " '24 Years and 11 Months' '25 Years and 0 Months' '25 Years and 1 Months'\n",
      " '25 Years and 2 Months' '25 Years and 3 Months' '18 Years and 0 Months'\n",
      " '31 Years and 4 Months' '31 Years and 5 Months' '31 Years and 6 Months'\n",
      " '5 Years and 2 Months' '5 Years and 3 Months' '5 Years and 4 Months'\n",
      " '5 Years and 5 Months' '5 Years and 6 Months' '5 Years and 7 Months'\n",
      " '5 Years and 8 Months' '5 Years and 9 Months' '2 Years and 11 Months'\n",
      " '3 Years and 0 Months' '3 Years and 1 Months' '3 Years and 2 Months'\n",
      " '3 Years and 3 Months' '3 Years and 4 Months' '3 Years and 5 Months'\n",
      " '3 Years and 6 Months' '16 Years and 4 Months' '16 Years and 5 Months'\n",
      " '16 Years and 6 Months' '16 Years and 7 Months' '16 Years and 8 Months'\n",
      " '16 Years and 9 Months' '22 Years and 11 Months' '23 Years and 0 Months'\n",
      " '23 Years and 2 Months' '23 Years and 3 Months' '23 Years and 4 Months'\n",
      " '23 Years and 5 Months' '23 Years and 6 Months' '8 Years and 6 Months'\n",
      " '8 Years and 7 Months' '4 Years and 5 Months' '4 Years and 6 Months'\n",
      " '4 Years and 7 Months' '4 Years and 8 Months' '4 Years and 9 Months'\n",
      " '4 Years and 10 Months' '4 Years and 11 Months' '5 Years and 0 Months'\n",
      " '32 Years and 8 Months' '33 Years and 2 Months' '33 Years and 3 Months'\n",
      " '12 Years and 2 Months' '32 Years and 4 Months' '29 Years and 11 Months'\n",
      " '30 Years and 0 Months' '30 Years and 2 Months' '26 Years and 3 Months'\n",
      " '26 Years and 4 Months' '26 Years and 5 Months' '7 Years and 6 Months'\n",
      " '7 Years and 7 Months' '7 Years and 8 Months' '7 Years and 9 Months'\n",
      " '28 Years and 7 Months' '28 Years and 8 Months' '28 Years and 9 Months'\n",
      " '28 Years and 10 Months' '29 Years and 5 Months' '29 Years and 7 Months'\n",
      " '20 Years and 2 Months' '20 Years and 3 Months' '20 Years and 4 Months'\n",
      " '20 Years and 5 Months' '20 Years and 6 Months' '20 Years and 7 Months'\n",
      " '28 Years and 11 Months' '29 Years and 0 Months' '13 Years and 10 Months'\n",
      " '1 Years and 9 Months' '1 Years and 10 Months' '1 Years and 11 Months'\n",
      " '33 Years and 5 Months' '33 Years and 6 Months' '33 Years and 7 Months'\n",
      " '33 Years and 8 Months' '29 Years and 1 Months' '5 Years and 1 Months'\n",
      " '5 Years and 10 Months' '5 Years and 11 Months' '6 Years and 0 Months'\n",
      " '6 Years and 1 Months' '6 Years and 2 Months' '6 Years and 3 Months'\n",
      " '22 Years and 9 Months' '22 Years and 10 Months' '23 Years and 1 Months'\n",
      " '22 Years and 2 Months' '15 Years and 4 Months' '15 Years and 5 Months'\n",
      " '15 Years and 6 Months' '15 Years and 7 Months' '15 Years and 8 Months'\n",
      " '15 Years and 9 Months' '15 Years and 10 Months' '15 Years and 11 Months'\n",
      " '2 Years and 3 Months' '2 Years and 4 Months' '2 Years and 5 Months'\n",
      " '2 Years and 6 Months' '2 Years and 7 Months' '2 Years and 8 Months'\n",
      " '2 Years and 9 Months' '2 Years and 10 Months' '2 Years and 0 Months'\n",
      " '16 Years and 2 Months' '16 Years and 3 Months' '22 Years and 8 Months'\n",
      " '9 Years and 5 Months' '9 Years and 7 Months' '9 Years and 8 Months'\n",
      " '9 Years and 9 Months' '11 Years and 11 Months' '12 Years and 0 Months'\n",
      " '12 Years and 1 Months' '24 Years and 2 Months' '16 Years and 0 Months'\n",
      " '16 Years and 1 Months' '14 Years and 7 Months' '25 Years and 4 Months'\n",
      " '15 Years and 3 Months' '7 Years and 1 Months' '7 Years and 2 Months'\n",
      " '7 Years and 3 Months' '7 Years and 4 Months' '7 Years and 5 Months'\n",
      " '23 Years and 7 Months' '23 Years and 8 Months' '23 Years and 9 Months'\n",
      " '30 Years and 1 Months' '29 Years and 10 Months' '9 Years and 10 Months'\n",
      " '9 Years and 11 Months' '10 Years and 0 Months' '2 Years and 2 Months'\n",
      " '23 Years and 10 Months' '23 Years and 11 Months' '24 Years and 0 Months'\n",
      " '24 Years and 1 Months' '6 Years and 4 Months' '0 Years and 1 Months'\n",
      " '0 Years and 2 Months' '0 Years and 3 Months' '0 Years and 7 Months'\n",
      " '3 Years and 8 Months' '32 Years and 7 Months' '3 Years and 7 Months'\n",
      " '3 Years and 9 Months' '3 Years and 10 Months' '0 Years and 11 Months'\n",
      " '1 Years and 0 Months' '1 Years and 1 Months' '4 Years and 4 Months'\n",
      " '3 Years and 11 Months' '4 Years and 0 Months' '4 Years and 1 Months'\n",
      " '4 Years and 2 Months' '4 Years and 3 Months' '2 Years and 1 Months']\n",
      "\n",
      "\n",
      "Valores únicos no atributo 'Payment_of_Min_Amount':\n",
      "['No' 'NM' 'Yes']\n",
      "\n",
      "\n",
      "Valores únicos no atributo 'Total_EMI_per_month':\n",
      "[4.95749492e+01 1.88162146e+01 2.46992319e+02 ... 1.21120000e+04\n",
      " 3.51040226e+01 5.86380000e+04]\n",
      "\n",
      "\n",
      "Valores únicos no atributo 'Amount_invested_monthly':\n",
      "[ 80.41529544 118.28022162  81.69952126 ...  24.02847745 251.6725822\n",
      " 167.16386516]\n",
      "\n",
      "\n",
      "Valores únicos no atributo 'Payment_Behaviour':\n",
      "['High_spent_Small_value_payments' 'Low_spent_Large_value_payments'\n",
      " 'Low_spent_Medium_value_payments' 'Low_spent_Small_value_payments'\n",
      " 'High_spent_Medium_value_payments' '!@9#%8'\n",
      " 'High_spent_Large_value_payments']\n",
      "\n",
      "\n",
      "Valores únicos no atributo 'Monthly_Balance':\n",
      "[312.49408868 284.6291625  331.20986285 ... 516.80908327 319.16497853\n",
      " 393.67369556]\n",
      "\n",
      "\n"
     ]
    }
   ],
   "source": [
    "atributos = [\n",
    "    'Changed_Credit_Limit', 'Num_Credit_Inquiries', 'Credit_Mix',\n",
    "    'Outstanding_Debt', 'Credit_Utilization_Ratio', 'Credit_History_Age',\n",
    "    'Payment_of_Min_Amount', 'Total_EMI_per_month', 'Amount_invested_monthly',\n",
    "    'Payment_Behaviour', 'Monthly_Balance'\n",
    "]\n",
    "\n",
    "for atributo in atributos:\n",
    "    unique_values = df_treinamento[atributo].unique()\n",
    "    print(f\"Valores únicos no atributo '{atributo}':\")\n",
    "    print(unique_values)\n",
    "    print(\"\\n\")\n",
    "    "
   ]
  },
  {
   "cell_type": "markdown",
   "id": "a92f92d0b01128a",
   "metadata": {
    "papermill": {
     "duration": 0.015001,
     "end_time": "2024-11-15T12:51:18.513459",
     "exception": false,
     "start_time": "2024-11-15T12:51:18.498458",
     "status": "completed"
    },
    "tags": []
   },
   "source": [
    "#### Credit_Mix: valores com _ receberam valor nulo"
   ]
  },
  {
   "cell_type": "code",
   "execution_count": 5,
   "id": "cb6569ac9953d8b9",
   "metadata": {
    "ExecuteTime": {
     "end_time": "2024-10-29T00:48:37.304871Z",
     "start_time": "2024-10-29T00:48:37.295110Z"
    },
    "execution": {
     "iopub.execute_input": "2024-11-15T12:51:18.541458Z",
     "iopub.status.busy": "2024-11-15T12:51:18.541458Z",
     "iopub.status.idle": "2024-11-15T12:51:18.549597Z",
     "shell.execute_reply": "2024-11-15T12:51:18.549597Z"
    },
    "papermill": {
     "duration": 0.023147,
     "end_time": "2024-11-15T12:51:18.550605",
     "exception": false,
     "start_time": "2024-11-15T12:51:18.527458",
     "status": "completed"
    },
    "tags": []
   },
   "outputs": [],
   "source": [
    "df_treinamento['Credit_Mix'] = df_treinamento['Credit_Mix'].replace('_', np.nan)\n"
   ]
  },
  {
   "cell_type": "code",
   "execution_count": 6,
   "id": "9b3bbe5f",
   "metadata": {
    "execution": {
     "iopub.execute_input": "2024-11-15T12:51:18.576110Z",
     "iopub.status.busy": "2024-11-15T12:51:18.575110Z",
     "iopub.status.idle": "2024-11-15T12:51:18.584281Z",
     "shell.execute_reply": "2024-11-15T12:51:18.584281Z"
    },
    "papermill": {
     "duration": 0.025177,
     "end_time": "2024-11-15T12:51:18.585289",
     "exception": false,
     "start_time": "2024-11-15T12:51:18.560112",
     "status": "completed"
    },
    "tags": []
   },
   "outputs": [],
   "source": [
    "df_teste['Credit_Mix'] = df_teste['Credit_Mix'].replace('_', np.nan)\n"
   ]
  },
  {
   "cell_type": "code",
   "execution_count": 7,
   "id": "7c01f16c02d1a481",
   "metadata": {
    "ExecuteTime": {
     "end_time": "2024-10-29T00:48:37.528828Z",
     "start_time": "2024-10-29T00:48:37.345203Z"
    },
    "execution": {
     "iopub.execute_input": "2024-11-15T12:51:18.611286Z",
     "iopub.status.busy": "2024-11-15T12:51:18.610289Z",
     "iopub.status.idle": "2024-11-15T12:51:18.613508Z",
     "shell.execute_reply": "2024-11-15T12:51:18.613508Z"
    },
    "papermill": {
     "duration": 0.020231,
     "end_time": "2024-11-15T12:51:18.614518",
     "exception": false,
     "start_time": "2024-11-15T12:51:18.594287",
     "status": "completed"
    },
    "tags": []
   },
   "outputs": [],
   "source": [
    "# import matplotlib.pyplot as plt\n",
    "\n",
    "# # Convertendo 'Outstanding_Debt' para numérico e removendo valores nulos\n",
    "# df_treinamento['Outstanding_Debt'] = pd.to_numeric(df_treinamento['Outstanding_Debt'], errors='coerce')\n",
    "# outstanding_debt_clean = df_treinamento['Outstanding_Debt'].dropna()\n",
    "\n",
    "# # Criando o histograma para visualizar a distribuição\n",
    "# plt.figure(figsize=(10, 6))\n",
    "# plt.hist(outstanding_debt_clean, bins=30, edgecolor='black', alpha=0.7)\n",
    "# plt.title('Distribuição de Outstanding Debt')\n",
    "# plt.xlabel('Total da Dívida (Outstanding Debt)')\n",
    "# plt.ylabel('Frequência')\n",
    "# plt.grid(True)\n",
    "\n",
    "# # Exibindo o gráfico\n",
    "# plt.show()"
   ]
  },
  {
   "cell_type": "code",
   "execution_count": 8,
   "id": "b82d3ac75ef5e956",
   "metadata": {
    "ExecuteTime": {
     "end_time": "2024-10-29T00:48:37.624792Z",
     "start_time": "2024-10-29T00:48:37.614639Z"
    },
    "execution": {
     "iopub.execute_input": "2024-11-15T12:51:18.639514Z",
     "iopub.status.busy": "2024-11-15T12:51:18.638514Z",
     "iopub.status.idle": "2024-11-15T12:51:18.641645Z",
     "shell.execute_reply": "2024-11-15T12:51:18.641645Z"
    },
    "papermill": {
     "duration": 0.01914,
     "end_time": "2024-11-15T12:51:18.642652",
     "exception": false,
     "start_time": "2024-11-15T12:51:18.623512",
     "status": "completed"
    },
    "tags": []
   },
   "outputs": [],
   "source": [
    "# bins = [0, 1000, 2000, 3000, df_treinamento['Outstanding_Debt'].max()]\n",
    "# labels = ['Grupo 1: 0-1000', 'Grupo 2: 1000-2000', 'Grupo 3: 2000-3000', 'Grupo 4: >3000']\n",
    "\n",
    "# df_treinamento['grupo_debito'] = pd.cut(df_treinamento['Outstanding_Debt'], bins=bins, labels=labels, include_lowest=True)\n",
    "\n",
    "\n",
    "# valores_unicos_grupo_debito = df_treinamento['grupo_debito'].unique()\n",
    "# print(valores_unicos_grupo_debito)\n"
   ]
  },
  {
   "cell_type": "code",
   "execution_count": 9,
   "id": "28459eb9",
   "metadata": {
    "execution": {
     "iopub.execute_input": "2024-11-15T12:51:18.667169Z",
     "iopub.status.busy": "2024-11-15T12:51:18.666168Z",
     "iopub.status.idle": "2024-11-15T12:51:18.669514Z",
     "shell.execute_reply": "2024-11-15T12:51:18.669514Z"
    },
    "papermill": {
     "duration": 0.017866,
     "end_time": "2024-11-15T12:51:18.670524",
     "exception": false,
     "start_time": "2024-11-15T12:51:18.652658",
     "status": "completed"
    },
    "tags": []
   },
   "outputs": [],
   "source": [
    "# bins = [0, 1000, 2000, 3000, df_teste['Outstanding_Debt'].max()]\n",
    "# labels = ['Grupo 1: 0-1000', 'Grupo 2: 1000-2000', 'Grupo 3: 2000-3000', 'Grupo 4: >3000']\n",
    "\n",
    "# df_teste['grupo_debito'] = pd.cut(df_teste['Outstanding_Debt'], bins=bins, labels=labels, include_lowest=True)\n",
    "\n",
    "\n",
    "# valores_unicos_grupo_debito = df_teste['grupo_debito'].unique()\n",
    "# print(valores_unicos_grupo_debito)\n"
   ]
  },
  {
   "cell_type": "code",
   "execution_count": 10,
   "id": "8784e3e397052749",
   "metadata": {
    "ExecuteTime": {
     "end_time": "2024-10-29T00:48:37.660714Z",
     "start_time": "2024-10-29T00:48:37.637802Z"
    },
    "execution": {
     "iopub.execute_input": "2024-11-15T12:51:18.703521Z",
     "iopub.status.busy": "2024-11-15T12:51:18.703521Z",
     "iopub.status.idle": "2024-11-15T12:51:18.705747Z",
     "shell.execute_reply": "2024-11-15T12:51:18.705747Z"
    },
    "papermill": {
     "duration": 0.018233,
     "end_time": "2024-11-15T12:51:18.706752",
     "exception": false,
     "start_time": "2024-11-15T12:51:18.688519",
     "status": "completed"
    },
    "tags": []
   },
   "outputs": [],
   "source": [
    "# df_treinamento = df_treinamento.drop(columns=['Outstanding_Debt'])\n",
    "# df_teste = df_teste.drop(columns=['Outstanding_Debt'])\n"
   ]
  },
  {
   "cell_type": "code",
   "execution_count": null,
   "id": "241e099a",
   "metadata": {
    "papermill": {
     "duration": 0.01451,
     "end_time": "2024-11-15T12:51:18.764265",
     "exception": false,
     "start_time": "2024-11-15T12:51:18.749755",
     "status": "completed"
    },
    "tags": []
   },
   "outputs": [],
   "source": []
  },
  {
   "cell_type": "code",
   "execution_count": 11,
   "id": "9d5816e01ee09af0",
   "metadata": {
    "ExecuteTime": {
     "end_time": "2024-10-29T00:48:37.732508Z",
     "start_time": "2024-10-29T00:48:37.696596Z"
    },
    "execution": {
     "iopub.execute_input": "2024-11-15T12:51:18.792266Z",
     "iopub.status.busy": "2024-11-15T12:51:18.792266Z",
     "iopub.status.idle": "2024-11-15T12:51:18.820988Z",
     "shell.execute_reply": "2024-11-15T12:51:18.820988Z"
    },
    "papermill": {
     "duration": 0.043733,
     "end_time": "2024-11-15T12:51:18.821998",
     "exception": false,
     "start_time": "2024-11-15T12:51:18.778265",
     "status": "completed"
    },
    "tags": []
   },
   "outputs": [
    {
     "name": "stdout",
     "output_type": "stream",
     "text": [
      "Valores únicos no atributo 'Changed_Credit_Limit':\n",
      "[11.27   nan  6.27 ... 17.51 25.16 21.17]\n",
      "\n",
      "\n",
      "Valores únicos no atributo 'Num_Credit_Inquiries':\n",
      "[   4.    2.    3. ... 1361.  310.   74.]\n",
      "\n",
      "\n",
      "Valores únicos no atributo 'Credit_Mix':\n",
      "[nan 'Good' 'Standard' 'Bad']\n",
      "\n",
      "\n",
      "Valores únicos no atributo 'Credit_History_Age':\n",
      "['22 Years and 1 Months' nan '22 Years and 3 Months'\n",
      " '22 Years and 4 Months' '22 Years and 5 Months' '22 Years and 6 Months'\n",
      " '22 Years and 7 Months' '26 Years and 7 Months' '26 Years and 8 Months'\n",
      " '26 Years and 9 Months' '26 Years and 10 Months' '26 Years and 11 Months'\n",
      " '27 Years and 0 Months' '27 Years and 1 Months' '27 Years and 2 Months'\n",
      " '17 Years and 9 Months' '17 Years and 10 Months' '17 Years and 11 Months'\n",
      " '18 Years and 1 Months' '18 Years and 2 Months' '18 Years and 3 Months'\n",
      " '18 Years and 4 Months' '17 Years and 3 Months' '17 Years and 4 Months'\n",
      " '17 Years and 5 Months' '17 Years and 6 Months' '17 Years and 7 Months'\n",
      " '17 Years and 8 Months' '30 Years and 8 Months' '30 Years and 9 Months'\n",
      " '30 Years and 10 Months' '30 Years and 11 Months' '31 Years and 0 Months'\n",
      " '31 Years and 1 Months' '31 Years and 2 Months' '31 Years and 3 Months'\n",
      " '32 Years and 0 Months' '32 Years and 2 Months' '32 Years and 3 Months'\n",
      " '32 Years and 5 Months' '32 Years and 6 Months' '30 Years and 7 Months'\n",
      " '14 Years and 8 Months' '14 Years and 9 Months' '14 Years and 10 Months'\n",
      " '14 Years and 11 Months' '15 Years and 0 Months' '15 Years and 1 Months'\n",
      " '15 Years and 2 Months' '21 Years and 4 Months' '21 Years and 5 Months'\n",
      " '21 Years and 6 Months' '21 Years and 7 Months' '21 Years and 8 Months'\n",
      " '21 Years and 9 Months' '21 Years and 10 Months' '21 Years and 11 Months'\n",
      " '26 Years and 6 Months' '19 Years and 2 Months' '19 Years and 3 Months'\n",
      " '19 Years and 4 Months' '19 Years and 5 Months' '19 Years and 6 Months'\n",
      " '19 Years and 7 Months' '19 Years and 8 Months' '25 Years and 5 Months'\n",
      " '25 Years and 6 Months' '25 Years and 7 Months' '25 Years and 8 Months'\n",
      " '25 Years and 9 Months' '25 Years and 10 Months' '25 Years and 11 Months'\n",
      " '26 Years and 0 Months' '27 Years and 3 Months' '27 Years and 4 Months'\n",
      " '27 Years and 5 Months' '8 Years and 11 Months' '9 Years and 0 Months'\n",
      " '9 Years and 1 Months' '9 Years and 2 Months' '9 Years and 3 Months'\n",
      " '9 Years and 4 Months' '9 Years and 6 Months' '18 Years and 5 Months'\n",
      " '18 Years and 6 Months' '18 Years and 8 Months' '18 Years and 9 Months'\n",
      " '16 Years and 10 Months' '16 Years and 11 Months' '17 Years and 0 Months'\n",
      " '17 Years and 1 Months' '17 Years and 2 Months' '29 Years and 2 Months'\n",
      " '29 Years and 3 Months' '29 Years and 4 Months' '29 Years and 6 Months'\n",
      " '29 Years and 8 Months' '29 Years and 9 Months' '6 Years and 5 Months'\n",
      " '6 Years and 6 Months' '6 Years and 7 Months' '6 Years and 8 Months'\n",
      " '6 Years and 9 Months' '6 Years and 10 Months' '6 Years and 11 Months'\n",
      " '7 Years and 0 Months' '27 Years and 6 Months' '27 Years and 7 Months'\n",
      " '27 Years and 8 Months' '27 Years and 9 Months' '18 Years and 7 Months'\n",
      " '19 Years and 9 Months' '19 Years and 10 Months' '10 Years and 1 Months'\n",
      " '10 Years and 2 Months' '10 Years and 3 Months' '10 Years and 4 Months'\n",
      " '10 Years and 5 Months' '10 Years and 6 Months' '10 Years and 7 Months'\n",
      " '10 Years and 8 Months' '32 Years and 9 Months' '32 Years and 10 Months'\n",
      " '32 Years and 11 Months' '33 Years and 0 Months' '33 Years and 1 Months'\n",
      " '33 Years and 4 Months' '12 Years and 3 Months' '12 Years and 4 Months'\n",
      " '12 Years and 5 Months' '12 Years and 6 Months' '12 Years and 7 Months'\n",
      " '12 Years and 8 Months' '12 Years and 10 Months' '12 Years and 9 Months'\n",
      " '13 Years and 8 Months' '13 Years and 11 Months' '14 Years and 0 Months'\n",
      " '14 Years and 1 Months' '14 Years and 2 Months' '14 Years and 3 Months'\n",
      " '30 Years and 3 Months' '30 Years and 4 Months' '30 Years and 5 Months'\n",
      " '30 Years and 6 Months' '8 Years and 9 Months' '8 Years and 10 Months'\n",
      " '18 Years and 10 Months' '18 Years and 11 Months' '19 Years and 0 Months'\n",
      " '19 Years and 1 Months' '8 Years and 8 Months' '13 Years and 1 Months'\n",
      " '13 Years and 2 Months' '13 Years and 3 Months' '13 Years and 5 Months'\n",
      " '13 Years and 6 Months' '13 Years and 7 Months' '22 Years and 0 Months'\n",
      " '26 Years and 1 Months' '26 Years and 2 Months' '13 Years and 4 Months'\n",
      " '13 Years and 9 Months' '27 Years and 11 Months' '28 Years and 0 Months'\n",
      " '28 Years and 1 Months' '28 Years and 2 Months' '28 Years and 3 Months'\n",
      " '28 Years and 4 Months' '28 Years and 5 Months' '28 Years and 6 Months'\n",
      " '7 Years and 10 Months' '7 Years and 11 Months' '8 Years and 0 Months'\n",
      " '8 Years and 1 Months' '8 Years and 2 Months' '8 Years and 3 Months'\n",
      " '8 Years and 4 Months' '8 Years and 5 Months' '24 Years and 3 Months'\n",
      " '24 Years and 4 Months' '24 Years and 5 Months' '24 Years and 6 Months'\n",
      " '24 Years and 7 Months' '24 Years and 8 Months' '24 Years and 9 Months'\n",
      " '1 Years and 2 Months' '1 Years and 3 Months' '1 Years and 4 Months'\n",
      " '1 Years and 5 Months' '1 Years and 6 Months' '1 Years and 7 Months'\n",
      " '1 Years and 8 Months' '10 Years and 11 Months' '11 Years and 0 Months'\n",
      " '11 Years and 1 Months' '11 Years and 2 Months' '11 Years and 3 Months'\n",
      " '11 Years and 4 Months' '11 Years and 5 Months' '11 Years and 6 Months'\n",
      " '19 Years and 11 Months' '20 Years and 0 Months' '20 Years and 1 Months'\n",
      " '10 Years and 9 Months' '10 Years and 10 Months' '14 Years and 4 Months'\n",
      " '14 Years and 5 Months' '14 Years and 6 Months' '20 Years and 8 Months'\n",
      " '20 Years and 9 Months' '20 Years and 10 Months' '20 Years and 11 Months'\n",
      " '21 Years and 0 Months' '21 Years and 1 Months' '21 Years and 2 Months'\n",
      " '21 Years and 3 Months' '0 Years and 4 Months' '0 Years and 5 Months'\n",
      " '0 Years and 6 Months' '0 Years and 8 Months' '0 Years and 9 Months'\n",
      " '0 Years and 10 Months' '31 Years and 7 Months' '31 Years and 8 Months'\n",
      " '31 Years and 9 Months' '31 Years and 10 Months' '31 Years and 11 Months'\n",
      " '32 Years and 1 Months' '12 Years and 11 Months' '13 Years and 0 Months'\n",
      " '27 Years and 10 Months' '11 Years and 7 Months' '11 Years and 8 Months'\n",
      " '11 Years and 9 Months' '11 Years and 10 Months' '24 Years and 10 Months'\n",
      " '24 Years and 11 Months' '25 Years and 0 Months' '25 Years and 1 Months'\n",
      " '25 Years and 2 Months' '25 Years and 3 Months' '18 Years and 0 Months'\n",
      " '31 Years and 4 Months' '31 Years and 5 Months' '31 Years and 6 Months'\n",
      " '5 Years and 2 Months' '5 Years and 3 Months' '5 Years and 4 Months'\n",
      " '5 Years and 5 Months' '5 Years and 6 Months' '5 Years and 7 Months'\n",
      " '5 Years and 8 Months' '5 Years and 9 Months' '2 Years and 11 Months'\n",
      " '3 Years and 0 Months' '3 Years and 1 Months' '3 Years and 2 Months'\n",
      " '3 Years and 3 Months' '3 Years and 4 Months' '3 Years and 5 Months'\n",
      " '3 Years and 6 Months' '16 Years and 4 Months' '16 Years and 5 Months'\n",
      " '16 Years and 6 Months' '16 Years and 7 Months' '16 Years and 8 Months'\n",
      " '16 Years and 9 Months' '22 Years and 11 Months' '23 Years and 0 Months'\n",
      " '23 Years and 2 Months' '23 Years and 3 Months' '23 Years and 4 Months'\n",
      " '23 Years and 5 Months' '23 Years and 6 Months' '8 Years and 6 Months'\n",
      " '8 Years and 7 Months' '4 Years and 5 Months' '4 Years and 6 Months'\n",
      " '4 Years and 7 Months' '4 Years and 8 Months' '4 Years and 9 Months'\n",
      " '4 Years and 10 Months' '4 Years and 11 Months' '5 Years and 0 Months'\n",
      " '32 Years and 8 Months' '33 Years and 2 Months' '33 Years and 3 Months'\n",
      " '12 Years and 2 Months' '32 Years and 4 Months' '29 Years and 11 Months'\n",
      " '30 Years and 0 Months' '30 Years and 2 Months' '26 Years and 3 Months'\n",
      " '26 Years and 4 Months' '26 Years and 5 Months' '7 Years and 6 Months'\n",
      " '7 Years and 7 Months' '7 Years and 8 Months' '7 Years and 9 Months'\n",
      " '28 Years and 7 Months' '28 Years and 8 Months' '28 Years and 9 Months'\n",
      " '28 Years and 10 Months' '29 Years and 5 Months' '29 Years and 7 Months'\n",
      " '20 Years and 2 Months' '20 Years and 3 Months' '20 Years and 4 Months'\n",
      " '20 Years and 5 Months' '20 Years and 6 Months' '20 Years and 7 Months'\n",
      " '28 Years and 11 Months' '29 Years and 0 Months' '13 Years and 10 Months'\n",
      " '1 Years and 9 Months' '1 Years and 10 Months' '1 Years and 11 Months'\n",
      " '33 Years and 5 Months' '33 Years and 6 Months' '33 Years and 7 Months'\n",
      " '33 Years and 8 Months' '29 Years and 1 Months' '5 Years and 1 Months'\n",
      " '5 Years and 10 Months' '5 Years and 11 Months' '6 Years and 0 Months'\n",
      " '6 Years and 1 Months' '6 Years and 2 Months' '6 Years and 3 Months'\n",
      " '22 Years and 9 Months' '22 Years and 10 Months' '23 Years and 1 Months'\n",
      " '22 Years and 2 Months' '15 Years and 4 Months' '15 Years and 5 Months'\n",
      " '15 Years and 6 Months' '15 Years and 7 Months' '15 Years and 8 Months'\n",
      " '15 Years and 9 Months' '15 Years and 10 Months' '15 Years and 11 Months'\n",
      " '2 Years and 3 Months' '2 Years and 4 Months' '2 Years and 5 Months'\n",
      " '2 Years and 6 Months' '2 Years and 7 Months' '2 Years and 8 Months'\n",
      " '2 Years and 9 Months' '2 Years and 10 Months' '2 Years and 0 Months'\n",
      " '16 Years and 2 Months' '16 Years and 3 Months' '22 Years and 8 Months'\n",
      " '9 Years and 5 Months' '9 Years and 7 Months' '9 Years and 8 Months'\n",
      " '9 Years and 9 Months' '11 Years and 11 Months' '12 Years and 0 Months'\n",
      " '12 Years and 1 Months' '24 Years and 2 Months' '16 Years and 0 Months'\n",
      " '16 Years and 1 Months' '14 Years and 7 Months' '25 Years and 4 Months'\n",
      " '15 Years and 3 Months' '7 Years and 1 Months' '7 Years and 2 Months'\n",
      " '7 Years and 3 Months' '7 Years and 4 Months' '7 Years and 5 Months'\n",
      " '23 Years and 7 Months' '23 Years and 8 Months' '23 Years and 9 Months'\n",
      " '30 Years and 1 Months' '29 Years and 10 Months' '9 Years and 10 Months'\n",
      " '9 Years and 11 Months' '10 Years and 0 Months' '2 Years and 2 Months'\n",
      " '23 Years and 10 Months' '23 Years and 11 Months' '24 Years and 0 Months'\n",
      " '24 Years and 1 Months' '6 Years and 4 Months' '0 Years and 1 Months'\n",
      " '0 Years and 2 Months' '0 Years and 3 Months' '0 Years and 7 Months'\n",
      " '3 Years and 8 Months' '32 Years and 7 Months' '3 Years and 7 Months'\n",
      " '3 Years and 9 Months' '3 Years and 10 Months' '0 Years and 11 Months'\n",
      " '1 Years and 0 Months' '1 Years and 1 Months' '4 Years and 4 Months'\n",
      " '3 Years and 11 Months' '4 Years and 0 Months' '4 Years and 1 Months'\n",
      " '4 Years and 2 Months' '4 Years and 3 Months' '2 Years and 1 Months']\n",
      "\n",
      "\n",
      "Valores únicos no atributo 'Payment_of_Min_Amount':\n",
      "['No' 'NM' 'Yes']\n",
      "\n",
      "\n",
      "Valores únicos no atributo 'Total_EMI_per_month':\n",
      "[4.95749492e+01 1.88162146e+01 2.46992319e+02 ... 1.21120000e+04\n",
      " 3.51040226e+01 5.86380000e+04]\n",
      "\n",
      "\n",
      "Valores únicos no atributo 'Amount_invested_monthly':\n",
      "[ 80.41529544 118.28022162  81.69952126 ...  24.02847745 251.6725822\n",
      " 167.16386516]\n",
      "\n",
      "\n",
      "Valores únicos no atributo 'Payment_Behaviour':\n",
      "['High_spent_Small_value_payments' 'Low_spent_Large_value_payments'\n",
      " 'Low_spent_Medium_value_payments' 'Low_spent_Small_value_payments'\n",
      " 'High_spent_Medium_value_payments' '!@9#%8'\n",
      " 'High_spent_Large_value_payments']\n",
      "\n",
      "\n",
      "Valores únicos no atributo 'Monthly_Balance':\n",
      "[312.49408868 284.6291625  331.20986285 ... 516.80908327 319.16497853\n",
      " 393.67369556]\n",
      "\n",
      "\n"
     ]
    }
   ],
   "source": [
    "atributos = [\n",
    "    'Changed_Credit_Limit', 'Num_Credit_Inquiries', 'Credit_Mix',\n",
    "    'Credit_History_Age',\n",
    "    'Payment_of_Min_Amount', 'Total_EMI_per_month', 'Amount_invested_monthly',\n",
    "    'Payment_Behaviour', 'Monthly_Balance'\n",
    "]\n",
    "\n",
    "for atributo in atributos:\n",
    "    unique_values = df_treinamento[atributo].unique()\n",
    "    print(f\"Valores únicos no atributo '{atributo}':\")\n",
    "    print(unique_values)\n",
    "    print(\"\\n\")\n",
    "    "
   ]
  },
  {
   "cell_type": "code",
   "execution_count": 12,
   "id": "5f50da94",
   "metadata": {
    "execution": {
     "iopub.execute_input": "2024-11-15T12:51:18.853000Z",
     "iopub.status.busy": "2024-11-15T12:51:18.853000Z",
     "iopub.status.idle": "2024-11-15T12:51:18.885152Z",
     "shell.execute_reply": "2024-11-15T12:51:18.885152Z"
    },
    "papermill": {
     "duration": 0.049166,
     "end_time": "2024-11-15T12:51:18.886160",
     "exception": false,
     "start_time": "2024-11-15T12:51:18.836994",
     "status": "completed"
    },
    "tags": []
   },
   "outputs": [
    {
     "name": "stdout",
     "output_type": "stream",
     "text": [
      "Valores únicos no atributo 'Changed_Credit_Limit':\n",
      "[11.27   nan  6.27 ... 17.51 25.16 21.17]\n",
      "\n",
      "\n",
      "Valores únicos no atributo 'Num_Credit_Inquiries':\n",
      "[   4.    2.    3. ... 1361.  310.   74.]\n",
      "\n",
      "\n",
      "Valores únicos no atributo 'Credit_Mix':\n",
      "[nan 'Good' 'Standard' 'Bad']\n",
      "\n",
      "\n",
      "Valores únicos no atributo 'Credit_History_Age':\n",
      "['22 Years and 1 Months' nan '22 Years and 3 Months'\n",
      " '22 Years and 4 Months' '22 Years and 5 Months' '22 Years and 6 Months'\n",
      " '22 Years and 7 Months' '26 Years and 7 Months' '26 Years and 8 Months'\n",
      " '26 Years and 9 Months' '26 Years and 10 Months' '26 Years and 11 Months'\n",
      " '27 Years and 0 Months' '27 Years and 1 Months' '27 Years and 2 Months'\n",
      " '17 Years and 9 Months' '17 Years and 10 Months' '17 Years and 11 Months'\n",
      " '18 Years and 1 Months' '18 Years and 2 Months' '18 Years and 3 Months'\n",
      " '18 Years and 4 Months' '17 Years and 3 Months' '17 Years and 4 Months'\n",
      " '17 Years and 5 Months' '17 Years and 6 Months' '17 Years and 7 Months'\n",
      " '17 Years and 8 Months' '30 Years and 8 Months' '30 Years and 9 Months'\n",
      " '30 Years and 10 Months' '30 Years and 11 Months' '31 Years and 0 Months'\n",
      " '31 Years and 1 Months' '31 Years and 2 Months' '31 Years and 3 Months'\n",
      " '32 Years and 0 Months' '32 Years and 2 Months' '32 Years and 3 Months'\n",
      " '32 Years and 5 Months' '32 Years and 6 Months' '30 Years and 7 Months'\n",
      " '14 Years and 8 Months' '14 Years and 9 Months' '14 Years and 10 Months'\n",
      " '14 Years and 11 Months' '15 Years and 0 Months' '15 Years and 1 Months'\n",
      " '15 Years and 2 Months' '21 Years and 4 Months' '21 Years and 5 Months'\n",
      " '21 Years and 6 Months' '21 Years and 7 Months' '21 Years and 8 Months'\n",
      " '21 Years and 9 Months' '21 Years and 10 Months' '21 Years and 11 Months'\n",
      " '26 Years and 6 Months' '19 Years and 2 Months' '19 Years and 3 Months'\n",
      " '19 Years and 4 Months' '19 Years and 5 Months' '19 Years and 6 Months'\n",
      " '19 Years and 7 Months' '19 Years and 8 Months' '25 Years and 5 Months'\n",
      " '25 Years and 6 Months' '25 Years and 7 Months' '25 Years and 8 Months'\n",
      " '25 Years and 9 Months' '25 Years and 10 Months' '25 Years and 11 Months'\n",
      " '26 Years and 0 Months' '27 Years and 3 Months' '27 Years and 4 Months'\n",
      " '27 Years and 5 Months' '8 Years and 11 Months' '9 Years and 0 Months'\n",
      " '9 Years and 1 Months' '9 Years and 2 Months' '9 Years and 3 Months'\n",
      " '9 Years and 4 Months' '9 Years and 6 Months' '18 Years and 5 Months'\n",
      " '18 Years and 6 Months' '18 Years and 8 Months' '18 Years and 9 Months'\n",
      " '16 Years and 10 Months' '16 Years and 11 Months' '17 Years and 0 Months'\n",
      " '17 Years and 1 Months' '17 Years and 2 Months' '29 Years and 2 Months'\n",
      " '29 Years and 3 Months' '29 Years and 4 Months' '29 Years and 6 Months'\n",
      " '29 Years and 8 Months' '29 Years and 9 Months' '6 Years and 5 Months'\n",
      " '6 Years and 6 Months' '6 Years and 7 Months' '6 Years and 8 Months'\n",
      " '6 Years and 9 Months' '6 Years and 10 Months' '6 Years and 11 Months'\n",
      " '7 Years and 0 Months' '27 Years and 6 Months' '27 Years and 7 Months'\n",
      " '27 Years and 8 Months' '27 Years and 9 Months' '18 Years and 7 Months'\n",
      " '19 Years and 9 Months' '19 Years and 10 Months' '10 Years and 1 Months'\n",
      " '10 Years and 2 Months' '10 Years and 3 Months' '10 Years and 4 Months'\n",
      " '10 Years and 5 Months' '10 Years and 6 Months' '10 Years and 7 Months'\n",
      " '10 Years and 8 Months' '32 Years and 9 Months' '32 Years and 10 Months'\n",
      " '32 Years and 11 Months' '33 Years and 0 Months' '33 Years and 1 Months'\n",
      " '33 Years and 4 Months' '12 Years and 3 Months' '12 Years and 4 Months'\n",
      " '12 Years and 5 Months' '12 Years and 6 Months' '12 Years and 7 Months'\n",
      " '12 Years and 8 Months' '12 Years and 10 Months' '12 Years and 9 Months'\n",
      " '13 Years and 8 Months' '13 Years and 11 Months' '14 Years and 0 Months'\n",
      " '14 Years and 1 Months' '14 Years and 2 Months' '14 Years and 3 Months'\n",
      " '30 Years and 3 Months' '30 Years and 4 Months' '30 Years and 5 Months'\n",
      " '30 Years and 6 Months' '8 Years and 9 Months' '8 Years and 10 Months'\n",
      " '18 Years and 10 Months' '18 Years and 11 Months' '19 Years and 0 Months'\n",
      " '19 Years and 1 Months' '8 Years and 8 Months' '13 Years and 1 Months'\n",
      " '13 Years and 2 Months' '13 Years and 3 Months' '13 Years and 5 Months'\n",
      " '13 Years and 6 Months' '13 Years and 7 Months' '22 Years and 0 Months'\n",
      " '26 Years and 1 Months' '26 Years and 2 Months' '13 Years and 4 Months'\n",
      " '13 Years and 9 Months' '27 Years and 11 Months' '28 Years and 0 Months'\n",
      " '28 Years and 1 Months' '28 Years and 2 Months' '28 Years and 3 Months'\n",
      " '28 Years and 4 Months' '28 Years and 5 Months' '28 Years and 6 Months'\n",
      " '7 Years and 10 Months' '7 Years and 11 Months' '8 Years and 0 Months'\n",
      " '8 Years and 1 Months' '8 Years and 2 Months' '8 Years and 3 Months'\n",
      " '8 Years and 4 Months' '8 Years and 5 Months' '24 Years and 3 Months'\n",
      " '24 Years and 4 Months' '24 Years and 5 Months' '24 Years and 6 Months'\n",
      " '24 Years and 7 Months' '24 Years and 8 Months' '24 Years and 9 Months'\n",
      " '1 Years and 2 Months' '1 Years and 3 Months' '1 Years and 4 Months'\n",
      " '1 Years and 5 Months' '1 Years and 6 Months' '1 Years and 7 Months'\n",
      " '1 Years and 8 Months' '10 Years and 11 Months' '11 Years and 0 Months'\n",
      " '11 Years and 1 Months' '11 Years and 2 Months' '11 Years and 3 Months'\n",
      " '11 Years and 4 Months' '11 Years and 5 Months' '11 Years and 6 Months'\n",
      " '19 Years and 11 Months' '20 Years and 0 Months' '20 Years and 1 Months'\n",
      " '10 Years and 9 Months' '10 Years and 10 Months' '14 Years and 4 Months'\n",
      " '14 Years and 5 Months' '14 Years and 6 Months' '20 Years and 8 Months'\n",
      " '20 Years and 9 Months' '20 Years and 10 Months' '20 Years and 11 Months'\n",
      " '21 Years and 0 Months' '21 Years and 1 Months' '21 Years and 2 Months'\n",
      " '21 Years and 3 Months' '0 Years and 4 Months' '0 Years and 5 Months'\n",
      " '0 Years and 6 Months' '0 Years and 8 Months' '0 Years and 9 Months'\n",
      " '0 Years and 10 Months' '31 Years and 7 Months' '31 Years and 8 Months'\n",
      " '31 Years and 9 Months' '31 Years and 10 Months' '31 Years and 11 Months'\n",
      " '32 Years and 1 Months' '12 Years and 11 Months' '13 Years and 0 Months'\n",
      " '27 Years and 10 Months' '11 Years and 7 Months' '11 Years and 8 Months'\n",
      " '11 Years and 9 Months' '11 Years and 10 Months' '24 Years and 10 Months'\n",
      " '24 Years and 11 Months' '25 Years and 0 Months' '25 Years and 1 Months'\n",
      " '25 Years and 2 Months' '25 Years and 3 Months' '18 Years and 0 Months'\n",
      " '31 Years and 4 Months' '31 Years and 5 Months' '31 Years and 6 Months'\n",
      " '5 Years and 2 Months' '5 Years and 3 Months' '5 Years and 4 Months'\n",
      " '5 Years and 5 Months' '5 Years and 6 Months' '5 Years and 7 Months'\n",
      " '5 Years and 8 Months' '5 Years and 9 Months' '2 Years and 11 Months'\n",
      " '3 Years and 0 Months' '3 Years and 1 Months' '3 Years and 2 Months'\n",
      " '3 Years and 3 Months' '3 Years and 4 Months' '3 Years and 5 Months'\n",
      " '3 Years and 6 Months' '16 Years and 4 Months' '16 Years and 5 Months'\n",
      " '16 Years and 6 Months' '16 Years and 7 Months' '16 Years and 8 Months'\n",
      " '16 Years and 9 Months' '22 Years and 11 Months' '23 Years and 0 Months'\n",
      " '23 Years and 2 Months' '23 Years and 3 Months' '23 Years and 4 Months'\n",
      " '23 Years and 5 Months' '23 Years and 6 Months' '8 Years and 6 Months'\n",
      " '8 Years and 7 Months' '4 Years and 5 Months' '4 Years and 6 Months'\n",
      " '4 Years and 7 Months' '4 Years and 8 Months' '4 Years and 9 Months'\n",
      " '4 Years and 10 Months' '4 Years and 11 Months' '5 Years and 0 Months'\n",
      " '32 Years and 8 Months' '33 Years and 2 Months' '33 Years and 3 Months'\n",
      " '12 Years and 2 Months' '32 Years and 4 Months' '29 Years and 11 Months'\n",
      " '30 Years and 0 Months' '30 Years and 2 Months' '26 Years and 3 Months'\n",
      " '26 Years and 4 Months' '26 Years and 5 Months' '7 Years and 6 Months'\n",
      " '7 Years and 7 Months' '7 Years and 8 Months' '7 Years and 9 Months'\n",
      " '28 Years and 7 Months' '28 Years and 8 Months' '28 Years and 9 Months'\n",
      " '28 Years and 10 Months' '29 Years and 5 Months' '29 Years and 7 Months'\n",
      " '20 Years and 2 Months' '20 Years and 3 Months' '20 Years and 4 Months'\n",
      " '20 Years and 5 Months' '20 Years and 6 Months' '20 Years and 7 Months'\n",
      " '28 Years and 11 Months' '29 Years and 0 Months' '13 Years and 10 Months'\n",
      " '1 Years and 9 Months' '1 Years and 10 Months' '1 Years and 11 Months'\n",
      " '33 Years and 5 Months' '33 Years and 6 Months' '33 Years and 7 Months'\n",
      " '33 Years and 8 Months' '29 Years and 1 Months' '5 Years and 1 Months'\n",
      " '5 Years and 10 Months' '5 Years and 11 Months' '6 Years and 0 Months'\n",
      " '6 Years and 1 Months' '6 Years and 2 Months' '6 Years and 3 Months'\n",
      " '22 Years and 9 Months' '22 Years and 10 Months' '23 Years and 1 Months'\n",
      " '22 Years and 2 Months' '15 Years and 4 Months' '15 Years and 5 Months'\n",
      " '15 Years and 6 Months' '15 Years and 7 Months' '15 Years and 8 Months'\n",
      " '15 Years and 9 Months' '15 Years and 10 Months' '15 Years and 11 Months'\n",
      " '2 Years and 3 Months' '2 Years and 4 Months' '2 Years and 5 Months'\n",
      " '2 Years and 6 Months' '2 Years and 7 Months' '2 Years and 8 Months'\n",
      " '2 Years and 9 Months' '2 Years and 10 Months' '2 Years and 0 Months'\n",
      " '16 Years and 2 Months' '16 Years and 3 Months' '22 Years and 8 Months'\n",
      " '9 Years and 5 Months' '9 Years and 7 Months' '9 Years and 8 Months'\n",
      " '9 Years and 9 Months' '11 Years and 11 Months' '12 Years and 0 Months'\n",
      " '12 Years and 1 Months' '24 Years and 2 Months' '16 Years and 0 Months'\n",
      " '16 Years and 1 Months' '14 Years and 7 Months' '25 Years and 4 Months'\n",
      " '15 Years and 3 Months' '7 Years and 1 Months' '7 Years and 2 Months'\n",
      " '7 Years and 3 Months' '7 Years and 4 Months' '7 Years and 5 Months'\n",
      " '23 Years and 7 Months' '23 Years and 8 Months' '23 Years and 9 Months'\n",
      " '30 Years and 1 Months' '29 Years and 10 Months' '9 Years and 10 Months'\n",
      " '9 Years and 11 Months' '10 Years and 0 Months' '2 Years and 2 Months'\n",
      " '23 Years and 10 Months' '23 Years and 11 Months' '24 Years and 0 Months'\n",
      " '24 Years and 1 Months' '6 Years and 4 Months' '0 Years and 1 Months'\n",
      " '0 Years and 2 Months' '0 Years and 3 Months' '0 Years and 7 Months'\n",
      " '3 Years and 8 Months' '32 Years and 7 Months' '3 Years and 7 Months'\n",
      " '3 Years and 9 Months' '3 Years and 10 Months' '0 Years and 11 Months'\n",
      " '1 Years and 0 Months' '1 Years and 1 Months' '4 Years and 4 Months'\n",
      " '3 Years and 11 Months' '4 Years and 0 Months' '4 Years and 1 Months'\n",
      " '4 Years and 2 Months' '4 Years and 3 Months' '2 Years and 1 Months']\n",
      "\n",
      "\n",
      "Valores únicos no atributo 'Payment_of_Min_Amount':\n",
      "['No' 'NM' 'Yes']\n",
      "\n",
      "\n",
      "Valores únicos no atributo 'Total_EMI_per_month':\n",
      "[4.95749492e+01 1.88162146e+01 2.46992319e+02 ... 1.21120000e+04\n",
      " 3.51040226e+01 5.86380000e+04]\n",
      "\n",
      "\n",
      "Valores únicos no atributo 'Amount_invested_monthly':\n",
      "[ 80.41529544 118.28022162  81.69952126 ...  24.02847745 251.6725822\n",
      " 167.16386516]\n",
      "\n",
      "\n",
      "Valores únicos no atributo 'Payment_Behaviour':\n",
      "['High_spent_Small_value_payments' 'Low_spent_Large_value_payments'\n",
      " 'Low_spent_Medium_value_payments' 'Low_spent_Small_value_payments'\n",
      " 'High_spent_Medium_value_payments' '!@9#%8'\n",
      " 'High_spent_Large_value_payments']\n",
      "\n",
      "\n",
      "Valores únicos no atributo 'Monthly_Balance':\n",
      "[312.49408868 284.6291625  331.20986285 ... 516.80908327 319.16497853\n",
      " 393.67369556]\n",
      "\n",
      "\n"
     ]
    }
   ],
   "source": [
    "atributos = [\n",
    "    'Changed_Credit_Limit', 'Num_Credit_Inquiries', 'Credit_Mix',\n",
    "    'Credit_History_Age',\n",
    "    'Payment_of_Min_Amount', 'Total_EMI_per_month', 'Amount_invested_monthly',\n",
    "    'Payment_Behaviour', 'Monthly_Balance'\n",
    "]\n",
    "\n",
    "for atributo in atributos:\n",
    "    unique_values = df_teste[atributo].unique()\n",
    "    print(f\"Valores únicos no atributo '{atributo}':\")\n",
    "    print(unique_values)\n",
    "    print(\"\\n\")\n",
    "    "
   ]
  },
  {
   "cell_type": "code",
   "execution_count": 13,
   "id": "ee3d31130769b0c8",
   "metadata": {
    "ExecuteTime": {
     "end_time": "2024-10-29T00:48:37.897308Z",
     "start_time": "2024-10-29T00:48:37.804249Z"
    },
    "execution": {
     "iopub.execute_input": "2024-11-15T12:51:18.912159Z",
     "iopub.status.busy": "2024-11-15T12:51:18.912159Z",
     "iopub.status.idle": "2024-11-15T12:51:18.998534Z",
     "shell.execute_reply": "2024-11-15T12:51:18.998534Z"
    },
    "papermill": {
     "duration": 0.10338,
     "end_time": "2024-11-15T12:51:18.999539",
     "exception": false,
     "start_time": "2024-11-15T12:51:18.896159",
     "status": "completed"
    },
    "tags": []
   },
   "outputs": [],
   "source": [
    "df_treinamento['Credit_History_Age'] = df_treinamento['Credit_History_Age'].str[:2]\n",
    "df_treinamento['Credit_History_Age'] = df_treinamento['Credit_History_Age'].str.replace(' ', '')\n",
    "\n",
    "df_treinamento['Credit_History_Age'] = pd.to_numeric(df_treinamento['Credit_History_Age'], errors='coerce')\n",
    "df_treinamento['Credit_History_Age'] = df_treinamento['Credit_History_Age'].astype('Int64')"
   ]
  },
  {
   "cell_type": "code",
   "execution_count": 14,
   "id": "b0fc7952",
   "metadata": {
    "execution": {
     "iopub.execute_input": "2024-11-15T12:51:19.025542Z",
     "iopub.status.busy": "2024-11-15T12:51:19.025542Z",
     "iopub.status.idle": "2024-11-15T12:51:19.115674Z",
     "shell.execute_reply": "2024-11-15T12:51:19.114668Z"
    },
    "papermill": {
     "duration": 0.107138,
     "end_time": "2024-11-15T12:51:19.116679",
     "exception": false,
     "start_time": "2024-11-15T12:51:19.009541",
     "status": "completed"
    },
    "tags": []
   },
   "outputs": [],
   "source": [
    "df_teste['Credit_History_Age'] = df_teste['Credit_History_Age'].str[:2]\n",
    "df_teste['Credit_History_Age'] = df_teste['Credit_History_Age'].str.replace(' ', '')\n",
    "\n",
    "df_teste['Credit_History_Age'] = pd.to_numeric(df_teste['Credit_History_Age'], errors='coerce')\n",
    "df_teste['Credit_History_Age'] = df_teste['Credit_History_Age'].astype('Int64')"
   ]
  },
  {
   "cell_type": "markdown",
   "id": "6430c5cff15afcfa",
   "metadata": {
    "papermill": {
     "duration": 0.018293,
     "end_time": "2024-11-15T12:51:19.151028",
     "exception": false,
     "start_time": "2024-11-15T12:51:19.132735",
     "status": "completed"
    },
    "tags": []
   },
   "source": [
    "#### Payment_of_Min_Amount"
   ]
  },
  {
   "cell_type": "code",
   "execution_count": 15,
   "id": "af4bf8a364cde21c",
   "metadata": {
    "ExecuteTime": {
     "end_time": "2024-10-29T00:48:37.942512Z",
     "start_time": "2024-10-29T00:48:37.933916Z"
    },
    "execution": {
     "iopub.execute_input": "2024-11-15T12:51:19.184210Z",
     "iopub.status.busy": "2024-11-15T12:51:19.183208Z",
     "iopub.status.idle": "2024-11-15T12:51:19.192227Z",
     "shell.execute_reply": "2024-11-15T12:51:19.192227Z"
    },
    "papermill": {
     "duration": 0.026022,
     "end_time": "2024-11-15T12:51:19.194233",
     "exception": false,
     "start_time": "2024-11-15T12:51:19.168211",
     "status": "completed"
    },
    "tags": []
   },
   "outputs": [],
   "source": [
    "df_treinamento['Payment_of_Min_Amount'] = df_treinamento['Payment_of_Min_Amount'].replace('NM', np.nan)"
   ]
  },
  {
   "cell_type": "code",
   "execution_count": 16,
   "id": "6a864c6e",
   "metadata": {
    "execution": {
     "iopub.execute_input": "2024-11-15T12:51:19.221928Z",
     "iopub.status.busy": "2024-11-15T12:51:19.220929Z",
     "iopub.status.idle": "2024-11-15T12:51:19.230032Z",
     "shell.execute_reply": "2024-11-15T12:51:19.230032Z"
    },
    "papermill": {
     "duration": 0.027115,
     "end_time": "2024-11-15T12:51:19.231038",
     "exception": false,
     "start_time": "2024-11-15T12:51:19.203923",
     "status": "completed"
    },
    "tags": []
   },
   "outputs": [],
   "source": [
    "df_teste['Payment_of_Min_Amount'] = df_teste['Payment_of_Min_Amount'].replace('NM', np.nan)"
   ]
  },
  {
   "cell_type": "markdown",
   "id": "39d2662f502a3bfb",
   "metadata": {
    "papermill": {
     "duration": 0.018047,
     "end_time": "2024-11-15T12:51:19.259085",
     "exception": false,
     "start_time": "2024-11-15T12:51:19.241038",
     "status": "completed"
    },
    "tags": []
   },
   "source": [
    "### Salvando Dados"
   ]
  },
  {
   "cell_type": "code",
   "execution_count": 17,
   "id": "5c6b792deccb4e6e",
   "metadata": {
    "ExecuteTime": {
     "end_time": "2024-10-29T00:48:39.190413Z",
     "start_time": "2024-10-29T00:48:37.979692Z"
    },
    "execution": {
     "iopub.execute_input": "2024-11-15T12:51:19.290091Z",
     "iopub.status.busy": "2024-11-15T12:51:19.290091Z",
     "iopub.status.idle": "2024-11-15T12:51:21.390536Z",
     "shell.execute_reply": "2024-11-15T12:51:21.390536Z"
    },
    "papermill": {
     "duration": 2.116451,
     "end_time": "2024-11-15T12:51:21.391543",
     "exception": false,
     "start_time": "2024-11-15T12:51:19.275092",
     "status": "completed"
    },
    "tags": []
   },
   "outputs": [],
   "source": [
    "df_treinamento.to_csv('../arquivos_csv/treinamento2.csv', index=False)\n",
    "df_teste.to_csv('../arquivos_csv/teste2.csv', index=False)\n"
   ]
  }
 ],
 "metadata": {
  "kernelspec": {
   "display_name": "meu_ambiente",
   "language": "python",
   "name": "python3"
  },
  "language_info": {
   "codemirror_mode": {
    "name": "ipython",
    "version": 3
   },
   "file_extension": ".py",
   "mimetype": "text/x-python",
   "name": "python",
   "nbconvert_exporter": "python",
   "pygments_lexer": "ipython3",
   "version": "3.12.7"
  },
  "papermill": {
   "default_parameters": {},
   "duration": 6.848068,
   "end_time": "2024-11-15T12:51:21.717622",
   "environment_variables": {},
   "exception": null,
   "input_path": "..\\pre_processamento\\6changed_credit_limit.ipynb",
   "output_path": "..\\pre_processamento\\6changed_credit_limit.ipynb",
   "parameters": {},
   "start_time": "2024-11-15T12:51:14.869554",
   "version": "2.6.0"
  }
 },
 "nbformat": 4,
 "nbformat_minor": 5
}