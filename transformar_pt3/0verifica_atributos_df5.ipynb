{
 "cells": [
  {
   "cell_type": "code",
   "execution_count": 10,
   "metadata": {},
   "outputs": [],
   "source": [
    "import pandas as pd\n",
    "import numpy as np\n",
    "\n",
    "df_treinamento = pd.read_csv('../arquivos_csv/treinamento5.csv', low_memory=False)\n",
    "df_teste = pd.read_csv('../arquivos_csv/teste5.csv', low_memory=False)\n",
    "df_amostra2 = pd.read_csv('../arquivos_csv/amostraTreinamento2.csv', low_memory=False)\n"
   ]
  },
  {
   "cell_type": "markdown",
   "metadata": {},
   "source": [
    "#### Verifica todas as entidades"
   ]
  },
  {
   "cell_type": "code",
   "execution_count": 11,
   "metadata": {},
   "outputs": [
    {
     "data": {
      "text/plain": [
       "Index(['Credit_Mix', 'Payment_Behaviour', 'dias_atraso', 'divida_restante',\n",
       "       'utiliza_cartao_credito', 'idade', 'alteracao_limite_credito',\n",
       "       'tempo_credito', 'investimento_mensal', 'saldo_mensal', 'Credit_Score'],\n",
       "      dtype='object')"
      ]
     },
     "execution_count": 11,
     "metadata": {},
     "output_type": "execute_result"
    }
   ],
   "source": [
    "df_treinamento.columns\n"
   ]
  },
  {
   "cell_type": "code",
   "execution_count": 12,
   "metadata": {},
   "outputs": [
    {
     "data": {
      "text/plain": [
       "Index(['Credit_Mix', 'Payment_Behaviour', 'dias_atraso', 'divida_restante',\n",
       "       'utiliza_cartao_credito', 'idade', 'alteracao_limite_credito',\n",
       "       'tempo_credito', 'investimento_mensal', 'saldo_mensal'],\n",
       "      dtype='object')"
      ]
     },
     "execution_count": 12,
     "metadata": {},
     "output_type": "execute_result"
    }
   ],
   "source": [
    "df_teste.columns"
   ]
  },
  {
   "cell_type": "code",
   "execution_count": 13,
   "metadata": {},
   "outputs": [
    {
     "data": {
      "text/plain": [
       "Index(['Credit_Mix', 'Payment_of_Min_Amount', 'Payment_Behaviour', 'Auto_Loan',\n",
       "       'Credit-Builder_Loan', 'Debt_Consolidation_Loan', 'Home_Equity_Loan',\n",
       "       'Mortgage_Loan', 'Not_Specified', 'Payday_Loan', 'Personal_Loan',\n",
       "       'Student_Loan', 'dias_atraso', 'divida_restante',\n",
       "       'utiliza_cartao_credito', 'idade', 'alteracao_limite_credito',\n",
       "       'tempo_credito', 'investimento_mensal', 'saldo_mensal', 'Credit_Score'],\n",
       "      dtype='object')"
      ]
     },
     "execution_count": 13,
     "metadata": {},
     "output_type": "execute_result"
    }
   ],
   "source": [
    "df_amostra2.columns"
   ]
  },
  {
   "cell_type": "code",
   "execution_count": 14,
   "metadata": {},
   "outputs": [
    {
     "name": "stdout",
     "output_type": "stream",
     "text": [
      "Valores únicos no atributo 'Credit_Score':\n",
      "['Good' 'Poor' 'Standard']\n",
      "\n",
      "\n"
     ]
    }
   ],
   "source": [
    "atributos = [\n",
    "       'Credit_Score' \n",
    "       ]\n",
    "\n",
    "for atributo in atributos:\n",
    "    unique_values = df_treinamento[atributo].unique()\n",
    "    print(f\"Valores únicos no atributo '{atributo}':\")\n",
    "    print(unique_values)\n",
    "    print(\"\\n\")"
   ]
  },
  {
   "cell_type": "markdown",
   "metadata": {},
   "source": [
    "#### Faz Uma varredura"
   ]
  },
  {
   "cell_type": "code",
   "execution_count": 15,
   "metadata": {},
   "outputs": [],
   "source": [
    "atributos = [\n",
    "        \n",
    "       ]\n",
    "\n",
    "for atributo in atributos:\n",
    "    unique_values = df_treinamento[atributo].unique()\n",
    "    print(f\"Valores únicos no atributo '{atributo}':\")\n",
    "    print(unique_values)\n",
    "    print(\"\\n\")"
   ]
  },
  {
   "cell_type": "code",
   "execution_count": 16,
   "metadata": {},
   "outputs": [],
   "source": [
    "atributos = [\n",
    "       \n",
    "       ]\n",
    "\n",
    "for atributo in atributos:\n",
    "    unique_values = df_teste[atributo].unique()\n",
    "    print(f\"Valores únicos no atributo '{atributo}':\")\n",
    "    print(unique_values)\n",
    "    print(\"\\n\")"
   ]
  },
  {
   "cell_type": "code",
   "execution_count": 17,
   "metadata": {},
   "outputs": [],
   "source": [
    "# df_treinamento['Type_of_Loan'].isnull().sum()\n"
   ]
  },
  {
   "cell_type": "code",
   "execution_count": 18,
   "metadata": {},
   "outputs": [
    {
     "data": {
      "text/html": [
       "<div>\n",
       "<style scoped>\n",
       "    .dataframe tbody tr th:only-of-type {\n",
       "        vertical-align: middle;\n",
       "    }\n",
       "\n",
       "    .dataframe tbody tr th {\n",
       "        vertical-align: top;\n",
       "    }\n",
       "\n",
       "    .dataframe thead th {\n",
       "        text-align: right;\n",
       "    }\n",
       "</style>\n",
       "<table border=\"1\" class=\"dataframe\">\n",
       "  <thead>\n",
       "    <tr style=\"text-align: right;\">\n",
       "      <th></th>\n",
       "      <th>Credit_Mix</th>\n",
       "      <th>Payment_Behaviour</th>\n",
       "      <th>dias_atraso</th>\n",
       "      <th>divida_restante</th>\n",
       "      <th>utiliza_cartao_credito</th>\n",
       "      <th>idade</th>\n",
       "      <th>alteracao_limite_credito</th>\n",
       "      <th>tempo_credito</th>\n",
       "      <th>investimento_mensal</th>\n",
       "      <th>saldo_mensal</th>\n",
       "      <th>Credit_Score</th>\n",
       "    </tr>\n",
       "  </thead>\n",
       "  <tbody>\n",
       "    <tr>\n",
       "      <th>0</th>\n",
       "      <td>2</td>\n",
       "      <td>3.0</td>\n",
       "      <td>1.0</td>\n",
       "      <td>7.0</td>\n",
       "      <td>1.0</td>\n",
       "      <td>1.0</td>\n",
       "      <td>3.0</td>\n",
       "      <td>4.0</td>\n",
       "      <td>3.0</td>\n",
       "      <td>4.0</td>\n",
       "      <td>Good</td>\n",
       "    </tr>\n",
       "    <tr>\n",
       "      <th>1</th>\n",
       "      <td>1</td>\n",
       "      <td>2.0</td>\n",
       "      <td>2.0</td>\n",
       "      <td>6.0</td>\n",
       "      <td>1.0</td>\n",
       "      <td>2.0</td>\n",
       "      <td>3.0</td>\n",
       "      <td>4.0</td>\n",
       "      <td>0.0</td>\n",
       "      <td>0.0</td>\n",
       "      <td>Good</td>\n",
       "    </tr>\n",
       "    <tr>\n",
       "      <th>2</th>\n",
       "      <td>1</td>\n",
       "      <td>4.0</td>\n",
       "      <td>3.0</td>\n",
       "      <td>2.0</td>\n",
       "      <td>1.0</td>\n",
       "      <td>2.0</td>\n",
       "      <td>5.0</td>\n",
       "      <td>5.0</td>\n",
       "      <td>0.0</td>\n",
       "      <td>0.0</td>\n",
       "      <td>Good</td>\n",
       "    </tr>\n",
       "    <tr>\n",
       "      <th>3</th>\n",
       "      <td>2</td>\n",
       "      <td>5.0</td>\n",
       "      <td>1.0</td>\n",
       "      <td>6.0</td>\n",
       "      <td>0.0</td>\n",
       "      <td>1.0</td>\n",
       "      <td>3.0</td>\n",
       "      <td>5.0</td>\n",
       "      <td>0.0</td>\n",
       "      <td>5.0</td>\n",
       "      <td>Good</td>\n",
       "    </tr>\n",
       "    <tr>\n",
       "      <th>4</th>\n",
       "      <td>2</td>\n",
       "      <td>3.0</td>\n",
       "      <td>3.0</td>\n",
       "      <td>2.0</td>\n",
       "      <td>2.0</td>\n",
       "      <td>1.0</td>\n",
       "      <td>3.0</td>\n",
       "      <td>4.0</td>\n",
       "      <td>0.0</td>\n",
       "      <td>0.0</td>\n",
       "      <td>Good</td>\n",
       "    </tr>\n",
       "  </tbody>\n",
       "</table>\n",
       "</div>"
      ],
      "text/plain": [
       "   Credit_Mix  Payment_Behaviour  dias_atraso  divida_restante  \\\n",
       "0           2                3.0          1.0              7.0   \n",
       "1           1                2.0          2.0              6.0   \n",
       "2           1                4.0          3.0              2.0   \n",
       "3           2                5.0          1.0              6.0   \n",
       "4           2                3.0          3.0              2.0   \n",
       "\n",
       "   utiliza_cartao_credito  idade  alteracao_limite_credito  tempo_credito  \\\n",
       "0                     1.0    1.0                       3.0            4.0   \n",
       "1                     1.0    2.0                       3.0            4.0   \n",
       "2                     1.0    2.0                       5.0            5.0   \n",
       "3                     0.0    1.0                       3.0            5.0   \n",
       "4                     2.0    1.0                       3.0            4.0   \n",
       "\n",
       "   investimento_mensal  saldo_mensal Credit_Score  \n",
       "0                  3.0           4.0         Good  \n",
       "1                  0.0           0.0         Good  \n",
       "2                  0.0           0.0         Good  \n",
       "3                  0.0           5.0         Good  \n",
       "4                  0.0           0.0         Good  "
      ]
     },
     "execution_count": 18,
     "metadata": {},
     "output_type": "execute_result"
    }
   ],
   "source": [
    "df_treinamento.head()"
   ]
  }
 ],
 "metadata": {
  "kernelspec": {
   "display_name": "meu_ambiente",
   "language": "python",
   "name": "python3"
  },
  "language_info": {
   "codemirror_mode": {
    "name": "ipython",
    "version": 3
   },
   "file_extension": ".py",
   "mimetype": "text/x-python",
   "name": "python",
   "nbconvert_exporter": "python",
   "pygments_lexer": "ipython3",
   "version": "3.12.7"
  }
 },
 "nbformat": 4,
 "nbformat_minor": 2
}
