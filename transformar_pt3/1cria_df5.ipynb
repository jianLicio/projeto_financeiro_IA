{
 "cells": [
  {
   "cell_type": "code",
   "execution_count": 1,
   "id": "7089cf44",
   "metadata": {
    "execution": {
     "iopub.execute_input": "2024-11-15T22:58:18.715868Z",
     "iopub.status.busy": "2024-11-15T22:58:18.714867Z",
     "iopub.status.idle": "2024-11-15T22:58:19.310297Z",
     "shell.execute_reply": "2024-11-15T22:58:19.310297Z"
    },
    "papermill": {
     "duration": 0.603438,
     "end_time": "2024-11-15T22:58:19.311303",
     "exception": false,
     "start_time": "2024-11-15T22:58:18.707865",
     "status": "completed"
    },
    "tags": []
   },
   "outputs": [],
   "source": [
    "import pandas as pd\n",
    "\n",
    "df_treinamento = pd.read_csv('../arquivos_csv/treinamento4.csv', low_memory=False)\n",
    "df_teste = pd.read_csv('../arquivos_csv/teste4.csv', low_memory=False)"
   ]
  },
  {
   "cell_type": "code",
   "execution_count": 2,
   "id": "c4f9c8da",
   "metadata": {
    "execution": {
     "iopub.execute_input": "2024-11-15T22:58:19.333304Z",
     "iopub.status.busy": "2024-11-15T22:58:19.333304Z",
     "iopub.status.idle": "2024-11-15T22:58:20.194290Z",
     "shell.execute_reply": "2024-11-15T22:58:20.194290Z"
    },
    "papermill": {
     "duration": 0.877995,
     "end_time": "2024-11-15T22:58:20.196297",
     "exception": false,
     "start_time": "2024-11-15T22:58:19.318302",
     "status": "completed"
    },
    "tags": []
   },
   "outputs": [],
   "source": [
    "df_treinamento.to_csv('../arquivos_csv/treinamento5.csv', index=False)\n",
    "df_teste.to_csv('../arquivos_csv/teste5.csv', index=False)"
   ]
  }
 ],
 "metadata": {
  "kernelspec": {
   "display_name": "meu_ambiente",
   "language": "python",
   "name": "python3"
  },
  "language_info": {
   "codemirror_mode": {
    "name": "ipython",
    "version": 3
   },
   "file_extension": ".py",
   "mimetype": "text/x-python",
   "name": "python",
   "nbconvert_exporter": "python",
   "pygments_lexer": "ipython3",
   "version": "3.12.7"
  },
  "papermill": {
   "default_parameters": {},
   "duration": 3.088366,
   "end_time": "2024-11-15T22:58:20.521833",
   "environment_variables": {},
   "exception": null,
   "input_path": "..\\transformar_pt3\\1cria_df5.ipynb",
   "output_path": "..\\transformar_pt3\\1cria_df5.ipynb",
   "parameters": {},
   "start_time": "2024-11-15T22:58:17.433467",
   "version": "2.6.0"
  }
 },
 "nbformat": 4,
 "nbformat_minor": 5
}