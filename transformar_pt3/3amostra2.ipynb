{
 "cells": [
  {
   "cell_type": "code",
   "execution_count": 5,
   "id": "188927df",
   "metadata": {
    "execution": {
     "iopub.execute_input": "2024-11-15T22:58:31.062159Z",
     "iopub.status.busy": "2024-11-15T22:58:31.061164Z",
     "iopub.status.idle": "2024-11-15T22:58:31.664507Z",
     "shell.execute_reply": "2024-11-15T22:58:31.664507Z"
    },
    "papermill": {
     "duration": 0.614356,
     "end_time": "2024-11-15T22:58:31.666513",
     "exception": false,
     "start_time": "2024-11-15T22:58:31.052157",
     "status": "completed"
    },
    "tags": []
   },
   "outputs": [],
   "source": [
    "import pandas as pd\n",
    "\n",
    "df_treinamento = pd.read_csv('../arquivos_csv/treinamento5.csv', low_memory=False)\n",
    "df_teste = pd.read_csv('../arquivos_csv/teste5.csv', low_memory=False)\n"
   ]
  },
  {
   "cell_type": "code",
   "execution_count": 6,
   "id": "3265d85c",
   "metadata": {
    "execution": {
     "iopub.execute_input": "2024-11-15T22:58:31.693027Z",
     "iopub.status.busy": "2024-11-15T22:58:31.693027Z",
     "iopub.status.idle": "2024-11-15T22:58:31.699216Z",
     "shell.execute_reply": "2024-11-15T22:58:31.699216Z"
    },
    "papermill": {
     "duration": 0.026704,
     "end_time": "2024-11-15T22:58:31.700221",
     "exception": false,
     "start_time": "2024-11-15T22:58:31.673517",
     "status": "completed"
    },
    "tags": []
   },
   "outputs": [
    {
     "name": "stdout",
     "output_type": "stream",
     "text": [
      "Credit_Score\n",
      "Good        17707\n",
      "Poor        17707\n",
      "Standard    17707\n",
      "Name: count, dtype: int64\n"
     ]
    }
   ],
   "source": [
    "print(df_treinamento['Credit_Score'].value_counts())\n"
   ]
  },
  {
   "cell_type": "code",
   "execution_count": 7,
   "id": "708da8c9",
   "metadata": {
    "execution": {
     "iopub.execute_input": "2024-11-15T22:58:31.722224Z",
     "iopub.status.busy": "2024-11-15T22:58:31.722224Z",
     "iopub.status.idle": "2024-11-15T22:58:31.745346Z",
     "shell.execute_reply": "2024-11-15T22:58:31.745346Z"
    },
    "papermill": {
     "duration": 0.039129,
     "end_time": "2024-11-15T22:58:31.746351",
     "exception": false,
     "start_time": "2024-11-15T22:58:31.707222",
     "status": "completed"
    },
    "tags": []
   },
   "outputs": [
    {
     "name": "stdout",
     "output_type": "stream",
     "text": [
      "Credit_Score\n",
      "Good        8854\n",
      "Poor        8854\n",
      "Standard    8854\n",
      "Name: count, dtype: int64\n"
     ]
    },
    {
     "name": "stderr",
     "output_type": "stream",
     "text": [
      "C:\\Users\\jian_\\AppData\\Local\\Temp\\ipykernel_13496\\1944099276.py:2: DeprecationWarning: DataFrameGroupBy.apply operated on the grouping columns. This behavior is deprecated, and in a future version of pandas the grouping columns will be excluded from the operation. Either pass `include_groups=False` to exclude the groupings or explicitly select the grouping columns after groupby to silence this warning.\n",
      "  return df.groupby(classe, group_keys=False).apply(lambda x: x.sample(frac=proporcao, random_state=42))\n"
     ]
    }
   ],
   "source": [
    "def amostrar_balanceado(df, classe, proporcao=0.5):\n",
    "        return df.groupby(classe, group_keys=False).apply(lambda x: x.sample(frac=proporcao, random_state=42))\n",
    "\n",
    "df_treinamento_amostra = amostrar_balanceado(df_treinamento, 'Credit_Score', 0.5)\n",
    "# df_teste_amostra = amostrar_balanceado(df_teste, 'Credit_Score', 0.5)\n",
    "\n",
    "print(df_treinamento_amostra['Credit_Score'].value_counts())\n",
    "# print(df_teste_amostra['Credit_Score'].value_counts())\n"
   ]
  },
  {
   "cell_type": "markdown",
   "id": "29f3af15",
   "metadata": {
    "papermill": {
     "duration": 0.015,
     "end_time": "2024-11-15T22:58:31.768351",
     "exception": false,
     "start_time": "2024-11-15T22:58:31.753351",
     "status": "completed"
    },
    "tags": []
   },
   "source": [
    "## Salvar Amostra"
   ]
  },
  {
   "cell_type": "code",
   "execution_count": 8,
   "id": "78d7789d",
   "metadata": {
    "execution": {
     "iopub.execute_input": "2024-11-15T22:58:31.797867Z",
     "iopub.status.busy": "2024-11-15T22:58:31.797867Z",
     "iopub.status.idle": "2024-11-15T22:58:32.106883Z",
     "shell.execute_reply": "2024-11-15T22:58:32.106883Z"
    },
    "papermill": {
     "duration": 0.325534,
     "end_time": "2024-11-15T22:58:32.107891",
     "exception": false,
     "start_time": "2024-11-15T22:58:31.782357",
     "status": "completed"
    },
    "tags": []
   },
   "outputs": [],
   "source": [
    "df_treinamento.to_csv('../arquivos_csv/amostraTreinamento2.csv', index=False)\n",
    "# df_teste.to_csv('../arquivos_csv/amostraTeste2.csv', index=False)\n"
   ]
  }
 ],
 "metadata": {
  "kernelspec": {
   "display_name": "meu_ambiente",
   "language": "python",
   "name": "python3"
  },
  "language_info": {
   "codemirror_mode": {
    "name": "ipython",
    "version": 3
   },
   "file_extension": ".py",
   "mimetype": "text/x-python",
   "name": "python",
   "nbconvert_exporter": "python",
   "pygments_lexer": "ipython3",
   "version": "3.12.7"
  },
  "papermill": {
   "default_parameters": {},
   "duration": 2.646852,
   "end_time": "2024-11-15T22:58:32.436429",
   "environment_variables": {},
   "exception": null,
   "input_path": "..\\transformar_pt3\\3amostra2.ipynb",
   "output_path": "..\\transformar_pt3\\3amostra2.ipynb",
   "parameters": {},
   "start_time": "2024-11-15T22:58:29.789577",
   "version": "2.6.0"
  }
 },
 "nbformat": 4,
 "nbformat_minor": 5
}
