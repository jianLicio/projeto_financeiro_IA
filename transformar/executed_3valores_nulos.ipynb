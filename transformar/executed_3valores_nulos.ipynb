{
 "cells": [
  {
   "cell_type": "code",
   "execution_count": 1,
   "id": "ba31eb9f",
   "metadata": {
    "execution": {
     "iopub.execute_input": "2024-11-12T01:21:11.307939Z",
     "iopub.status.busy": "2024-11-12T01:21:11.306939Z",
     "iopub.status.idle": "2024-11-12T01:21:12.411881Z",
     "shell.execute_reply": "2024-11-12T01:21:12.410869Z"
    },
    "papermill": {
     "duration": 1.115942,
     "end_time": "2024-11-12T01:21:12.414880",
     "exception": false,
     "start_time": "2024-11-12T01:21:11.298938",
     "status": "completed"
    },
    "tags": []
   },
   "outputs": [],
   "source": [
    "import pandas as pd\n",
    "import numpy as np\n",
    "\n",
    "df_treinamento = pd.read_csv('../arquivos_csv/treinamento3.csv', low_memory=False)\n",
    "df_teste = pd.read_csv('../arquivos_csv/teste3.csv', low_memory=False)\n"
   ]
  },
  {
   "cell_type": "markdown",
   "id": "d75a13ec",
   "metadata": {
    "papermill": {
     "duration": 0.016,
     "end_time": "2024-11-12T01:21:12.438883",
     "exception": false,
     "start_time": "2024-11-12T01:21:12.422883",
     "status": "completed"
    },
    "tags": []
   },
   "source": [
    "### Todos os valores nulos receberão o valor -1"
   ]
  },
  {
   "cell_type": "code",
   "execution_count": 2,
   "id": "8deda85f",
   "metadata": {
    "execution": {
     "iopub.execute_input": "2024-11-12T01:21:12.464880Z",
     "iopub.status.busy": "2024-11-12T01:21:12.464880Z",
     "iopub.status.idle": "2024-11-12T01:21:12.552033Z",
     "shell.execute_reply": "2024-11-12T01:21:12.552033Z"
    },
    "papermill": {
     "duration": 0.102163,
     "end_time": "2024-11-12T01:21:12.553040",
     "exception": false,
     "start_time": "2024-11-12T01:21:12.450877",
     "status": "completed"
    },
    "tags": []
   },
   "outputs": [
    {
     "name": "stdout",
     "output_type": "stream",
     "text": [
      "Contagem de valores nulos restantes para treinamento: 0\n",
      "Contagem de valores nulos restantes para teste: 0\n"
     ]
    }
   ],
   "source": [
    "df_treinamento = df_treinamento.fillna(-1)\n",
    "null_counts = df_treinamento.isnull().sum().sum()\n",
    "\n",
    "print(f\"Contagem de valores nulos restantes para treinamento: {null_counts}\")\n",
    "\n",
    "df_teste = df_teste.fillna(-1)\n",
    "null_counts = df_teste.isnull().sum().sum()\n",
    "\n",
    "print(f\"Contagem de valores nulos restantes para teste: {null_counts}\")"
   ]
  },
  {
   "cell_type": "markdown",
   "id": "543499ee",
   "metadata": {
    "papermill": {
     "duration": 0.014001,
     "end_time": "2024-11-12T01:21:12.574039",
     "exception": false,
     "start_time": "2024-11-12T01:21:12.560038",
     "status": "completed"
    },
    "tags": []
   },
   "source": [
    "## Salvar Dados"
   ]
  },
  {
   "cell_type": "code",
   "execution_count": 3,
   "id": "691634dc",
   "metadata": {
    "execution": {
     "iopub.execute_input": "2024-11-12T01:21:12.599048Z",
     "iopub.status.busy": "2024-11-12T01:21:12.599048Z",
     "iopub.status.idle": "2024-11-12T01:21:14.876686Z",
     "shell.execute_reply": "2024-11-12T01:21:14.876686Z"
    },
    "papermill": {
     "duration": 2.292654,
     "end_time": "2024-11-12T01:21:14.877692",
     "exception": false,
     "start_time": "2024-11-12T01:21:12.585038",
     "status": "completed"
    },
    "tags": []
   },
   "outputs": [],
   "source": [
    "df_treinamento.to_csv('../arquivos_csv/treinamento3.csv', index=False)\n",
    "df_teste.to_csv('../arquivos_csv/teste3.csv', index=False)"
   ]
  }
 ],
 "metadata": {
  "kernelspec": {
   "display_name": "meu_ambiente",
   "language": "python",
   "name": "python3"
  },
  "language_info": {
   "codemirror_mode": {
    "name": "ipython",
    "version": 3
   },
   "file_extension": ".py",
   "mimetype": "text/x-python",
   "name": "python",
   "nbconvert_exporter": "python",
   "pygments_lexer": "ipython3",
   "version": "3.12.7"
  },
  "papermill": {
   "default_parameters": {},
   "duration": 5.145445,
   "end_time": "2024-11-12T01:21:15.194228",
   "environment_variables": {},
   "exception": null,
   "input_path": "..\\transformar\\3valores_nulos.ipynb",
   "output_path": "..\\transformar\\executed_3valores_nulos.ipynb",
   "parameters": {},
   "start_time": "2024-11-12T01:21:10.048783",
   "version": "2.6.0"
  }
 },
 "nbformat": 4,
 "nbformat_minor": 5
}