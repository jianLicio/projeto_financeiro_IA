{
 "cells": [
  {
   "cell_type": "code",
   "execution_count": 1,
   "metadata": {},
   "outputs": [],
   "source": [
    "import pandas as pd\n",
    "import numpy as np\n",
    "\n",
    "df_treinamento = pd.read_csv('../arquivos_csv/treinamento3.csv', low_memory=False)\n",
    "df_teste = pd.read_csv('../arquivos_csv/teste3.csv', low_memory=False)\n"
   ]
  },
  {
   "cell_type": "markdown",
   "metadata": {},
   "source": [
    "#### Verifica todas as entidades"
   ]
  },
  {
   "cell_type": "code",
   "execution_count": 2,
   "metadata": {},
   "outputs": [
    {
     "data": {
      "text/plain": [
       "Index(['Unnamed: 0', 'Credit_Mix', 'Payment_of_Min_Amount',\n",
       "       'Payment_Behaviour', 'Credit_Score', 'Auto_Loan', 'Credit-Builder_Loan',\n",
       "       'Debt_Consolidation_Loan', 'Home_Equity_Loan', 'Mortgage_Loan',\n",
       "       'Not_Specified', 'Payday_Loan', 'Personal_Loan', 'Student_Loan', 'EMI',\n",
       "       'Qtd_contas_bancarias', 'Qtd_cartoes_credito', 'taxa_juros',\n",
       "       'dias_atraso', 'divida_restante', 'utiliza_cartao_credito', 'idade',\n",
       "       'renda_anual', 'emprestimos_obtidos', 'n_pagamentos_atrasados',\n",
       "       'alteracao_limite_credito', 'consultas_credito', 'tempo_credito',\n",
       "       'investimento_mensal', 'saldo_mensal'],\n",
       "      dtype='object')"
      ]
     },
     "execution_count": 2,
     "metadata": {},
     "output_type": "execute_result"
    }
   ],
   "source": [
    "df_treinamento.columns\n"
   ]
  },
  {
   "cell_type": "code",
   "execution_count": 3,
   "metadata": {},
   "outputs": [],
   "source": [
    "# df_teste.columns"
   ]
  },
  {
   "cell_type": "markdown",
   "metadata": {},
   "source": [
    "#### Faz Uma varredura"
   ]
  },
  {
   "cell_type": "code",
   "execution_count": 5,
   "metadata": {},
   "outputs": [
    {
     "name": "stdout",
     "output_type": "stream",
     "text": [
      "Valores únicos no atributo 'Credit_Mix':\n",
      "['-1' 'Good' 'Standard' 'Bad']\n",
      "\n",
      "\n",
      "Valores únicos no atributo 'Payment_of_Min_Amount':\n",
      "['No' '-1' 'Yes']\n",
      "\n",
      "\n",
      "Valores únicos no atributo 'Payment_Behaviour':\n",
      "['High_spent_Small_value_payments' 'Low_spent_Large_value_payments'\n",
      " 'Low_spent_Medium_value_payments' 'Low_spent_Small_value_payments'\n",
      " 'High_spent_Medium_value_payments' '-1' 'High_spent_Large_value_payments']\n",
      "\n",
      "\n",
      "Valores únicos no atributo 'Credit_Score':\n",
      "['Good' 'Standard' 'Poor']\n",
      "\n",
      "\n",
      "Valores únicos no atributo 'Auto_Loan':\n",
      "[1 0]\n",
      "\n",
      "\n",
      "Valores únicos no atributo 'Credit-Builder_Loan':\n",
      "[1 0]\n",
      "\n",
      "\n",
      "Valores únicos no atributo 'Debt_Consolidation_Loan':\n",
      "[0 1]\n",
      "\n",
      "\n",
      "Valores únicos no atributo 'Home_Equity_Loan':\n",
      "[1 0]\n",
      "\n",
      "\n",
      "Valores únicos no atributo 'Mortgage_Loan':\n",
      "[0 1]\n",
      "\n",
      "\n",
      "Valores únicos no atributo 'Not_Specified':\n",
      "[0 1]\n",
      "\n",
      "\n",
      "Valores únicos no atributo 'Payday_Loan':\n",
      "[0 1]\n",
      "\n",
      "\n",
      "Valores únicos no atributo 'Personal_Loan':\n",
      "[1 0]\n",
      "\n",
      "\n",
      "Valores únicos no atributo 'Student_Loan':\n",
      "[0 1]\n",
      "\n",
      "\n",
      "Valores únicos no atributo 'EMI':\n",
      "[0. 3. 2. 5. 1. 4.]\n",
      "\n",
      "\n",
      "Valores únicos no atributo 'Qtd_contas_bancarias':\n",
      "[0. 4. 1. 2. 3.]\n",
      "\n",
      "\n",
      "Valores únicos no atributo 'Qtd_cartoes_credito':\n",
      "[0. 1. 3. 2. 4.]\n",
      "\n",
      "\n",
      "Valores únicos no atributo 'taxa_juros':\n",
      "[0. 1. 3. 4. 2.]\n",
      "\n",
      "\n",
      "Valores únicos no atributo 'dias_atraso':\n",
      "[5. 3. 1. 2. 0. 4.]\n",
      "\n",
      "\n",
      "Valores únicos no atributo 'divida_restante':\n",
      "[6. 2. 0. 7. 3. 5. 1. 4.]\n",
      "\n",
      "\n",
      "Valores únicos no atributo 'utiliza_cartao_credito':\n",
      "[1. 0. 3. 4. 2.]\n",
      "\n",
      "\n",
      "Valores únicos no atributo 'idade':\n",
      "[1. 0. 4. 2. 3. 5.]\n",
      "\n",
      "\n",
      "Valores únicos no atributo 'renda_anual':\n",
      "[0. 4. 1. 2. 5. 3.]\n",
      "\n",
      "\n",
      "Valores únicos no atributo 'emprestimos_obtidos':\n",
      "[0. 4. 3. 5. 2. 1.]\n",
      "\n",
      "\n",
      "Valores únicos no atributo 'n_pagamentos_atrasados':\n",
      "[0. 4. 3. 1. 2.]\n",
      "\n",
      "\n",
      "Valores únicos no atributo 'alteracao_limite_credito':\n",
      "[5. 3. 1. 0. 2. 4.]\n",
      "\n",
      "\n",
      "Valores únicos no atributo 'consultas_credito':\n",
      "[0. 2. 1. 5. 4. 3.]\n",
      "\n",
      "\n",
      "Valores únicos no atributo 'tempo_credito':\n",
      "[4. 3. 1. 5. 0. 2. 6.]\n",
      "\n",
      "\n",
      "Valores únicos no atributo 'investimento_mensal':\n",
      "[0. 4. 1. 2. 3. 5.]\n",
      "\n",
      "\n",
      "Valores únicos no atributo 'saldo_mensal':\n",
      "[0. 4. 6. 1. 5. 3. 2.]\n",
      "\n",
      "\n"
     ]
    }
   ],
   "source": [
    "atributos = [\n",
    "       'Credit_Mix', 'Payment_of_Min_Amount',\n",
    "       'Payment_Behaviour', 'Credit_Score', 'Auto_Loan', 'Credit-Builder_Loan',\n",
    "       'Debt_Consolidation_Loan', 'Home_Equity_Loan', 'Mortgage_Loan',\n",
    "       'Not_Specified', 'Payday_Loan', 'Personal_Loan', 'Student_Loan', 'EMI',\n",
    "       'Qtd_contas_bancarias', 'Qtd_cartoes_credito', 'taxa_juros',\n",
    "       'dias_atraso', 'divida_restante', 'utiliza_cartao_credito', 'idade',\n",
    "       'renda_anual', 'emprestimos_obtidos', 'n_pagamentos_atrasados',\n",
    "       'alteracao_limite_credito', 'consultas_credito', 'tempo_credito',\n",
    "       'investimento_mensal', 'saldo_mensal'     \n",
    "       ]\n",
    "\n",
    "for atributo in atributos:\n",
    "    unique_values = df_treinamento[atributo].unique()\n",
    "    print(f\"Valores únicos no atributo '{atributo}':\")\n",
    "    print(unique_values)\n",
    "    print(\"\\n\")"
   ]
  },
  {
   "cell_type": "code",
   "execution_count": null,
   "metadata": {},
   "outputs": [],
   "source": [
    "atributos = [\n",
    "       'taxa_juros'\n",
    "       ]\n",
    "\n",
    "for atributo in atributos:\n",
    "    unique_values = df_teste[atributo].unique()\n",
    "    print(f\"Valores únicos no atributo '{atributo}':\")\n",
    "    print(unique_values)\n",
    "    print(\"\\n\")"
   ]
  },
  {
   "cell_type": "code",
   "execution_count": null,
   "metadata": {},
   "outputs": [],
   "source": [
    "# df_treinamento['Type_of_Loan'].isnull().sum()\n"
   ]
  },
  {
   "cell_type": "code",
   "execution_count": null,
   "metadata": {},
   "outputs": [],
   "source": [
    "df_treinamento.head()"
   ]
  }
 ],
 "metadata": {
  "kernelspec": {
   "display_name": "meu_ambiente",
   "language": "python",
   "name": "python3"
  },
  "language_info": {
   "codemirror_mode": {
    "name": "ipython",
    "version": 3
   },
   "file_extension": ".py",
   "mimetype": "text/x-python",
   "name": "python",
   "nbconvert_exporter": "python",
   "pygments_lexer": "ipython3",
   "version": "3.12.7"
  }
 },
 "nbformat": 4,
 "nbformat_minor": 2
}
