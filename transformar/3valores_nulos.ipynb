{
 "cells": [
  {
   "cell_type": "code",
   "execution_count": 1,
   "id": "6680736b",
   "metadata": {
    "execution": {
     "iopub.execute_input": "2024-11-12T16:37:21.837085Z",
     "iopub.status.busy": "2024-11-12T16:37:21.837085Z",
     "iopub.status.idle": "2024-11-12T16:37:22.880972Z",
     "shell.execute_reply": "2024-11-12T16:37:22.880972Z"
    },
    "papermill": {
     "duration": 1.05289,
     "end_time": "2024-11-12T16:37:22.881975",
     "exception": false,
     "start_time": "2024-11-12T16:37:21.829085",
     "status": "completed"
    },
    "tags": []
   },
   "outputs": [],
   "source": [
    "import pandas as pd\n",
    "import numpy as np\n",
    "\n",
    "df_treinamento = pd.read_csv('../arquivos_csv/treinamento3.csv', low_memory=False)\n",
    "df_teste = pd.read_csv('../arquivos_csv/teste3.csv', low_memory=False)\n"
   ]
  },
  {
   "cell_type": "markdown",
   "id": "2863ed08",
   "metadata": {
    "papermill": {
     "duration": 0.016999,
     "end_time": "2024-11-12T16:37:22.906977",
     "exception": false,
     "start_time": "2024-11-12T16:37:22.889978",
     "status": "completed"
    },
    "tags": []
   },
   "source": [
    "### Todos os valores nulos receberão o valor -1"
   ]
  },
  {
   "cell_type": "code",
   "execution_count": 2,
   "id": "91663d41",
   "metadata": {
    "execution": {
     "iopub.execute_input": "2024-11-12T16:37:22.940951Z",
     "iopub.status.busy": "2024-11-12T16:37:22.940425Z",
     "iopub.status.idle": "2024-11-12T16:37:23.034040Z",
     "shell.execute_reply": "2024-11-12T16:37:23.034040Z"
    },
    "papermill": {
     "duration": 0.111068,
     "end_time": "2024-11-12T16:37:23.035046",
     "exception": false,
     "start_time": "2024-11-12T16:37:22.923978",
     "status": "completed"
    },
    "tags": []
   },
   "outputs": [
    {
     "name": "stdout",
     "output_type": "stream",
     "text": [
      "Contagem de valores nulos restantes para treinamento: 0\n",
      "Contagem de valores nulos restantes para teste: 0\n"
     ]
    }
   ],
   "source": [
    "df_treinamento = df_treinamento.fillna(-1)\n",
    "null_counts = df_treinamento.isnull().sum().sum()\n",
    "\n",
    "print(f\"Contagem de valores nulos restantes para treinamento: {null_counts}\")\n",
    "\n",
    "df_teste = df_teste.fillna(-1)\n",
    "null_counts = df_teste.isnull().sum().sum()\n",
    "\n",
    "print(f\"Contagem de valores nulos restantes para teste: {null_counts}\")"
   ]
  },
  {
   "cell_type": "markdown",
   "id": "60354193",
   "metadata": {
    "papermill": {
     "duration": 0.014003,
     "end_time": "2024-11-12T16:37:23.056049",
     "exception": false,
     "start_time": "2024-11-12T16:37:23.042046",
     "status": "completed"
    },
    "tags": []
   },
   "source": [
    "## Salvar Dados"
   ]
  },
  {
   "cell_type": "code",
   "execution_count": null,
   "id": "e7b70323",
   "metadata": {
    "execution": {
     "iopub.execute_input": "2024-11-12T16:34:38.602805Z",
     "iopub.status.busy": "2024-11-12T16:34:38.601803Z",
     "iopub.status.idle": "2024-11-12T16:34:40.848690Z",
     "shell.execute_reply": "2024-11-12T16:34:40.848690Z"
    },
    "papermill": {
     "duration": null,
     "end_time": null,
     "exception": false,
     "start_time": "2024-11-12T16:37:23.070100",
     "status": "running"
    },
    "tags": []
   },
   "outputs": [],
   "source": [
    "df_treinamento.to_csv('../arquivos_csv/treinamento3.csv', index=False)\n",
    "df_teste.to_csv('../arquivos_csv/teste3.csv', index=False)"
   ]
  }
 ],
 "metadata": {
  "kernelspec": {
   "display_name": "meu_ambiente",
   "language": "python",
   "name": "python3"
  },
  "language_info": {
   "codemirror_mode": {
    "name": "ipython",
    "version": 3
   },
   "file_extension": ".py",
   "mimetype": "text/x-python",
   "name": "python",
   "nbconvert_exporter": "python",
   "pygments_lexer": "ipython3",
   "version": "3.12.7"
  },
  "papermill": {
   "default_parameters": {},
   "duration": null,
   "end_time": null,
   "environment_variables": {},
   "exception": null,
   "input_path": "..\\transformar\\3valores_nulos.ipynb",
   "output_path": "..\\transformar\\3valores_nulos.ipynb",
   "parameters": {},
   "start_time": "2024-11-12T16:37:20.580934",
   "version": "2.6.0"
  }
 },
 "nbformat": 4,
 "nbformat_minor": 5
}