{
 "cells": [
  {
   "cell_type": "code",
   "execution_count": 1,
   "metadata": {},
   "outputs": [],
   "source": [
    "import pandas as pd\n",
    "import numpy as np\n",
    "\n",
    "df_treinamento = pd.read_csv('../arquivos_csv/treinamento3.csv', low_memory=False)\n",
    "df_teste = pd.read_csv('../arquivos_csv/teste3.csv', low_memory=False)\n"
   ]
  },
  {
   "cell_type": "markdown",
   "metadata": {},
   "source": [
    "### Todos os valores nulos receberão o valor -1"
   ]
  },
  {
   "cell_type": "code",
   "execution_count": 2,
   "metadata": {},
   "outputs": [
    {
     "name": "stdout",
     "output_type": "stream",
     "text": [
      "Contagem de valores nulos restantes para treinamento: 0\n",
      "Contagem de valores nulos restantes para teste: 0\n"
     ]
    }
   ],
   "source": [
    "df_treinamento = df_treinamento.fillna(-1)\n",
    "null_counts = df_treinamento.isnull().sum().sum()\n",
    "\n",
    "print(f\"Contagem de valores nulos restantes para treinamento: {null_counts}\")\n",
    "\n",
    "df_teste = df_teste.fillna(-1)\n",
    "null_counts = df_teste.isnull().sum().sum()\n",
    "\n",
    "print(f\"Contagem de valores nulos restantes para teste: {null_counts}\")"
   ]
  },
  {
   "cell_type": "markdown",
   "metadata": {},
   "source": [
    "## Salvar Dados"
   ]
  },
  {
   "cell_type": "code",
   "execution_count": 3,
   "metadata": {},
   "outputs": [],
   "source": [
    "df_treinamento.to_csv('../arquivos_csv/treinamento3.csv', index=False)\n",
    "df_teste.to_csv('../arquivos_csv/teste3.csv', index=False)"
   ]
  }
 ],
 "metadata": {
  "kernelspec": {
   "display_name": "meu_ambiente",
   "language": "python",
   "name": "python3"
  },
  "language_info": {
   "codemirror_mode": {
    "name": "ipython",
    "version": 3
   },
   "file_extension": ".py",
   "mimetype": "text/x-python",
   "name": "python",
   "nbconvert_exporter": "python",
   "pygments_lexer": "ipython3",
   "version": "3.12.7"
  }
 },
 "nbformat": 4,
 "nbformat_minor": 2
}
