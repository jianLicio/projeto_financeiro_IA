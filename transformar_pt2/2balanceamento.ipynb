{
 "cells": [
  {
   "cell_type": "code",
   "execution_count": 1,
   "id": "c58b2602",
   "metadata": {
    "execution": {
     "iopub.execute_input": "2024-11-13T13:03:16.401740Z",
     "iopub.status.busy": "2024-11-13T13:03:16.401740Z",
     "iopub.status.idle": "2024-11-13T13:03:18.150499Z",
     "shell.execute_reply": "2024-11-13T13:03:18.147477Z"
    },
    "papermill": {
     "duration": 1.759744,
     "end_time": "2024-11-13T13:03:18.153489",
     "exception": false,
     "start_time": "2024-11-13T13:03:16.393745",
     "status": "completed"
    },
    "tags": []
   },
   "outputs": [],
   "source": [
    "import pandas as pd\n",
    "from imblearn.under_sampling import RandomUnderSampler\n",
    "\n",
    "df_treinamento = pd.read_csv('../arquivos_csv/treinamento4.csv', low_memory=False)\n",
    "df_teste = pd.read_csv('../arquivos_csv/teste4.csv', low_memory=False)\n"
   ]
  },
  {
   "cell_type": "code",
   "execution_count": 2,
   "id": "45ba8c17",
   "metadata": {
    "execution": {
     "iopub.execute_input": "2024-11-13T13:03:18.203489Z",
     "iopub.status.busy": "2024-11-13T13:03:18.202488Z",
     "iopub.status.idle": "2024-11-13T13:03:18.221750Z",
     "shell.execute_reply": "2024-11-13T13:03:18.221750Z"
    },
    "papermill": {
     "duration": 0.058269,
     "end_time": "2024-11-13T13:03:18.223759",
     "exception": false,
     "start_time": "2024-11-13T13:03:18.165490",
     "status": "completed"
    },
    "tags": []
   },
   "outputs": [
    {
     "data": {
      "text/plain": [
       "Credit_Score\n",
       "Standard    53174\n",
       "Poor        28998\n",
       "Good        17828\n",
       "Name: count, dtype: int64"
      ]
     },
     "execution_count": 2,
     "metadata": {},
     "output_type": "execute_result"
    }
   ],
   "source": [
    "df_treinamento['Credit_Score'].value_counts()\n"
   ]
  },
  {
   "cell_type": "code",
   "execution_count": 3,
   "id": "eab0bff4",
   "metadata": {
    "execution": {
     "iopub.execute_input": "2024-11-13T13:03:18.258759Z",
     "iopub.status.busy": "2024-11-13T13:03:18.257761Z",
     "iopub.status.idle": "2024-11-13T13:03:18.536414Z",
     "shell.execute_reply": "2024-11-13T13:03:18.536414Z"
    },
    "papermill": {
     "duration": 0.304664,
     "end_time": "2024-11-13T13:03:18.538422",
     "exception": false,
     "start_time": "2024-11-13T13:03:18.233758",
     "status": "completed"
    },
    "tags": []
   },
   "outputs": [
    {
     "name": "stdout",
     "output_type": "stream",
     "text": [
      "Credit_Score\n",
      "Good        17828\n",
      "Poor        17828\n",
      "Standard    17828\n",
      "Name: count, dtype: int64\n"
     ]
    }
   ],
   "source": [
    "X = df_treinamento.drop(columns=['Credit_Score'])\n",
    "y = df_treinamento['Credit_Score']\n",
    "\n",
    "# Configurando o undersampling para que cada classe tenha 17.828 exemplos\n",
    "undersample = RandomUnderSampler(sampling_strategy={'Standard': 17828, 'Poor': 17828, 'Good': 17828})\n",
    "\n",
    "# Aplicando o undersampling\n",
    "X_resampled, y_resampled = undersample.fit_resample(X, y)\n",
    "\n",
    "# Criando um novo DataFrame balanceado\n",
    "df_balanceado = X_resampled.copy()\n",
    "df_balanceado['Credit_Score'] = y_resampled\n",
    "\n",
    "# Verificando o novo balanceamento\n",
    "print(y_resampled.value_counts())"
   ]
  },
  {
   "cell_type": "markdown",
   "id": "405d84e9",
   "metadata": {
    "papermill": {
     "duration": 0.018998,
     "end_time": "2024-11-13T13:03:18.570421",
     "exception": false,
     "start_time": "2024-11-13T13:03:18.551423",
     "status": "completed"
    },
    "tags": []
   },
   "source": [
    "## Salvar Dados"
   ]
  },
  {
   "cell_type": "code",
   "execution_count": 4,
   "id": "2a8c894a",
   "metadata": {
    "execution": {
     "iopub.execute_input": "2024-11-13T13:03:18.600422Z",
     "iopub.status.busy": "2024-11-13T13:03:18.600422Z",
     "iopub.status.idle": "2024-11-13T13:03:20.543049Z",
     "shell.execute_reply": "2024-11-13T13:03:20.543049Z"
    },
    "papermill": {
     "duration": 1.958636,
     "end_time": "2024-11-13T13:03:20.544055",
     "exception": false,
     "start_time": "2024-11-13T13:03:18.585419",
     "status": "completed"
    },
    "tags": []
   },
   "outputs": [],
   "source": [
    "df_treinamento.to_csv('../arquivos_csv/treinamento4.csv', index=False)\n",
    "df_teste.to_csv('../arquivos_csv/teste4.csv', index=False)"
   ]
  }
 ],
 "metadata": {
  "kernelspec": {
   "display_name": "meu_ambiente",
   "language": "python",
   "name": "python3"
  },
  "language_info": {
   "codemirror_mode": {
    "name": "ipython",
    "version": 3
   },
   "file_extension": ".py",
   "mimetype": "text/x-python",
   "name": "python",
   "nbconvert_exporter": "python",
   "pygments_lexer": "ipython3",
   "version": "3.12.7"
  },
  "papermill": {
   "default_parameters": {},
   "duration": 5.842595,
   "end_time": "2024-11-13T13:03:20.972120",
   "environment_variables": {},
   "exception": null,
   "input_path": "..\\transformar_pt2\\2balanceamento.ipynb",
   "output_path": "..\\transformar_pt2\\2balanceamento.ipynb",
   "parameters": {},
   "start_time": "2024-11-13T13:03:15.129525",
   "version": "2.6.0"
  }
 },
 "nbformat": 4,
 "nbformat_minor": 5
}