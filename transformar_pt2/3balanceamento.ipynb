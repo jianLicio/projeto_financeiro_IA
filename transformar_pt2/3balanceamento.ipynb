{
 "cells": [
  {
   "cell_type": "code",
   "execution_count": 1,
   "id": "c58b2602",
   "metadata": {
    "execution": {
     "iopub.execute_input": "2024-11-15T12:52:45.586868Z",
     "iopub.status.busy": "2024-11-15T12:52:45.585868Z",
     "iopub.status.idle": "2024-11-15T12:52:47.343707Z",
     "shell.execute_reply": "2024-11-15T12:52:47.343707Z"
    },
    "papermill": {
     "duration": 1.767356,
     "end_time": "2024-11-15T12:52:47.344715",
     "exception": false,
     "start_time": "2024-11-15T12:52:45.577359",
     "status": "completed"
    },
    "tags": []
   },
   "outputs": [],
   "source": [
    "import pandas as pd\n",
    "from imblearn.under_sampling import RandomUnderSampler\n",
    "\n",
    "df_treinamento = pd.read_csv('../arquivos_csv/treinamento4.csv', low_memory=False)\n",
    "df_teste = pd.read_csv('../arquivos_csv/teste4.csv', low_memory=False)\n"
   ]
  },
  {
   "cell_type": "code",
   "execution_count": 2,
   "id": "45ba8c17",
   "metadata": {
    "execution": {
     "iopub.execute_input": "2024-11-15T12:52:47.371719Z",
     "iopub.status.busy": "2024-11-15T12:52:47.371719Z",
     "iopub.status.idle": "2024-11-15T12:52:47.382642Z",
     "shell.execute_reply": "2024-11-15T12:52:47.382642Z"
    },
    "papermill": {
     "duration": 0.025928,
     "end_time": "2024-11-15T12:52:47.382642",
     "exception": false,
     "start_time": "2024-11-15T12:52:47.356714",
     "status": "completed"
    },
    "tags": []
   },
   "outputs": [
    {
     "data": {
      "text/plain": [
       "Credit_Score\n",
       "Standard    52363\n",
       "Poor        28500\n",
       "Good        17707\n",
       "Name: count, dtype: int64"
      ]
     },
     "execution_count": 2,
     "metadata": {},
     "output_type": "execute_result"
    }
   ],
   "source": [
    "df_treinamento['Credit_Score'].value_counts()\n"
   ]
  },
  {
   "cell_type": "code",
   "execution_count": 3,
   "id": "eab0bff4",
   "metadata": {
    "execution": {
     "iopub.execute_input": "2024-11-15T12:52:47.406160Z",
     "iopub.status.busy": "2024-11-15T12:52:47.405159Z",
     "iopub.status.idle": "2024-11-15T12:52:47.643929Z",
     "shell.execute_reply": "2024-11-15T12:52:47.643929Z"
    },
    "papermill": {
     "duration": 0.254778,
     "end_time": "2024-11-15T12:52:47.644935",
     "exception": false,
     "start_time": "2024-11-15T12:52:47.390157",
     "status": "completed"
    },
    "tags": []
   },
   "outputs": [
    {
     "name": "stdout",
     "output_type": "stream",
     "text": [
      "Credit_Score\n",
      "Good        17707\n",
      "Poor        17707\n",
      "Standard    17707\n",
      "Name: count, dtype: int64\n"
     ]
    }
   ],
   "source": [
    "X = df_treinamento.drop(columns=['Credit_Score'])\n",
    "y = df_treinamento['Credit_Score']\n",
    "\n",
    "# Configurando o undersampling para que cada classe tenha 17.828 exemplos\n",
    "undersample = RandomUnderSampler(sampling_strategy={'Standard': 17707, 'Poor': 17707, 'Good': 17707})\n",
    "\n",
    "# Aplicando o undersampling\n",
    "X_resampled, y_resampled = undersample.fit_resample(X, y)\n",
    "\n",
    "# Criando um novo DataFrame balanceado\n",
    "df_treinamento = X_resampled.copy()\n",
    "df_treinamento['Credit_Score'] = y_resampled\n",
    "\n",
    "# Verificando o novo balanceamento\n",
    "print(y_resampled.value_counts())"
   ]
  },
  {
   "cell_type": "markdown",
   "id": "405d84e9",
   "metadata": {
    "papermill": {
     "duration": 0.014002,
     "end_time": "2024-11-15T12:52:47.665936",
     "exception": false,
     "start_time": "2024-11-15T12:52:47.651934",
     "status": "completed"
    },
    "tags": []
   },
   "source": [
    "## Salvar Dados"
   ]
  },
  {
   "cell_type": "code",
   "execution_count": 4,
   "id": "2a8c894a",
   "metadata": {
    "execution": {
     "iopub.execute_input": "2024-11-15T12:52:47.694460Z",
     "iopub.status.busy": "2024-11-15T12:52:47.694460Z",
     "iopub.status.idle": "2024-11-15T12:52:48.195117Z",
     "shell.execute_reply": "2024-11-15T12:52:48.195117Z"
    },
    "papermill": {
     "duration": 0.517184,
     "end_time": "2024-11-15T12:52:48.196122",
     "exception": false,
     "start_time": "2024-11-15T12:52:47.678938",
     "status": "completed"
    },
    "tags": []
   },
   "outputs": [],
   "source": [
    "df_treinamento.to_csv('../arquivos_csv/treinamento4.csv', index=False)"
   ]
  }
 ],
 "metadata": {
  "kernelspec": {
   "display_name": "meu_ambiente",
   "language": "python",
   "name": "python3"
  },
  "language_info": {
   "codemirror_mode": {
    "name": "ipython",
    "version": 3
   },
   "file_extension": ".py",
   "mimetype": "text/x-python",
   "name": "python",
   "nbconvert_exporter": "python",
   "pygments_lexer": "ipython3",
   "version": "3.12.7"
  },
  "papermill": {
   "default_parameters": {},
   "duration": 4.294747,
   "end_time": "2024-11-15T12:52:48.619929",
   "environment_variables": {},
   "exception": null,
   "input_path": "..\\transformar_pt2\\3balanceamento.ipynb",
   "output_path": "..\\transformar_pt2\\3balanceamento.ipynb",
   "parameters": {},
   "start_time": "2024-11-15T12:52:44.325182",
   "version": "2.6.0"
  }
 },
 "nbformat": 4,
 "nbformat_minor": 5
}