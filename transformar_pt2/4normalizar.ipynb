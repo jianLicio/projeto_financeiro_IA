{
 "cells": [
  {
   "cell_type": "code",
   "execution_count": 1,
   "id": "5b64d90b",
   "metadata": {
    "execution": {
     "iopub.execute_input": "2024-11-13T13:03:37.857420Z",
     "iopub.status.busy": "2024-11-13T13:03:37.857420Z",
     "iopub.status.idle": "2024-11-13T13:03:39.316110Z",
     "shell.execute_reply": "2024-11-13T13:03:39.316110Z"
    },
    "papermill": {
     "duration": 1.467697,
     "end_time": "2024-11-13T13:03:39.318116",
     "exception": false,
     "start_time": "2024-11-13T13:03:37.850419",
     "status": "completed"
    },
    "tags": []
   },
   "outputs": [],
   "source": [
    "\n",
    "from sklearn.preprocessing import StandardScaler\n",
    "import pandas as pd\n",
    "\n",
    "scaler = StandardScaler()\n",
    "\n",
    "df_treinamento = pd.read_csv('../arquivos_csv/treinamento4.csv', low_memory=False)\n",
    "df_teste = pd.read_csv('../arquivos_csv/teste4.csv', low_memory=False)\n"
   ]
  },
  {
   "cell_type": "code",
   "execution_count": 2,
   "id": "96cdf49c",
   "metadata": {
    "execution": {
     "iopub.execute_input": "2024-11-13T13:03:39.344625Z",
     "iopub.status.busy": "2024-11-13T13:03:39.344625Z",
     "iopub.status.idle": "2024-11-13T13:03:39.471018Z",
     "shell.execute_reply": "2024-11-13T13:03:39.471018Z"
    },
    "papermill": {
     "duration": 0.145407,
     "end_time": "2024-11-13T13:03:39.472026",
     "exception": false,
     "start_time": "2024-11-13T13:03:39.326619",
     "status": "completed"
    },
    "tags": []
   },
   "outputs": [
    {
     "name": "stdout",
     "output_type": "stream",
     "text": [
      "Dados normalizados no df_treinamento:\n",
      "   Credit_Mix  Payment_of_Min_Amount  Payment_Behaviour Credit_Score  \\\n",
      "0   -0.081518              -1.343023          -1.844114         Good   \n",
      "1    1.442759              -1.343023          -1.176564         Good   \n",
      "2    1.442759              -1.343023          -0.509014         Good   \n",
      "3    1.442759              -1.343023           0.158536         Good   \n",
      "4    1.442759              -1.343023           0.826087         Good   \n",
      "\n",
      "   Auto_Loan  Credit-Builder_Loan  Debt_Consolidation_Loan  Home_Equity_Loan  \\\n",
      "0   1.507399             1.466898                -0.670907          1.478078   \n",
      "1   1.507399             1.466898                -0.670907          1.478078   \n",
      "2   1.507399             1.466898                -0.670907          1.478078   \n",
      "3   1.507399             1.466898                -0.670907          1.478078   \n",
      "4   1.507399             1.466898                -0.670907          1.478078   \n",
      "\n",
      "   Mortgage_Loan  Not_Specified  ...  utiliza_cartao_credito     idade  \\\n",
      "0      -0.675926      -0.870114  ...               -0.652182 -0.714305   \n",
      "1      -0.675926      -0.870114  ...               -1.379243 -0.714305   \n",
      "2      -0.675926      -0.870114  ...                0.801942 -1.276436   \n",
      "3      -0.675926      -0.870114  ...               -1.379243 -0.714305   \n",
      "4      -0.675926      -0.870114  ...               -0.652182 -0.714305   \n",
      "\n",
      "   renda_anual  emprestimos_obtidos  n_pagamentos_atrasados  \\\n",
      "0    -0.083962            -0.059438               -0.074331   \n",
      "1    -0.083962            -0.059438               -0.074331   \n",
      "2    -0.083962            -0.059438               -0.074331   \n",
      "3    -0.083962            -0.059438               -0.074331   \n",
      "4    -0.083962            -0.059438               -0.074331   \n",
      "\n",
      "   alteracao_limite_credito  consultas_credito  tempo_credito  \\\n",
      "0                  1.412700          -0.112874       0.817516   \n",
      "1                  1.412700          -0.112874       0.254085   \n",
      "2                  0.244595          -0.112874       0.817516   \n",
      "3                  0.244595          -0.112874       0.817516   \n",
      "4                  1.412700          -0.112874       0.817516   \n",
      "\n",
      "   investimento_mensal  saldo_mensal  \n",
      "0            -0.955864     -1.361054  \n",
      "1            -0.955864      0.441183  \n",
      "2            -0.955864     -1.361054  \n",
      "3             1.290386      0.441183  \n",
      "4            -0.955864     -1.361054  \n",
      "\n",
      "[5 rows x 29 columns]\n",
      "\n",
      "Dados normalizados no df_teste:\n",
      "   Credit_Mix  Payment_of_Min_Amount  Payment_Behaviour  Auto_Loan  \\\n",
      "0           1                    0.0                0.0          1   \n",
      "1           2                    0.0                1.0          1   \n",
      "2           2                    0.0                2.0          1   \n",
      "3           2                    0.0                3.0          1   \n",
      "4           2                    0.0                4.0          1   \n",
      "\n",
      "   Credit-Builder_Loan  Debt_Consolidation_Loan  Home_Equity_Loan  \\\n",
      "0                    1                        0                 1   \n",
      "1                    1                        0                 1   \n",
      "2                    1                        0                 1   \n",
      "3                    1                        0                 1   \n",
      "4                    1                        0                 1   \n",
      "\n",
      "   Mortgage_Loan  Not_Specified  Payday_Loan  ...  utiliza_cartao_credito  \\\n",
      "0              0              0            0  ...                     1.0   \n",
      "1              0              0            0  ...                     0.0   \n",
      "2              0              0            0  ...                     3.0   \n",
      "3              0              0            0  ...                     0.0   \n",
      "4              0              0            0  ...                     1.0   \n",
      "\n",
      "   idade  renda_anual  emprestimos_obtidos  n_pagamentos_atrasados  \\\n",
      "0    1.0          0.0                  0.0                     0.0   \n",
      "1    1.0          0.0                  0.0                     0.0   \n",
      "2    0.0          0.0                  0.0                     0.0   \n",
      "3    1.0          0.0                  0.0                     0.0   \n",
      "4    1.0          0.0                  0.0                     0.0   \n",
      "\n",
      "   alteracao_limite_credito  consultas_credito  tempo_credito  \\\n",
      "0                       5.0                0.0            4.0   \n",
      "1                       5.0                0.0            3.0   \n",
      "2                       3.0                0.0            4.0   \n",
      "3                       3.0                0.0            4.0   \n",
      "4                       5.0                0.0            4.0   \n",
      "\n",
      "   investimento_mensal  saldo_mensal  \n",
      "0                  0.0           0.0  \n",
      "1                  0.0           4.0  \n",
      "2                  0.0           0.0  \n",
      "3                  4.0           4.0  \n",
      "4                  0.0           0.0  \n",
      "\n",
      "[5 rows x 28 columns]\n"
     ]
    }
   ],
   "source": [
    "X_treino = df_treinamento.drop(columns=['Credit_Score'])\n",
    "X_treino_normalizado = scaler.fit_transform(X_treino)\n",
    "\n",
    "X_teste_normalizado = scaler.transform(df_teste)\n",
    "\n",
    "df_treinamento[X_treino.columns] = X_treino_normalizado\n",
    "\n",
    "# Confirmação visual das primeiras linhas\n",
    "print(\"Dados normalizados no df_treinamento:\")\n",
    "print(df_treinamento.head())\n",
    "print(\"\\nDados normalizados no df_teste:\")\n",
    "print(df_teste.head())\n"
   ]
  },
  {
   "cell_type": "markdown",
   "id": "75427499",
   "metadata": {
    "papermill": {
     "duration": 0.012999,
     "end_time": "2024-11-13T13:03:39.492024",
     "exception": false,
     "start_time": "2024-11-13T13:03:39.479025",
     "status": "completed"
    },
    "tags": []
   },
   "source": [
    "## Salva novos df's"
   ]
  },
  {
   "cell_type": "code",
   "execution_count": 3,
   "id": "a87aa0e8",
   "metadata": {
    "execution": {
     "iopub.execute_input": "2024-11-13T13:03:39.524030Z",
     "iopub.status.busy": "2024-11-13T13:03:39.524030Z",
     "iopub.status.idle": "2024-11-13T13:03:43.283189Z",
     "shell.execute_reply": "2024-11-13T13:03:43.283189Z"
    },
    "papermill": {
     "duration": 3.775171,
     "end_time": "2024-11-13T13:03:43.285194",
     "exception": false,
     "start_time": "2024-11-13T13:03:39.510023",
     "status": "completed"
    },
    "tags": []
   },
   "outputs": [],
   "source": [
    "df_treinamento.to_csv('../arquivos_csv/treinamento4.csv', index=False)\n",
    "df_teste.to_csv('../arquivos_csv/teste4.csv', index=False)"
   ]
  }
 ],
 "metadata": {
  "kernelspec": {
   "display_name": "meu_ambiente",
   "language": "python",
   "name": "python3"
  },
  "language_info": {
   "codemirror_mode": {
    "name": "ipython",
    "version": 3
   },
   "file_extension": ".py",
   "mimetype": "text/x-python",
   "name": "python",
   "nbconvert_exporter": "python",
   "pygments_lexer": "ipython3",
   "version": "3.12.7"
  },
  "papermill": {
   "default_parameters": {},
   "duration": 7.105491,
   "end_time": "2024-11-13T13:03:43.704243",
   "environment_variables": {},
   "exception": null,
   "input_path": "..\\transformar_pt2\\4normalizar.ipynb",
   "output_path": "..\\transformar_pt2\\4normalizar.ipynb",
   "parameters": {},
   "start_time": "2024-11-13T13:03:36.598752",
   "version": "2.6.0"
  }
 },
 "nbformat": 4,
 "nbformat_minor": 5
}