{
 "cells": [
  {
   "cell_type": "code",
   "execution_count": 1,
   "id": "48462104",
   "metadata": {
    "execution": {
     "iopub.execute_input": "2024-11-15T12:52:40.948615Z",
     "iopub.status.busy": "2024-11-15T12:52:40.948615Z",
     "iopub.status.idle": "2024-11-15T12:52:42.556274Z",
     "shell.execute_reply": "2024-11-15T12:52:42.556274Z"
    },
    "papermill": {
     "duration": 1.616668,
     "end_time": "2024-11-15T12:52:42.558281",
     "exception": false,
     "start_time": "2024-11-15T12:52:40.941613",
     "status": "completed"
    },
    "tags": []
   },
   "outputs": [],
   "source": [
    "import pandas as pd\n",
    "from imblearn.under_sampling import RandomUnderSampler\n",
    "\n",
    "df_treinamento = pd.read_csv('../arquivos_csv/treinamento4.csv', low_memory=False)\n",
    "df_teste = pd.read_csv('../arquivos_csv/teste4.csv', low_memory=False)\n"
   ]
  },
  {
   "cell_type": "code",
   "execution_count": 2,
   "id": "05841cf4",
   "metadata": {
    "execution": {
     "iopub.execute_input": "2024-11-15T12:52:42.582793Z",
     "iopub.status.busy": "2024-11-15T12:52:42.582793Z",
     "iopub.status.idle": "2024-11-15T12:52:42.639573Z",
     "shell.execute_reply": "2024-11-15T12:52:42.639573Z"
    },
    "papermill": {
     "duration": 0.074298,
     "end_time": "2024-11-15T12:52:42.640579",
     "exception": false,
     "start_time": "2024-11-15T12:52:42.566281",
     "status": "completed"
    },
    "tags": []
   },
   "outputs": [
    {
     "name": "stdout",
     "output_type": "stream",
     "text": [
      "Número de instâncias duplicadas em cada classe:\n",
      "  Credit_Score  Contagem de Duplicados\n",
      "0         Good                     240\n",
      "1         Poor                     982\n",
      "2     Standard                    1601\n"
     ]
    }
   ],
   "source": [
    "import pandas as pd\n",
    "\n",
    "instancias_repetidas = df_treinamento[df_treinamento.duplicated(keep=False)]\n",
    "\n",
    "# Contar o número de duplicatas em cada classe\n",
    "contagem_por_classe = instancias_repetidas.groupby('Credit_Score').size().reset_index(name='Contagem de Duplicados')\n",
    "\n",
    "print(\"Número de instâncias duplicadas em cada classe:\")\n",
    "print(contagem_por_classe)\n"
   ]
  },
  {
   "cell_type": "markdown",
   "id": "90897ddc",
   "metadata": {
    "papermill": {
     "duration": 0.017002,
     "end_time": "2024-11-15T12:52:42.664582",
     "exception": false,
     "start_time": "2024-11-15T12:52:42.647580",
     "status": "completed"
    },
    "tags": []
   },
   "source": [
    "### Remoção dos Atributos Duplicados"
   ]
  },
  {
   "cell_type": "code",
   "execution_count": 3,
   "id": "1a008e6f",
   "metadata": {
    "execution": {
     "iopub.execute_input": "2024-11-15T12:52:42.697097Z",
     "iopub.status.busy": "2024-11-15T12:52:42.696095Z",
     "iopub.status.idle": "2024-11-15T12:52:42.756440Z",
     "shell.execute_reply": "2024-11-15T12:52:42.755432Z"
    },
    "papermill": {
     "duration": 0.076853,
     "end_time": "2024-11-15T12:52:42.757439",
     "exception": false,
     "start_time": "2024-11-15T12:52:42.680586",
     "status": "completed"
    },
    "tags": []
   },
   "outputs": [],
   "source": [
    "df_treinamento = df_treinamento.drop_duplicates(keep='first')"
   ]
  },
  {
   "cell_type": "markdown",
   "id": "749f09b1",
   "metadata": {
    "papermill": {
     "duration": 0.017512,
     "end_time": "2024-11-15T12:52:42.782951",
     "exception": false,
     "start_time": "2024-11-15T12:52:42.765439",
     "status": "completed"
    },
    "tags": []
   },
   "source": [
    "## Salvando Dados"
   ]
  },
  {
   "cell_type": "code",
   "execution_count": 4,
   "id": "069ca52e",
   "metadata": {
    "execution": {
     "iopub.execute_input": "2024-11-15T12:52:42.820956Z",
     "iopub.status.busy": "2024-11-15T12:52:42.819957Z",
     "iopub.status.idle": "2024-11-15T12:52:43.774842Z",
     "shell.execute_reply": "2024-11-15T12:52:43.774842Z"
    },
    "papermill": {
     "duration": 0.976891,
     "end_time": "2024-11-15T12:52:43.775849",
     "exception": false,
     "start_time": "2024-11-15T12:52:42.798958",
     "status": "completed"
    },
    "tags": []
   },
   "outputs": [],
   "source": [
    "df_treinamento.to_csv('../arquivos_csv/treinamento4.csv', index=False)\n"
   ]
  }
 ],
 "metadata": {
  "kernelspec": {
   "display_name": "meu_ambiente",
   "language": "python",
   "name": "python3"
  },
  "language_info": {
   "codemirror_mode": {
    "name": "ipython",
    "version": 3
   },
   "file_extension": ".py",
   "mimetype": "text/x-python",
   "name": "python",
   "nbconvert_exporter": "python",
   "pygments_lexer": "ipython3",
   "version": "3.12.7"
  },
  "papermill": {
   "default_parameters": {},
   "duration": 4.610032,
   "end_time": "2024-11-15T12:52:44.293183",
   "environment_variables": {},
   "exception": null,
   "input_path": "..\\transformar_pt2\\2valores_duplicados.ipynb",
   "output_path": "..\\transformar_pt2\\2valores_duplicados.ipynb",
   "parameters": {},
   "start_time": "2024-11-15T12:52:39.683151",
   "version": "2.6.0"
  }
 },
 "nbformat": 4,
 "nbformat_minor": 5
}