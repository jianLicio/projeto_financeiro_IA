{
 "cells": [
  {
   "cell_type": "code",
   "execution_count": 1,
   "id": "bb41ea8a",
   "metadata": {
    "execution": {
     "iopub.execute_input": "2024-11-15T12:53:01.965721Z",
     "iopub.status.busy": "2024-11-15T12:53:01.964719Z",
     "iopub.status.idle": "2024-11-15T12:53:02.416484Z",
     "shell.execute_reply": "2024-11-15T12:53:02.416484Z"
    },
    "papermill": {
     "duration": 0.459768,
     "end_time": "2024-11-15T12:53:02.417488",
     "exception": false,
     "start_time": "2024-11-15T12:53:01.957720",
     "status": "completed"
    },
    "tags": []
   },
   "outputs": [],
   "source": [
    "import pandas as pd\n",
    "\n",
    "df_treinamento = pd.read_csv('../arquivos_csv/treinamento4.csv', low_memory=False)\n"
   ]
  },
  {
   "cell_type": "code",
   "execution_count": 2,
   "id": "82c68c40",
   "metadata": {
    "execution": {
     "iopub.execute_input": "2024-11-15T12:53:02.441489Z",
     "iopub.status.busy": "2024-11-15T12:53:02.440489Z",
     "iopub.status.idle": "2024-11-15T12:53:02.463703Z",
     "shell.execute_reply": "2024-11-15T12:53:02.463703Z"
    },
    "papermill": {
     "duration": 0.041219,
     "end_time": "2024-11-15T12:53:02.464707",
     "exception": false,
     "start_time": "2024-11-15T12:53:02.423488",
     "status": "completed"
    },
    "tags": []
   },
   "outputs": [
    {
     "name": "stdout",
     "output_type": "stream",
     "text": [
      "Credit_Score\n",
      "Good        5312\n",
      "Poor        5312\n",
      "Standard    5312\n",
      "Name: count, dtype: int64\n"
     ]
    },
    {
     "name": "stderr",
     "output_type": "stream",
     "text": [
      "C:\\Users\\jian_\\AppData\\Local\\Temp\\ipykernel_2356\\601413389.py:2: DeprecationWarning: DataFrameGroupBy.apply operated on the grouping columns. This behavior is deprecated, and in a future version of pandas the grouping columns will be excluded from the operation. Either pass `include_groups=False` to exclude the groupings or explicitly select the grouping columns after groupby to silence this warning.\n",
      "  return df.groupby(classe, group_keys=False).apply(lambda x: x.sample(frac=proporcao, random_state=42))\n"
     ]
    }
   ],
   "source": [
    "def amostrar_balanceado(df, classe, proporcao=0.5):\n",
    "        return df.groupby(classe, group_keys=False).apply(lambda x: x.sample(frac=proporcao, random_state=42))\n",
    "\n",
    "df_amostra = amostrar_balanceado(df_treinamento, 'Credit_Score', 0.3)\n",
    "\n",
    "print(df_amostra['Credit_Score'].value_counts())\n"
   ]
  },
  {
   "cell_type": "markdown",
   "id": "e0005aea",
   "metadata": {
    "papermill": {
     "duration": 0.013005,
     "end_time": "2024-11-15T12:53:02.483713",
     "exception": false,
     "start_time": "2024-11-15T12:53:02.470708",
     "status": "completed"
    },
    "tags": []
   },
   "source": [
    "## Salvar Amostra"
   ]
  },
  {
   "cell_type": "code",
   "execution_count": 3,
   "id": "6a3ed883",
   "metadata": {
    "execution": {
     "iopub.execute_input": "2024-11-15T12:53:02.510220Z",
     "iopub.status.busy": "2024-11-15T12:53:02.510220Z",
     "iopub.status.idle": "2024-11-15T12:53:02.815713Z",
     "shell.execute_reply": "2024-11-15T12:53:02.815713Z"
    },
    "papermill": {
     "duration": 0.3205,
     "end_time": "2024-11-15T12:53:02.816719",
     "exception": false,
     "start_time": "2024-11-15T12:53:02.496219",
     "status": "completed"
    },
    "tags": []
   },
   "outputs": [],
   "source": [
    "df_treinamento.to_csv('../arquivos_csv/amostraTreinamento.csv', index=False)\n"
   ]
  }
 ],
 "metadata": {
  "kernelspec": {
   "display_name": "meu_ambiente",
   "language": "python",
   "name": "python3"
  },
  "language_info": {
   "codemirror_mode": {
    "name": "ipython",
    "version": 3
   },
   "file_extension": ".py",
   "mimetype": "text/x-python",
   "name": "python",
   "nbconvert_exporter": "python",
   "pygments_lexer": "ipython3",
   "version": "3.12.7"
  },
  "papermill": {
   "default_parameters": {},
   "duration": 2.330162,
   "end_time": "2024-11-15T12:53:03.040745",
   "environment_variables": {},
   "exception": null,
   "input_path": "..\\transformar_pt2\\5amostra.ipynb",
   "output_path": "..\\transformar_pt2\\5amostra.ipynb",
   "parameters": {},
   "start_time": "2024-11-15T12:53:00.710583",
   "version": "2.6.0"
  }
 },
 "nbformat": 4,
 "nbformat_minor": 5
}