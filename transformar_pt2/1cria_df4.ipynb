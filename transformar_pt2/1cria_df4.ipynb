{
 "cells": [
  {
   "cell_type": "code",
   "execution_count": 1,
   "id": "3aefc168",
   "metadata": {
    "execution": {
     "iopub.execute_input": "2024-11-15T12:52:36.692962Z",
     "iopub.status.busy": "2024-11-15T12:52:36.692962Z",
     "iopub.status.idle": "2024-11-15T12:52:37.409530Z",
     "shell.execute_reply": "2024-11-15T12:52:37.409530Z"
    },
    "papermill": {
     "duration": 0.725574,
     "end_time": "2024-11-15T12:52:37.410535",
     "exception": false,
     "start_time": "2024-11-15T12:52:36.684961",
     "status": "completed"
    },
    "tags": []
   },
   "outputs": [],
   "source": [
    "import pandas as pd\n",
    "\n",
    "df_treinamento = pd.read_csv('../arquivos_csv/treinamento3.csv', low_memory=False)\n",
    "df_teste = pd.read_csv('../arquivos_csv/teste3.csv', low_memory=False)\n",
    "\n"
   ]
  },
  {
   "cell_type": "markdown",
   "id": "1f9e2fd5",
   "metadata": {
    "papermill": {
     "duration": 0.014001,
     "end_time": "2024-11-15T12:52:37.431535",
     "exception": false,
     "start_time": "2024-11-15T12:52:37.417534",
     "status": "completed"
    },
    "tags": []
   },
   "source": [
    "## Salva novos df's"
   ]
  },
  {
   "cell_type": "code",
   "execution_count": 2,
   "id": "3881b7a7",
   "metadata": {
    "execution": {
     "iopub.execute_input": "2024-11-15T12:52:37.462538Z",
     "iopub.status.busy": "2024-11-15T12:52:37.462538Z",
     "iopub.status.idle": "2024-11-15T12:52:39.260477Z",
     "shell.execute_reply": "2024-11-15T12:52:39.260477Z"
    },
    "papermill": {
     "duration": 1.816949,
     "end_time": "2024-11-15T12:52:39.261484",
     "exception": false,
     "start_time": "2024-11-15T12:52:37.444535",
     "status": "completed"
    },
    "tags": []
   },
   "outputs": [],
   "source": [
    "df_treinamento.to_csv('../arquivos_csv/treinamento4.csv', index=False)\n",
    "df_teste.to_csv('../arquivos_csv/teste4.csv', index=False)"
   ]
  }
 ],
 "metadata": {
  "kernelspec": {
   "display_name": "meu_ambiente",
   "language": "python",
   "name": "python3"
  },
  "language_info": {
   "codemirror_mode": {
    "name": "ipython",
    "version": 3
   },
   "file_extension": ".py",
   "mimetype": "text/x-python",
   "name": "python",
   "nbconvert_exporter": "python",
   "pygments_lexer": "ipython3",
   "version": "3.12.7"
  },
  "papermill": {
   "default_parameters": {},
   "duration": 4.177832,
   "end_time": "2024-11-15T12:52:39.588558",
   "environment_variables": {},
   "exception": null,
   "input_path": "..\\transformar_pt2\\1cria_df4.ipynb",
   "output_path": "..\\transformar_pt2\\1cria_df4.ipynb",
   "parameters": {},
   "start_time": "2024-11-15T12:52:35.410726",
   "version": "2.6.0"
  }
 },
 "nbformat": 4,
 "nbformat_minor": 5
}