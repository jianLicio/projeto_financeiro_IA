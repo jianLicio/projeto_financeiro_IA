{
 "cells": [
  {
   "cell_type": "code",
   "execution_count": 1,
   "id": "3aefc168",
   "metadata": {
    "execution": {
     "iopub.execute_input": "2024-11-12T19:15:34.963313Z",
     "iopub.status.busy": "2024-11-12T19:15:34.963313Z",
     "iopub.status.idle": "2024-11-12T19:15:35.852040Z",
     "shell.execute_reply": "2024-11-12T19:15:35.852040Z"
    },
    "papermill": {
     "duration": 0.896731,
     "end_time": "2024-11-12T19:15:35.853044",
     "exception": false,
     "start_time": "2024-11-12T19:15:34.956313",
     "status": "completed"
    },
    "tags": []
   },
   "outputs": [],
   "source": [
    "import pandas as pd\n",
    "\n",
    "df_treinamento = pd.read_csv('../arquivos_csv/treinamento3.csv', low_memory=False)\n",
    "df_teste = pd.read_csv('../arquivos_csv/teste3.csv', low_memory=False)\n",
    "\n"
   ]
  },
  {
   "cell_type": "markdown",
   "id": "1f9e2fd5",
   "metadata": {
    "papermill": {
     "duration": 0.012999,
     "end_time": "2024-11-12T19:15:35.874047",
     "exception": false,
     "start_time": "2024-11-12T19:15:35.861048",
     "status": "completed"
    },
    "tags": []
   },
   "source": [
    "## Salva novos df's"
   ]
  },
  {
   "cell_type": "code",
   "execution_count": 2,
   "id": "3881b7a7",
   "metadata": {
    "execution": {
     "iopub.execute_input": "2024-11-12T19:15:35.903046Z",
     "iopub.status.busy": "2024-11-12T19:15:35.902046Z",
     "iopub.status.idle": "2024-11-12T19:15:37.775280Z",
     "shell.execute_reply": "2024-11-12T19:15:37.775280Z"
    },
    "papermill": {
     "duration": 1.889247,
     "end_time": "2024-11-12T19:15:37.777292",
     "exception": false,
     "start_time": "2024-11-12T19:15:35.888045",
     "status": "completed"
    },
    "tags": []
   },
   "outputs": [],
   "source": [
    "df_treinamento.to_csv('../arquivos_csv/treinamento4.csv', index=False)\n",
    "df_teste.to_csv('../arquivos_csv/teste4.csv', index=False)"
   ]
  }
 ],
 "metadata": {
  "kernelspec": {
   "display_name": "meu_ambiente",
   "language": "python",
   "name": "python3"
  },
  "language_info": {
   "codemirror_mode": {
    "name": "ipython",
    "version": 3
   },
   "file_extension": ".py",
   "mimetype": "text/x-python",
   "name": "python",
   "nbconvert_exporter": "python",
   "pygments_lexer": "ipython3",
   "version": "3.12.7"
  },
  "papermill": {
   "default_parameters": {},
   "duration": 4.494061,
   "end_time": "2024-11-12T19:15:38.100836",
   "environment_variables": {},
   "exception": null,
   "input_path": "..\\transformar_pt2\\1cria_df4.ipynb",
   "output_path": "..\\transformar_pt2\\1cria_df4.ipynb",
   "parameters": {},
   "start_time": "2024-11-12T19:15:33.606775",
   "version": "2.6.0"
  }
 },
 "nbformat": 4,
 "nbformat_minor": 5
}