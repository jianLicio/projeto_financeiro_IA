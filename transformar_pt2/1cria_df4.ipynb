{
 "cells": [
  {
   "cell_type": "code",
   "execution_count": 1,
   "id": "3aefc168",
   "metadata": {
    "execution": {
     "iopub.execute_input": "2024-11-13T13:03:11.811296Z",
     "iopub.status.busy": "2024-11-13T13:03:11.811296Z",
     "iopub.status.idle": "2024-11-13T13:03:12.609666Z",
     "shell.execute_reply": "2024-11-13T13:03:12.609666Z"
    },
    "papermill": {
     "duration": 0.80838,
     "end_time": "2024-11-13T13:03:12.611671",
     "exception": false,
     "start_time": "2024-11-13T13:03:11.803291",
     "status": "completed"
    },
    "tags": []
   },
   "outputs": [],
   "source": [
    "import pandas as pd\n",
    "\n",
    "df_treinamento = pd.read_csv('../arquivos_csv/treinamento3.csv', low_memory=False)\n",
    "df_teste = pd.read_csv('../arquivos_csv/teste3.csv', low_memory=False)\n",
    "\n"
   ]
  },
  {
   "cell_type": "markdown",
   "id": "1f9e2fd5",
   "metadata": {
    "papermill": {
     "duration": 0.01351,
     "end_time": "2024-11-13T13:03:12.632186",
     "exception": false,
     "start_time": "2024-11-13T13:03:12.618676",
     "status": "completed"
    },
    "tags": []
   },
   "source": [
    "## Salva novos df's"
   ]
  },
  {
   "cell_type": "code",
   "execution_count": 2,
   "id": "3881b7a7",
   "metadata": {
    "execution": {
     "iopub.execute_input": "2024-11-13T13:03:12.662188Z",
     "iopub.status.busy": "2024-11-13T13:03:12.662188Z",
     "iopub.status.idle": "2024-11-13T13:03:14.653930Z",
     "shell.execute_reply": "2024-11-13T13:03:14.653930Z"
    },
    "papermill": {
     "duration": 2.00875,
     "end_time": "2024-11-13T13:03:14.654938",
     "exception": false,
     "start_time": "2024-11-13T13:03:12.646188",
     "status": "completed"
    },
    "tags": []
   },
   "outputs": [],
   "source": [
    "df_treinamento.to_csv('../arquivos_csv/treinamento4.csv', index=False)\n",
    "df_teste.to_csv('../arquivos_csv/teste4.csv', index=False)"
   ]
  }
 ],
 "metadata": {
  "kernelspec": {
   "display_name": "meu_ambiente",
   "language": "python",
   "name": "python3"
  },
  "language_info": {
   "codemirror_mode": {
    "name": "ipython",
    "version": 3
   },
   "file_extension": ".py",
   "mimetype": "text/x-python",
   "name": "python",
   "nbconvert_exporter": "python",
   "pygments_lexer": "ipython3",
   "version": "3.12.7"
  },
  "papermill": {
   "default_parameters": {},
   "duration": 4.562905,
   "end_time": "2024-11-13T13:03:15.083008",
   "environment_variables": {},
   "exception": null,
   "input_path": "..\\transformar_pt2\\1cria_df4.ipynb",
   "output_path": "..\\transformar_pt2\\1cria_df4.ipynb",
   "parameters": {},
   "start_time": "2024-11-13T13:03:10.520103",
   "version": "2.6.0"
  }
 },
 "nbformat": 4,
 "nbformat_minor": 5
}