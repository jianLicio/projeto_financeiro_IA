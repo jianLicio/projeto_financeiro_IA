{
 "cells": [
  {
   "cell_type": "code",
   "execution_count": 1,
   "id": "6680736b",
   "metadata": {
    "execution": {
     "iopub.execute_input": "2024-11-13T12:50:51.726719Z",
     "iopub.status.busy": "2024-11-13T12:50:51.726719Z",
     "iopub.status.idle": "2024-11-13T12:50:52.693221Z",
     "shell.execute_reply": "2024-11-13T12:50:52.693221Z"
    },
    "papermill": {
     "duration": 0.975019,
     "end_time": "2024-11-13T12:50:52.694227",
     "exception": false,
     "start_time": "2024-11-13T12:50:51.719208",
     "status": "completed"
    },
    "tags": []
   },
   "outputs": [],
   "source": [
    "import pandas as pd\n",
    "import numpy as np\n",
    "\n",
    "df_treinamento = pd.read_csv('../arquivos_csv/treinamento3.csv', low_memory=False)\n",
    "df_teste = pd.read_csv('../arquivos_csv/teste3.csv', low_memory=False)\n"
   ]
  },
  {
   "cell_type": "markdown",
   "id": "2863ed08",
   "metadata": {
    "papermill": {
     "duration": 0.015008,
     "end_time": "2024-11-13T12:50:52.717234",
     "exception": false,
     "start_time": "2024-11-13T12:50:52.702226",
     "status": "completed"
    },
    "tags": []
   },
   "source": [
    "### Todos os valores nulos receberão o valor -1"
   ]
  },
  {
   "cell_type": "code",
   "execution_count": 2,
   "id": "91663d41",
   "metadata": {
    "execution": {
     "iopub.execute_input": "2024-11-13T12:50:52.747753Z",
     "iopub.status.busy": "2024-11-13T12:50:52.747753Z",
     "iopub.status.idle": "2024-11-13T12:50:52.802095Z",
     "shell.execute_reply": "2024-11-13T12:50:52.801555Z"
    },
    "papermill": {
     "duration": 0.07138,
     "end_time": "2024-11-13T12:50:52.803134",
     "exception": false,
     "start_time": "2024-11-13T12:50:52.731754",
     "status": "completed"
    },
    "tags": []
   },
   "outputs": [
    {
     "name": "stdout",
     "output_type": "stream",
     "text": [
      "Contagem de valores nulos restantes para treinamento: 0\n",
      "Contagem de valores nulos restantes para teste: 0\n"
     ]
    }
   ],
   "source": [
    "df_treinamento = df_treinamento.fillna(-1)\n",
    "null_counts = df_treinamento.isnull().sum().sum()\n",
    "\n",
    "print(f\"Contagem de valores nulos restantes para treinamento: {null_counts}\")\n",
    "\n",
    "df_teste = df_teste.fillna(-1)\n",
    "null_counts = df_teste.isnull().sum().sum()\n",
    "\n",
    "print(f\"Contagem de valores nulos restantes para teste: {null_counts}\")"
   ]
  },
  {
   "cell_type": "markdown",
   "id": "60354193",
   "metadata": {
    "papermill": {
     "duration": 0.015466,
     "end_time": "2024-11-13T12:50:52.827655",
     "exception": false,
     "start_time": "2024-11-13T12:50:52.812189",
     "status": "completed"
    },
    "tags": []
   },
   "source": [
    "## Salvar Dados"
   ]
  },
  {
   "cell_type": "code",
   "execution_count": 3,
   "id": "e7b70323",
   "metadata": {
    "execution": {
     "iopub.execute_input": "2024-11-13T12:50:52.857656Z",
     "iopub.status.busy": "2024-11-13T12:50:52.857656Z",
     "iopub.status.idle": "2024-11-13T12:50:55.169512Z",
     "shell.execute_reply": "2024-11-13T12:50:55.169512Z"
    },
    "papermill": {
     "duration": 2.328861,
     "end_time": "2024-11-13T12:50:55.170517",
     "exception": false,
     "start_time": "2024-11-13T12:50:52.841656",
     "status": "completed"
    },
    "tags": []
   },
   "outputs": [],
   "source": [
    "df_treinamento.to_csv('../arquivos_csv/treinamento3.csv', index=False)\n",
    "df_teste.to_csv('../arquivos_csv/teste3.csv', index=False)"
   ]
  }
 ],
 "metadata": {
  "kernelspec": {
   "display_name": "meu_ambiente",
   "language": "python",
   "name": "python3"
  },
  "language_info": {
   "codemirror_mode": {
    "name": "ipython",
    "version": 3
   },
   "file_extension": ".py",
   "mimetype": "text/x-python",
   "name": "python",
   "nbconvert_exporter": "python",
   "pygments_lexer": "ipython3",
   "version": "3.12.7"
  },
  "papermill": {
   "default_parameters": {},
   "duration": 5.049238,
   "end_time": "2024-11-13T12:50:55.503068",
   "environment_variables": {},
   "exception": null,
   "input_path": "..\\transformar_pt1\\3valores_nulos.ipynb",
   "output_path": "..\\transformar_pt1\\3valores_nulos.ipynb",
   "parameters": {},
   "start_time": "2024-11-13T12:50:50.453830",
   "version": "2.6.0"
  }
 },
 "nbformat": 4,
 "nbformat_minor": 5
}
