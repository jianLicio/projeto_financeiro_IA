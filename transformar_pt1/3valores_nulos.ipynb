{
 "cells": [
  {
   "cell_type": "code",
   "execution_count": 1,
   "id": "6680736b",
   "metadata": {
    "execution": {
     "iopub.execute_input": "2024-11-15T12:51:44.643148Z",
     "iopub.status.busy": "2024-11-15T12:51:44.642144Z",
     "iopub.status.idle": "2024-11-15T12:51:45.514274Z",
     "shell.execute_reply": "2024-11-15T12:51:45.514274Z"
    },
    "papermill": {
     "duration": 0.882137,
     "end_time": "2024-11-15T12:51:45.515281",
     "exception": false,
     "start_time": "2024-11-15T12:51:44.633144",
     "status": "completed"
    },
    "tags": []
   },
   "outputs": [],
   "source": [
    "import pandas as pd\n",
    "import numpy as np\n",
    "\n",
    "df_treinamento = pd.read_csv('../arquivos_csv/treinamento3.csv', low_memory=False)\n",
    "df_teste = pd.read_csv('../arquivos_csv/teste3.csv', low_memory=False)\n"
   ]
  },
  {
   "cell_type": "markdown",
   "id": "2863ed08",
   "metadata": {
    "papermill": {
     "duration": 0.011999,
     "end_time": "2024-11-15T12:51:45.535279",
     "exception": false,
     "start_time": "2024-11-15T12:51:45.523280",
     "status": "completed"
    },
    "tags": []
   },
   "source": [
    "### Todos os valores nulos receberão o valor -1"
   ]
  },
  {
   "cell_type": "code",
   "execution_count": 2,
   "id": "91663d41",
   "metadata": {
    "execution": {
     "iopub.execute_input": "2024-11-15T12:51:45.562288Z",
     "iopub.status.busy": "2024-11-15T12:51:45.561286Z",
     "iopub.status.idle": "2024-11-15T12:51:45.599366Z",
     "shell.execute_reply": "2024-11-15T12:51:45.599366Z"
    },
    "papermill": {
     "duration": 0.052089,
     "end_time": "2024-11-15T12:51:45.600371",
     "exception": false,
     "start_time": "2024-11-15T12:51:45.548282",
     "status": "completed"
    },
    "tags": []
   },
   "outputs": [
    {
     "name": "stdout",
     "output_type": "stream",
     "text": [
      "Contagem de valores nulos restantes para treinamento: 0\n",
      "Contagem de valores nulos restantes para teste: 0\n"
     ]
    }
   ],
   "source": [
    "df_treinamento = df_treinamento.fillna(-1)\n",
    "null_counts = df_treinamento.isnull().sum().sum()\n",
    "\n",
    "print(f\"Contagem de valores nulos restantes para treinamento: {null_counts}\")\n",
    "\n",
    "df_teste = df_teste.fillna(-1)\n",
    "null_counts = df_teste.isnull().sum().sum()\n",
    "\n",
    "print(f\"Contagem de valores nulos restantes para teste: {null_counts}\")"
   ]
  },
  {
   "cell_type": "markdown",
   "id": "60354193",
   "metadata": {
    "papermill": {
     "duration": 0.013,
     "end_time": "2024-11-15T12:51:45.620371",
     "exception": false,
     "start_time": "2024-11-15T12:51:45.607371",
     "status": "completed"
    },
    "tags": []
   },
   "source": [
    "## Salvar Dados"
   ]
  },
  {
   "cell_type": "code",
   "execution_count": 3,
   "id": "e7b70323",
   "metadata": {
    "execution": {
     "iopub.execute_input": "2024-11-15T12:51:45.645372Z",
     "iopub.status.busy": "2024-11-15T12:51:45.645372Z",
     "iopub.status.idle": "2024-11-15T12:51:47.767482Z",
     "shell.execute_reply": "2024-11-15T12:51:47.767482Z"
    },
    "papermill": {
     "duration": 2.136117,
     "end_time": "2024-11-15T12:51:47.768488",
     "exception": false,
     "start_time": "2024-11-15T12:51:45.632371",
     "status": "completed"
    },
    "tags": []
   },
   "outputs": [],
   "source": [
    "df_treinamento.to_csv('../arquivos_csv/treinamento3.csv', index=False)\n",
    "df_teste.to_csv('../arquivos_csv/teste3.csv', index=False)"
   ]
  }
 ],
 "metadata": {
  "kernelspec": {
   "display_name": "meu_ambiente",
   "language": "python",
   "name": "python3"
  },
  "language_info": {
   "codemirror_mode": {
    "name": "ipython",
    "version": 3
   },
   "file_extension": ".py",
   "mimetype": "text/x-python",
   "name": "python",
   "nbconvert_exporter": "python",
   "pygments_lexer": "ipython3",
   "version": "3.12.7"
  },
  "papermill": {
   "default_parameters": {},
   "duration": 4.722069,
   "end_time": "2024-11-15T12:51:48.095039",
   "environment_variables": {},
   "exception": null,
   "input_path": "..\\transformar_pt1\\3valores_nulos.ipynb",
   "output_path": "..\\transformar_pt1\\3valores_nulos.ipynb",
   "parameters": {},
   "start_time": "2024-11-15T12:51:43.372970",
   "version": "2.6.0"
  }
 },
 "nbformat": 4,
 "nbformat_minor": 5
}