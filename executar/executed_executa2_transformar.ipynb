{
 "cells": [
  {
   "cell_type": "markdown",
   "id": "c99e9b76",
   "metadata": {
    "papermill": {
     "duration": 0.006002,
     "end_time": "2024-11-12T01:20:56.955300",
     "exception": false,
     "start_time": "2024-11-12T01:20:56.949298",
     "status": "completed"
    },
    "tags": []
   },
   "source": [
    "### EXECUTANDO TODOS NOTEBOOKS DE PRÉ-PROCESSAMENTO"
   ]
  },
  {
   "cell_type": "code",
   "execution_count": 1,
   "id": "f3903bef",
   "metadata": {
    "execution": {
     "iopub.execute_input": "2024-11-12T01:20:56.985299Z",
     "iopub.status.busy": "2024-11-12T01:20:56.985299Z",
     "iopub.status.idle": "2024-11-12T01:22:06.547028Z",
     "shell.execute_reply": "2024-11-12T01:22:06.547028Z"
    },
    "papermill": {
     "duration": 69.576736,
     "end_time": "2024-11-12T01:22:06.548036",
     "exception": false,
     "start_time": "2024-11-12T01:20:56.971300",
     "status": "completed"
    },
    "tags": []
   },
   "outputs": [
    {
     "name": "stderr",
     "output_type": "stream",
     "text": [
      "C:\\Users\\jian_\\.conda\\envs\\meu_ambiente\\Lib\\site-packages\\tqdm\\auto.py:21: TqdmWarning: IProgress not found. Please update jupyter and ipywidgets. See https://ipywidgets.readthedocs.io/en/stable/user_install.html\n",
      "  from .autonotebook import tqdm as notebook_tqdm\n"
     ]
    },
    {
     "name": "stderr",
     "output_type": "stream",
     "text": [
      "\r",
      "Executing:   0%|          | 0/11 [00:00<?, ?cell/s]"
     ]
    },
    {
     "name": "stderr",
     "output_type": "stream",
     "text": [
      "\r",
      "Executing:   9%|▉         | 1/11 [00:03<00:36,  3.61s/cell]"
     ]
    },
    {
     "name": "stderr",
     "output_type": "stream",
     "text": [
      "\r",
      "Executing:  18%|█▊        | 2/11 [00:03<00:15,  1.68s/cell]"
     ]
    },
    {
     "name": "stderr",
     "output_type": "stream",
     "text": [
      "\r",
      "Executing:  27%|██▋       | 3/11 [00:04<00:08,  1.03s/cell]"
     ]
    },
    {
     "name": "stderr",
     "output_type": "stream",
     "text": [
      "\r",
      "Executing:  36%|███▋      | 4/11 [00:04<00:05,  1.30cell/s]"
     ]
    },
    {
     "name": "stderr",
     "output_type": "stream",
     "text": [
      "\r",
      "Executing:  45%|████▌     | 5/11 [00:04<00:03,  1.66cell/s]"
     ]
    },
    {
     "name": "stderr",
     "output_type": "stream",
     "text": [
      "\r",
      "Executing:  64%|██████▎   | 7/11 [00:05<00:01,  2.47cell/s]"
     ]
    },
    {
     "name": "stderr",
     "output_type": "stream",
     "text": [
      "\r",
      "Executing:  82%|████████▏ | 9/11 [00:05<00:00,  3.70cell/s]"
     ]
    },
    {
     "name": "stderr",
     "output_type": "stream",
     "text": [
      "\r",
      "Executing: 100%|██████████| 11/11 [00:08<00:00,  1.40cell/s]"
     ]
    },
    {
     "name": "stderr",
     "output_type": "stream",
     "text": [
      "\r",
      "Executing: 100%|██████████| 11/11 [00:08<00:00,  1.24cell/s]"
     ]
    },
    {
     "name": "stderr",
     "output_type": "stream",
     "text": [
      "\n"
     ]
    },
    {
     "name": "stdout",
     "output_type": "stream",
     "text": [
      "1Type_of_Loan.ipynb executado com sucesso.\n"
     ]
    },
    {
     "name": "stderr",
     "output_type": "stream",
     "text": [
      "\r",
      "Executing:   0%|          | 0/14 [00:00<?, ?cell/s]"
     ]
    },
    {
     "name": "stderr",
     "output_type": "stream",
     "text": [
      "\r",
      "Executing:   7%|▋         | 1/14 [00:02<00:33,  2.59s/cell]"
     ]
    },
    {
     "name": "stderr",
     "output_type": "stream",
     "text": [
      "\r",
      "Executing:  36%|███▌      | 5/14 [00:02<00:03,  2.43cell/s]"
     ]
    },
    {
     "name": "stderr",
     "output_type": "stream",
     "text": [
      "\r",
      "Executing:  50%|█████     | 7/14 [00:02<00:02,  3.25cell/s]"
     ]
    },
    {
     "name": "stderr",
     "output_type": "stream",
     "text": [
      "\r",
      "Executing:  79%|███████▊  | 11/14 [00:03<00:00,  6.07cell/s]"
     ]
    },
    {
     "name": "stderr",
     "output_type": "stream",
     "text": [
      "\r",
      "Executing: 100%|██████████| 14/14 [00:03<00:00,  3.99cell/s]"
     ]
    },
    {
     "name": "stderr",
     "output_type": "stream",
     "text": [
      "\n"
     ]
    },
    {
     "name": "stdout",
     "output_type": "stream",
     "text": [
      "2para_numerico.ipynb executado com sucesso.\n"
     ]
    },
    {
     "name": "stderr",
     "output_type": "stream",
     "text": [
      "\r",
      "Executing:   0%|          | 0/5 [00:00<?, ?cell/s]"
     ]
    },
    {
     "name": "stderr",
     "output_type": "stream",
     "text": [
      "\r",
      "Executing:  20%|██        | 1/5 [00:02<00:09,  2.37s/cell]"
     ]
    },
    {
     "name": "stderr",
     "output_type": "stream",
     "text": [
      "\r",
      "Executing:  60%|██████    | 3/5 [00:02<00:01,  1.50cell/s]"
     ]
    },
    {
     "name": "stderr",
     "output_type": "stream",
     "text": [
      "\r",
      "Executing: 100%|██████████| 5/5 [00:04<00:00,  1.09cell/s]"
     ]
    },
    {
     "name": "stderr",
     "output_type": "stream",
     "text": [
      "\r",
      "Executing: 100%|██████████| 5/5 [00:05<00:00,  1.03s/cell]"
     ]
    },
    {
     "name": "stderr",
     "output_type": "stream",
     "text": [
      "\n"
     ]
    },
    {
     "name": "stdout",
     "output_type": "stream",
     "text": [
      "3valores_nulos.ipynb executado com sucesso.\n"
     ]
    },
    {
     "name": "stderr",
     "output_type": "stream",
     "text": [
      "\r",
      "Executing:   0%|          | 0/31 [00:00<?, ?cell/s]"
     ]
    },
    {
     "name": "stderr",
     "output_type": "stream",
     "text": [
      "\r",
      "Executing:   3%|▎         | 1/31 [00:03<01:47,  3.59s/cell]"
     ]
    },
    {
     "name": "stderr",
     "output_type": "stream",
     "text": [
      "\r",
      "Executing:  10%|▉         | 3/31 [00:05<00:47,  1.69s/cell]"
     ]
    },
    {
     "name": "stderr",
     "output_type": "stream",
     "text": [
      "\r",
      "Executing:  16%|█▌        | 5/31 [00:05<00:22,  1.16cell/s]"
     ]
    },
    {
     "name": "stderr",
     "output_type": "stream",
     "text": [
      "\r",
      "Executing:  23%|██▎       | 7/31 [00:07<00:22,  1.07cell/s]"
     ]
    },
    {
     "name": "stderr",
     "output_type": "stream",
     "text": [
      "\r",
      "Executing:  29%|██▉       | 9/31 [00:08<00:13,  1.63cell/s]"
     ]
    },
    {
     "name": "stderr",
     "output_type": "stream",
     "text": [
      "\r",
      "Executing:  35%|███▌      | 11/31 [00:09<00:14,  1.41cell/s]"
     ]
    },
    {
     "name": "stderr",
     "output_type": "stream",
     "text": [
      "\r",
      "Executing:  42%|████▏     | 13/31 [00:09<00:08,  2.02cell/s]"
     ]
    },
    {
     "name": "stderr",
     "output_type": "stream",
     "text": [
      "\r",
      "Executing:  48%|████▊     | 15/31 [00:11<00:09,  1.66cell/s]"
     ]
    },
    {
     "name": "stderr",
     "output_type": "stream",
     "text": [
      "\r",
      "Executing:  55%|█████▍    | 17/31 [00:11<00:06,  2.30cell/s]"
     ]
    },
    {
     "name": "stderr",
     "output_type": "stream",
     "text": [
      "\r",
      "Executing:  61%|██████▏   | 19/31 [00:13<00:06,  1.83cell/s]"
     ]
    },
    {
     "name": "stderr",
     "output_type": "stream",
     "text": [
      "\r",
      "Executing:  68%|██████▊   | 21/31 [00:13<00:04,  2.49cell/s]"
     ]
    },
    {
     "name": "stderr",
     "output_type": "stream",
     "text": [
      "\r",
      "Executing:  74%|███████▍  | 23/31 [00:15<00:05,  1.58cell/s]"
     ]
    },
    {
     "name": "stderr",
     "output_type": "stream",
     "text": [
      "\r",
      "Executing:  81%|████████  | 25/31 [00:15<00:02,  2.14cell/s]"
     ]
    },
    {
     "name": "stderr",
     "output_type": "stream",
     "text": [
      "\r",
      "Executing:  87%|████████▋ | 27/31 [00:17<00:02,  1.70cell/s]"
     ]
    },
    {
     "name": "stderr",
     "output_type": "stream",
     "text": [
      "\r",
      "Executing:  94%|█████████▎| 29/31 [00:17<00:00,  2.28cell/s]"
     ]
    },
    {
     "name": "stderr",
     "output_type": "stream",
     "text": [
      "\r",
      "Executing: 100%|██████████| 31/31 [00:20<00:00,  1.56cell/s]"
     ]
    },
    {
     "name": "stderr",
     "output_type": "stream",
     "text": [
      "\r",
      "Executing: 100%|██████████| 31/31 [00:20<00:00,  1.50cell/s]"
     ]
    },
    {
     "name": "stderr",
     "output_type": "stream",
     "text": [
      "\n"
     ]
    },
    {
     "name": "stdout",
     "output_type": "stream",
     "text": [
      "4agrupamento_p1.ipynb executado com sucesso.\n"
     ]
    },
    {
     "name": "stderr",
     "output_type": "stream",
     "text": [
      "\r",
      "Executing:   0%|          | 0/43 [00:00<?, ?cell/s]"
     ]
    },
    {
     "name": "stderr",
     "output_type": "stream",
     "text": [
      "\r",
      "Executing:   2%|▏         | 1/43 [00:03<02:26,  3.48s/cell]"
     ]
    },
    {
     "name": "stderr",
     "output_type": "stream",
     "text": [
      "\r",
      "Executing:   7%|▋         | 3/43 [00:04<00:49,  1.25s/cell]"
     ]
    },
    {
     "name": "stderr",
     "output_type": "stream",
     "text": [
      "\r",
      "Executing:   9%|▉         | 4/43 [00:05<00:43,  1.10s/cell]"
     ]
    },
    {
     "name": "stderr",
     "output_type": "stream",
     "text": [
      "\r",
      "Executing:  14%|█▍        | 6/43 [00:07<00:38,  1.05s/cell]"
     ]
    },
    {
     "name": "stderr",
     "output_type": "stream",
     "text": [
      "\r",
      "Executing:  19%|█▊        | 8/43 [00:07<00:22,  1.54cell/s]"
     ]
    },
    {
     "name": "stderr",
     "output_type": "stream",
     "text": [
      "\r",
      "Executing:  23%|██▎       | 10/43 [00:09<00:24,  1.35cell/s]"
     ]
    },
    {
     "name": "stderr",
     "output_type": "stream",
     "text": [
      "\r",
      "Executing:  26%|██▌       | 11/43 [00:09<00:19,  1.64cell/s]"
     ]
    },
    {
     "name": "stderr",
     "output_type": "stream",
     "text": [
      "\r",
      "Executing:  28%|██▊       | 12/43 [00:09<00:15,  2.03cell/s]"
     ]
    },
    {
     "name": "stderr",
     "output_type": "stream",
     "text": [
      "\r",
      "Executing:  33%|███▎      | 14/43 [00:11<00:18,  1.56cell/s]"
     ]
    },
    {
     "name": "stderr",
     "output_type": "stream",
     "text": [
      "\r",
      "Executing:  35%|███▍      | 15/43 [00:11<00:14,  1.92cell/s]"
     ]
    },
    {
     "name": "stderr",
     "output_type": "stream",
     "text": [
      "\r",
      "Executing:  37%|███▋      | 16/43 [00:11<00:11,  2.36cell/s]"
     ]
    },
    {
     "name": "stderr",
     "output_type": "stream",
     "text": [
      "\r",
      "Executing:  42%|████▏     | 18/43 [00:12<00:14,  1.74cell/s]"
     ]
    },
    {
     "name": "stderr",
     "output_type": "stream",
     "text": [
      "\r",
      "Executing:  44%|████▍     | 19/43 [00:13<00:11,  2.13cell/s]"
     ]
    },
    {
     "name": "stderr",
     "output_type": "stream",
     "text": [
      "\r",
      "Executing:  47%|████▋     | 20/43 [00:13<00:08,  2.59cell/s]"
     ]
    },
    {
     "name": "stderr",
     "output_type": "stream",
     "text": [
      "\r",
      "Executing:  51%|█████     | 22/43 [00:14<00:12,  1.71cell/s]"
     ]
    },
    {
     "name": "stderr",
     "output_type": "stream",
     "text": [
      "\r",
      "Executing:  53%|█████▎    | 23/43 [00:15<00:09,  2.09cell/s]"
     ]
    },
    {
     "name": "stderr",
     "output_type": "stream",
     "text": [
      "\r",
      "Executing:  56%|█████▌    | 24/43 [00:15<00:07,  2.55cell/s]"
     ]
    },
    {
     "name": "stderr",
     "output_type": "stream",
     "text": [
      "\r",
      "Executing:  58%|█████▊    | 25/43 [00:15<00:05,  3.16cell/s]"
     ]
    },
    {
     "name": "stderr",
     "output_type": "stream",
     "text": [
      "\r",
      "Executing:  60%|██████    | 26/43 [00:16<00:11,  1.48cell/s]"
     ]
    },
    {
     "name": "stderr",
     "output_type": "stream",
     "text": [
      "\r",
      "Executing:  63%|██████▎   | 27/43 [00:17<00:08,  1.91cell/s]"
     ]
    },
    {
     "name": "stderr",
     "output_type": "stream",
     "text": [
      "\r",
      "Executing:  65%|██████▌   | 28/43 [00:17<00:06,  2.43cell/s]"
     ]
    },
    {
     "name": "stderr",
     "output_type": "stream",
     "text": [
      "\r",
      "Executing:  67%|██████▋   | 29/43 [00:17<00:04,  3.10cell/s]"
     ]
    },
    {
     "name": "stderr",
     "output_type": "stream",
     "text": [
      "\r",
      "Executing:  70%|██████▉   | 30/43 [00:18<00:08,  1.46cell/s]"
     ]
    },
    {
     "name": "stderr",
     "output_type": "stream",
     "text": [
      "\r",
      "Executing:  72%|███████▏  | 31/43 [00:18<00:06,  1.91cell/s]"
     ]
    },
    {
     "name": "stderr",
     "output_type": "stream",
     "text": [
      "\r",
      "Executing:  74%|███████▍  | 32/43 [00:19<00:04,  2.46cell/s]"
     ]
    },
    {
     "name": "stderr",
     "output_type": "stream",
     "text": [
      "\r",
      "Executing:  77%|███████▋  | 33/43 [00:19<00:03,  3.12cell/s]"
     ]
    },
    {
     "name": "stderr",
     "output_type": "stream",
     "text": [
      "\r",
      "Executing:  79%|███████▉  | 34/43 [00:20<00:06,  1.46cell/s]"
     ]
    },
    {
     "name": "stderr",
     "output_type": "stream",
     "text": [
      "\r",
      "Executing:  81%|████████▏ | 35/43 [00:20<00:04,  1.92cell/s]"
     ]
    },
    {
     "name": "stderr",
     "output_type": "stream",
     "text": [
      "\r",
      "Executing:  84%|████████▎ | 36/43 [00:21<00:02,  2.45cell/s]"
     ]
    },
    {
     "name": "stderr",
     "output_type": "stream",
     "text": [
      "\r",
      "Executing:  86%|████████▌ | 37/43 [00:21<00:01,  3.12cell/s]"
     ]
    },
    {
     "name": "stderr",
     "output_type": "stream",
     "text": [
      "\r",
      "Executing:  88%|████████▊ | 38/43 [00:21<00:01,  3.81cell/s]"
     ]
    },
    {
     "name": "stderr",
     "output_type": "stream",
     "text": [
      "\r",
      "Executing:  91%|█████████ | 39/43 [00:23<00:02,  1.38cell/s]"
     ]
    },
    {
     "name": "stderr",
     "output_type": "stream",
     "text": [
      "\r",
      "Executing:  93%|█████████▎| 40/43 [00:23<00:01,  1.86cell/s]"
     ]
    },
    {
     "name": "stderr",
     "output_type": "stream",
     "text": [
      "\r",
      "Executing:  98%|█████████▊| 42/43 [00:23<00:00,  3.14cell/s]"
     ]
    },
    {
     "name": "stderr",
     "output_type": "stream",
     "text": [
      "\r",
      "Executing: 100%|██████████| 43/43 [00:25<00:00,  1.41cell/s]"
     ]
    },
    {
     "name": "stderr",
     "output_type": "stream",
     "text": [
      "\r",
      "Executing: 100%|██████████| 43/43 [00:25<00:00,  1.67cell/s]"
     ]
    },
    {
     "name": "stderr",
     "output_type": "stream",
     "text": [
      "\n"
     ]
    },
    {
     "name": "stdout",
     "output_type": "stream",
     "text": [
      "4agrupamento.ipynb executado com sucesso.\n"
     ]
    },
    {
     "name": "stderr",
     "output_type": "stream",
     "text": [
      "\r",
      "Executing:   0%|          | 0/6 [00:00<?, ?cell/s]"
     ]
    },
    {
     "name": "stderr",
     "output_type": "stream",
     "text": [
      "\r",
      "Executing:  17%|█▋        | 1/6 [00:02<00:14,  2.81s/cell]"
     ]
    },
    {
     "name": "stderr",
     "output_type": "stream",
     "text": [
      "\r",
      "Executing:  50%|█████     | 3/6 [00:03<00:02,  1.12cell/s]"
     ]
    },
    {
     "name": "stderr",
     "output_type": "stream",
     "text": [
      "\r",
      "Executing:  83%|████████▎ | 5/6 [00:04<00:00,  1.41cell/s]"
     ]
    },
    {
     "name": "stderr",
     "output_type": "stream",
     "text": [
      "\r",
      "Executing: 100%|██████████| 6/6 [00:04<00:00,  1.23cell/s]"
     ]
    },
    {
     "name": "stdout",
     "output_type": "stream",
     "text": [
      "5reducao_dimensionalidade.ipynb executado com sucesso.\n"
     ]
    },
    {
     "name": "stderr",
     "output_type": "stream",
     "text": [
      "\n"
     ]
    }
   ],
   "source": [
    "import papermill as pm\n",
    "from pathlib import Path\n",
    "\n",
    "notebook_dir = Path(\"../transformar\")\n",
    "\n",
    "notebooks = [\n",
    "    \"1Type_of_Loan.ipynb\",\n",
    "    \"2para_numerico.ipynb\",\n",
    "    \"3valores_nulos.ipynb\",\n",
    "    \"4agrupamento_p1.ipynb\",\n",
    "    \"4agrupamento.ipynb\",\n",
    "    \"5reducao_dimensionalidade.ipynb\"\n",
    "]\n",
    "\n",
    "for notebook_name in notebooks:\n",
    "    notebook_path = notebook_dir / notebook_name\n",
    "    output_path = notebook_dir / f\"executed_{notebook_name}\"\n",
    "    pm.execute_notebook(str(notebook_path), str(output_path))\n",
    "    print(f\"{notebook_name} executado com sucesso.\")\n"
   ]
  }
 ],
 "metadata": {
  "kernelspec": {
   "display_name": "meu_ambiente",
   "language": "python",
   "name": "python3"
  },
  "language_info": {
   "codemirror_mode": {
    "name": "ipython",
    "version": 3
   },
   "file_extension": ".py",
   "mimetype": "text/x-python",
   "name": "python",
   "nbconvert_exporter": "python",
   "pygments_lexer": "ipython3",
   "version": "3.12.7"
  },
  "papermill": {
   "default_parameters": {},
   "duration": 71.077894,
   "end_time": "2024-11-12T01:22:06.776061",
   "environment_variables": {},
   "exception": null,
   "input_path": "executa2_transformar.ipynb",
   "output_path": "executed_executa2_transformar.ipynb",
   "parameters": {},
   "start_time": "2024-11-12T01:20:55.698167",
   "version": "2.6.0"
  }
 },
 "nbformat": 4,
 "nbformat_minor": 5
}