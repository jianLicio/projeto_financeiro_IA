{
 "cells": [
  {
   "cell_type": "code",
   "execution_count": 1,
   "id": "8797ec50",
   "metadata": {
    "execution": {
     "iopub.execute_input": "2024-11-15T12:53:04.775933Z",
     "iopub.status.busy": "2024-11-15T12:53:04.775933Z"
    },
    "papermill": {
     "duration": null,
     "end_time": null,
     "exception": false,
     "start_time": "2024-11-15T12:53:04.768927",
     "status": "running"
    },
    "tags": []
   },
   "outputs": [
    {
     "name": "stderr",
     "output_type": "stream",
     "text": [
      "C:\\Users\\jian_\\.conda\\envs\\meu_ambiente\\Lib\\site-packages\\tqdm\\auto.py:21: TqdmWarning: IProgress not found. Please update jupyter and ipywidgets. See https://ipywidgets.readthedocs.io/en/stable/user_install.html\n",
      "  from .autonotebook import tqdm as notebook_tqdm\n"
     ]
    },
    {
     "name": "stderr",
     "output_type": "stream",
     "text": [
      "\r",
      "Executing:   0%|          | 0/2 [00:00<?, ?cell/s]"
     ]
    },
    {
     "name": "stderr",
     "output_type": "stream",
     "text": [
      "\r",
      "Executing:  50%|█████     | 1/2 [00:03<00:03,  3.18s/cell]"
     ]
    },
    {
     "name": "stderr",
     "output_type": "stream",
     "text": [
      "\r",
      "Executing: 100%|██████████| 2/2 [00:12<00:00,  6.79s/cell]"
     ]
    },
    {
     "name": "stderr",
     "output_type": "stream",
     "text": [
      "\r",
      "Executing: 100%|██████████| 2/2 [00:13<00:00,  6.51s/cell]"
     ]
    },
    {
     "name": "stderr",
     "output_type": "stream",
     "text": [
      "\n"
     ]
    },
    {
     "name": "stdout",
     "output_type": "stream",
     "text": [
      "arvore_decisao.ipynb executado com sucesso.\n"
     ]
    },
    {
     "name": "stderr",
     "output_type": "stream",
     "text": [
      "\r",
      "Executing:   0%|          | 0/9 [00:00<?, ?cell/s]"
     ]
    },
    {
     "name": "stderr",
     "output_type": "stream",
     "text": [
      "\r",
      "Executing:  11%|█         | 1/9 [00:03<00:24,  3.02s/cell]"
     ]
    },
    {
     "name": "stderr",
     "output_type": "stream",
     "text": [
      "\r",
      "Executing:  33%|███▎      | 3/9 [02:13<04:55, 49.28s/cell]"
     ]
    }
   ],
   "source": [
    "import papermill as pm\n",
    "from pathlib import Path\n",
    "\n",
    "notebook_dir = Path(\"../classificar\")\n",
    "\n",
    "notebooks = [\n",
    "    # \"knn_pt1.ipynb\",\n",
    "    # \"knn_pt2.ipynb\",\n",
    "    \"arvore_decisao.ipynb\",\n",
    "    \"svm.ipynb\",\n",
    "]\n",
    "\n",
    "for notebook_name in notebooks:\n",
    "    notebook_path = notebook_dir / notebook_name\n",
    "    pm.execute_notebook(str(notebook_path), str(notebook_path))\n",
    "    print(f\"{notebook_name} executado com sucesso.\")\n"
   ]
  }
 ],
 "metadata": {
  "kernelspec": {
   "display_name": "meu_ambiente",
   "language": "python",
   "name": "python3"
  },
  "language_info": {
   "codemirror_mode": {
    "name": "ipython",
    "version": 3
   },
   "file_extension": ".py",
   "mimetype": "text/x-python",
   "name": "python",
   "nbconvert_exporter": "python",
   "pygments_lexer": "ipython3",
   "version": "3.12.7"
  },
  "papermill": {
   "default_parameters": {},
   "duration": null,
   "end_time": null,
   "environment_variables": {},
   "exception": null,
   "input_path": "executa4_classificadores.ipynb",
   "output_path": "executa4_classificadores.ipynb",
   "parameters": {},
   "start_time": "2024-11-15T12:53:03.310511",
   "version": "2.6.0"
  }
 },
 "nbformat": 4,
 "nbformat_minor": 5
}