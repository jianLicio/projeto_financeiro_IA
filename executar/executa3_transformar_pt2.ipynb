{
 "cells": [
  {
   "cell_type": "markdown",
   "id": "754b9e8e",
   "metadata": {
    "tags": [
     "papermill-error-cell-tag"
    ]
   },
   "source": [
    "<span style=\"color:red; font-family:Helvetica Neue, Helvetica, Arial, sans-serif; font-size:2em;\">An Exception was encountered at '<a href=\"#papermill-error-cell\">In [1]</a>'.</span>"
   ]
  },
  {
   "cell_type": "markdown",
   "id": "795a0090",
   "metadata": {
    "tags": [
     "papermill-error-cell-tag"
    ]
   },
   "source": [
    "<span id=\"papermill-error-cell\" style=\"color:red; font-family:Helvetica Neue, Helvetica, Arial, sans-serif; font-size:2em;\">Execution using papermill encountered an exception here and stopped:</span>"
   ]
  },
  {
   "cell_type": "code",
   "execution_count": 1,
   "id": "8a0644de",
   "metadata": {
    "execution": {
     "iopub.execute_input": "2024-11-13T12:51:43.782875Z",
     "iopub.status.busy": "2024-11-13T12:51:43.782875Z",
     "iopub.status.idle": "2024-11-13T12:52:15.411908Z",
     "shell.execute_reply": "2024-11-13T12:52:15.411908Z"
    },
    "papermill": {
     "duration": 31.637041,
     "end_time": "2024-11-13T12:52:15.412913",
     "exception": true,
     "start_time": "2024-11-13T12:51:43.775872",
     "status": "failed"
    },
    "tags": []
   },
   "outputs": [
    {
     "name": "stderr",
     "output_type": "stream",
     "text": [
      "C:\\Users\\jian_\\.conda\\envs\\meu_ambiente\\Lib\\site-packages\\tqdm\\auto.py:21: TqdmWarning: IProgress not found. Please update jupyter and ipywidgets. See https://ipywidgets.readthedocs.io/en/stable/user_install.html\n",
      "  from .autonotebook import tqdm as notebook_tqdm\n"
     ]
    },
    {
     "name": "stderr",
     "output_type": "stream",
     "text": [
      "\r",
      "Executing:   0%|          | 0/3 [00:00<?, ?cell/s]"
     ]
    },
    {
     "name": "stderr",
     "output_type": "stream",
     "text": [
      "\r",
      "Executing:  33%|███▎      | 1/3 [00:02<00:04,  2.02s/cell]"
     ]
    },
    {
     "name": "stderr",
     "output_type": "stream",
     "text": [
      "\r",
      "Executing: 100%|██████████| 3/3 [00:03<00:00,  1.24s/cell]"
     ]
    },
    {
     "name": "stderr",
     "output_type": "stream",
     "text": [
      "\r",
      "Executing: 100%|██████████| 3/3 [00:04<00:00,  1.43s/cell]"
     ]
    },
    {
     "name": "stderr",
     "output_type": "stream",
     "text": [
      "\n"
     ]
    },
    {
     "name": "stdout",
     "output_type": "stream",
     "text": [
      "1cria_df4.ipynb executado com sucesso.\n"
     ]
    },
    {
     "name": "stderr",
     "output_type": "stream",
     "text": [
      "\r",
      "Executing:   0%|          | 0/5 [00:00<?, ?cell/s]"
     ]
    },
    {
     "name": "stderr",
     "output_type": "stream",
     "text": [
      "\r",
      "Executing:  20%|██        | 1/5 [00:02<00:11,  2.84s/cell]"
     ]
    },
    {
     "name": "stderr",
     "output_type": "stream",
     "text": [
      "\r",
      "Executing:  60%|██████    | 3/5 [00:03<00:01,  1.19cell/s]"
     ]
    },
    {
     "name": "stderr",
     "output_type": "stream",
     "text": [
      "\r",
      "Executing: 100%|██████████| 5/5 [00:05<00:00,  1.08cell/s]"
     ]
    },
    {
     "name": "stderr",
     "output_type": "stream",
     "text": [
      "\r",
      "Executing: 100%|██████████| 5/5 [00:05<00:00,  1.13s/cell]"
     ]
    },
    {
     "name": "stderr",
     "output_type": "stream",
     "text": [
      "\n"
     ]
    },
    {
     "name": "stdout",
     "output_type": "stream",
     "text": [
      "2balanceamento.ipynb executado com sucesso.\n"
     ]
    },
    {
     "name": "stderr",
     "output_type": "stream",
     "text": [
      "\r",
      "Executing:   0%|          | 0/9 [00:00<?, ?cell/s]"
     ]
    },
    {
     "name": "stderr",
     "output_type": "stream",
     "text": [
      "\r",
      "Executing:  11%|█         | 1/9 [00:03<00:24,  3.04s/cell]"
     ]
    },
    {
     "name": "stderr",
     "output_type": "stream",
     "text": [
      "\r",
      "Executing:  33%|███▎      | 3/9 [00:03<00:05,  1.05cell/s]"
     ]
    },
    {
     "name": "stderr",
     "output_type": "stream",
     "text": [
      "\r",
      "Executing:  44%|████▍     | 4/9 [00:04<00:05,  1.09s/cell]"
     ]
    },
    {
     "name": "stderr",
     "output_type": "stream",
     "text": [
      "\r",
      "Executing:  56%|█████▌    | 5/9 [00:15<00:16,  4.11s/cell]"
     ]
    },
    {
     "name": "stderr",
     "output_type": "stream",
     "text": [
      "\r",
      "Executing:  89%|████████▉ | 8/9 [00:15<00:01,  1.72s/cell]"
     ]
    },
    {
     "name": "stderr",
     "output_type": "stream",
     "text": [
      "\r",
      "Executing: 100%|██████████| 9/9 [00:15<00:00,  1.76s/cell]"
     ]
    },
    {
     "name": "stderr",
     "output_type": "stream",
     "text": [
      "\n"
     ]
    },
    {
     "name": "stdout",
     "output_type": "stream",
     "text": [
      "3reducao_dimensionalidade.ipynb executado com sucesso.\n"
     ]
    },
    {
     "name": "stderr",
     "output_type": "stream",
     "text": [
      "\r",
      "Executing:   0%|          | 0/4 [00:00<?, ?cell/s]"
     ]
    },
    {
     "name": "stderr",
     "output_type": "stream",
     "text": [
      "\r",
      "Executing:  25%|██▌       | 1/4 [00:04<00:12,  4.01s/cell]"
     ]
    },
    {
     "name": "stderr",
     "output_type": "stream",
     "text": [
      "\r",
      "Executing:  25%|██▌       | 1/4 [00:04<00:14,  4.83s/cell]"
     ]
    },
    {
     "name": "stderr",
     "output_type": "stream",
     "text": [
      "\n"
     ]
    },
    {
     "ename": "PapermillExecutionError",
     "evalue": "\n---------------------------------------------------------------------------\nException encountered at \"In [1]\":\n---------------------------------------------------------------------------\nKeyError                                  Traceback (most recent call last)\nCell In[1], line 9\n      6 df_treinamento = pd.read_csv('../arquivos_csv/treinamento4.csv', low_memory=False)\n      7 df_teste = pd.read_csv('../arquivos_csv/teste4.csv', low_memory=False)\n----> 9 df_teste = df_teste.drop(columns=['Credit_Score '])\n\nFile ~\\AppData\\Roaming\\Python\\Python312\\site-packages\\pandas\\core\\frame.py:5581, in DataFrame.drop(self, labels, axis, index, columns, level, inplace, errors)\n   5433 def drop(\n   5434     self,\n   5435     labels: IndexLabel | None = None,\n   (...)\n   5442     errors: IgnoreRaise = \"raise\",\n   5443 ) -> DataFrame | None:\n   5444     \"\"\"\n   5445     Drop specified labels from rows or columns.\n   5446 \n   (...)\n   5579             weight  1.0     0.8\n   5580     \"\"\"\n-> 5581     return super().drop(\n   5582         labels=labels,\n   5583         axis=axis,\n   5584         index=index,\n   5585         columns=columns,\n   5586         level=level,\n   5587         inplace=inplace,\n   5588         errors=errors,\n   5589     )\n\nFile ~\\AppData\\Roaming\\Python\\Python312\\site-packages\\pandas\\core\\generic.py:4788, in NDFrame.drop(self, labels, axis, index, columns, level, inplace, errors)\n   4786 for axis, labels in axes.items():\n   4787     if labels is not None:\n-> 4788         obj = obj._drop_axis(labels, axis, level=level, errors=errors)\n   4790 if inplace:\n   4791     self._update_inplace(obj)\n\nFile ~\\AppData\\Roaming\\Python\\Python312\\site-packages\\pandas\\core\\generic.py:4830, in NDFrame._drop_axis(self, labels, axis, level, errors, only_slice)\n   4828         new_axis = axis.drop(labels, level=level, errors=errors)\n   4829     else:\n-> 4830         new_axis = axis.drop(labels, errors=errors)\n   4831     indexer = axis.get_indexer(new_axis)\n   4833 # Case for non-unique axis\n   4834 else:\n\nFile ~\\AppData\\Roaming\\Python\\Python312\\site-packages\\pandas\\core\\indexes\\base.py:7070, in Index.drop(self, labels, errors)\n   7068 if mask.any():\n   7069     if errors != \"ignore\":\n-> 7070         raise KeyError(f\"{labels[mask].tolist()} not found in axis\")\n   7071     indexer = indexer[~mask]\n   7072 return self.delete(indexer)\n\nKeyError: \"['Credit_Score '] not found in axis\"\n",
     "output_type": "error",
     "traceback": [
      "\u001b[1;31m---------------------------------------------------------------------------\u001b[0m",
      "\u001b[1;31mPapermillExecutionError\u001b[0m                   Traceback (most recent call last)",
      "Cell \u001b[1;32mIn[1], line 15\u001b[0m\n\u001b[0;32m     13\u001b[0m \u001b[38;5;28;01mfor\u001b[39;00m notebook_name \u001b[38;5;129;01min\u001b[39;00m notebooks:\n\u001b[0;32m     14\u001b[0m     notebook_path \u001b[38;5;241m=\u001b[39m notebook_dir \u001b[38;5;241m/\u001b[39m notebook_name\n\u001b[1;32m---> 15\u001b[0m     \u001b[43mpm\u001b[49m\u001b[38;5;241;43m.\u001b[39;49m\u001b[43mexecute_notebook\u001b[49m\u001b[43m(\u001b[49m\u001b[38;5;28;43mstr\u001b[39;49m\u001b[43m(\u001b[49m\u001b[43mnotebook_path\u001b[49m\u001b[43m)\u001b[49m\u001b[43m,\u001b[49m\u001b[43m \u001b[49m\u001b[38;5;28;43mstr\u001b[39;49m\u001b[43m(\u001b[49m\u001b[43mnotebook_path\u001b[49m\u001b[43m)\u001b[49m\u001b[43m)\u001b[49m\n\u001b[0;32m     16\u001b[0m     \u001b[38;5;28mprint\u001b[39m(\u001b[38;5;124mf\u001b[39m\u001b[38;5;124m\"\u001b[39m\u001b[38;5;132;01m{\u001b[39;00mnotebook_name\u001b[38;5;132;01m}\u001b[39;00m\u001b[38;5;124m executado com sucesso.\u001b[39m\u001b[38;5;124m\"\u001b[39m)\n",
      "File \u001b[1;32m~\\.conda\\envs\\meu_ambiente\\Lib\\site-packages\\papermill\\execute.py:131\u001b[0m, in \u001b[0;36mexecute_notebook\u001b[1;34m(input_path, output_path, parameters, engine_name, request_save_on_cell_execute, prepare_only, kernel_name, language, progress_bar, log_output, stdout_file, stderr_file, start_timeout, report_mode, cwd, **engine_kwargs)\u001b[0m\n\u001b[0;32m    116\u001b[0m         nb \u001b[38;5;241m=\u001b[39m papermill_engines\u001b[38;5;241m.\u001b[39mexecute_notebook_with_engine(\n\u001b[0;32m    117\u001b[0m             engine_name,\n\u001b[0;32m    118\u001b[0m             nb,\n\u001b[1;32m   (...)\u001b[0m\n\u001b[0;32m    127\u001b[0m             \u001b[38;5;241m*\u001b[39m\u001b[38;5;241m*\u001b[39mengine_kwargs,\n\u001b[0;32m    128\u001b[0m         )\n\u001b[0;32m    130\u001b[0m     \u001b[38;5;66;03m# Check for errors first (it saves on error before raising)\u001b[39;00m\n\u001b[1;32m--> 131\u001b[0m     \u001b[43mraise_for_execution_errors\u001b[49m\u001b[43m(\u001b[49m\u001b[43mnb\u001b[49m\u001b[43m,\u001b[49m\u001b[43m \u001b[49m\u001b[43moutput_path\u001b[49m\u001b[43m)\u001b[49m\n\u001b[0;32m    133\u001b[0m \u001b[38;5;66;03m# Write final output in case the engine didn't write it on cell completion.\u001b[39;00m\n\u001b[0;32m    134\u001b[0m write_ipynb(nb, output_path)\n",
      "File \u001b[1;32m~\\.conda\\envs\\meu_ambiente\\Lib\\site-packages\\papermill\\execute.py:251\u001b[0m, in \u001b[0;36mraise_for_execution_errors\u001b[1;34m(nb, output_path)\u001b[0m\n\u001b[0;32m    248\u001b[0m nb\u001b[38;5;241m.\u001b[39mcells\u001b[38;5;241m.\u001b[39minsert(\u001b[38;5;241m0\u001b[39m, error_msg_cell)\n\u001b[0;32m    250\u001b[0m write_ipynb(nb, output_path)\n\u001b[1;32m--> 251\u001b[0m \u001b[38;5;28;01mraise\u001b[39;00m error\n",
      "\u001b[1;31mPapermillExecutionError\u001b[0m: \n---------------------------------------------------------------------------\nException encountered at \"In [1]\":\n---------------------------------------------------------------------------\nKeyError                                  Traceback (most recent call last)\nCell In[1], line 9\n      6 df_treinamento = pd.read_csv('../arquivos_csv/treinamento4.csv', low_memory=False)\n      7 df_teste = pd.read_csv('../arquivos_csv/teste4.csv', low_memory=False)\n----> 9 df_teste = df_teste.drop(columns=['Credit_Score '])\n\nFile ~\\AppData\\Roaming\\Python\\Python312\\site-packages\\pandas\\core\\frame.py:5581, in DataFrame.drop(self, labels, axis, index, columns, level, inplace, errors)\n   5433 def drop(\n   5434     self,\n   5435     labels: IndexLabel | None = None,\n   (...)\n   5442     errors: IgnoreRaise = \"raise\",\n   5443 ) -> DataFrame | None:\n   5444     \"\"\"\n   5445     Drop specified labels from rows or columns.\n   5446 \n   (...)\n   5579             weight  1.0     0.8\n   5580     \"\"\"\n-> 5581     return super().drop(\n   5582         labels=labels,\n   5583         axis=axis,\n   5584         index=index,\n   5585         columns=columns,\n   5586         level=level,\n   5587         inplace=inplace,\n   5588         errors=errors,\n   5589     )\n\nFile ~\\AppData\\Roaming\\Python\\Python312\\site-packages\\pandas\\core\\generic.py:4788, in NDFrame.drop(self, labels, axis, index, columns, level, inplace, errors)\n   4786 for axis, labels in axes.items():\n   4787     if labels is not None:\n-> 4788         obj = obj._drop_axis(labels, axis, level=level, errors=errors)\n   4790 if inplace:\n   4791     self._update_inplace(obj)\n\nFile ~\\AppData\\Roaming\\Python\\Python312\\site-packages\\pandas\\core\\generic.py:4830, in NDFrame._drop_axis(self, labels, axis, level, errors, only_slice)\n   4828         new_axis = axis.drop(labels, level=level, errors=errors)\n   4829     else:\n-> 4830         new_axis = axis.drop(labels, errors=errors)\n   4831     indexer = axis.get_indexer(new_axis)\n   4833 # Case for non-unique axis\n   4834 else:\n\nFile ~\\AppData\\Roaming\\Python\\Python312\\site-packages\\pandas\\core\\indexes\\base.py:7070, in Index.drop(self, labels, errors)\n   7068 if mask.any():\n   7069     if errors != \"ignore\":\n-> 7070         raise KeyError(f\"{labels[mask].tolist()} not found in axis\")\n   7071     indexer = indexer[~mask]\n   7072 return self.delete(indexer)\n\nKeyError: \"['Credit_Score '] not found in axis\"\n"
     ]
    }
   ],
   "source": [
    "import papermill as pm\n",
    "from pathlib import Path\n",
    "\n",
    "notebook_dir = Path(\"../transformar_pt2\")\n",
    "\n",
    "notebooks = [\n",
    "    \"1cria_df4.ipynb\",\n",
    "    \"2balanceamento.ipynb\",\n",
    "    \"3reducao_dimensionalidade.ipynb\",\n",
    "    \"4normalizar.ipynb\"\n",
    "]\n",
    "\n",
    "for notebook_name in notebooks:\n",
    "    notebook_path = notebook_dir / notebook_name\n",
    "    pm.execute_notebook(str(notebook_path), str(notebook_path))\n",
    "    print(f\"{notebook_name} executado com sucesso.\")\n"
   ]
  }
 ],
 "metadata": {
  "kernelspec": {
   "display_name": "meu_ambiente",
   "language": "python",
   "name": "python3"
  },
  "language_info": {
   "codemirror_mode": {
    "name": "ipython",
    "version": 3
   },
   "file_extension": ".py",
   "mimetype": "text/x-python",
   "name": "python",
   "nbconvert_exporter": "python",
   "pygments_lexer": "ipython3",
   "version": "3.12.7"
  },
  "papermill": {
   "default_parameters": {},
   "duration": 33.314189,
   "end_time": "2024-11-13T12:52:15.827094",
   "environment_variables": {},
   "exception": true,
   "input_path": "executa3_transformar_pt2.ipynb",
   "output_path": "executa3_transformar_pt2.ipynb",
   "parameters": {},
   "start_time": "2024-11-13T12:51:42.512905",
   "version": "2.6.0"
  }
 },
 "nbformat": 4,
 "nbformat_minor": 5
}