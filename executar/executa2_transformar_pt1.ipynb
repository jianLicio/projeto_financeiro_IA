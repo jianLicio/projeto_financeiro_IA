{
 "cells": [
  {
   "cell_type": "markdown",
   "id": "5b7fb47f",
   "metadata": {
    "papermill": {
     "duration": 0.005999,
     "end_time": "2024-11-12T17:18:18.544020",
     "exception": false,
     "start_time": "2024-11-12T17:18:18.538021",
     "status": "completed"
    },
    "tags": []
   },
   "source": [
    "### EXECUTANDO TODOS NOTEBOOKS DE PRÉ-PROCESSAMENTO"
   ]
  },
  {
   "cell_type": "code",
   "execution_count": 3,
   "id": "5647dc32",
   "metadata": {
    "execution": {
     "iopub.execute_input": "2024-11-12T17:18:18.573023Z",
     "iopub.status.busy": "2024-11-12T17:18:18.573023Z",
     "iopub.status.idle": "2024-11-12T17:19:38.239659Z",
     "shell.execute_reply": "2024-11-12T17:19:38.239659Z"
    },
    "papermill": {
     "duration": 79.682647,
     "end_time": "2024-11-12T17:19:38.240667",
     "exception": false,
     "start_time": "2024-11-12T17:18:18.558020",
     "status": "completed"
    },
    "tags": []
   },
   "outputs": [
    {
     "name": "stderr",
     "output_type": "stream",
     "text": [
      "Executing: 100%|██████████| 11/11 [00:07<00:00,  1.39cell/s]\n"
     ]
    },
    {
     "name": "stdout",
     "output_type": "stream",
     "text": [
      "1Type_of_Loan.ipynb executado com sucesso.\n"
     ]
    },
    {
     "name": "stderr",
     "output_type": "stream",
     "text": [
      "Executing: 100%|██████████| 14/14 [00:05<00:00,  2.36cell/s]\n"
     ]
    },
    {
     "name": "stdout",
     "output_type": "stream",
     "text": [
      "2para_numerico.ipynb executado com sucesso.\n"
     ]
    },
    {
     "name": "stderr",
     "output_type": "stream",
     "text": [
      "Executing: 100%|██████████| 5/5 [00:04<00:00,  1.01cell/s]\n"
     ]
    },
    {
     "name": "stdout",
     "output_type": "stream",
     "text": [
      "3valores_nulos.ipynb executado com sucesso.\n"
     ]
    },
    {
     "name": "stderr",
     "output_type": "stream",
     "text": [
      "Executing: 100%|██████████| 31/31 [00:22<00:00,  1.39cell/s]\n"
     ]
    },
    {
     "name": "stdout",
     "output_type": "stream",
     "text": [
      "4agrupamento_p1.ipynb executado com sucesso.\n"
     ]
    },
    {
     "name": "stderr",
     "output_type": "stream",
     "text": [
      "Executing: 100%|██████████| 43/43 [00:25<00:00,  1.68cell/s]"
     ]
    },
    {
     "name": "stdout",
     "output_type": "stream",
     "text": [
      "4agrupamento_p2.ipynb executado com sucesso.\n"
     ]
    },
    {
     "name": "stderr",
     "output_type": "stream",
     "text": [
      "\n"
     ]
    }
   ],
   "source": [
    "import papermill as pm\n",
    "from pathlib import Path\n",
    "\n",
    "notebook_dir = Path(\"../transformar_pt1\")\n",
    "\n",
    "notebooks = [\n",
    "    \"1Type_of_Loan.ipynb\",\n",
    "    \"2para_numerico.ipynb\",\n",
    "    \"3valores_nulos.ipynb\",\n",
    "    \"4agrupamento_p1.ipynb\",\n",
    "    \"4agrupamento_p2.ipynb\",\n",
    "]\n",
    "\n",
    "for notebook_name in notebooks:\n",
    "    notebook_path = notebook_dir / notebook_name\n",
    "    pm.execute_notebook(str(notebook_path), str(notebook_path))\n",
    "    print(f\"{notebook_name} executado com sucesso.\")\n"
   ]
  }
 ],
 "metadata": {
  "kernelspec": {
   "display_name": "meu_ambiente",
   "language": "python",
   "name": "python3"
  },
  "language_info": {
   "codemirror_mode": {
    "name": "ipython",
    "version": 3
   },
   "file_extension": ".py",
   "mimetype": "text/x-python",
   "name": "python",
   "nbconvert_exporter": "python",
   "pygments_lexer": "ipython3",
   "version": "3.12.7"
  },
  "papermill": {
   "default_parameters": {},
   "duration": 81.194624,
   "end_time": "2024-11-12T17:19:38.479827",
   "environment_variables": {},
   "exception": null,
   "input_path": "executa2_transformar.ipynb",
   "output_path": "executa2_transformar.ipynb",
   "parameters": {},
   "start_time": "2024-11-12T17:18:17.285203",
   "version": "2.6.0"
  }
 },
 "nbformat": 4,
 "nbformat_minor": 5
}
