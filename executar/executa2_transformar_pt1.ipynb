{
 "cells": [
  {
   "cell_type": "markdown",
   "id": "5b7fb47f",
   "metadata": {
    "papermill": {
     "duration": 0.011004,
     "end_time": "2024-11-13T12:50:35.367940",
     "exception": false,
     "start_time": "2024-11-13T12:50:35.356936",
     "status": "completed"
    },
    "tags": []
   },
   "source": [
    "### EXECUTANDO TODOS NOTEBOOKS DE PRÉ-PROCESSAMENTO"
   ]
  },
  {
   "cell_type": "code",
   "execution_count": 1,
   "id": "5647dc32",
   "metadata": {
    "execution": {
     "iopub.execute_input": "2024-11-13T12:50:35.415631Z",
     "iopub.status.busy": "2024-11-13T12:50:35.415631Z",
     "iopub.status.idle": "2024-11-13T12:51:42.251870Z",
     "shell.execute_reply": "2024-11-13T12:51:42.251870Z"
    },
    "papermill": {
     "duration": 66.858779,
     "end_time": "2024-11-13T12:51:42.252878",
     "exception": false,
     "start_time": "2024-11-13T12:50:35.394099",
     "status": "completed"
    },
    "tags": []
   },
   "outputs": [
    {
     "name": "stderr",
     "output_type": "stream",
     "text": [
      "C:\\Users\\jian_\\.conda\\envs\\meu_ambiente\\Lib\\site-packages\\tqdm\\auto.py:21: TqdmWarning: IProgress not found. Please update jupyter and ipywidgets. See https://ipywidgets.readthedocs.io/en/stable/user_install.html\n",
      "  from .autonotebook import tqdm as notebook_tqdm\n"
     ]
    },
    {
     "name": "stderr",
     "output_type": "stream",
     "text": [
      "\r",
      "Executing:   0%|          | 0/11 [00:00<?, ?cell/s]"
     ]
    },
    {
     "name": "stderr",
     "output_type": "stream",
     "text": [
      "\r",
      "Executing:   9%|▉         | 1/11 [00:03<00:32,  3.21s/cell]"
     ]
    },
    {
     "name": "stderr",
     "output_type": "stream",
     "text": [
      "\r",
      "Executing:  18%|█▊        | 2/11 [00:03<00:13,  1.49s/cell]"
     ]
    },
    {
     "name": "stderr",
     "output_type": "stream",
     "text": [
      "\r",
      "Executing:  27%|██▋       | 3/11 [00:03<00:07,  1.08cell/s]"
     ]
    },
    {
     "name": "stderr",
     "output_type": "stream",
     "text": [
      "\r",
      "Executing:  36%|███▋      | 4/11 [00:04<00:04,  1.44cell/s]"
     ]
    },
    {
     "name": "stderr",
     "output_type": "stream",
     "text": [
      "\r",
      "Executing:  45%|████▌     | 5/11 [00:04<00:03,  1.82cell/s]"
     ]
    },
    {
     "name": "stderr",
     "output_type": "stream",
     "text": [
      "\r",
      "Executing:  64%|██████▎   | 7/11 [00:04<00:01,  2.65cell/s]"
     ]
    },
    {
     "name": "stderr",
     "output_type": "stream",
     "text": [
      "\r",
      "Executing:  82%|████████▏ | 9/11 [00:04<00:00,  3.99cell/s]"
     ]
    },
    {
     "name": "stderr",
     "output_type": "stream",
     "text": [
      "\r",
      "Executing: 100%|██████████| 11/11 [00:07<00:00,  1.55cell/s]"
     ]
    },
    {
     "name": "stderr",
     "output_type": "stream",
     "text": [
      "\r",
      "Executing: 100%|██████████| 11/11 [00:08<00:00,  1.36cell/s]"
     ]
    },
    {
     "name": "stderr",
     "output_type": "stream",
     "text": [
      "\n"
     ]
    },
    {
     "name": "stdout",
     "output_type": "stream",
     "text": [
      "1Type_of_Loan.ipynb executado com sucesso.\n"
     ]
    },
    {
     "name": "stderr",
     "output_type": "stream",
     "text": [
      "\r",
      "Executing:   0%|          | 0/14 [00:00<?, ?cell/s]"
     ]
    },
    {
     "name": "stderr",
     "output_type": "stream",
     "text": [
      "\r",
      "Executing:   7%|▋         | 1/14 [00:02<00:35,  2.77s/cell]"
     ]
    },
    {
     "name": "stderr",
     "output_type": "stream",
     "text": [
      "\r",
      "Executing:  29%|██▊       | 4/14 [00:02<00:05,  1.80cell/s]"
     ]
    },
    {
     "name": "stderr",
     "output_type": "stream",
     "text": [
      "\r",
      "Executing:  43%|████▎     | 6/14 [00:03<00:03,  2.63cell/s]"
     ]
    },
    {
     "name": "stderr",
     "output_type": "stream",
     "text": [
      "\r",
      "Executing:  64%|██████▍   | 9/14 [00:03<00:01,  4.69cell/s]"
     ]
    },
    {
     "name": "stderr",
     "output_type": "stream",
     "text": [
      "\r",
      "Executing:  86%|████████▌ | 12/14 [00:03<00:00,  7.11cell/s]"
     ]
    },
    {
     "name": "stderr",
     "output_type": "stream",
     "text": [
      "\r",
      "Executing: 100%|██████████| 14/14 [00:06<00:00,  2.24cell/s]"
     ]
    },
    {
     "name": "stderr",
     "output_type": "stream",
     "text": [
      "\n"
     ]
    },
    {
     "name": "stdout",
     "output_type": "stream",
     "text": [
      "2para_numerico.ipynb executado com sucesso.\n"
     ]
    },
    {
     "name": "stderr",
     "output_type": "stream",
     "text": [
      "\r",
      "Executing:   0%|          | 0/5 [00:00<?, ?cell/s]"
     ]
    },
    {
     "name": "stderr",
     "output_type": "stream",
     "text": [
      "\r",
      "Executing:  20%|██        | 1/5 [00:02<00:08,  2.25s/cell]"
     ]
    },
    {
     "name": "stderr",
     "output_type": "stream",
     "text": [
      "\r",
      "Executing:  60%|██████    | 3/5 [00:02<00:01,  1.60cell/s]"
     ]
    },
    {
     "name": "stderr",
     "output_type": "stream",
     "text": [
      "\r",
      "Executing: 100%|██████████| 5/5 [00:04<00:00,  1.10cell/s]"
     ]
    },
    {
     "name": "stderr",
     "output_type": "stream",
     "text": [
      "\r",
      "Executing: 100%|██████████| 5/5 [00:05<00:00,  1.01s/cell]"
     ]
    },
    {
     "name": "stderr",
     "output_type": "stream",
     "text": [
      "\n"
     ]
    },
    {
     "name": "stdout",
     "output_type": "stream",
     "text": [
      "3valores_nulos.ipynb executado com sucesso.\n"
     ]
    },
    {
     "name": "stderr",
     "output_type": "stream",
     "text": [
      "\r",
      "Executing:   0%|          | 0/31 [00:00<?, ?cell/s]"
     ]
    },
    {
     "name": "stderr",
     "output_type": "stream",
     "text": [
      "\r",
      "Executing:   3%|▎         | 1/31 [00:03<01:41,  3.38s/cell]"
     ]
    },
    {
     "name": "stderr",
     "output_type": "stream",
     "text": [
      "\r",
      "Executing:  10%|▉         | 3/31 [00:05<00:44,  1.60s/cell]"
     ]
    },
    {
     "name": "stderr",
     "output_type": "stream",
     "text": [
      "\r",
      "Executing:  16%|█▌        | 5/31 [00:05<00:21,  1.22cell/s]"
     ]
    },
    {
     "name": "stderr",
     "output_type": "stream",
     "text": [
      "\r",
      "Executing:  23%|██▎       | 7/31 [00:07<00:21,  1.13cell/s]"
     ]
    },
    {
     "name": "stderr",
     "output_type": "stream",
     "text": [
      "\r",
      "Executing:  29%|██▉       | 9/31 [00:07<00:12,  1.72cell/s]"
     ]
    },
    {
     "name": "stderr",
     "output_type": "stream",
     "text": [
      "\r",
      "Executing:  35%|███▌      | 11/31 [00:09<00:14,  1.41cell/s]"
     ]
    },
    {
     "name": "stderr",
     "output_type": "stream",
     "text": [
      "\r",
      "Executing:  42%|████▏     | 13/31 [00:09<00:08,  2.01cell/s]"
     ]
    },
    {
     "name": "stderr",
     "output_type": "stream",
     "text": [
      "\r",
      "Executing:  48%|████▊     | 15/31 [00:11<00:10,  1.55cell/s]"
     ]
    },
    {
     "name": "stderr",
     "output_type": "stream",
     "text": [
      "\r",
      "Executing:  55%|█████▍    | 17/31 [00:11<00:06,  2.14cell/s]"
     ]
    },
    {
     "name": "stderr",
     "output_type": "stream",
     "text": [
      "\r",
      "Executing:  61%|██████▏   | 19/31 [00:13<00:07,  1.68cell/s]"
     ]
    },
    {
     "name": "stderr",
     "output_type": "stream",
     "text": [
      "\r",
      "Executing:  68%|██████▊   | 21/31 [00:13<00:04,  2.27cell/s]"
     ]
    },
    {
     "name": "stderr",
     "output_type": "stream",
     "text": [
      "\r",
      "Executing:  74%|███████▍  | 23/31 [00:16<00:05,  1.40cell/s]"
     ]
    },
    {
     "name": "stderr",
     "output_type": "stream",
     "text": [
      "\r",
      "Executing:  81%|████████  | 25/31 [00:16<00:03,  1.90cell/s]"
     ]
    },
    {
     "name": "stderr",
     "output_type": "stream",
     "text": [
      "\r",
      "Executing:  87%|████████▋ | 27/31 [00:18<00:02,  1.54cell/s]"
     ]
    },
    {
     "name": "stderr",
     "output_type": "stream",
     "text": [
      "\r",
      "Executing:  94%|█████████▎| 29/31 [00:18<00:00,  2.08cell/s]"
     ]
    },
    {
     "name": "stderr",
     "output_type": "stream",
     "text": [
      "\r",
      "Executing: 100%|██████████| 31/31 [00:21<00:00,  1.25cell/s]"
     ]
    },
    {
     "name": "stderr",
     "output_type": "stream",
     "text": [
      "\r",
      "Executing: 100%|██████████| 31/31 [00:22<00:00,  1.40cell/s]"
     ]
    },
    {
     "name": "stderr",
     "output_type": "stream",
     "text": [
      "\n"
     ]
    },
    {
     "name": "stdout",
     "output_type": "stream",
     "text": [
      "4agrupamento_p1.ipynb executado com sucesso.\n"
     ]
    },
    {
     "name": "stderr",
     "output_type": "stream",
     "text": [
      "\r",
      "Executing:   0%|          | 0/43 [00:00<?, ?cell/s]"
     ]
    },
    {
     "name": "stderr",
     "output_type": "stream",
     "text": [
      "\r",
      "Executing:   2%|▏         | 1/43 [00:03<02:21,  3.37s/cell]"
     ]
    },
    {
     "name": "stderr",
     "output_type": "stream",
     "text": [
      "\r",
      "Executing:   7%|▋         | 3/43 [00:04<00:45,  1.14s/cell]"
     ]
    },
    {
     "name": "stderr",
     "output_type": "stream",
     "text": [
      "\r",
      "Executing:   9%|▉         | 4/43 [00:04<00:37,  1.03cell/s]"
     ]
    },
    {
     "name": "stderr",
     "output_type": "stream",
     "text": [
      "\r",
      "Executing:  14%|█▍        | 6/43 [00:06<00:32,  1.12cell/s]"
     ]
    },
    {
     "name": "stderr",
     "output_type": "stream",
     "text": [
      "\r",
      "Executing:  19%|█▊        | 8/43 [00:06<00:19,  1.81cell/s]"
     ]
    },
    {
     "name": "stderr",
     "output_type": "stream",
     "text": [
      "\r",
      "Executing:  23%|██▎       | 10/43 [00:08<00:21,  1.53cell/s]"
     ]
    },
    {
     "name": "stderr",
     "output_type": "stream",
     "text": [
      "\r",
      "Executing:  28%|██▊       | 12/43 [00:08<00:14,  2.20cell/s]"
     ]
    },
    {
     "name": "stderr",
     "output_type": "stream",
     "text": [
      "\r",
      "Executing:  33%|███▎      | 14/43 [00:10<00:17,  1.63cell/s]"
     ]
    },
    {
     "name": "stderr",
     "output_type": "stream",
     "text": [
      "\r",
      "Executing:  35%|███▍      | 15/43 [00:10<00:14,  1.94cell/s]"
     ]
    },
    {
     "name": "stderr",
     "output_type": "stream",
     "text": [
      "\r",
      "Executing:  37%|███▋      | 16/43 [00:10<00:11,  2.34cell/s]"
     ]
    },
    {
     "name": "stderr",
     "output_type": "stream",
     "text": [
      "\r",
      "Executing:  42%|████▏     | 18/43 [00:12<00:15,  1.63cell/s]"
     ]
    },
    {
     "name": "stderr",
     "output_type": "stream",
     "text": [
      "\r",
      "Executing:  47%|████▋     | 20/43 [00:12<00:09,  2.33cell/s]"
     ]
    },
    {
     "name": "stderr",
     "output_type": "stream",
     "text": [
      "\r",
      "Executing:  51%|█████     | 22/43 [00:14<00:12,  1.62cell/s]"
     ]
    },
    {
     "name": "stderr",
     "output_type": "stream",
     "text": [
      "\r",
      "Executing:  56%|█████▌    | 24/43 [00:14<00:08,  2.24cell/s]"
     ]
    },
    {
     "name": "stderr",
     "output_type": "stream",
     "text": [
      "\r",
      "Executing:  60%|██████    | 26/43 [00:16<00:09,  1.75cell/s]"
     ]
    },
    {
     "name": "stderr",
     "output_type": "stream",
     "text": [
      "\r",
      "Executing:  65%|██████▌   | 28/43 [00:16<00:06,  2.37cell/s]"
     ]
    },
    {
     "name": "stderr",
     "output_type": "stream",
     "text": [
      "\r",
      "Executing:  70%|██████▉   | 30/43 [00:18<00:06,  1.87cell/s]"
     ]
    },
    {
     "name": "stderr",
     "output_type": "stream",
     "text": [
      "\r",
      "Executing:  74%|███████▍  | 32/43 [00:18<00:04,  2.51cell/s]"
     ]
    },
    {
     "name": "stderr",
     "output_type": "stream",
     "text": [
      "\r",
      "Executing:  79%|███████▉  | 34/43 [00:19<00:04,  1.86cell/s]"
     ]
    },
    {
     "name": "stderr",
     "output_type": "stream",
     "text": [
      "\r",
      "Executing:  84%|████████▎ | 36/43 [00:20<00:02,  2.49cell/s]"
     ]
    },
    {
     "name": "stderr",
     "output_type": "stream",
     "text": [
      "\r",
      "Executing:  88%|████████▊ | 38/43 [00:20<00:01,  3.35cell/s]"
     ]
    },
    {
     "name": "stderr",
     "output_type": "stream",
     "text": [
      "\r",
      "Executing:  93%|█████████▎| 40/43 [00:22<00:01,  2.08cell/s]"
     ]
    },
    {
     "name": "stderr",
     "output_type": "stream",
     "text": [
      "\r",
      "Executing:  95%|█████████▌| 41/43 [00:22<00:00,  2.41cell/s]"
     ]
    },
    {
     "name": "stderr",
     "output_type": "stream",
     "text": [
      "\r",
      "Executing: 100%|██████████| 43/43 [00:23<00:00,  1.70cell/s]"
     ]
    },
    {
     "name": "stderr",
     "output_type": "stream",
     "text": [
      "\r",
      "Executing: 100%|██████████| 43/43 [00:24<00:00,  1.76cell/s]"
     ]
    },
    {
     "name": "stdout",
     "output_type": "stream",
     "text": [
      "4agrupamento_p2.ipynb executado com sucesso.\n"
     ]
    },
    {
     "name": "stderr",
     "output_type": "stream",
     "text": [
      "\n"
     ]
    }
   ],
   "source": [
    "import papermill as pm\n",
    "from pathlib import Path\n",
    "\n",
    "notebook_dir = Path(\"../transformar_pt1\")\n",
    "\n",
    "notebooks = [\n",
    "    \"1Type_of_Loan.ipynb\",\n",
    "    \"2para_numerico.ipynb\",\n",
    "    \"3valores_nulos.ipynb\",\n",
    "    \"4agrupamento_p1.ipynb\",\n",
    "    \"4agrupamento_p2.ipynb\",\n",
    "]\n",
    "\n",
    "for notebook_name in notebooks:\n",
    "    notebook_path = notebook_dir / notebook_name\n",
    "    pm.execute_notebook(str(notebook_path), str(notebook_path))\n",
    "    print(f\"{notebook_name} executado com sucesso.\")\n"
   ]
  }
 ],
 "metadata": {
  "kernelspec": {
   "display_name": "meu_ambiente",
   "language": "python",
   "name": "python3"
  },
  "language_info": {
   "codemirror_mode": {
    "name": "ipython",
    "version": 3
   },
   "file_extension": ".py",
   "mimetype": "text/x-python",
   "name": "python",
   "nbconvert_exporter": "python",
   "pygments_lexer": "ipython3",
   "version": "3.12.7"
  },
  "papermill": {
   "default_parameters": {},
   "duration": 68.445692,
   "end_time": "2024-11-13T12:51:42.475904",
   "environment_variables": {},
   "exception": null,
   "input_path": "executa2_transformar_pt1.ipynb",
   "output_path": "executa2_transformar_pt1.ipynb",
   "parameters": {},
   "start_time": "2024-11-13T12:50:34.030212",
   "version": "2.6.0"
  }
 },
 "nbformat": 4,
 "nbformat_minor": 5
}