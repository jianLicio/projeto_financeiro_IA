{
 "cells": [
  {
   "cell_type": "markdown",
   "metadata": {},
   "source": [
    "## Executa todos os notebooks"
   ]
  },
  {
   "cell_type": "code",
   "execution_count": null,
   "metadata": {},
   "outputs": [
    {
     "name": "stderr",
     "output_type": "stream",
     "text": [
      "c:\\Users\\jian_\\.conda\\envs\\meu_ambiente\\Lib\\site-packages\\tqdm\\auto.py:21: TqdmWarning: IProgress not found. Please update jupyter and ipywidgets. See https://ipywidgets.readthedocs.io/en/stable/user_install.html\n",
      "  from .autonotebook import tqdm as notebook_tqdm\n",
      "Executing: 100%|██████████| 2/2 [00:40<00:00, 20.18s/cell]\n"
     ]
    },
    {
     "name": "stdout",
     "output_type": "stream",
     "text": [
      "executa1_pre_processamento.ipynb executado com sucesso.\n"
     ]
    },
    {
     "name": "stderr",
     "output_type": "stream",
     "text": [
      "Executing: 100%|██████████| 2/2 [01:06<00:00, 33.14s/cell]\n"
     ]
    },
    {
     "name": "stdout",
     "output_type": "stream",
     "text": [
      "executa2_transformar_pt1.ipynb executado com sucesso.\n"
     ]
    },
    {
     "name": "stderr",
     "output_type": "stream",
     "text": [
      "Executing: 100%|██████████| 1/1 [00:29<00:00, 29.68s/cell]\n"
     ]
    },
    {
     "name": "stdout",
     "output_type": "stream",
     "text": [
      "executa3_transformar_pt2.ipynb executado com sucesso.\n"
     ]
    },
    {
     "name": "stderr",
     "output_type": "stream",
     "text": [
      "Executing:   0%|          | 0/1 [00:00<?, ?cell/s]"
     ]
    }
   ],
   "source": [
    "import papermill as pm\n",
    "from pathlib import Path\n",
    "\n",
    "notebook_dir = Path(\".\")\n",
    "\n",
    "notebooks = [\n",
    "    \"executa1_pre_processamento.ipynb\",\n",
    "    \"executa2_transformar_pt1.ipynb\",\n",
    "    \"executa3_transformar_pt2.ipynb\",\n",
    "    \"executa4_classificadores.ipynb\"\n",
    "]\n",
    "\n",
    "for notebook_name in notebooks:\n",
    "    notebook_path = notebook_dir / notebook_name\n",
    "    pm.execute_notebook(str(notebook_path), str(notebook_path))\n",
    "    print(f\"{notebook_name} executado com sucesso.\")\n"
   ]
  }
 ],
 "metadata": {
  "kernelspec": {
   "display_name": "meu_ambiente",
   "language": "python",
   "name": "python3"
  },
  "language_info": {
   "codemirror_mode": {
    "name": "ipython",
    "version": 3
   },
   "file_extension": ".py",
   "mimetype": "text/x-python",
   "name": "python",
   "nbconvert_exporter": "python",
   "pygments_lexer": "ipython3",
   "version": "3.12.7"
  }
 },
 "nbformat": 4,
 "nbformat_minor": 2
}
