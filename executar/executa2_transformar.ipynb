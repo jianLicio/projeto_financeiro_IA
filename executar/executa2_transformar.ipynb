{
 "cells": [
  {
   "cell_type": "markdown",
   "metadata": {},
   "source": [
    "### EXECUTANDO TODOS NOTEBOOKS DE PRÉ-PROCESSAMENTO"
   ]
  },
  {
   "cell_type": "code",
   "execution_count": 5,
   "metadata": {},
   "outputs": [
    {
     "name": "stderr",
     "output_type": "stream",
     "text": [
      "c:\\Users\\jian_\\.conda\\envs\\meu_ambiente\\Lib\\site-packages\\tqdm\\auto.py:21: TqdmWarning: IProgress not found. Please update jupyter and ipywidgets. See https://ipywidgets.readthedocs.io/en/stable/user_install.html\n",
      "  from .autonotebook import tqdm as notebook_tqdm\n",
      "Executing: 100%|██████████| 11/11 [00:07<00:00,  1.39cell/s]\n"
     ]
    },
    {
     "name": "stdout",
     "output_type": "stream",
     "text": [
      "1Type_of_Loan.ipynb executado com sucesso.\n"
     ]
    },
    {
     "name": "stderr",
     "output_type": "stream",
     "text": [
      "Executing: 100%|██████████| 14/14 [00:03<00:00,  3.78cell/s]\n"
     ]
    },
    {
     "name": "stdout",
     "output_type": "stream",
     "text": [
      "2para_numerico.ipynb executado com sucesso.\n"
     ]
    },
    {
     "name": "stderr",
     "output_type": "stream",
     "text": [
      "Executing: 100%|██████████| 5/5 [00:05<00:00,  1.01s/cell]\n"
     ]
    },
    {
     "name": "stdout",
     "output_type": "stream",
     "text": [
      "3valores_nulos.ipynb executado com sucesso.\n"
     ]
    },
    {
     "name": "stderr",
     "output_type": "stream",
     "text": [
      "Executing: 100%|██████████| 31/31 [00:20<00:00,  1.50cell/s]\n"
     ]
    },
    {
     "name": "stdout",
     "output_type": "stream",
     "text": [
      "4agrupamento_p1.ipynb executado com sucesso.\n"
     ]
    },
    {
     "name": "stderr",
     "output_type": "stream",
     "text": [
      "Executing: 100%|██████████| 43/43 [00:26<00:00,  1.62cell/s]\n"
     ]
    },
    {
     "name": "stdout",
     "output_type": "stream",
     "text": [
      "4agrupamento.ipynb executado com sucesso.\n"
     ]
    },
    {
     "name": "stderr",
     "output_type": "stream",
     "text": [
      "Executing: 100%|██████████| 6/6 [00:05<00:00,  1.12cell/s]\n"
     ]
    },
    {
     "ename": "PapermillExecutionError",
     "evalue": "\n---------------------------------------------------------------------------\nException encountered at \"In [5]\":\n---------------------------------------------------------------------------\nValueError                                Traceback (most recent call last)\n~\\AppData\\Local\\Temp\\ipykernel_20172\\1383744657.py in ?()\n      1 X_train = df_treinamento.drop(columns=['Credit_Score'])  # Remova a coluna alvo\n      2 y_train = df_treinamento['Credit_Score']  # Defina a coluna alvo\n      3 \n      4 modelo_rf = RandomForestClassifier(random_state=42)\n----> 5 modelo_rf.fit(X_train, y_train)\n      6 \n      7 # Obter a importância dos atributos\n      8 importancias = modelo_rf.feature_importances_\n\n~\\AppData\\Roaming\\Python\\Python312\\site-packages\\sklearn\\base.py in ?(estimator, *args, **kwargs)\n   1469                 skip_parameter_validation=(\n   1470                     prefer_skip_nested_validation or global_skip_validation\n   1471                 )\n   1472             ):\n-> 1473                 return fit_method(estimator, *args, **kwargs)\n\n~\\AppData\\Roaming\\Python\\Python312\\site-packages\\sklearn\\ensemble\\_forest.py in ?(self, X, y, sample_weight)\n    359         # Validate or convert input data\n    360         if issparse(y):\n    361             raise ValueError(\"sparse multilabel-indicator for y is not supported.\")\n    362 \n--> 363         X, y = self._validate_data(\n    364             X,\n    365             y,\n    366             multi_output=True,\n\n~\\AppData\\Roaming\\Python\\Python312\\site-packages\\sklearn\\base.py in ?(self, X, y, reset, validate_separately, cast_to_ndarray, **check_params)\n    646                 if \"estimator\" not in check_y_params:\n    647                     check_y_params = {**default_check_params, **check_y_params}\n    648                 y = check_array(y, input_name=\"y\", **check_y_params)\n    649             else:\n--> 650                 X, y = check_X_y(X, y, **check_params)\n    651             out = X, y\n    652 \n    653         if not no_val_X and check_params.get(\"ensure_2d\", True):\n\n~\\AppData\\Roaming\\Python\\Python312\\site-packages\\sklearn\\utils\\validation.py in ?(X, y, accept_sparse, accept_large_sparse, dtype, order, copy, force_all_finite, ensure_2d, allow_nd, multi_output, ensure_min_samples, ensure_min_features, y_numeric, estimator)\n   1269         raise ValueError(\n   1270             f\"{estimator_name} requires y to be passed, but the target y is None\"\n   1271         )\n   1272 \n-> 1273     X = check_array(\n   1274         X,\n   1275         accept_sparse=accept_sparse,\n   1276         accept_large_sparse=accept_large_sparse,\n\n~\\AppData\\Roaming\\Python\\Python312\\site-packages\\sklearn\\utils\\validation.py in ?(array, accept_sparse, accept_large_sparse, dtype, order, copy, force_all_finite, ensure_2d, allow_nd, ensure_min_samples, ensure_min_features, estimator, input_name)\n   1004                         )\n   1005                     array = xp.astype(array, dtype, copy=False)\n   1006                 else:\n   1007                     array = _asarray_with_order(array, order=order, dtype=dtype, xp=xp)\n-> 1008             except ComplexWarning as complex_warning:\n   1009                 raise ValueError(\n   1010                     \"Complex data not supported\\n{}\\n\".format(array)\n   1011                 ) from complex_warning\n\n~\\AppData\\Roaming\\Python\\Python312\\site-packages\\sklearn\\utils\\_array_api.py in ?(array, dtype, order, copy, xp, device)\n    742         # Use NumPy API to support order\n    743         if copy is True:\n    744             array = numpy.array(array, order=order, dtype=dtype)\n    745         else:\n--> 746             array = numpy.asarray(array, order=order, dtype=dtype)\n    747 \n    748         # At this point array is a NumPy ndarray. We convert it to an array\n    749         # container that is consistent with the input's namespace.\n\n~\\AppData\\Roaming\\Python\\Python312\\site-packages\\pandas\\core\\generic.py in ?(self, dtype, copy)\n   2149     def __array__(\n   2150         self, dtype: npt.DTypeLike | None = None, copy: bool_t | None = None\n   2151     ) -> np.ndarray:\n   2152         values = self._values\n-> 2153         arr = np.asarray(values, dtype=dtype)\n   2154         if (\n   2155             astype_is_view(values.dtype, arr.dtype)\n   2156             and using_copy_on_write()\n\nValueError: could not convert string to float: 'Good'\n",
     "output_type": "error",
     "traceback": [
      "\u001b[1;31m---------------------------------------------------------------------------\u001b[0m",
      "\u001b[1;31mPapermillExecutionError\u001b[0m                   Traceback (most recent call last)",
      "Cell \u001b[1;32mIn[5], line 18\u001b[0m\n\u001b[0;32m     16\u001b[0m notebook_path \u001b[38;5;241m=\u001b[39m notebook_dir \u001b[38;5;241m/\u001b[39m notebook_name\n\u001b[0;32m     17\u001b[0m output_path \u001b[38;5;241m=\u001b[39m notebook_dir \u001b[38;5;241m/\u001b[39m \u001b[38;5;124mf\u001b[39m\u001b[38;5;124m\"\u001b[39m\u001b[38;5;124mexecuted_\u001b[39m\u001b[38;5;132;01m{\u001b[39;00mnotebook_name\u001b[38;5;132;01m}\u001b[39;00m\u001b[38;5;124m\"\u001b[39m\n\u001b[1;32m---> 18\u001b[0m \u001b[43mpm\u001b[49m\u001b[38;5;241;43m.\u001b[39;49m\u001b[43mexecute_notebook\u001b[49m\u001b[43m(\u001b[49m\u001b[38;5;28;43mstr\u001b[39;49m\u001b[43m(\u001b[49m\u001b[43mnotebook_path\u001b[49m\u001b[43m)\u001b[49m\u001b[43m,\u001b[49m\u001b[43m \u001b[49m\u001b[38;5;28;43mstr\u001b[39;49m\u001b[43m(\u001b[49m\u001b[43moutput_path\u001b[49m\u001b[43m)\u001b[49m\u001b[43m)\u001b[49m\n\u001b[0;32m     19\u001b[0m \u001b[38;5;28mprint\u001b[39m(\u001b[38;5;124mf\u001b[39m\u001b[38;5;124m\"\u001b[39m\u001b[38;5;132;01m{\u001b[39;00mnotebook_name\u001b[38;5;132;01m}\u001b[39;00m\u001b[38;5;124m executado com sucesso.\u001b[39m\u001b[38;5;124m\"\u001b[39m)\n",
      "File \u001b[1;32mc:\\Users\\jian_\\.conda\\envs\\meu_ambiente\\Lib\\site-packages\\papermill\\execute.py:131\u001b[0m, in \u001b[0;36mexecute_notebook\u001b[1;34m(input_path, output_path, parameters, engine_name, request_save_on_cell_execute, prepare_only, kernel_name, language, progress_bar, log_output, stdout_file, stderr_file, start_timeout, report_mode, cwd, **engine_kwargs)\u001b[0m\n\u001b[0;32m    116\u001b[0m         nb \u001b[38;5;241m=\u001b[39m papermill_engines\u001b[38;5;241m.\u001b[39mexecute_notebook_with_engine(\n\u001b[0;32m    117\u001b[0m             engine_name,\n\u001b[0;32m    118\u001b[0m             nb,\n\u001b[1;32m   (...)\u001b[0m\n\u001b[0;32m    127\u001b[0m             \u001b[38;5;241m*\u001b[39m\u001b[38;5;241m*\u001b[39mengine_kwargs,\n\u001b[0;32m    128\u001b[0m         )\n\u001b[0;32m    130\u001b[0m     \u001b[38;5;66;03m# Check for errors first (it saves on error before raising)\u001b[39;00m\n\u001b[1;32m--> 131\u001b[0m     \u001b[43mraise_for_execution_errors\u001b[49m\u001b[43m(\u001b[49m\u001b[43mnb\u001b[49m\u001b[43m,\u001b[49m\u001b[43m \u001b[49m\u001b[43moutput_path\u001b[49m\u001b[43m)\u001b[49m\n\u001b[0;32m    133\u001b[0m \u001b[38;5;66;03m# Write final output in case the engine didn't write it on cell completion.\u001b[39;00m\n\u001b[0;32m    134\u001b[0m write_ipynb(nb, output_path)\n",
      "File \u001b[1;32mc:\\Users\\jian_\\.conda\\envs\\meu_ambiente\\Lib\\site-packages\\papermill\\execute.py:251\u001b[0m, in \u001b[0;36mraise_for_execution_errors\u001b[1;34m(nb, output_path)\u001b[0m\n\u001b[0;32m    248\u001b[0m nb\u001b[38;5;241m.\u001b[39mcells\u001b[38;5;241m.\u001b[39minsert(\u001b[38;5;241m0\u001b[39m, error_msg_cell)\n\u001b[0;32m    250\u001b[0m write_ipynb(nb, output_path)\n\u001b[1;32m--> 251\u001b[0m \u001b[38;5;28;01mraise\u001b[39;00m error\n",
      "\u001b[1;31mPapermillExecutionError\u001b[0m: \n---------------------------------------------------------------------------\nException encountered at \"In [5]\":\n---------------------------------------------------------------------------\nValueError                                Traceback (most recent call last)\n~\\AppData\\Local\\Temp\\ipykernel_20172\\1383744657.py in ?()\n      1 X_train = df_treinamento.drop(columns=['Credit_Score'])  # Remova a coluna alvo\n      2 y_train = df_treinamento['Credit_Score']  # Defina a coluna alvo\n      3 \n      4 modelo_rf = RandomForestClassifier(random_state=42)\n----> 5 modelo_rf.fit(X_train, y_train)\n      6 \n      7 # Obter a importância dos atributos\n      8 importancias = modelo_rf.feature_importances_\n\n~\\AppData\\Roaming\\Python\\Python312\\site-packages\\sklearn\\base.py in ?(estimator, *args, **kwargs)\n   1469                 skip_parameter_validation=(\n   1470                     prefer_skip_nested_validation or global_skip_validation\n   1471                 )\n   1472             ):\n-> 1473                 return fit_method(estimator, *args, **kwargs)\n\n~\\AppData\\Roaming\\Python\\Python312\\site-packages\\sklearn\\ensemble\\_forest.py in ?(self, X, y, sample_weight)\n    359         # Validate or convert input data\n    360         if issparse(y):\n    361             raise ValueError(\"sparse multilabel-indicator for y is not supported.\")\n    362 \n--> 363         X, y = self._validate_data(\n    364             X,\n    365             y,\n    366             multi_output=True,\n\n~\\AppData\\Roaming\\Python\\Python312\\site-packages\\sklearn\\base.py in ?(self, X, y, reset, validate_separately, cast_to_ndarray, **check_params)\n    646                 if \"estimator\" not in check_y_params:\n    647                     check_y_params = {**default_check_params, **check_y_params}\n    648                 y = check_array(y, input_name=\"y\", **check_y_params)\n    649             else:\n--> 650                 X, y = check_X_y(X, y, **check_params)\n    651             out = X, y\n    652 \n    653         if not no_val_X and check_params.get(\"ensure_2d\", True):\n\n~\\AppData\\Roaming\\Python\\Python312\\site-packages\\sklearn\\utils\\validation.py in ?(X, y, accept_sparse, accept_large_sparse, dtype, order, copy, force_all_finite, ensure_2d, allow_nd, multi_output, ensure_min_samples, ensure_min_features, y_numeric, estimator)\n   1269         raise ValueError(\n   1270             f\"{estimator_name} requires y to be passed, but the target y is None\"\n   1271         )\n   1272 \n-> 1273     X = check_array(\n   1274         X,\n   1275         accept_sparse=accept_sparse,\n   1276         accept_large_sparse=accept_large_sparse,\n\n~\\AppData\\Roaming\\Python\\Python312\\site-packages\\sklearn\\utils\\validation.py in ?(array, accept_sparse, accept_large_sparse, dtype, order, copy, force_all_finite, ensure_2d, allow_nd, ensure_min_samples, ensure_min_features, estimator, input_name)\n   1004                         )\n   1005                     array = xp.astype(array, dtype, copy=False)\n   1006                 else:\n   1007                     array = _asarray_with_order(array, order=order, dtype=dtype, xp=xp)\n-> 1008             except ComplexWarning as complex_warning:\n   1009                 raise ValueError(\n   1010                     \"Complex data not supported\\n{}\\n\".format(array)\n   1011                 ) from complex_warning\n\n~\\AppData\\Roaming\\Python\\Python312\\site-packages\\sklearn\\utils\\_array_api.py in ?(array, dtype, order, copy, xp, device)\n    742         # Use NumPy API to support order\n    743         if copy is True:\n    744             array = numpy.array(array, order=order, dtype=dtype)\n    745         else:\n--> 746             array = numpy.asarray(array, order=order, dtype=dtype)\n    747 \n    748         # At this point array is a NumPy ndarray. We convert it to an array\n    749         # container that is consistent with the input's namespace.\n\n~\\AppData\\Roaming\\Python\\Python312\\site-packages\\pandas\\core\\generic.py in ?(self, dtype, copy)\n   2149     def __array__(\n   2150         self, dtype: npt.DTypeLike | None = None, copy: bool_t | None = None\n   2151     ) -> np.ndarray:\n   2152         values = self._values\n-> 2153         arr = np.asarray(values, dtype=dtype)\n   2154         if (\n   2155             astype_is_view(values.dtype, arr.dtype)\n   2156             and using_copy_on_write()\n\nValueError: could not convert string to float: 'Good'\n"
     ]
    }
   ],
   "source": [
    "import papermill as pm\n",
    "from pathlib import Path\n",
    "\n",
    "notebook_dir = Path(\"../transformar\")\n",
    "\n",
    "notebooks = [\n",
    "    \"1Type_of_Loan.ipynb\",\n",
    "    \"2para_numerico.ipynb\",\n",
    "    \"3valores_nulos.ipynb\",\n",
    "    \"4agrupamento_p1.ipynb\",\n",
    "    \"4agrupamento.ipynb\",\n",
    "    \"5reducao_dimensionalidade.ipynb\"\n",
    "]\n",
    "\n",
    "for notebook_name in notebooks:\n",
    "    notebook_path = notebook_dir / notebook_name\n",
    "    output_path = notebook_dir / f\"executed_{notebook_name}\"\n",
    "    pm.execute_notebook(str(notebook_path), str(output_path))\n",
    "    print(f\"{notebook_name} executado com sucesso.\")\n"
   ]
  }
 ],
 "metadata": {
  "kernelspec": {
   "display_name": "meu_ambiente",
   "language": "python",
   "name": "python3"
  },
  "language_info": {
   "codemirror_mode": {
    "name": "ipython",
    "version": 3
   },
   "file_extension": ".py",
   "mimetype": "text/x-python",
   "name": "python",
   "nbconvert_exporter": "python",
   "pygments_lexer": "ipython3",
   "version": "3.12.7"
  }
 },
 "nbformat": 4,
 "nbformat_minor": 2
}
