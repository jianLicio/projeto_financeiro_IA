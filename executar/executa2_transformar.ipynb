{
 "cells": [
  {
   "cell_type": "markdown",
   "id": "5b7fb47f",
   "metadata": {
    "papermill": {
     "duration": 0.004999,
     "end_time": "2024-11-12T16:37:08.280577",
     "exception": false,
     "start_time": "2024-11-12T16:37:08.275578",
     "status": "completed"
    },
    "tags": []
   },
   "source": [
    "### EXECUTANDO TODOS NOTEBOOKS DE PRÉ-PROCESSAMENTO"
   ]
  },
  {
   "cell_type": "code",
   "execution_count": null,
   "id": "5647dc32",
   "metadata": {
    "papermill": {
     "duration": null,
     "end_time": null,
     "exception": false,
     "start_time": "2024-11-12T16:37:08.294578",
     "status": "running"
    },
    "tags": []
   },
   "outputs": [],
   "source": [
    "import papermill as pm\n",
    "from pathlib import Path\n",
    "\n",
    "notebook_dir = Path(\"../transformar\")\n",
    "\n",
    "notebooks = [\n",
    "    \"1Type_of_Loan.ipynb\",\n",
    "    \"2para_numerico.ipynb\",\n",
    "    \"3valores_nulos.ipynb\",\n",
    "    \"4agrupamento_p1.ipynb\",\n",
    "    \"4agrupamento.ipynb\",\n",
    "    \"5reducao_dimensionalidade.ipynb\"\n",
    "]\n",
    "\n",
    "for notebook_name in notebooks:\n",
    "    notebook_path = notebook_dir / notebook_name\n",
    "    pm.execute_notebook(str(notebook_path), str(notebook_path))\n",
    "    print(f\"{notebook_name} executado com sucesso.\")\n"
   ]
  }
 ],
 "metadata": {
  "kernelspec": {
   "display_name": "meu_ambiente",
   "language": "python",
   "name": "python3"
  },
  "language_info": {
   "codemirror_mode": {
    "name": "ipython",
    "version": 3
   },
   "file_extension": ".py",
   "mimetype": "text/x-python",
   "name": "python",
   "nbconvert_exporter": "python",
   "pygments_lexer": "ipython3",
   "version": "3.12.7"
  },
  "papermill": {
   "default_parameters": {},
   "duration": null,
   "end_time": null,
   "environment_variables": {},
   "exception": null,
   "input_path": "executa2_transformar.ipynb",
   "output_path": "executa2_transformar.ipynb",
   "parameters": {},
   "start_time": "2024-11-12T16:37:07.020390",
   "version": "2.6.0"
  }
 },
 "nbformat": 4,
 "nbformat_minor": 5
}