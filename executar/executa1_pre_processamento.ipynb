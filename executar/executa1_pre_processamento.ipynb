{
 "cells": [
  {
   "cell_type": "markdown",
   "id": "56320941",
   "metadata": {
    "papermill": {
     "duration": 0.005998,
     "end_time": "2024-11-13T12:49:53.454092",
     "exception": false,
     "start_time": "2024-11-13T12:49:53.448094",
     "status": "completed"
    },
    "tags": []
   },
   "source": [
    "### EXECUTANDO TODOS NOTEBOOKS DE PRÉ-PROCESSAMENTO"
   ]
  },
  {
   "cell_type": "code",
   "execution_count": 1,
   "id": "c0d3dc7c",
   "metadata": {
    "execution": {
     "iopub.execute_input": "2024-11-13T12:49:53.483094Z",
     "iopub.status.busy": "2024-11-13T12:49:53.482096Z",
     "iopub.status.idle": "2024-11-13T12:50:33.674135Z",
     "shell.execute_reply": "2024-11-13T12:50:33.674135Z"
    },
    "papermill": {
     "duration": 40.207051,
     "end_time": "2024-11-13T12:50:33.675143",
     "exception": false,
     "start_time": "2024-11-13T12:49:53.468092",
     "status": "completed"
    },
    "tags": []
   },
   "outputs": [
    {
     "name": "stderr",
     "output_type": "stream",
     "text": [
      "C:\\Users\\jian_\\.conda\\envs\\meu_ambiente\\Lib\\site-packages\\tqdm\\auto.py:21: TqdmWarning: IProgress not found. Please update jupyter and ipywidgets. See https://ipywidgets.readthedocs.io/en/stable/user_install.html\n",
      "  from .autonotebook import tqdm as notebook_tqdm\n"
     ]
    },
    {
     "name": "stderr",
     "output_type": "stream",
     "text": [
      "\r",
      "Executing:   0%|          | 0/11 [00:00<?, ?cell/s]"
     ]
    },
    {
     "name": "stderr",
     "output_type": "stream",
     "text": [
      "\r",
      "Executing:   9%|▉         | 1/11 [00:03<00:39,  3.98s/cell]"
     ]
    },
    {
     "name": "stderr",
     "output_type": "stream",
     "text": [
      "\r",
      "Executing:  27%|██▋       | 3/11 [00:04<00:08,  1.08s/cell]"
     ]
    },
    {
     "name": "stderr",
     "output_type": "stream",
     "text": [
      "\r",
      "Executing:  55%|█████▍    | 6/11 [00:04<00:02,  2.18cell/s]"
     ]
    },
    {
     "name": "stderr",
     "output_type": "stream",
     "text": [
      "\r",
      "Executing:  82%|████████▏ | 9/11 [00:04<00:00,  3.78cell/s]"
     ]
    },
    {
     "name": "stderr",
     "output_type": "stream",
     "text": [
      "\r",
      "Executing: 100%|██████████| 11/11 [00:06<00:00,  2.25cell/s]"
     ]
    },
    {
     "name": "stderr",
     "output_type": "stream",
     "text": [
      "\r",
      "Executing: 100%|██████████| 11/11 [00:06<00:00,  1.63cell/s]"
     ]
    },
    {
     "name": "stderr",
     "output_type": "stream",
     "text": [
      "\n"
     ]
    },
    {
     "name": "stdout",
     "output_type": "stream",
     "text": [
      "1remover.ipynb executado com sucesso.\n"
     ]
    },
    {
     "name": "stderr",
     "output_type": "stream",
     "text": [
      "\r",
      "Executing:   0%|          | 0/17 [00:00<?, ?cell/s]"
     ]
    },
    {
     "name": "stderr",
     "output_type": "stream",
     "text": [
      "\r",
      "Executing:   6%|▌         | 1/17 [00:02<00:42,  2.64s/cell]"
     ]
    },
    {
     "name": "stderr",
     "output_type": "stream",
     "text": [
      "\r",
      "Executing:  29%|██▉       | 5/17 [00:02<00:05,  2.37cell/s]"
     ]
    },
    {
     "name": "stderr",
     "output_type": "stream",
     "text": [
      "\r",
      "Executing:  47%|████▋     | 8/17 [00:02<00:02,  4.11cell/s]"
     ]
    },
    {
     "name": "stderr",
     "output_type": "stream",
     "text": [
      "\r",
      "Executing:  65%|██████▍   | 11/17 [00:03<00:00,  6.31cell/s]"
     ]
    },
    {
     "name": "stderr",
     "output_type": "stream",
     "text": [
      "\r",
      "Executing:  82%|████████▏ | 14/17 [00:03<00:00,  8.67cell/s]"
     ]
    },
    {
     "name": "stderr",
     "output_type": "stream",
     "text": [
      "\r",
      "Executing: 100%|██████████| 17/17 [00:04<00:00,  3.93cell/s]"
     ]
    },
    {
     "name": "stderr",
     "output_type": "stream",
     "text": [
      "\r",
      "Executing: 100%|██████████| 17/17 [00:05<00:00,  3.38cell/s]"
     ]
    },
    {
     "name": "stderr",
     "output_type": "stream",
     "text": [
      "\n"
     ]
    },
    {
     "name": "stdout",
     "output_type": "stream",
     "text": [
      "2salario.ipynb executado com sucesso.\n"
     ]
    },
    {
     "name": "stderr",
     "output_type": "stream",
     "text": [
      "\r",
      "Executing:   0%|          | 0/14 [00:00<?, ?cell/s]"
     ]
    },
    {
     "name": "stderr",
     "output_type": "stream",
     "text": [
      "\r",
      "Executing:   7%|▋         | 1/14 [00:02<00:30,  2.35s/cell]"
     ]
    },
    {
     "name": "stderr",
     "output_type": "stream",
     "text": [
      "\r",
      "Executing:  14%|█▍        | 2/14 [00:02<00:12,  1.04s/cell]"
     ]
    },
    {
     "name": "stderr",
     "output_type": "stream",
     "text": [
      "\r",
      "Executing:  43%|████▎     | 6/14 [00:02<00:02,  3.80cell/s]"
     ]
    },
    {
     "name": "stderr",
     "output_type": "stream",
     "text": [
      "\r",
      "Executing:  71%|███████▏  | 10/14 [00:02<00:00,  7.09cell/s]"
     ]
    },
    {
     "name": "stderr",
     "output_type": "stream",
     "text": [
      "\r",
      "Executing: 100%|██████████| 14/14 [00:04<00:00,  4.25cell/s]"
     ]
    },
    {
     "name": "stderr",
     "output_type": "stream",
     "text": [
      "\r",
      "Executing: 100%|██████████| 14/14 [00:04<00:00,  3.12cell/s]"
     ]
    },
    {
     "name": "stderr",
     "output_type": "stream",
     "text": [
      "\n"
     ]
    },
    {
     "name": "stdout",
     "output_type": "stream",
     "text": [
      "3qtd_contas_bancarias.ipynb executado com sucesso.\n"
     ]
    },
    {
     "name": "stderr",
     "output_type": "stream",
     "text": [
      "\r",
      "Executing:   0%|          | 0/20 [00:00<?, ?cell/s]"
     ]
    },
    {
     "name": "stderr",
     "output_type": "stream",
     "text": [
      "\r",
      "Executing:   5%|▌         | 1/20 [00:02<00:42,  2.25s/cell]"
     ]
    },
    {
     "name": "stderr",
     "output_type": "stream",
     "text": [
      "\r",
      "Executing:  10%|█         | 2/20 [00:02<00:17,  1.00cell/s]"
     ]
    },
    {
     "name": "stderr",
     "output_type": "stream",
     "text": [
      "\r",
      "Executing:  20%|██        | 4/20 [00:02<00:06,  2.45cell/s]"
     ]
    },
    {
     "name": "stderr",
     "output_type": "stream",
     "text": [
      "\r",
      "Executing:  35%|███▌      | 7/20 [00:02<00:02,  5.04cell/s]"
     ]
    },
    {
     "name": "stderr",
     "output_type": "stream",
     "text": [
      "\r",
      "Executing:  50%|█████     | 10/20 [00:02<00:01,  7.80cell/s]"
     ]
    },
    {
     "name": "stderr",
     "output_type": "stream",
     "text": [
      "\r",
      "Executing:  65%|██████▌   | 13/20 [00:03<00:00,  8.86cell/s]"
     ]
    },
    {
     "name": "stderr",
     "output_type": "stream",
     "text": [
      "\r",
      "Executing:  75%|███████▌  | 15/20 [00:03<00:00,  9.21cell/s]"
     ]
    },
    {
     "name": "stderr",
     "output_type": "stream",
     "text": [
      "\r",
      "Executing:  85%|████████▌ | 17/20 [00:03<00:00, 10.84cell/s]"
     ]
    },
    {
     "name": "stderr",
     "output_type": "stream",
     "text": [
      "\r",
      "Executing: 100%|██████████| 20/20 [00:04<00:00,  4.13cell/s]"
     ]
    },
    {
     "name": "stderr",
     "output_type": "stream",
     "text": [
      "\r",
      "Executing: 100%|██████████| 20/20 [00:05<00:00,  3.92cell/s]"
     ]
    },
    {
     "name": "stderr",
     "output_type": "stream",
     "text": [
      "\n"
     ]
    },
    {
     "name": "stdout",
     "output_type": "stream",
     "text": [
      "4type_of_loan.ipynb executado com sucesso.\n"
     ]
    },
    {
     "name": "stderr",
     "output_type": "stream",
     "text": [
      "\r",
      "Executing:   0%|          | 0/15 [00:00<?, ?cell/s]"
     ]
    },
    {
     "name": "stderr",
     "output_type": "stream",
     "text": [
      "\r",
      "Executing:   7%|▋         | 1/15 [00:02<00:34,  2.47s/cell]"
     ]
    },
    {
     "name": "stderr",
     "output_type": "stream",
     "text": [
      "\r",
      "Executing:  13%|█▎        | 2/15 [00:02<00:14,  1.08s/cell]"
     ]
    },
    {
     "name": "stderr",
     "output_type": "stream",
     "text": [
      "\r",
      "Executing:  27%|██▋       | 4/15 [00:02<00:04,  2.29cell/s]"
     ]
    },
    {
     "name": "stderr",
     "output_type": "stream",
     "text": [
      "\r",
      "Executing:  40%|████      | 6/15 [00:02<00:02,  3.80cell/s]"
     ]
    },
    {
     "name": "stderr",
     "output_type": "stream",
     "text": [
      "\r",
      "Executing:  53%|█████▎    | 8/15 [00:02<00:01,  5.42cell/s]"
     ]
    },
    {
     "name": "stderr",
     "output_type": "stream",
     "text": [
      "\r",
      "Executing:  73%|███████▎  | 11/15 [00:03<00:00,  8.65cell/s]"
     ]
    },
    {
     "name": "stderr",
     "output_type": "stream",
     "text": [
      "\r",
      "Executing:  93%|█████████▎| 14/15 [00:03<00:00, 11.71cell/s]"
     ]
    },
    {
     "name": "stderr",
     "output_type": "stream",
     "text": [
      "\r",
      "Executing: 100%|██████████| 15/15 [00:05<00:00,  2.81cell/s]"
     ]
    },
    {
     "name": "stderr",
     "output_type": "stream",
     "text": [
      "\n"
     ]
    },
    {
     "name": "stdout",
     "output_type": "stream",
     "text": [
      "5delay_from_due_date.ipynb executado com sucesso.\n"
     ]
    },
    {
     "name": "stderr",
     "output_type": "stream",
     "text": [
      "\r",
      "Executing:   0%|          | 0/23 [00:00<?, ?cell/s]"
     ]
    },
    {
     "name": "stderr",
     "output_type": "stream",
     "text": [
      "\r",
      "Executing:   4%|▍         | 1/23 [00:02<00:54,  2.49s/cell]"
     ]
    },
    {
     "name": "stderr",
     "output_type": "stream",
     "text": [
      "\r",
      "Executing:  13%|█▎        | 3/23 [00:03<00:17,  1.16cell/s]"
     ]
    },
    {
     "name": "stderr",
     "output_type": "stream",
     "text": [
      "\r",
      "Executing:  17%|█▋        | 4/23 [00:03<00:13,  1.36cell/s]"
     ]
    },
    {
     "name": "stderr",
     "output_type": "stream",
     "text": [
      "\r",
      "Executing:  30%|███       | 7/23 [00:03<00:05,  3.10cell/s]"
     ]
    },
    {
     "name": "stderr",
     "output_type": "stream",
     "text": [
      "\r",
      "Executing:  43%|████▎     | 10/23 [00:03<00:02,  5.21cell/s]"
     ]
    },
    {
     "name": "stderr",
     "output_type": "stream",
     "text": [
      "\r",
      "Executing:  52%|█████▏    | 12/23 [00:03<00:01,  6.70cell/s]"
     ]
    },
    {
     "name": "stderr",
     "output_type": "stream",
     "text": [
      "\r",
      "Executing:  65%|██████▌   | 15/23 [00:04<00:00,  9.30cell/s]"
     ]
    },
    {
     "name": "stderr",
     "output_type": "stream",
     "text": [
      "\r",
      "Executing:  74%|███████▍  | 17/23 [00:04<00:00,  9.77cell/s]"
     ]
    },
    {
     "name": "stderr",
     "output_type": "stream",
     "text": [
      "\r",
      "Executing:  83%|████████▎ | 19/23 [00:04<00:00, 10.63cell/s]"
     ]
    },
    {
     "name": "stderr",
     "output_type": "stream",
     "text": [
      "\r",
      "Executing:  96%|█████████▌| 22/23 [00:04<00:00, 13.87cell/s]"
     ]
    },
    {
     "name": "stderr",
     "output_type": "stream",
     "text": [
      "\r",
      "Executing: 100%|██████████| 23/23 [00:07<00:00,  3.23cell/s]"
     ]
    },
    {
     "name": "stderr",
     "output_type": "stream",
     "text": [
      "\n"
     ]
    },
    {
     "name": "stdout",
     "output_type": "stream",
     "text": [
      "6changed_credit_limit.ipynb executado com sucesso.\n"
     ]
    },
    {
     "name": "stderr",
     "output_type": "stream",
     "text": [
      "\r",
      "Executing:   0%|          | 0/10 [00:00<?, ?cell/s]"
     ]
    },
    {
     "name": "stderr",
     "output_type": "stream",
     "text": [
      "\r",
      "Executing:  10%|█         | 1/10 [00:02<00:22,  2.45s/cell]"
     ]
    },
    {
     "name": "stderr",
     "output_type": "stream",
     "text": [
      "\r",
      "Executing:  30%|███       | 3/10 [00:02<00:04,  1.48cell/s]"
     ]
    },
    {
     "name": "stderr",
     "output_type": "stream",
     "text": [
      "\r",
      "Executing:  60%|██████    | 6/10 [00:02<00:01,  3.53cell/s]"
     ]
    },
    {
     "name": "stderr",
     "output_type": "stream",
     "text": [
      "\r",
      "Executing:  80%|████████  | 8/10 [00:02<00:00,  5.06cell/s]"
     ]
    },
    {
     "name": "stderr",
     "output_type": "stream",
     "text": [
      "\r",
      "Executing: 100%|██████████| 10/10 [00:05<00:00,  1.85cell/s]"
     ]
    },
    {
     "name": "stderr",
     "output_type": "stream",
     "text": [
      "\r",
      "Executing: 100%|██████████| 10/10 [00:05<00:00,  1.83cell/s]"
     ]
    },
    {
     "name": "stdout",
     "output_type": "stream",
     "text": [
      "7valor_mensal_investido.ipynb executado com sucesso.\n"
     ]
    },
    {
     "name": "stderr",
     "output_type": "stream",
     "text": [
      "\n"
     ]
    }
   ],
   "source": [
    "import papermill as pm\n",
    "from pathlib import Path\n",
    "\n",
    "notebook_dir = Path(\"../pre_processamento\")\n",
    "\n",
    "notebooks = [\n",
    "    \"1remover.ipynb\",\n",
    "    \"2salario.ipynb\",\n",
    "    \"3qtd_contas_bancarias.ipynb\",\n",
    "    \"4type_of_loan.ipynb\",\n",
    "    \"5delay_from_due_date.ipynb\",\n",
    "    \"6changed_credit_limit.ipynb\",\n",
    "    \"7valor_mensal_investido.ipynb\"\n",
    "]\n",
    "\n",
    "for notebook_name in notebooks:\n",
    "    notebook_path = notebook_dir / notebook_name\n",
    "    pm.execute_notebook(str(notebook_path), str(notebook_path))\n",
    "    print(f\"{notebook_name} executado com sucesso.\")\n"
   ]
  }
 ],
 "metadata": {
  "kernelspec": {
   "display_name": "meu_ambiente",
   "language": "python",
   "name": "python3"
  },
  "language_info": {
   "codemirror_mode": {
    "name": "ipython",
    "version": 3
   },
   "file_extension": ".py",
   "mimetype": "text/x-python",
   "name": "python",
   "nbconvert_exporter": "python",
   "pygments_lexer": "ipython3",
   "version": "3.12.7"
  },
  "papermill": {
   "default_parameters": {},
   "duration": 41.804363,
   "end_time": "2024-11-13T12:50:33.989691",
   "environment_variables": {},
   "exception": null,
   "input_path": "executa1_pre_processamento.ipynb",
   "output_path": "executa1_pre_processamento.ipynb",
   "parameters": {},
   "start_time": "2024-11-13T12:49:52.185328",
   "version": "2.6.0"
  }
 },
 "nbformat": 4,
 "nbformat_minor": 5
}