{
 "cells": [
  {
   "cell_type": "markdown",
   "id": "56320941",
   "metadata": {
    "papermill": {
     "duration": 0.006513,
     "end_time": "2024-11-12T16:36:25.457568",
     "exception": false,
     "start_time": "2024-11-12T16:36:25.451055",
     "status": "completed"
    },
    "tags": []
   },
   "source": [
    "### EXECUTANDO TODOS NOTEBOOKS DE PRÉ-PROCESSAMENTO"
   ]
  },
  {
   "cell_type": "code",
   "execution_count": 1,
   "id": "c0d3dc7c",
   "metadata": {
    "execution": {
     "iopub.execute_input": "2024-11-12T16:36:25.489569Z",
     "iopub.status.busy": "2024-11-12T16:36:25.489569Z",
     "iopub.status.idle": "2024-11-12T16:37:06.738840Z",
     "shell.execute_reply": "2024-11-12T16:37:06.738840Z"
    },
    "papermill": {
     "duration": 41.267278,
     "end_time": "2024-11-12T16:37:06.739846",
     "exception": false,
     "start_time": "2024-11-12T16:36:25.472568",
     "status": "completed"
    },
    "tags": []
   },
   "outputs": [
    {
     "name": "stderr",
     "output_type": "stream",
     "text": [
      "C:\\Users\\jian_\\.conda\\envs\\meu_ambiente\\Lib\\site-packages\\tqdm\\auto.py:21: TqdmWarning: IProgress not found. Please update jupyter and ipywidgets. See https://ipywidgets.readthedocs.io/en/stable/user_install.html\n",
      "  from .autonotebook import tqdm as notebook_tqdm\n"
     ]
    },
    {
     "name": "stderr",
     "output_type": "stream",
     "text": [
      "\r",
      "Executing:   0%|          | 0/11 [00:00<?, ?cell/s]"
     ]
    },
    {
     "name": "stderr",
     "output_type": "stream",
     "text": [
      "\r",
      "Executing:   9%|▉         | 1/11 [00:04<00:49,  4.98s/cell]"
     ]
    },
    {
     "name": "stderr",
     "output_type": "stream",
     "text": [
      "\r",
      "Executing:  27%|██▋       | 3/11 [00:05<00:10,  1.37s/cell]"
     ]
    },
    {
     "name": "stderr",
     "output_type": "stream",
     "text": [
      "\r",
      "Executing:  36%|███▋      | 4/11 [00:05<00:06,  1.07cell/s]"
     ]
    },
    {
     "name": "stderr",
     "output_type": "stream",
     "text": [
      "\r",
      "Executing:  55%|█████▍    | 6/11 [00:05<00:02,  1.95cell/s]"
     ]
    },
    {
     "name": "stderr",
     "output_type": "stream",
     "text": [
      "\r",
      "Executing:  73%|███████▎  | 8/11 [00:05<00:00,  3.11cell/s]"
     ]
    },
    {
     "name": "stderr",
     "output_type": "stream",
     "text": [
      "\r",
      "Executing:  91%|█████████ | 10/11 [00:05<00:00,  4.48cell/s]"
     ]
    },
    {
     "name": "stderr",
     "output_type": "stream",
     "text": [
      "\r",
      "Executing: 100%|██████████| 11/11 [00:08<00:00,  1.35cell/s]"
     ]
    },
    {
     "name": "stderr",
     "output_type": "stream",
     "text": [
      "\n"
     ]
    },
    {
     "name": "stdout",
     "output_type": "stream",
     "text": [
      "1remover.ipynb executado com sucesso.\n"
     ]
    },
    {
     "name": "stderr",
     "output_type": "stream",
     "text": [
      "\r",
      "Executing:   0%|          | 0/17 [00:00<?, ?cell/s]"
     ]
    },
    {
     "name": "stderr",
     "output_type": "stream",
     "text": [
      "\r",
      "Executing:   6%|▌         | 1/17 [00:02<00:40,  2.53s/cell]"
     ]
    },
    {
     "name": "stderr",
     "output_type": "stream",
     "text": [
      "\r",
      "Executing:  29%|██▉       | 5/17 [00:02<00:04,  2.47cell/s]"
     ]
    },
    {
     "name": "stderr",
     "output_type": "stream",
     "text": [
      "\r",
      "Executing:  47%|████▋     | 8/17 [00:02<00:02,  4.26cell/s]"
     ]
    },
    {
     "name": "stderr",
     "output_type": "stream",
     "text": [
      "\r",
      "Executing:  71%|███████   | 12/17 [00:02<00:00,  7.23cell/s]"
     ]
    },
    {
     "name": "stderr",
     "output_type": "stream",
     "text": [
      "\r",
      "Executing:  88%|████████▊ | 15/17 [00:03<00:00,  8.29cell/s]"
     ]
    },
    {
     "name": "stderr",
     "output_type": "stream",
     "text": [
      "\r",
      "Executing: 100%|██████████| 17/17 [00:04<00:00,  3.84cell/s]"
     ]
    },
    {
     "name": "stderr",
     "output_type": "stream",
     "text": [
      "\r",
      "Executing: 100%|██████████| 17/17 [00:04<00:00,  3.46cell/s]"
     ]
    },
    {
     "name": "stderr",
     "output_type": "stream",
     "text": [
      "\n"
     ]
    },
    {
     "name": "stdout",
     "output_type": "stream",
     "text": [
      "2salario.ipynb executado com sucesso.\n"
     ]
    },
    {
     "name": "stderr",
     "output_type": "stream",
     "text": [
      "\r",
      "Executing:   0%|          | 0/15 [00:00<?, ?cell/s]"
     ]
    },
    {
     "name": "stderr",
     "output_type": "stream",
     "text": [
      "\r",
      "Executing:   7%|▋         | 1/15 [00:02<00:31,  2.27s/cell]"
     ]
    },
    {
     "name": "stderr",
     "output_type": "stream",
     "text": [
      "\r",
      "Executing:  13%|█▎        | 2/15 [00:02<00:13,  1.00s/cell]"
     ]
    },
    {
     "name": "stderr",
     "output_type": "stream",
     "text": [
      "\r",
      "Executing:  33%|███▎      | 5/15 [00:02<00:03,  3.24cell/s]"
     ]
    },
    {
     "name": "stderr",
     "output_type": "stream",
     "text": [
      "\r",
      "Executing:  60%|██████    | 9/15 [00:02<00:00,  6.74cell/s]"
     ]
    },
    {
     "name": "stderr",
     "output_type": "stream",
     "text": [
      "\r",
      "Executing:  87%|████████▋ | 13/15 [00:02<00:00, 10.63cell/s]"
     ]
    },
    {
     "name": "stderr",
     "output_type": "stream",
     "text": [
      "\r",
      "Executing: 100%|██████████| 15/15 [00:04<00:00,  3.39cell/s]"
     ]
    },
    {
     "name": "stderr",
     "output_type": "stream",
     "text": [
      "\n"
     ]
    },
    {
     "name": "stdout",
     "output_type": "stream",
     "text": [
      "3qtd_contas_bancarias.ipynb executado com sucesso.\n"
     ]
    },
    {
     "name": "stderr",
     "output_type": "stream",
     "text": [
      "\r",
      "Executing:   0%|          | 0/20 [00:00<?, ?cell/s]"
     ]
    },
    {
     "name": "stderr",
     "output_type": "stream",
     "text": [
      "\r",
      "Executing:   5%|▌         | 1/20 [00:02<00:44,  2.36s/cell]"
     ]
    },
    {
     "name": "stderr",
     "output_type": "stream",
     "text": [
      "\r",
      "Executing:  10%|█         | 2/20 [00:02<00:19,  1.06s/cell]"
     ]
    },
    {
     "name": "stderr",
     "output_type": "stream",
     "text": [
      "\r",
      "Executing:  20%|██        | 4/20 [00:02<00:06,  2.32cell/s]"
     ]
    },
    {
     "name": "stderr",
     "output_type": "stream",
     "text": [
      "\r",
      "Executing:  35%|███▌      | 7/20 [00:02<00:02,  4.81cell/s]"
     ]
    },
    {
     "name": "stderr",
     "output_type": "stream",
     "text": [
      "\r",
      "Executing:  50%|█████     | 10/20 [00:02<00:01,  7.55cell/s]"
     ]
    },
    {
     "name": "stderr",
     "output_type": "stream",
     "text": [
      "\r",
      "Executing:  65%|██████▌   | 13/20 [00:03<00:00,  8.49cell/s]"
     ]
    },
    {
     "name": "stderr",
     "output_type": "stream",
     "text": [
      "\r",
      "Executing:  75%|███████▌  | 15/20 [00:03<00:00,  8.88cell/s]"
     ]
    },
    {
     "name": "stderr",
     "output_type": "stream",
     "text": [
      "\r",
      "Executing:  85%|████████▌ | 17/20 [00:03<00:00, 10.42cell/s]"
     ]
    },
    {
     "name": "stderr",
     "output_type": "stream",
     "text": [
      "\r",
      "Executing: 100%|██████████| 20/20 [00:05<00:00,  3.61cell/s]"
     ]
    },
    {
     "name": "stderr",
     "output_type": "stream",
     "text": [
      "\r",
      "Executing: 100%|██████████| 20/20 [00:05<00:00,  3.63cell/s]"
     ]
    },
    {
     "name": "stderr",
     "output_type": "stream",
     "text": [
      "\n"
     ]
    },
    {
     "name": "stdout",
     "output_type": "stream",
     "text": [
      "4type_of_loan.ipynb executado com sucesso.\n"
     ]
    },
    {
     "name": "stderr",
     "output_type": "stream",
     "text": [
      "\r",
      "Executing:   0%|          | 0/15 [00:00<?, ?cell/s]"
     ]
    },
    {
     "name": "stderr",
     "output_type": "stream",
     "text": [
      "\r",
      "Executing:   7%|▋         | 1/15 [00:02<00:35,  2.53s/cell]"
     ]
    },
    {
     "name": "stderr",
     "output_type": "stream",
     "text": [
      "\r",
      "Executing:  20%|██        | 3/15 [00:02<00:08,  1.39cell/s]"
     ]
    },
    {
     "name": "stderr",
     "output_type": "stream",
     "text": [
      "\r",
      "Executing:  40%|████      | 6/15 [00:02<00:02,  3.26cell/s]"
     ]
    },
    {
     "name": "stderr",
     "output_type": "stream",
     "text": [
      "\r",
      "Executing:  53%|█████▎    | 8/15 [00:02<00:01,  4.70cell/s]"
     ]
    },
    {
     "name": "stderr",
     "output_type": "stream",
     "text": [
      "\r",
      "Executing:  80%|████████  | 12/15 [00:03<00:00,  8.30cell/s]"
     ]
    },
    {
     "name": "stderr",
     "output_type": "stream",
     "text": [
      "\r",
      "Executing: 100%|██████████| 15/15 [00:04<00:00,  3.31cell/s]"
     ]
    },
    {
     "name": "stderr",
     "output_type": "stream",
     "text": [
      "\r",
      "Executing: 100%|██████████| 15/15 [00:05<00:00,  2.84cell/s]"
     ]
    },
    {
     "name": "stderr",
     "output_type": "stream",
     "text": [
      "\n"
     ]
    },
    {
     "name": "stdout",
     "output_type": "stream",
     "text": [
      "5delay_from_due_date.ipynb executado com sucesso.\n"
     ]
    },
    {
     "name": "stderr",
     "output_type": "stream",
     "text": [
      "\r",
      "Executing:   0%|          | 0/23 [00:00<?, ?cell/s]"
     ]
    },
    {
     "name": "stderr",
     "output_type": "stream",
     "text": [
      "\r",
      "Executing:   4%|▍         | 1/23 [00:02<00:54,  2.48s/cell]"
     ]
    },
    {
     "name": "stderr",
     "output_type": "stream",
     "text": [
      "\r",
      "Executing:  13%|█▎        | 3/23 [00:02<00:16,  1.20cell/s]"
     ]
    },
    {
     "name": "stderr",
     "output_type": "stream",
     "text": [
      "\r",
      "Executing:  17%|█▋        | 4/23 [00:03<00:13,  1.41cell/s]"
     ]
    },
    {
     "name": "stderr",
     "output_type": "stream",
     "text": [
      "\r",
      "Executing:  30%|███       | 7/23 [00:03<00:04,  3.22cell/s]"
     ]
    },
    {
     "name": "stderr",
     "output_type": "stream",
     "text": [
      "\r",
      "Executing:  39%|███▉      | 9/23 [00:03<00:03,  4.61cell/s]"
     ]
    },
    {
     "name": "stderr",
     "output_type": "stream",
     "text": [
      "\r",
      "Executing:  57%|█████▋    | 13/23 [00:03<00:01,  8.26cell/s]"
     ]
    },
    {
     "name": "stderr",
     "output_type": "stream",
     "text": [
      "\r",
      "Executing:  70%|██████▉   | 16/23 [00:03<00:00, 10.48cell/s]"
     ]
    },
    {
     "name": "stderr",
     "output_type": "stream",
     "text": [
      "\r",
      "Executing:  83%|████████▎ | 19/23 [00:04<00:00, 10.92cell/s]"
     ]
    },
    {
     "name": "stderr",
     "output_type": "stream",
     "text": [
      "\r",
      "Executing: 100%|██████████| 23/23 [00:06<00:00,  3.54cell/s]"
     ]
    },
    {
     "name": "stderr",
     "output_type": "stream",
     "text": [
      "\r",
      "Executing: 100%|██████████| 23/23 [00:06<00:00,  3.36cell/s]"
     ]
    },
    {
     "name": "stderr",
     "output_type": "stream",
     "text": [
      "\n"
     ]
    },
    {
     "name": "stdout",
     "output_type": "stream",
     "text": [
      "6changed_credit_limit.ipynb executado com sucesso.\n"
     ]
    },
    {
     "name": "stderr",
     "output_type": "stream",
     "text": [
      "\r",
      "Executing:   0%|          | 0/10 [00:00<?, ?cell/s]"
     ]
    },
    {
     "name": "stderr",
     "output_type": "stream",
     "text": [
      "\r",
      "Executing:  10%|█         | 1/10 [00:02<00:20,  2.31s/cell]"
     ]
    },
    {
     "name": "stderr",
     "output_type": "stream",
     "text": [
      "\r",
      "Executing:  30%|███       | 3/10 [00:02<00:04,  1.57cell/s]"
     ]
    },
    {
     "name": "stderr",
     "output_type": "stream",
     "text": [
      "\r",
      "Executing:  70%|███████   | 7/10 [00:02<00:00,  4.43cell/s]"
     ]
    },
    {
     "name": "stderr",
     "output_type": "stream",
     "text": [
      "\r",
      "Executing: 100%|██████████| 10/10 [00:04<00:00,  2.15cell/s]"
     ]
    },
    {
     "name": "stderr",
     "output_type": "stream",
     "text": [
      "\r",
      "Executing: 100%|██████████| 10/10 [00:05<00:00,  1.91cell/s]"
     ]
    },
    {
     "name": "stdout",
     "output_type": "stream",
     "text": [
      "7valor_mensal_investido.ipynb executado com sucesso.\n"
     ]
    },
    {
     "name": "stderr",
     "output_type": "stream",
     "text": [
      "\n"
     ]
    }
   ],
   "source": [
    "import papermill as pm\n",
    "from pathlib import Path\n",
    "\n",
    "notebook_dir = Path(\"../pre_processamento\")\n",
    "\n",
    "notebooks = [\n",
    "    \"1remover.ipynb\",\n",
    "    \"2salario.ipynb\",\n",
    "    \"3qtd_contas_bancarias.ipynb\",\n",
    "    \"4type_of_loan.ipynb\",\n",
    "    \"5delay_from_due_date.ipynb\",\n",
    "    \"6changed_credit_limit.ipynb\",\n",
    "    \"7valor_mensal_investido.ipynb\"\n",
    "]\n",
    "\n",
    "for notebook_name in notebooks:\n",
    "    notebook_path = notebook_dir / notebook_name\n",
    "    pm.execute_notebook(str(notebook_path), str(notebook_path))\n",
    "    print(f\"{notebook_name} executado com sucesso.\")\n"
   ]
  }
 ],
 "metadata": {
  "kernelspec": {
   "display_name": "meu_ambiente",
   "language": "python",
   "name": "python3"
  },
  "language_info": {
   "codemirror_mode": {
    "name": "ipython",
    "version": 3
   },
   "file_extension": ".py",
   "mimetype": "text/x-python",
   "name": "python",
   "nbconvert_exporter": "python",
   "pygments_lexer": "ipython3",
   "version": "3.12.7"
  },
  "papermill": {
   "default_parameters": {},
   "duration": 42.860316,
   "end_time": "2024-11-12T16:37:06.979390",
   "environment_variables": {},
   "exception": null,
   "input_path": "executa1_pre_processamento.ipynb",
   "output_path": "executa1_pre_processamento.ipynb",
   "parameters": {},
   "start_time": "2024-11-12T16:36:24.119074",
   "version": "2.6.0"
  }
 },
 "nbformat": 4,
 "nbformat_minor": 5
}