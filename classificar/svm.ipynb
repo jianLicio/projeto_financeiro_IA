{
 "cells": [
  {
   "cell_type": "code",
   "execution_count": 1,
   "id": "7da18d1b",
   "metadata": {
    "execution": {
     "iopub.execute_input": "2024-11-13T15:07:46.626778Z",
     "iopub.status.busy": "2024-11-13T15:07:46.625777Z",
     "iopub.status.idle": "2024-11-13T15:07:49.164444Z",
     "shell.execute_reply": "2024-11-13T15:07:49.164444Z"
    },
    "papermill": {
     "duration": 2.546671,
     "end_time": "2024-11-13T15:07:49.165448",
     "exception": false,
     "start_time": "2024-11-13T15:07:46.618777",
     "status": "completed"
    },
    "tags": []
   },
   "outputs": [],
   "source": [
    "import pandas as pd\n",
    "from sklearn.svm import SVC\n",
    "from sklearn.preprocessing import LabelEncoder\n",
    "from sklearn.model_selection import GridSearchCV\n",
    "from sklearn.metrics import accuracy_score, confusion_matrix, classification_report\n",
    "import seaborn as sns\n",
    "import matplotlib.pyplot as plt\n",
    "\n",
    "df_treinamento = pd.read_csv('../arquivos_csv/treinamento4.csv', low_memory=False)\n",
    "df_teste = pd.read_csv('../arquivos_csv/teste4.csv', low_memory=False)\n"
   ]
  },
  {
   "cell_type": "code",
   "execution_count": null,
   "id": "814b274b",
   "metadata": {
    "papermill": {
     "duration": null,
     "end_time": null,
     "exception": false,
     "start_time": "2024-11-13T15:07:49.173454",
     "status": "running"
    },
    "tags": []
   },
   "outputs": [],
   "source": [
    "# X_treino = df_treinamento.drop(columns=['Credit_Score'])\n",
    "# y_treino = df_treinamento['Credit_Score']\n",
    "\n",
    "# label_encoder = LabelEncoder()\n",
    "# y_treino = label_encoder.fit_transform(y_treino)\n",
    "\n",
    "# param_grid = {'C': [0.1, 1, 10, 100, 1000]}\n",
    "# svm_model = SVC(kernel='linear')\n",
    "\n",
    "# grid_search = GridSearchCV(svm_model, param_grid, cv=5, scoring='accuracy')\n",
    "# grid_search.fit(X_treino, y_treino)\n",
    "\n",
    "# best_C = grid_search.best_params_['C']\n",
    "# print(f\"Melhor valor de C: {best_C}\")\n",
    "\n",
    "# best_svm_model = SVC(kernel='linear', C=best_C)\n",
    "# best_svm_model.fit(X_treino, y_treino)\n",
    "\n",
    "# y_pred_teste = best_svm_model.predict(df_teste)\n",
    "\n",
    "# y_pred_teste_labels = label_encoder.inverse_transform(y_pred_teste)\n",
    "\n",
    "# predicoes_df = pd.DataFrame(y_pred_teste_labels, columns=['Credit_Score_Predito'])\n",
    "# print(predicoes_df.head())\n",
    "\n",
    "# print(\"\\nResultados no conjunto de treinamento (validação cruzada):\")\n",
    "# y_pred_treino = grid_search.predict(X_treino)\n",
    "# accuracy = accuracy_score(y_treino, y_pred_treino)\n",
    "# conf_matrix = confusion_matrix(y_treino, y_pred_treino)\n",
    "# print(f\"Acurácia no conjunto de treino: {accuracy:.4f}\")\n",
    "\n",
    "# plt.figure(figsize=(8, 6))\n",
    "# sns.heatmap(conf_matrix, annot=True, fmt='d', cmap='Blues', xticklabels=label_encoder.classes_, yticklabels=label_encoder.classes_)\n",
    "# plt.xlabel('Previsto')\n",
    "# plt.ylabel('Verdadeiro')\n",
    "# plt.title('Matriz de Confusão no Conjunto de Treinamento')\n",
    "# plt.show()"
   ]
  }
 ],
 "metadata": {
  "kernelspec": {
   "display_name": "meu_ambiente",
   "language": "python",
   "name": "python3"
  },
  "language_info": {
   "name": "python",
   "version": "3.12.7"
  },
  "papermill": {
   "default_parameters": {},
   "duration": null,
   "end_time": null,
   "environment_variables": {},
   "exception": null,
   "input_path": "..\\classificar\\svm.ipynb",
   "output_path": "..\\classificar\\svm.ipynb",
   "parameters": {},
   "start_time": "2024-11-13T15:07:45.289053",
   "version": "2.6.0"
  }
 },
 "nbformat": 4,
 "nbformat_minor": 5
}
