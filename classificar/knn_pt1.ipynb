{
 "cells": [
  {
   "cell_type": "code",
   "execution_count": 1,
   "id": "6c6b9aaf",
   "metadata": {
    "execution": {
     "iopub.execute_input": "2024-11-13T19:15:27.626772Z",
     "iopub.status.busy": "2024-11-13T19:15:27.626772Z",
     "iopub.status.idle": "2024-11-13T19:15:29.413895Z",
     "shell.execute_reply": "2024-11-13T19:15:29.413895Z"
    },
    "papermill": {
     "duration": 1.797636,
     "end_time": "2024-11-13T19:15:29.415900",
     "exception": false,
     "start_time": "2024-11-13T19:15:27.618264",
     "status": "completed"
    },
    "tags": []
   },
   "outputs": [],
   "source": [
    "import pandas as pd\n",
    "import matplotlib.pyplot as plt\n",
    "import seaborn as sns\n",
    "from sklearn.preprocessing import LabelEncoder, StandardScaler\n",
    "from sklearn.neighbors import KNeighborsClassifier\n",
    "from sklearn.metrics import accuracy_score, confusion_matrix\n",
    "\n",
    "df_treinamento = pd.read_csv('../arquivos_csv/treinamento4.csv', low_memory=False)\n",
    "df_teste = pd.read_csv('../arquivos_csv/teste4.csv', low_memory=False)\n"
   ]
  },
  {
   "cell_type": "markdown",
   "id": "edc9c68c",
   "metadata": {
    "papermill": {
     "duration": 0.015999,
     "end_time": "2024-11-13T19:15:29.443411",
     "exception": false,
     "start_time": "2024-11-13T19:15:29.427412",
     "status": "completed"
    },
    "tags": []
   },
   "source": [
    "#### Distância Euclidiana"
   ]
  },
  {
   "cell_type": "code",
   "execution_count": null,
   "id": "d5981dd9",
   "metadata": {
    "execution": {
     "iopub.execute_input": "2024-11-13T19:15:29.474770Z",
     "iopub.status.busy": "2024-11-13T19:15:29.474254Z",
     "iopub.status.idle": "2024-11-13T19:15:29.478466Z",
     "shell.execute_reply": "2024-11-13T19:15:29.478466Z"
    },
    "papermill": {
     "duration": 0.021638,
     "end_time": "2024-11-13T19:15:29.479472",
     "exception": false,
     "start_time": "2024-11-13T19:15:29.457834",
     "status": "completed"
    },
    "tags": []
   },
   "outputs": [],
   "source": [
    "# X_treino = df_treinamento.drop(columns=['Credit_Score'])\n",
    "# y_treino = df_treinamento['Credit_Score']\n",
    "\n",
    "# # Transformação do alvo para valores numéricos\n",
    "# label_encoder = LabelEncoder()\n",
    "# y_treino = label_encoder.fit_transform(y_treino)\n",
    "\n",
    "# # Lista para armazenar os resultados\n",
    "# results = []\n",
    "\n",
    "# for k in range(1, 50, 1):\n",
    "#     knn = KNeighborsClassifier(n_neighbors=k, metric='euclidean')\n",
    "#     knn.fit(X_treino, y_treino)\n",
    "    \n",
    "#     y_pred_treino = knn.predict(X_treino)\n",
    "#     accuracy = accuracy_score(y_treino, y_pred_treino)\n",
    "#     conf_matrix = confusion_matrix(y_treino, y_pred_treino)\n",
    "\n",
    "#     results.append({\n",
    "#         'k': k,\n",
    "#         'Acurácia': accuracy,\n",
    "#         'Matriz de Confusão': conf_matrix\n",
    "#     })\n",
    "\n",
    "# results_df = pd.DataFrame(results)\n",
    "\n",
    "# melhor_k_index = results_df['Acurácia'].idxmax()\n",
    "# melhor_k = results_df.loc[melhor_k_index, 'k']\n",
    "# melhor_acuracia = results_df.loc[melhor_k_index, 'Acurácia']\n",
    "# melhor_matriz_confusao = results_df.loc[melhor_k_index, 'Matriz de Confusão']\n",
    "\n",
    "# print(f\"Melhor valor de k: {melhor_k}\")\n",
    "# print(f\"Acurácia com k = {melhor_k}: {melhor_acuracia:.4f}\")\n",
    "# print(\"Matriz de Confusão para o melhor k:\")\n",
    "# classes = label_encoder.classes_  # Recupera os nomes das classes originais\n",
    "# conf_matrix_df = pd.DataFrame(melhor_matriz_confusao, index=classes, columns=classes)\n",
    "# print(conf_matrix_df)\n",
    "\n",
    "# taxa_acerto = {}\n",
    "# for i, classe in enumerate(classes):\n",
    "#     taxa_acerto[classe] = melhor_matriz_confusao[i, i] / melhor_matriz_confusao[i].sum()\n",
    "#     print(f\"Taxa de acerto para {classe}: {taxa_acerto[classe]:.4f}\")\n",
    "\n",
    "\n",
    "# # Gráfico de Acurácia\n",
    "# plt.figure(figsize=(6, 4))\n",
    "# plt.bar([melhor_k], [melhor_acuracia], color='skyblue')\n",
    "# plt.xlabel('Melhor Número de Vizinhos (k)')\n",
    "# plt.ylabel('Acurácia')\n",
    "# plt.title(f'Acurácia para o Melhor k ({melhor_k})')\n",
    "# plt.ylim(0, 1)\n",
    "# plt.show()\n",
    "\n",
    "# # Heatmap da Matriz de Confusão\n",
    "# plt.figure(figsize=(8, 6))\n",
    "# sns.heatmap(melhor_matriz_confusao, annot=True, fmt='d', cmap='Blues')\n",
    "# plt.xlabel('Previsto')\n",
    "# plt.ylabel('Verdadeiro')\n",
    "# plt.title(f'Matriz de Confusão para o Melhor k ({melhor_k})')\n",
    "# plt.show()"
   ]
  },
  {
   "cell_type": "markdown",
   "id": "8a797648",
   "metadata": {
    "papermill": {
     "duration": 0.013002,
     "end_time": "2024-11-13T19:15:29.499472",
     "exception": false,
     "start_time": "2024-11-13T19:15:29.486470",
     "status": "completed"
    },
    "tags": []
   },
   "source": [
    "#### Distância Manhattan"
   ]
  },
  {
   "cell_type": "code",
   "execution_count": null,
   "id": "e3c9ddd2",
   "metadata": {
    "papermill": {
     "duration": 0.013514,
     "end_time": "2024-11-13T19:15:29.524991",
     "exception": false,
     "start_time": "2024-11-13T19:15:29.511477",
     "status": "completed"
    },
    "tags": []
   },
   "outputs": [],
   "source": []
  },
  {
   "cell_type": "markdown",
   "id": "12f36d82",
   "metadata": {
    "papermill": {
     "duration": 0.011999,
     "end_time": "2024-11-13T19:15:29.550576",
     "exception": false,
     "start_time": "2024-11-13T19:15:29.538577",
     "status": "completed"
    },
    "tags": []
   },
   "source": [
    "#### Distância Minkowski"
   ]
  },
  {
   "cell_type": "code",
   "execution_count": null,
   "id": "a08bc6bf",
   "metadata": {
    "papermill": {
     "duration": 0.014001,
     "end_time": "2024-11-13T19:15:29.577577",
     "exception": false,
     "start_time": "2024-11-13T19:15:29.563576",
     "status": "completed"
    },
    "tags": []
   },
   "outputs": [],
   "source": []
  },
  {
   "cell_type": "markdown",
   "id": "fef6fc27",
   "metadata": {
    "papermill": {
     "duration": 0.017007,
     "end_time": "2024-11-13T19:15:29.608111",
     "exception": false,
     "start_time": "2024-11-13T19:15:29.591104",
     "status": "completed"
    },
    "tags": []
   },
   "source": [
    "#### Distância Chebyshev"
   ]
  },
  {
   "cell_type": "code",
   "execution_count": null,
   "id": "336eb817",
   "metadata": {
    "papermill": {
     "duration": 0.013,
     "end_time": "2024-11-13T19:15:29.634618",
     "exception": false,
     "start_time": "2024-11-13T19:15:29.621618",
     "status": "completed"
    },
    "tags": []
   },
   "outputs": [],
   "source": []
  },
  {
   "cell_type": "markdown",
   "id": "826b09cf",
   "metadata": {
    "papermill": {
     "duration": 0.012998,
     "end_time": "2024-11-13T19:15:29.660618",
     "exception": false,
     "start_time": "2024-11-13T19:15:29.647620",
     "status": "completed"
    },
    "tags": []
   },
   "source": [
    "### Distância Cosseno"
   ]
  },
  {
   "cell_type": "code",
   "execution_count": null,
   "id": "537233ee",
   "metadata": {
    "papermill": {
     "duration": 0.013001,
     "end_time": "2024-11-13T19:15:29.686620",
     "exception": false,
     "start_time": "2024-11-13T19:15:29.673619",
     "status": "completed"
    },
    "tags": []
   },
   "outputs": [],
   "source": []
  }
 ],
 "metadata": {
  "kernelspec": {
   "display_name": "meu_ambiente",
   "language": "python",
   "name": "python3"
  },
  "language_info": {
   "codemirror_mode": {
    "name": "ipython",
    "version": 3
   },
   "file_extension": ".py",
   "mimetype": "text/x-python",
   "name": "python",
   "nbconvert_exporter": "python",
   "pygments_lexer": "ipython3",
   "version": "3.12.7"
  },
  "papermill": {
   "default_parameters": {},
   "duration": 3.858938,
   "end_time": "2024-11-13T19:15:30.202182",
   "environment_variables": {},
   "exception": null,
   "input_path": "..\\classificar\\knn_pt1.ipynb",
   "output_path": "..\\classificar\\knn_pt1.ipynb",
   "parameters": {},
   "start_time": "2024-11-13T19:15:26.343244",
   "version": "2.6.0"
  }
 },
 "nbformat": 4,
 "nbformat_minor": 5
}
