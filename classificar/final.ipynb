{
 "cells": [
  {
   "cell_type": "code",
   "execution_count": 1,
   "metadata": {},
   "outputs": [],
   "source": [
    "import pandas as pd\n",
    "import matplotlib.pyplot as plt\n",
    "import seaborn as sns\n",
    "from sklearn.preprocessing import LabelEncoder, StandardScaler\n",
    "from sklearn.neighbors import KNeighborsClassifier\n",
    "from sklearn.metrics import accuracy_score, confusion_matrix\n",
    "\n",
    "df_treinamento = pd.read_csv('../arquivos_csv/treinamento4.csv', low_memory=False)\n",
    "df_teste = pd.read_csv('../arquivos_csv/teste4.csv', low_memory=False)\n"
   ]
  },
  {
   "cell_type": "code",
   "execution_count": 2,
   "metadata": {},
   "outputs": [
    {
     "name": "stdout",
     "output_type": "stream",
     "text": [
      "   Credit_Mix  Payment_of_Min_Amount  Payment_Behaviour  Auto_Loan  \\\n",
      "0           1                    0.0                0.0          1   \n",
      "1           2                    0.0                1.0          1   \n",
      "2           2                    0.0                2.0          1   \n",
      "3           2                    0.0                3.0          1   \n",
      "4           2                    0.0                4.0          1   \n",
      "\n",
      "   Credit-Builder_Loan  Debt_Consolidation_Loan  Home_Equity_Loan  \\\n",
      "0                    1                        0                 1   \n",
      "1                    1                        0                 1   \n",
      "2                    1                        0                 1   \n",
      "3                    1                        0                 1   \n",
      "4                    1                        0                 1   \n",
      "\n",
      "   Mortgage_Loan  Not_Specified  Payday_Loan  ...  Student_Loan  dias_atraso  \\\n",
      "0              0              0            0  ...             0          5.0   \n",
      "1              0              0            0  ...             0          5.0   \n",
      "2              0              0            0  ...             0          5.0   \n",
      "3              0              0            0  ...             0          5.0   \n",
      "4              0              0            0  ...             0          3.0   \n",
      "\n",
      "   divida_restante  utiliza_cartao_credito  idade  alteracao_limite_credito  \\\n",
      "0              6.0                     1.0    1.0                       5.0   \n",
      "1              6.0                     0.0    1.0                       5.0   \n",
      "2              6.0                     3.0    0.0                       3.0   \n",
      "3              6.0                     0.0    1.0                       3.0   \n",
      "4              6.0                     1.0    1.0                       5.0   \n",
      "\n",
      "   tempo_credito  investimento_mensal  saldo_mensal  Credit_Score_Predito  \n",
      "0            4.0                  0.0           0.0                  Good  \n",
      "1            3.0                  0.0           4.0                  Good  \n",
      "2            4.0                  0.0           0.0                  Good  \n",
      "3            4.0                  4.0           4.0                  Good  \n",
      "4            4.0                  0.0           0.0                  Good  \n",
      "\n",
      "[5 rows x 21 columns]\n"
     ]
    }
   ],
   "source": [
    "df_treinamento = pd.read_csv('../arquivos_csv/treinamento4.csv', low_memory=False)\n",
    "df_teste = pd.read_csv('../arquivos_csv/teste4.csv', low_memory=False)\n",
    "\n",
    "# Separar as variáveis preditoras (X) e a variável alvo (y) do conjunto de treinamento\n",
    "X_treino = df_treinamento.drop(columns=['Credit_Score'])\n",
    "y_treino = df_treinamento['Credit_Score']\n",
    "\n",
    "# Transformação da variável alvo para valores numéricos\n",
    "label_encoder = LabelEncoder()\n",
    "y_treino = label_encoder.fit_transform(y_treino)\n",
    "\n",
    "# Separar as variáveis preditoras do conjunto de teste\n",
    "X_teste = df_teste.copy()\n",
    "\n",
    "# Criar o modelo KNN com k=1 e distância euclidiana\n",
    "knn = KNeighborsClassifier(n_neighbors=1, metric='euclidean')\n",
    "\n",
    "# Treinar o modelo no conjunto de treinamento\n",
    "knn.fit(X_treino, y_treino)\n",
    "\n",
    "# Realizar a classificação no conjunto de teste\n",
    "y_pred_teste = knn.predict(X_teste)\n",
    "\n",
    "# Reverter a transformação das classes para os valores originais\n",
    "y_pred_teste_original = label_encoder.inverse_transform(y_pred_teste)\n",
    "\n",
    "# Adicionar a coluna com a classificação ao DataFrame de teste\n",
    "df_teste['Credit_Score_Predito'] = y_pred_teste_original\n",
    "\n",
    "# Exibir as primeiras linhas do DataFrame atualizado\n",
    "print(df_teste.head())"
   ]
  },
  {
   "cell_type": "code",
   "execution_count": 3,
   "metadata": {},
   "outputs": [],
   "source": [
    "df_teste.to_csv('../arquivos_csv/teste_classificado.csv', index=False)\n"
   ]
  }
 ],
 "metadata": {
  "kernelspec": {
   "display_name": "meu_ambiente",
   "language": "python",
   "name": "python3"
  },
  "language_info": {
   "codemirror_mode": {
    "name": "ipython",
    "version": 3
   },
   "file_extension": ".py",
   "mimetype": "text/x-python",
   "name": "python",
   "nbconvert_exporter": "python",
   "pygments_lexer": "ipython3",
   "version": "3.12.7"
  }
 },
 "nbformat": 4,
 "nbformat_minor": 2
}
