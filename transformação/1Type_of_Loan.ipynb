{
 "cells": [
  {
   "cell_type": "code",
   "execution_count": null,
   "metadata": {},
   "outputs": [],
   "source": [
    "import pandas as pd\n",
    "import numpy as np\n",
    "import matplotlib.pyplot as plt\n",
    "import seaborn as sns\n",
    "\n",
    "df_treinamento = pd.read_csv('../arquivos_csv/treinamento2.csv', low_memory=False)\n",
    "df_teste = pd.read_csv('../arquivos_csv/teste2.csv', low_memory=False)\n"
   ]
  },
  {
   "cell_type": "code",
   "execution_count": null,
   "metadata": {},
   "outputs": [],
   "source": [
    "df_treinamento['Type_of_Loan'] = df_treinamento['Type_of_Loan'].str.replace(r'\\band ', '', regex=True)\n",
    "df_treinamento['Type_of_Loan'] = df_teste['Type_of_Loan'].str.replace(r'\\band ', '', regex=True)\n",
    "\n",
    "unique_values = df_treinamento['Type_of_Loan'].unique()\n",
    "print(f\"Valores únicos no atributo '{'Type_of_Loan'}':\")\n",
    "print(unique_values)"
   ]
  },
  {
   "cell_type": "code",
   "execution_count": null,
   "metadata": {},
   "outputs": [],
   "source": [
    "# Criando um conjunto para armazenar as frases únicas\n",
    "unique_phrases = set()\n",
    "\n",
    "# Dividindo as frases por vírgula e adicionando ao conjunto, ignorando valores nulos\n",
    "df_treinamento['Type_of_Loan'].dropna().str.split(',').apply(lambda x: unique_phrases.update([item.strip() for item in x]))\n",
    "\n",
    "# Exibindo as frases únicas encontradas\n",
    "unique_phrases = sorted(unique_phrases)\n",
    "print(unique_phrases)\n"
   ]
  },
  {
   "cell_type": "code",
   "execution_count": null,
   "metadata": {},
   "outputs": [],
   "source": [
    "df_treinamento['Type_of_Loan'] = df_treinamento['Type_of_Loan'].fillna('Not Specified')\n",
    "\n",
    "# Lista de tipos de empréstimo únicos\n",
    "unique_phrases = ['Auto Loan', 'Credit-Builder Loan', 'Debt Consolidation Loan', \n",
    "                  'Home Equity Loan', 'Mortgage Loan', 'Not Specified', \n",
    "                  'Payday Loan', 'Personal Loan', 'Student Loan']\n",
    "\n",
    "# Substituindo valores nulos em 'Type_of_Loan' por \"Not Specified\"\n",
    "df_treinamento['Type_of_Loan'] = df_treinamento['Type_of_Loan'].fillna('Not Specified')\n",
    "\n",
    "# Criando uma nova coluna binária para cada tipo de empréstimo\n",
    "for phrase in unique_phrases:\n",
    "    column_name = phrase.replace(' ', '_')  # Substituindo espaços por underscores para o nome da coluna\n",
    "    df_treinamento[column_name] = df_treinamento['Type_of_Loan'].apply(lambda x: 1 if phrase in x else 0)\n",
    "\n",
    "null_values = df_treinamento.isnull().sum()\n",
    "null_values = null_values[null_values > 0]  # Filtra apenas colunas com valores nulos\n",
    "\n",
    "# Exibindo colunas com valores nulos, se houver\n",
    "print(null_values)\n",
    "\n",
    "# Exibindo o DataFrame resultante\n",
    "# df_treinamento.head()\n"
   ]
  },
  {
   "cell_type": "code",
   "execution_count": null,
   "metadata": {},
   "outputs": [],
   "source": [
    "df_teste['Type_of_Loan'] = df_teste['Type_of_Loan'].fillna('Not Specified')\n",
    "\n",
    "# Lista de tipos de empréstimo únicos\n",
    "unique_phrases = ['Auto Loan', 'Credit-Builder Loan', 'Debt Consolidation Loan', \n",
    "                  'Home Equity Loan', 'Mortgage Loan', 'Not Specified', \n",
    "                  'Payday Loan', 'Personal Loan', 'Student Loan']\n",
    "\n",
    "# Criando uma nova coluna binária para cada tipo de empréstimo\n",
    "for phrase in unique_phrases:\n",
    "    column_name = phrase.replace(' ', '_')  # Substituindo espaços por underscores para o nome da coluna\n",
    "    df_teste[column_name] = df_teste['Type_of_Loan'].apply(lambda x: 1 if phrase in x else 0)\n"
   ]
  },
  {
   "cell_type": "markdown",
   "metadata": {},
   "source": [
    "#### Correlação"
   ]
  },
  {
   "cell_type": "code",
   "execution_count": null,
   "metadata": {},
   "outputs": [],
   "source": [
    "unique_phrases = ['Auto_Loan', 'Credit-Builder_Loan', 'Debt_Consolidation_Loan', \n",
    "                  'Home_Equity_Loan', 'Mortgage_Loan', 'Not_Specified', \n",
    "                  'Payday_Loan', 'Personal_Loan', 'Student_Loan']\n",
    "\n",
    "correlation_matrix = df_treinamento[unique_phrases].corr()\n",
    "\n",
    "plt.figure(figsize=(10, 8))\n",
    "sns.heatmap(correlation_matrix, annot=True, cmap='coolwarm', fmt=\".2f\", cbar=True, square=True)\n",
    "plt.title('Matriz de Correlação entre Tipos de Empréstimos')\n",
    "plt.xticks(rotation=45, ha='right')\n",
    "plt.yticks(rotation=0)\n",
    "plt.show()\n"
   ]
  },
  {
   "cell_type": "markdown",
   "metadata": {},
   "source": [
    "### Remoção do atributo Type_of_Loan"
   ]
  },
  {
   "cell_type": "code",
   "execution_count": 16,
   "metadata": {},
   "outputs": [],
   "source": [
    "df_treinamento = df_treinamento.drop(columns=['Type_of_Loan'])\n",
    "df_teste = df_teste.drop(columns=['Type_of_Loan'])"
   ]
  },
  {
   "cell_type": "markdown",
   "metadata": {},
   "source": [
    "# Salvando os Dados"
   ]
  },
  {
   "cell_type": "code",
   "execution_count": 17,
   "metadata": {},
   "outputs": [],
   "source": [
    "df_treinamento.to_csv('../arquivos_csv/treinamento3.csv', index=False)\n",
    "df_teste.to_csv('../arquivos_csv/teste3.csv', index=False)"
   ]
  }
 ],
 "metadata": {
  "kernelspec": {
   "display_name": "meu_ambiente",
   "language": "python",
   "name": "python3"
  },
  "language_info": {
   "codemirror_mode": {
    "name": "ipython",
    "version": 3
   },
   "file_extension": ".py",
   "mimetype": "text/x-python",
   "name": "python",
   "nbconvert_exporter": "python",
   "pygments_lexer": "ipython3",
   "version": "3.12.7"
  }
 },
 "nbformat": 4,
 "nbformat_minor": 2
}
